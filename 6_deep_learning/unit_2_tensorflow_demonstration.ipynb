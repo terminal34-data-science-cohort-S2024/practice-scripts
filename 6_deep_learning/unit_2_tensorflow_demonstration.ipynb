{
  "nbformat": 4,
  "nbformat_minor": 0,
  "metadata": {
    "colab": {
      "provenance": []
    },
    "kernelspec": {
      "name": "python3",
      "display_name": "Python 3"
    },
    "language_info": {
      "name": "python"
    }
  },
  "cells": [
    {
      "cell_type": "markdown",
      "source": [
        "# TensorFlow Demonstration Tutorial"
      ],
      "metadata": {
        "id": "EVfeXEpqT5_I"
      }
    },
    {
      "cell_type": "code",
      "execution_count": 9,
      "metadata": {
        "id": "PmUB6sxgT4K4"
      },
      "outputs": [],
      "source": [
        "import numpy as np\n",
        "import tensorflow as tf\n",
        "from tensorflow.keras.models import Sequential\n",
        "from tensorflow.keras.layers import Dense\n",
        "from sklearn.model_selection import train_test_split\n",
        "from sklearn.datasets import make_classification"
      ]
    },
    {
      "cell_type": "code",
      "source": [
        "X, y = make_classification(n_samples=1000, n_features=20, n_classes=2, random_state=42)\n",
        "X_train, X_test, y_train, y_test = train_test_split(X, y, test_size=0.2, random_state=42)"
      ],
      "metadata": {
        "id": "2YpBZw-KT9dX"
      },
      "execution_count": 2,
      "outputs": []
    },
    {
      "cell_type": "code",
      "source": [
        "X_train"
      ],
      "metadata": {
        "colab": {
          "base_uri": "https://localhost:8080/"
        },
        "id": "18sRutSeT_xg",
        "outputId": "bae0ddfb-f308-4e0a-cec2-27f2f4368fe2"
      },
      "execution_count": 3,
      "outputs": [
        {
          "output_type": "execute_result",
          "data": {
            "text/plain": [
              "array([[ 0.50363664, -1.51368248, -0.46907062, ..., -0.80340946,\n",
              "        -1.31410638,  1.41209637],\n",
              "       [-0.6977189 ,  0.34515341, -1.79821474, ..., -0.65713496,\n",
              "         0.21142007, -1.38159172],\n",
              "       [-1.33224459, -1.69582175, -0.79852039, ..., -0.43175118,\n",
              "        -1.4068079 ,  0.41934187],\n",
              "       ...,\n",
              "       [-1.44311529, -1.39557951, -0.87960631, ..., -2.23979163,\n",
              "        -1.20240545, -0.99144228],\n",
              "       [ 0.94686146, -1.73188868,  0.91339109, ...,  0.06429488,\n",
              "        -1.46065958,  1.35108895],\n",
              "       [ 1.18705115,  0.83332305, -0.28231204, ...,  0.31912084,\n",
              "         0.64395896, -0.79062399]])"
            ]
          },
          "metadata": {},
          "execution_count": 3
        }
      ]
    },
    {
      "cell_type": "code",
      "source": [
        "np.unique(y_train)"
      ],
      "metadata": {
        "colab": {
          "base_uri": "https://localhost:8080/"
        },
        "id": "pAEnxExYUdof",
        "outputId": "7346166c-cdbe-44ec-f8e7-3cee7f43c3a8"
      },
      "execution_count": 10,
      "outputs": [
        {
          "output_type": "execute_result",
          "data": {
            "text/plain": [
              "array([0, 1])"
            ]
          },
          "metadata": {},
          "execution_count": 10
        }
      ]
    },
    {
      "cell_type": "code",
      "source": [
        "model = Sequential([\n",
        "    Dense(64, activation='relu', input_shape=(20,)),\n",
        "    Dense(32, activation='relu'),\n",
        "    Dense(1, activation='sigmoid')\n",
        "])"
      ],
      "metadata": {
        "id": "7QnyWkjgUA5X"
      },
      "execution_count": 4,
      "outputs": []
    },
    {
      "cell_type": "code",
      "source": [
        "model.summary()"
      ],
      "metadata": {
        "colab": {
          "base_uri": "https://localhost:8080/"
        },
        "id": "udur8aYiUEy3",
        "outputId": "53127b52-51e2-4c77-d574-f83e022722e1"
      },
      "execution_count": 5,
      "outputs": [
        {
          "output_type": "stream",
          "name": "stdout",
          "text": [
            "Model: \"sequential\"\n",
            "_________________________________________________________________\n",
            " Layer (type)                Output Shape              Param #   \n",
            "=================================================================\n",
            " dense (Dense)               (None, 64)                1344      \n",
            "                                                                 \n",
            " dense_1 (Dense)             (None, 32)                2080      \n",
            "                                                                 \n",
            " dense_2 (Dense)             (None, 1)                 33        \n",
            "                                                                 \n",
            "=================================================================\n",
            "Total params: 3457 (13.50 KB)\n",
            "Trainable params: 3457 (13.50 KB)\n",
            "Non-trainable params: 0 (0.00 Byte)\n",
            "_________________________________________________________________\n"
          ]
        }
      ]
    },
    {
      "cell_type": "code",
      "source": [
        "model.compile(optimizer='adam', loss='binary_crossentropy', metrics=['accuracy'])"
      ],
      "metadata": {
        "id": "ubkiMHUcUEJG"
      },
      "execution_count": 6,
      "outputs": []
    },
    {
      "cell_type": "code",
      "source": [
        "history = model.fit(X_train, y_train, epochs=40, batch_size=32, validation_split=0.1, verbose=2)"
      ],
      "metadata": {
        "colab": {
          "base_uri": "https://localhost:8080/"
        },
        "id": "cUijSOnSUTa9",
        "outputId": "a299a6df-3aae-42d5-999a-1186a7895247"
      },
      "execution_count": 11,
      "outputs": [
        {
          "output_type": "stream",
          "name": "stdout",
          "text": [
            "Epoch 1/40\n",
            "23/23 - 0s - loss: 0.1928 - accuracy: 0.9264 - val_loss: 0.2169 - val_accuracy: 0.8750 - 121ms/epoch - 5ms/step\n",
            "Epoch 2/40\n",
            "23/23 - 0s - loss: 0.1882 - accuracy: 0.9222 - val_loss: 0.2081 - val_accuracy: 0.8750 - 65ms/epoch - 3ms/step\n",
            "Epoch 3/40\n",
            "23/23 - 0s - loss: 0.1815 - accuracy: 0.9375 - val_loss: 0.2125 - val_accuracy: 0.8875 - 67ms/epoch - 3ms/step\n",
            "Epoch 4/40\n",
            "23/23 - 0s - loss: 0.1767 - accuracy: 0.9292 - val_loss: 0.2129 - val_accuracy: 0.8875 - 62ms/epoch - 3ms/step\n",
            "Epoch 5/40\n",
            "23/23 - 0s - loss: 0.1708 - accuracy: 0.9417 - val_loss: 0.2197 - val_accuracy: 0.8750 - 71ms/epoch - 3ms/step\n",
            "Epoch 6/40\n",
            "23/23 - 0s - loss: 0.1645 - accuracy: 0.9472 - val_loss: 0.2124 - val_accuracy: 0.8875 - 81ms/epoch - 4ms/step\n",
            "Epoch 7/40\n",
            "23/23 - 0s - loss: 0.1595 - accuracy: 0.9458 - val_loss: 0.2082 - val_accuracy: 0.8875 - 68ms/epoch - 3ms/step\n",
            "Epoch 8/40\n",
            "23/23 - 0s - loss: 0.1540 - accuracy: 0.9542 - val_loss: 0.2139 - val_accuracy: 0.8875 - 61ms/epoch - 3ms/step\n",
            "Epoch 9/40\n",
            "23/23 - 0s - loss: 0.1506 - accuracy: 0.9500 - val_loss: 0.2115 - val_accuracy: 0.8875 - 65ms/epoch - 3ms/step\n",
            "Epoch 10/40\n",
            "23/23 - 0s - loss: 0.1434 - accuracy: 0.9542 - val_loss: 0.2155 - val_accuracy: 0.9000 - 63ms/epoch - 3ms/step\n",
            "Epoch 11/40\n",
            "23/23 - 0s - loss: 0.1380 - accuracy: 0.9639 - val_loss: 0.2227 - val_accuracy: 0.8875 - 63ms/epoch - 3ms/step\n",
            "Epoch 12/40\n",
            "23/23 - 0s - loss: 0.1328 - accuracy: 0.9639 - val_loss: 0.2171 - val_accuracy: 0.8875 - 83ms/epoch - 4ms/step\n",
            "Epoch 13/40\n",
            "23/23 - 0s - loss: 0.1282 - accuracy: 0.9653 - val_loss: 0.2178 - val_accuracy: 0.8875 - 63ms/epoch - 3ms/step\n",
            "Epoch 14/40\n",
            "23/23 - 0s - loss: 0.1247 - accuracy: 0.9667 - val_loss: 0.2196 - val_accuracy: 0.8875 - 77ms/epoch - 3ms/step\n",
            "Epoch 15/40\n",
            "23/23 - 0s - loss: 0.1190 - accuracy: 0.9694 - val_loss: 0.2180 - val_accuracy: 0.8875 - 63ms/epoch - 3ms/step\n",
            "Epoch 16/40\n",
            "23/23 - 0s - loss: 0.1142 - accuracy: 0.9722 - val_loss: 0.2244 - val_accuracy: 0.8875 - 84ms/epoch - 4ms/step\n",
            "Epoch 17/40\n",
            "23/23 - 0s - loss: 0.1125 - accuracy: 0.9694 - val_loss: 0.2185 - val_accuracy: 0.9000 - 80ms/epoch - 3ms/step\n",
            "Epoch 18/40\n",
            "23/23 - 0s - loss: 0.1061 - accuracy: 0.9736 - val_loss: 0.2167 - val_accuracy: 0.8875 - 67ms/epoch - 3ms/step\n",
            "Epoch 19/40\n",
            "23/23 - 0s - loss: 0.1009 - accuracy: 0.9764 - val_loss: 0.2179 - val_accuracy: 0.9125 - 76ms/epoch - 3ms/step\n",
            "Epoch 20/40\n",
            "23/23 - 0s - loss: 0.0968 - accuracy: 0.9806 - val_loss: 0.2241 - val_accuracy: 0.9000 - 69ms/epoch - 3ms/step\n",
            "Epoch 21/40\n",
            "23/23 - 0s - loss: 0.0924 - accuracy: 0.9833 - val_loss: 0.2275 - val_accuracy: 0.9000 - 59ms/epoch - 3ms/step\n",
            "Epoch 22/40\n",
            "23/23 - 0s - loss: 0.0890 - accuracy: 0.9833 - val_loss: 0.2308 - val_accuracy: 0.9000 - 76ms/epoch - 3ms/step\n",
            "Epoch 23/40\n",
            "23/23 - 0s - loss: 0.0853 - accuracy: 0.9833 - val_loss: 0.2312 - val_accuracy: 0.8875 - 75ms/epoch - 3ms/step\n",
            "Epoch 24/40\n",
            "23/23 - 0s - loss: 0.0801 - accuracy: 0.9861 - val_loss: 0.2302 - val_accuracy: 0.9000 - 82ms/epoch - 4ms/step\n",
            "Epoch 25/40\n",
            "23/23 - 0s - loss: 0.0763 - accuracy: 0.9875 - val_loss: 0.2320 - val_accuracy: 0.9000 - 61ms/epoch - 3ms/step\n",
            "Epoch 26/40\n",
            "23/23 - 0s - loss: 0.0723 - accuracy: 0.9889 - val_loss: 0.2416 - val_accuracy: 0.9000 - 77ms/epoch - 3ms/step\n",
            "Epoch 27/40\n",
            "23/23 - 0s - loss: 0.0682 - accuracy: 0.9889 - val_loss: 0.2439 - val_accuracy: 0.9000 - 61ms/epoch - 3ms/step\n",
            "Epoch 28/40\n",
            "23/23 - 0s - loss: 0.0661 - accuracy: 0.9889 - val_loss: 0.2479 - val_accuracy: 0.9125 - 66ms/epoch - 3ms/step\n",
            "Epoch 29/40\n",
            "23/23 - 0s - loss: 0.0623 - accuracy: 0.9889 - val_loss: 0.2483 - val_accuracy: 0.9000 - 77ms/epoch - 3ms/step\n",
            "Epoch 30/40\n",
            "23/23 - 0s - loss: 0.0579 - accuracy: 0.9889 - val_loss: 0.2443 - val_accuracy: 0.9000 - 68ms/epoch - 3ms/step\n",
            "Epoch 31/40\n",
            "23/23 - 0s - loss: 0.0545 - accuracy: 0.9903 - val_loss: 0.2471 - val_accuracy: 0.9000 - 81ms/epoch - 4ms/step\n",
            "Epoch 32/40\n",
            "23/23 - 0s - loss: 0.0520 - accuracy: 0.9903 - val_loss: 0.2617 - val_accuracy: 0.9000 - 65ms/epoch - 3ms/step\n",
            "Epoch 33/40\n",
            "23/23 - 0s - loss: 0.0487 - accuracy: 0.9931 - val_loss: 0.2554 - val_accuracy: 0.9125 - 66ms/epoch - 3ms/step\n",
            "Epoch 34/40\n",
            "23/23 - 0s - loss: 0.0469 - accuracy: 0.9958 - val_loss: 0.2567 - val_accuracy: 0.9000 - 71ms/epoch - 3ms/step\n",
            "Epoch 35/40\n",
            "23/23 - 0s - loss: 0.0446 - accuracy: 0.9931 - val_loss: 0.2560 - val_accuracy: 0.9000 - 63ms/epoch - 3ms/step\n",
            "Epoch 36/40\n",
            "23/23 - 0s - loss: 0.0417 - accuracy: 0.9931 - val_loss: 0.2662 - val_accuracy: 0.9000 - 78ms/epoch - 3ms/step\n",
            "Epoch 37/40\n",
            "23/23 - 0s - loss: 0.0405 - accuracy: 0.9958 - val_loss: 0.2681 - val_accuracy: 0.9000 - 79ms/epoch - 3ms/step\n",
            "Epoch 38/40\n",
            "23/23 - 0s - loss: 0.0373 - accuracy: 0.9944 - val_loss: 0.2698 - val_accuracy: 0.9000 - 62ms/epoch - 3ms/step\n",
            "Epoch 39/40\n",
            "23/23 - 0s - loss: 0.0344 - accuracy: 0.9986 - val_loss: 0.2752 - val_accuracy: 0.9000 - 80ms/epoch - 3ms/step\n",
            "Epoch 40/40\n",
            "23/23 - 0s - loss: 0.0317 - accuracy: 0.9986 - val_loss: 0.2768 - val_accuracy: 0.9125 - 76ms/epoch - 3ms/step\n"
          ]
        }
      ]
    },
    {
      "cell_type": "code",
      "source": [
        "loss, accuracy = model.evaluate(X_test, y_test)\n",
        "print(f'Test Loss: {loss}, Test Accuracy: {accuracy}')"
      ],
      "metadata": {
        "colab": {
          "base_uri": "https://localhost:8080/"
        },
        "id": "-cd3zJvHUV09",
        "outputId": "9bdbdf15-9b48-40ee-f0e5-adb2d5625db2"
      },
      "execution_count": 12,
      "outputs": [
        {
          "output_type": "stream",
          "name": "stdout",
          "text": [
            "7/7 [==============================] - 0s 2ms/step - loss: 0.6700 - accuracy: 0.8200\n",
            "Test Loss: 0.6700077652931213, Test Accuracy: 0.8199999928474426\n"
          ]
        }
      ]
    }
  ]
}
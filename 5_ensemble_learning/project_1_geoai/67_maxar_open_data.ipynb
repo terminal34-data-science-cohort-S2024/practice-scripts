{
  "cells": [
    {
      "cell_type": "markdown",
      "id": "0",
      "metadata": {
        "id": "0"
      },
      "source": [
        "[![image](https://jupyterlite.rtfd.io/en/latest/_static/badge.svg)](https://demo.leafmap.org/lab/index.html?path=notebooks/67_maxar_open_data.ipynb)\n",
        "[![image](https://studiolab.sagemaker.aws/studiolab.svg)](https://studiolab.sagemaker.aws/import/github/opengeos/leafmap/blob/master/examples/notebooks/67_maxar_open_data.ipynb)\n",
        "[![image](https://img.shields.io/badge/Open-Planetary%20Computer-black?style=flat&logo=microsoft)](https://pccompute.westeurope.cloudapp.azure.com/compute/hub/user-redirect/git-pull?repo=https://github.com/opengeos/leafmap&urlpath=lab/tree/leafmap/examples/notebooks/67_maxar_open_data.ipynb&branch=master)\n",
        "[![image](https://colab.research.google.com/assets/colab-badge.svg)](https://colab.research.google.com/github/opengeos/leafmap/blob/master/examples/notebooks/67_maxar_open_data.ipynb)\n",
        "[![image](https://mybinder.org/badge_logo.svg)](https://mybinder.org/v2/gh/opengeos/leafmap/HEAD)\n",
        "\n",
        "**Visualizing Maxar Open Data with Leafmap**\n",
        "\n",
        "\n",
        "The [Maxar Open Data Program](https://www.maxar.com/open-data) provides pre- and post-event high-resolution satellite imagery in support of emergency planning, risk assessment, monitoring of staging areas and emergency response, damage assessment, and recovery. Check out the links below for more information.\n",
        "- [Maxar Open Data Program](https://www.maxar.com/open-data)\n",
        "- [Maxar Open Data on AWS](https://registry.opendata.aws/maxar-open-data/)\n",
        "- [Maxar Open Data on STAC Index](https://stacindex.org/catalogs/maxar-open-data-catalog-ard-format#/)\n",
        "- [Maxar Open Data on STAC Browser](https://radiantearth.github.io/stac-browser/#/external/maxar-opendata.s3.amazonaws.com/events/catalog.json?.language=en)\n",
        "\n",
        "The Maxar Open Data STAC catalog URL is: https://maxar-opendata.s3.amazonaws.com/events/catalog.json"
      ]
    },
    {
      "cell_type": "code",
      "execution_count": 1,
      "id": "1",
      "metadata": {
        "id": "1",
        "outputId": "4ee8d8a9-ff12-4713-a130-4cb91af2a9e4",
        "colab": {
          "base_uri": "https://localhost:8080/"
        }
      },
      "outputs": [
        {
          "output_type": "stream",
          "name": "stdout",
          "text": [
            "Requirement already satisfied: leafmap in /usr/local/lib/python3.10/dist-packages (0.31.7)\n",
            "Requirement already satisfied: cogeo-mosaic in /usr/local/lib/python3.10/dist-packages (7.1.0)\n",
            "Requirement already satisfied: bqplot in /usr/local/lib/python3.10/dist-packages (from leafmap) (0.12.43)\n",
            "Requirement already satisfied: colour in /usr/local/lib/python3.10/dist-packages (from leafmap) (0.1.5)\n",
            "Requirement already satisfied: duckdb in /usr/local/lib/python3.10/dist-packages (from leafmap) (0.10.1)\n",
            "Requirement already satisfied: folium in /usr/local/lib/python3.10/dist-packages (from leafmap) (0.14.0)\n",
            "Requirement already satisfied: gdown in /usr/local/lib/python3.10/dist-packages (from leafmap) (4.7.3)\n",
            "Requirement already satisfied: geojson in /usr/local/lib/python3.10/dist-packages (from leafmap) (3.1.0)\n",
            "Requirement already satisfied: ipyevents in /usr/local/lib/python3.10/dist-packages (from leafmap) (2.0.2)\n",
            "Requirement already satisfied: ipyfilechooser in /usr/local/lib/python3.10/dist-packages (from leafmap) (0.6.0)\n",
            "Requirement already satisfied: ipyleaflet in /usr/local/lib/python3.10/dist-packages (from leafmap) (0.18.2)\n",
            "Requirement already satisfied: ipywidgets in /usr/local/lib/python3.10/dist-packages (from leafmap) (7.7.1)\n",
            "Requirement already satisfied: matplotlib in /usr/local/lib/python3.10/dist-packages (from leafmap) (3.7.1)\n",
            "Requirement already satisfied: numpy in /usr/local/lib/python3.10/dist-packages (from leafmap) (1.25.2)\n",
            "Requirement already satisfied: pandas in /usr/local/lib/python3.10/dist-packages (from leafmap) (2.0.3)\n",
            "Requirement already satisfied: plotly in /usr/local/lib/python3.10/dist-packages (from leafmap) (5.15.0)\n",
            "Requirement already satisfied: pyshp in /usr/local/lib/python3.10/dist-packages (from leafmap) (2.3.1)\n",
            "Requirement already satisfied: pystac-client in /usr/local/lib/python3.10/dist-packages (from leafmap) (0.7.6)\n",
            "Requirement already satisfied: python-box in /usr/local/lib/python3.10/dist-packages (from leafmap) (7.1.1)\n",
            "Requirement already satisfied: scooby in /usr/local/lib/python3.10/dist-packages (from leafmap) (0.9.2)\n",
            "Requirement already satisfied: whiteboxgui in /usr/local/lib/python3.10/dist-packages (from leafmap) (2.3.0)\n",
            "Requirement already satisfied: xyzservices in /usr/local/lib/python3.10/dist-packages (from leafmap) (2024.4.0)\n",
            "Requirement already satisfied: attrs in /usr/local/lib/python3.10/dist-packages (from cogeo-mosaic) (23.2.0)\n",
            "Requirement already satisfied: cachetools in /usr/local/lib/python3.10/dist-packages (from cogeo-mosaic) (5.3.3)\n",
            "Requirement already satisfied: httpx in /usr/local/lib/python3.10/dist-packages (from cogeo-mosaic) (0.27.0)\n",
            "Requirement already satisfied: morecantile<6.0,>=5.0 in /usr/local/lib/python3.10/dist-packages (from cogeo-mosaic) (5.3.0)\n",
            "Requirement already satisfied: pydantic-settings~=2.0 in /usr/local/lib/python3.10/dist-packages (from cogeo-mosaic) (2.2.1)\n",
            "Requirement already satisfied: pydantic~=2.0 in /usr/local/lib/python3.10/dist-packages (from cogeo-mosaic) (2.6.4)\n",
            "Requirement already satisfied: rasterio in /usr/local/lib/python3.10/dist-packages (from cogeo-mosaic) (1.3.9)\n",
            "Requirement already satisfied: rio-tiler<7.0,>=6.0 in /usr/local/lib/python3.10/dist-packages (from cogeo-mosaic) (6.4.6)\n",
            "Requirement already satisfied: shapely<3.0,>=2.0 in /usr/local/lib/python3.10/dist-packages (from cogeo-mosaic) (2.0.3)\n",
            "Requirement already satisfied: supermorecado in /usr/local/lib/python3.10/dist-packages (from cogeo-mosaic) (0.1.2)\n",
            "Requirement already satisfied: pyproj~=3.1 in /usr/local/lib/python3.10/dist-packages (from morecantile<6.0,>=5.0->cogeo-mosaic) (3.6.1)\n",
            "Requirement already satisfied: annotated-types>=0.4.0 in /usr/local/lib/python3.10/dist-packages (from pydantic~=2.0->cogeo-mosaic) (0.6.0)\n",
            "Requirement already satisfied: pydantic-core==2.16.3 in /usr/local/lib/python3.10/dist-packages (from pydantic~=2.0->cogeo-mosaic) (2.16.3)\n",
            "Requirement already satisfied: typing-extensions>=4.6.1 in /usr/local/lib/python3.10/dist-packages (from pydantic~=2.0->cogeo-mosaic) (4.11.0)\n",
            "Requirement already satisfied: python-dotenv>=0.21.0 in /usr/local/lib/python3.10/dist-packages (from pydantic-settings~=2.0->cogeo-mosaic) (1.0.1)\n",
            "Requirement already satisfied: color-operations in /usr/local/lib/python3.10/dist-packages (from rio-tiler<7.0,>=6.0->cogeo-mosaic) (0.1.3)\n",
            "Requirement already satisfied: numexpr in /usr/local/lib/python3.10/dist-packages (from rio-tiler<7.0,>=6.0->cogeo-mosaic) (2.10.0)\n",
            "Requirement already satisfied: pystac>=0.5.4 in /usr/local/lib/python3.10/dist-packages (from rio-tiler<7.0,>=6.0->cogeo-mosaic) (1.10.0)\n",
            "Requirement already satisfied: affine in /usr/local/lib/python3.10/dist-packages (from rasterio->cogeo-mosaic) (2.4.0)\n",
            "Requirement already satisfied: certifi in /usr/local/lib/python3.10/dist-packages (from rasterio->cogeo-mosaic) (2024.2.2)\n",
            "Requirement already satisfied: click>=4.0 in /usr/local/lib/python3.10/dist-packages (from rasterio->cogeo-mosaic) (8.1.7)\n",
            "Requirement already satisfied: cligj>=0.5 in /usr/local/lib/python3.10/dist-packages (from rasterio->cogeo-mosaic) (0.7.2)\n",
            "Requirement already satisfied: snuggs>=1.4.1 in /usr/local/lib/python3.10/dist-packages (from rasterio->cogeo-mosaic) (1.4.7)\n",
            "Requirement already satisfied: click-plugins in /usr/local/lib/python3.10/dist-packages (from rasterio->cogeo-mosaic) (1.1.1)\n",
            "Requirement already satisfied: setuptools in /usr/local/lib/python3.10/dist-packages (from rasterio->cogeo-mosaic) (67.7.2)\n",
            "Requirement already satisfied: traitlets>=4.3.0 in /usr/local/lib/python3.10/dist-packages (from bqplot->leafmap) (5.7.1)\n",
            "Requirement already satisfied: traittypes>=0.0.6 in /usr/local/lib/python3.10/dist-packages (from bqplot->leafmap) (0.2.1)\n",
            "Requirement already satisfied: ipykernel>=4.5.1 in /usr/local/lib/python3.10/dist-packages (from ipywidgets->leafmap) (5.5.6)\n",
            "Requirement already satisfied: ipython-genutils~=0.2.0 in /usr/local/lib/python3.10/dist-packages (from ipywidgets->leafmap) (0.2.0)\n",
            "Requirement already satisfied: widgetsnbextension~=3.6.0 in /usr/local/lib/python3.10/dist-packages (from ipywidgets->leafmap) (3.6.6)\n",
            "Requirement already satisfied: ipython>=4.0.0 in /usr/local/lib/python3.10/dist-packages (from ipywidgets->leafmap) (7.34.0)\n",
            "Requirement already satisfied: jupyterlab-widgets>=1.0.0 in /usr/local/lib/python3.10/dist-packages (from ipywidgets->leafmap) (3.0.10)\n",
            "Requirement already satisfied: python-dateutil>=2.8.2 in /usr/local/lib/python3.10/dist-packages (from pandas->leafmap) (2.8.2)\n",
            "Requirement already satisfied: pytz>=2020.1 in /usr/local/lib/python3.10/dist-packages (from pandas->leafmap) (2023.4)\n",
            "Requirement already satisfied: tzdata>=2022.1 in /usr/local/lib/python3.10/dist-packages (from pandas->leafmap) (2024.1)\n",
            "Requirement already satisfied: branca>=0.6.0 in /usr/local/lib/python3.10/dist-packages (from folium->leafmap) (0.7.1)\n",
            "Requirement already satisfied: jinja2>=2.9 in /usr/local/lib/python3.10/dist-packages (from folium->leafmap) (3.1.3)\n",
            "Requirement already satisfied: requests in /usr/local/lib/python3.10/dist-packages (from folium->leafmap) (2.31.0)\n",
            "Requirement already satisfied: filelock in /usr/local/lib/python3.10/dist-packages (from gdown->leafmap) (3.13.4)\n",
            "Requirement already satisfied: six in /usr/local/lib/python3.10/dist-packages (from gdown->leafmap) (1.16.0)\n",
            "Requirement already satisfied: tqdm in /usr/local/lib/python3.10/dist-packages (from gdown->leafmap) (4.66.2)\n",
            "Requirement already satisfied: beautifulsoup4 in /usr/local/lib/python3.10/dist-packages (from gdown->leafmap) (4.12.3)\n",
            "Requirement already satisfied: anyio in /usr/local/lib/python3.10/dist-packages (from httpx->cogeo-mosaic) (3.7.1)\n",
            "Requirement already satisfied: httpcore==1.* in /usr/local/lib/python3.10/dist-packages (from httpx->cogeo-mosaic) (1.0.5)\n",
            "Requirement already satisfied: idna in /usr/local/lib/python3.10/dist-packages (from httpx->cogeo-mosaic) (3.6)\n",
            "Requirement already satisfied: sniffio in /usr/local/lib/python3.10/dist-packages (from httpx->cogeo-mosaic) (1.3.1)\n",
            "Requirement already satisfied: h11<0.15,>=0.13 in /usr/local/lib/python3.10/dist-packages (from httpcore==1.*->httpx->cogeo-mosaic) (0.14.0)\n",
            "Requirement already satisfied: contourpy>=1.0.1 in /usr/local/lib/python3.10/dist-packages (from matplotlib->leafmap) (1.2.1)\n",
            "Requirement already satisfied: cycler>=0.10 in /usr/local/lib/python3.10/dist-packages (from matplotlib->leafmap) (0.12.1)\n",
            "Requirement already satisfied: fonttools>=4.22.0 in /usr/local/lib/python3.10/dist-packages (from matplotlib->leafmap) (4.51.0)\n",
            "Requirement already satisfied: kiwisolver>=1.0.1 in /usr/local/lib/python3.10/dist-packages (from matplotlib->leafmap) (1.4.5)\n",
            "Requirement already satisfied: packaging>=20.0 in /usr/local/lib/python3.10/dist-packages (from matplotlib->leafmap) (24.0)\n",
            "Requirement already satisfied: pillow>=6.2.0 in /usr/local/lib/python3.10/dist-packages (from matplotlib->leafmap) (9.4.0)\n",
            "Requirement already satisfied: pyparsing>=2.3.1 in /usr/local/lib/python3.10/dist-packages (from matplotlib->leafmap) (3.1.2)\n",
            "Requirement already satisfied: tenacity>=6.2.0 in /usr/local/lib/python3.10/dist-packages (from plotly->leafmap) (8.2.3)\n",
            "Requirement already satisfied: ipytree in /usr/local/lib/python3.10/dist-packages (from whiteboxgui->leafmap) (0.2.2)\n",
            "Requirement already satisfied: whitebox in /usr/local/lib/python3.10/dist-packages (from whiteboxgui->leafmap) (2.3.1)\n",
            "Requirement already satisfied: jupyter-client in /usr/local/lib/python3.10/dist-packages (from ipykernel>=4.5.1->ipywidgets->leafmap) (6.1.12)\n",
            "Requirement already satisfied: tornado>=4.2 in /usr/local/lib/python3.10/dist-packages (from ipykernel>=4.5.1->ipywidgets->leafmap) (6.3.3)\n",
            "Requirement already satisfied: jedi>=0.16 in /usr/local/lib/python3.10/dist-packages (from ipython>=4.0.0->ipywidgets->leafmap) (0.19.1)\n",
            "Requirement already satisfied: decorator in /usr/local/lib/python3.10/dist-packages (from ipython>=4.0.0->ipywidgets->leafmap) (4.4.2)\n",
            "Requirement already satisfied: pickleshare in /usr/local/lib/python3.10/dist-packages (from ipython>=4.0.0->ipywidgets->leafmap) (0.7.5)\n",
            "Requirement already satisfied: prompt-toolkit!=3.0.0,!=3.0.1,<3.1.0,>=2.0.0 in /usr/local/lib/python3.10/dist-packages (from ipython>=4.0.0->ipywidgets->leafmap) (3.0.43)\n",
            "Requirement already satisfied: pygments in /usr/local/lib/python3.10/dist-packages (from ipython>=4.0.0->ipywidgets->leafmap) (2.16.1)\n",
            "Requirement already satisfied: backcall in /usr/local/lib/python3.10/dist-packages (from ipython>=4.0.0->ipywidgets->leafmap) (0.2.0)\n",
            "Requirement already satisfied: matplotlib-inline in /usr/local/lib/python3.10/dist-packages (from ipython>=4.0.0->ipywidgets->leafmap) (0.1.6)\n",
            "Requirement already satisfied: pexpect>4.3 in /usr/local/lib/python3.10/dist-packages (from ipython>=4.0.0->ipywidgets->leafmap) (4.9.0)\n",
            "Requirement already satisfied: MarkupSafe>=2.0 in /usr/local/lib/python3.10/dist-packages (from jinja2>=2.9->folium->leafmap) (2.1.5)\n",
            "Requirement already satisfied: jsonschema~=4.18 in /usr/local/lib/python3.10/dist-packages (from pystac>=0.5.4->rio-tiler<7.0,>=6.0->cogeo-mosaic) (4.19.2)\n",
            "Requirement already satisfied: charset-normalizer<4,>=2 in /usr/local/lib/python3.10/dist-packages (from requests->folium->leafmap) (3.3.2)\n",
            "Requirement already satisfied: urllib3<3,>=1.21.1 in /usr/local/lib/python3.10/dist-packages (from requests->folium->leafmap) (2.0.7)\n",
            "Requirement already satisfied: notebook>=4.4.1 in /usr/local/lib/python3.10/dist-packages (from widgetsnbextension~=3.6.0->ipywidgets->leafmap) (6.5.5)\n",
            "Requirement already satisfied: exceptiongroup in /usr/local/lib/python3.10/dist-packages (from anyio->httpx->cogeo-mosaic) (1.2.0)\n",
            "Requirement already satisfied: soupsieve>1.2 in /usr/local/lib/python3.10/dist-packages (from beautifulsoup4->gdown->leafmap) (2.5)\n",
            "Requirement already satisfied: PySocks!=1.5.7,>=1.5.6 in /usr/local/lib/python3.10/dist-packages (from requests->folium->leafmap) (1.7.1)\n",
            "Requirement already satisfied: parso<0.9.0,>=0.8.3 in /usr/local/lib/python3.10/dist-packages (from jedi>=0.16->ipython>=4.0.0->ipywidgets->leafmap) (0.8.4)\n",
            "Requirement already satisfied: jsonschema-specifications>=2023.03.6 in /usr/local/lib/python3.10/dist-packages (from jsonschema~=4.18->pystac>=0.5.4->rio-tiler<7.0,>=6.0->cogeo-mosaic) (2023.12.1)\n",
            "Requirement already satisfied: referencing>=0.28.4 in /usr/local/lib/python3.10/dist-packages (from jsonschema~=4.18->pystac>=0.5.4->rio-tiler<7.0,>=6.0->cogeo-mosaic) (0.34.0)\n",
            "Requirement already satisfied: rpds-py>=0.7.1 in /usr/local/lib/python3.10/dist-packages (from jsonschema~=4.18->pystac>=0.5.4->rio-tiler<7.0,>=6.0->cogeo-mosaic) (0.18.0)\n",
            "Requirement already satisfied: pyzmq<25,>=17 in /usr/local/lib/python3.10/dist-packages (from notebook>=4.4.1->widgetsnbextension~=3.6.0->ipywidgets->leafmap) (23.2.1)\n",
            "Requirement already satisfied: argon2-cffi in /usr/local/lib/python3.10/dist-packages (from notebook>=4.4.1->widgetsnbextension~=3.6.0->ipywidgets->leafmap) (23.1.0)\n",
            "Requirement already satisfied: jupyter-core>=4.6.1 in /usr/local/lib/python3.10/dist-packages (from notebook>=4.4.1->widgetsnbextension~=3.6.0->ipywidgets->leafmap) (5.7.2)\n",
            "Requirement already satisfied: nbformat in /usr/local/lib/python3.10/dist-packages (from notebook>=4.4.1->widgetsnbextension~=3.6.0->ipywidgets->leafmap) (5.10.4)\n",
            "Requirement already satisfied: nbconvert>=5 in /usr/local/lib/python3.10/dist-packages (from notebook>=4.4.1->widgetsnbextension~=3.6.0->ipywidgets->leafmap) (6.5.4)\n",
            "Requirement already satisfied: nest-asyncio>=1.5 in /usr/local/lib/python3.10/dist-packages (from notebook>=4.4.1->widgetsnbextension~=3.6.0->ipywidgets->leafmap) (1.6.0)\n",
            "Requirement already satisfied: Send2Trash>=1.8.0 in /usr/local/lib/python3.10/dist-packages (from notebook>=4.4.1->widgetsnbextension~=3.6.0->ipywidgets->leafmap) (1.8.3)\n",
            "Requirement already satisfied: terminado>=0.8.3 in /usr/local/lib/python3.10/dist-packages (from notebook>=4.4.1->widgetsnbextension~=3.6.0->ipywidgets->leafmap) (0.18.1)\n",
            "Requirement already satisfied: prometheus-client in /usr/local/lib/python3.10/dist-packages (from notebook>=4.4.1->widgetsnbextension~=3.6.0->ipywidgets->leafmap) (0.20.0)\n",
            "Requirement already satisfied: nbclassic>=0.4.7 in /usr/local/lib/python3.10/dist-packages (from notebook>=4.4.1->widgetsnbextension~=3.6.0->ipywidgets->leafmap) (1.0.0)\n",
            "Requirement already satisfied: ptyprocess>=0.5 in /usr/local/lib/python3.10/dist-packages (from pexpect>4.3->ipython>=4.0.0->ipywidgets->leafmap) (0.7.0)\n",
            "Requirement already satisfied: wcwidth in /usr/local/lib/python3.10/dist-packages (from prompt-toolkit!=3.0.0,!=3.0.1,<3.1.0,>=2.0.0->ipython>=4.0.0->ipywidgets->leafmap) (0.2.13)\n",
            "Requirement already satisfied: platformdirs>=2.5 in /usr/local/lib/python3.10/dist-packages (from jupyter-core>=4.6.1->notebook>=4.4.1->widgetsnbextension~=3.6.0->ipywidgets->leafmap) (4.2.0)\n",
            "Requirement already satisfied: jupyter-server>=1.8 in /usr/local/lib/python3.10/dist-packages (from nbclassic>=0.4.7->notebook>=4.4.1->widgetsnbextension~=3.6.0->ipywidgets->leafmap) (1.24.0)\n",
            "Requirement already satisfied: notebook-shim>=0.2.3 in /usr/local/lib/python3.10/dist-packages (from nbclassic>=0.4.7->notebook>=4.4.1->widgetsnbextension~=3.6.0->ipywidgets->leafmap) (0.2.4)\n",
            "Requirement already satisfied: lxml in /usr/local/lib/python3.10/dist-packages (from nbconvert>=5->notebook>=4.4.1->widgetsnbextension~=3.6.0->ipywidgets->leafmap) (4.9.4)\n",
            "Requirement already satisfied: bleach in /usr/local/lib/python3.10/dist-packages (from nbconvert>=5->notebook>=4.4.1->widgetsnbextension~=3.6.0->ipywidgets->leafmap) (6.1.0)\n",
            "Requirement already satisfied: defusedxml in /usr/local/lib/python3.10/dist-packages (from nbconvert>=5->notebook>=4.4.1->widgetsnbextension~=3.6.0->ipywidgets->leafmap) (0.7.1)\n",
            "Requirement already satisfied: entrypoints>=0.2.2 in /usr/local/lib/python3.10/dist-packages (from nbconvert>=5->notebook>=4.4.1->widgetsnbextension~=3.6.0->ipywidgets->leafmap) (0.4)\n",
            "Requirement already satisfied: jupyterlab-pygments in /usr/local/lib/python3.10/dist-packages (from nbconvert>=5->notebook>=4.4.1->widgetsnbextension~=3.6.0->ipywidgets->leafmap) (0.3.0)\n",
            "Requirement already satisfied: mistune<2,>=0.8.1 in /usr/local/lib/python3.10/dist-packages (from nbconvert>=5->notebook>=4.4.1->widgetsnbextension~=3.6.0->ipywidgets->leafmap) (0.8.4)\n",
            "Requirement already satisfied: nbclient>=0.5.0 in /usr/local/lib/python3.10/dist-packages (from nbconvert>=5->notebook>=4.4.1->widgetsnbextension~=3.6.0->ipywidgets->leafmap) (0.10.0)\n",
            "Requirement already satisfied: pandocfilters>=1.4.1 in /usr/local/lib/python3.10/dist-packages (from nbconvert>=5->notebook>=4.4.1->widgetsnbextension~=3.6.0->ipywidgets->leafmap) (1.5.1)\n",
            "Requirement already satisfied: tinycss2 in /usr/local/lib/python3.10/dist-packages (from nbconvert>=5->notebook>=4.4.1->widgetsnbextension~=3.6.0->ipywidgets->leafmap) (1.2.1)\n",
            "Requirement already satisfied: fastjsonschema>=2.15 in /usr/local/lib/python3.10/dist-packages (from nbformat->notebook>=4.4.1->widgetsnbextension~=3.6.0->ipywidgets->leafmap) (2.19.1)\n",
            "Requirement already satisfied: argon2-cffi-bindings in /usr/local/lib/python3.10/dist-packages (from argon2-cffi->notebook>=4.4.1->widgetsnbextension~=3.6.0->ipywidgets->leafmap) (21.2.0)\n",
            "Requirement already satisfied: websocket-client in /usr/local/lib/python3.10/dist-packages (from jupyter-server>=1.8->nbclassic>=0.4.7->notebook>=4.4.1->widgetsnbextension~=3.6.0->ipywidgets->leafmap) (1.7.0)\n",
            "Requirement already satisfied: cffi>=1.0.1 in /usr/local/lib/python3.10/dist-packages (from argon2-cffi-bindings->argon2-cffi->notebook>=4.4.1->widgetsnbextension~=3.6.0->ipywidgets->leafmap) (1.16.0)\n",
            "Requirement already satisfied: webencodings in /usr/local/lib/python3.10/dist-packages (from bleach->nbconvert>=5->notebook>=4.4.1->widgetsnbextension~=3.6.0->ipywidgets->leafmap) (0.5.1)\n",
            "Requirement already satisfied: pycparser in /usr/local/lib/python3.10/dist-packages (from cffi>=1.0.1->argon2-cffi-bindings->argon2-cffi->notebook>=4.4.1->widgetsnbextension~=3.6.0->ipywidgets->leafmap) (2.22)\n"
          ]
        }
      ],
      "source": [
        "!pip install -U leafmap cogeo-mosaic"
      ]
    },
    {
      "cell_type": "code",
      "execution_count": 2,
      "id": "2",
      "metadata": {
        "id": "2"
      },
      "outputs": [],
      "source": [
        "import leafmap"
      ]
    },
    {
      "cell_type": "markdown",
      "id": "3",
      "metadata": {
        "id": "3"
      },
      "source": [
        "Retrieve all collections from the Maxar Open Data STAC catalog. Each collection represents a single event."
      ]
    },
    {
      "cell_type": "code",
      "execution_count": 3,
      "id": "4",
      "metadata": {
        "id": "4",
        "outputId": "9ebbe498-e575-47ed-e7a1-bcb546992227",
        "colab": {
          "base_uri": "https://localhost:8080/"
        }
      },
      "outputs": [
        {
          "output_type": "execute_result",
          "data": {
            "text/plain": [
              "['BayofBengal-Cyclone-Mocha-May-23',\n",
              " 'Emilia-Romagna-Italy-flooding-may23',\n",
              " 'Gambia-flooding-8-11-2022',\n",
              " 'Hurricane-Fiona-9-19-2022',\n",
              " 'Hurricane-Ian-9-26-2022',\n",
              " 'Hurricane-Idalia-Florida-Aug23',\n",
              " 'Iceland-Volcano_Eruption-Dec-2023',\n",
              " 'India-Floods-Oct-2023',\n",
              " 'Indonesia-Earthquake22',\n",
              " 'Japan-Earthquake-Jan-2024',\n",
              " 'Kahramanmaras-turkey-earthquake-23',\n",
              " 'Kalehe-DRC-Flooding-5-8-23',\n",
              " 'Libya-Floods-Sept-2023',\n",
              " 'Marshall-Fire-21-Update',\n",
              " 'Maui-Hawaii-fires-Aug-23',\n",
              " 'McDougallCreekWildfire-BC-Canada-Aug-23',\n",
              " 'Morocco-Earthquake-Sept-2023',\n",
              " 'NWT-Canada-Aug-23',\n",
              " 'Nepal-Earthquake-Apr-2015',\n",
              " 'Nepal-Earthquake-Nov-2023',\n",
              " 'New-Zealand-Flooding23',\n",
              " 'SmokeHouseCreek-Wildfires-Texas-Mar24',\n",
              " 'Sudan-flooding-8-22-2022',\n",
              " 'afghanistan-earthquake22',\n",
              " 'cyclone-emnati22',\n",
              " 'ghana-explosion22',\n",
              " 'kentucky-flooding-7-29-2022',\n",
              " 'pakistan-flooding22',\n",
              " 'shovi-georgia-landslide-8Aug23',\n",
              " 'southafrica-flooding22',\n",
              " 'tonga-volcano21',\n",
              " 'volcano-indonesia21',\n",
              " 'yellowstone-flooding22']"
            ]
          },
          "metadata": {},
          "execution_count": 3
        }
      ],
      "source": [
        "leafmap.maxar_collections()"
      ]
    },
    {
      "cell_type": "markdown",
      "id": "5",
      "metadata": {
        "id": "5"
      },
      "source": [
        "Retrieve all collections for a specific event:"
      ]
    },
    {
      "cell_type": "code",
      "execution_count": 4,
      "id": "6",
      "metadata": {
        "id": "6",
        "outputId": "4290e185-aa1d-4400-ef30-043da2a04eb1",
        "colab": {
          "base_uri": "https://localhost:8080/"
        }
      },
      "outputs": [
        {
          "output_type": "stream",
          "name": "stdout",
          "text": [
            "The number of collections: 76\n"
          ]
        }
      ],
      "source": [
        "collections = leafmap.maxar_child_collections(\"Kahramanmaras-turkey-earthquake-23\")\n",
        "print(f\"The number of collections: {len(collections)}\")"
      ]
    },
    {
      "cell_type": "code",
      "execution_count": 5,
      "id": "7",
      "metadata": {
        "id": "7",
        "outputId": "f5f77c47-7895-4fd1-edf5-95d2188455cb",
        "colab": {
          "base_uri": "https://localhost:8080/"
        }
      },
      "outputs": [
        {
          "output_type": "execute_result",
          "data": {
            "text/plain": [
              "['10200100B5C3A800',\n",
              " '10300100D6740900',\n",
              " '10300100D6789800',\n",
              " '10300100D76F1300',\n",
              " '10300100D797E100']"
            ]
          },
          "metadata": {},
          "execution_count": 5
        }
      ],
      "source": [
        "collections[:5]"
      ]
    },
    {
      "cell_type": "markdown",
      "id": "8",
      "metadata": {
        "id": "8"
      },
      "source": [
        "Retrieve all items (tiles) for a specific collection and generate the footprints:"
      ]
    },
    {
      "cell_type": "code",
      "execution_count": 6,
      "id": "9",
      "metadata": {
        "id": "9",
        "outputId": "a97970f0-7227-47fc-aa0e-c745d41a848d",
        "colab": {
          "base_uri": "https://localhost:8080/",
          "height": 603
        }
      },
      "outputs": [
        {
          "output_type": "execute_result",
          "data": {
            "text/plain": [
              "                                            geometry              datetime  \\\n",
              "0  POLYGON ((36.57098 37.22216, 36.57318 37.22217...  2023-02-07T08:39:03Z   \n",
              "1  POLYGON ((36.57499 37.22208, 36.57569 37.20028...  2023-02-07T08:39:03Z   \n",
              "2  POLYGON ((36.63144 37.21884, 36.63198 37.20142...  2023-02-07T08:39:03Z   \n",
              "3  POLYGON ((36.68789 37.21518, 36.68828 37.20253...  2023-02-07T08:39:03Z   \n",
              "4  POLYGON ((36.74440 37.20960, 36.74458 37.20362...  2023-02-07T08:39:03Z   \n",
              "\n",
              "  platform   gsd ard_metadata_version        catalog_id  utm_zone  \\\n",
              "0     GE01  0.46                0.0.1  1050050044DE7E00        37   \n",
              "1     GE01  0.46                0.0.1  1050050044DE7E00        37   \n",
              "2     GE01  0.47                0.0.1  1050050044DE7E00        37   \n",
              "3     GE01  0.47                0.0.1  1050050044DE7E00        37   \n",
              "4     GE01  0.47                0.0.1  1050050044DE7E00        37   \n",
              "\n",
              "        quadkey  view:off_nadir  view:azimuth  ...  view:sun_azimuth  \\\n",
              "0  031133010322            20.8         312.2  ...             159.7   \n",
              "1  031133010323            20.7         311.7  ...             159.7   \n",
              "2  031133010332            21.0         311.1  ...             159.7   \n",
              "3  031133010333            21.3         310.5  ...             159.7   \n",
              "4  031133011222            21.5         310.4  ...             159.7   \n",
              "\n",
              "   view:sun_elevation  proj:epsg  \\\n",
              "0                35.2      32637   \n",
              "1                35.2      32637   \n",
              "2                35.2      32637   \n",
              "3                35.2      32637   \n",
              "4                35.2      32637   \n",
              "\n",
              "                                       proj:geometry              grid:code  \\\n",
              "0  {'type': 'Polygon', 'coordinates': [[[284487.9...  MXRA-Z37-031133010322   \n",
              "1  {'type': 'Polygon', 'coordinates': [[[284843.7...  MXRA-Z37-031133010323   \n",
              "2  {'type': 'Polygon', 'coordinates': [[[289843.7...  MXRA-Z37-031133010332   \n",
              "3  {'type': 'Polygon', 'coordinates': [[[294843.7...  MXRA-Z37-031133010333   \n",
              "4  {'type': 'Polygon', 'coordinates': [[[299843.7...  MXRA-Z37-031133011222   \n",
              "\n",
              "                                           proj:bbox tile:data_area  \\\n",
              "0  284419.5556640625,4119843.75,285156.25,4122282...            1.7   \n",
              "1  284843.75,4119843.75,290156.25,4122264.0991210938           11.4   \n",
              "2       289843.75,4119843.75,295156.25,4121777.34375            8.8   \n",
              "3    294843.75,4119843.75,300156.25,4121247.55859375            5.3   \n",
              "4  299843.75,4119843.75,302031.55517578125,412050...            1.1   \n",
              "\n",
              "   tile:clouds_area  tile:clouds_percent  \\\n",
              "0               0.4                   26   \n",
              "1               2.1                   18   \n",
              "2               0.7                    8   \n",
              "3               0.0                    0   \n",
              "4               0.2                   25   \n",
              "\n",
              "                                              visual  \n",
              "0  https://maxar-opendata.s3.amazonaws.com/events...  \n",
              "1  https://maxar-opendata.s3.amazonaws.com/events...  \n",
              "2  https://maxar-opendata.s3.amazonaws.com/events...  \n",
              "3  https://maxar-opendata.s3.amazonaws.com/events...  \n",
              "4  https://maxar-opendata.s3.amazonaws.com/events...  \n",
              "\n",
              "[5 rows x 21 columns]"
            ],
            "text/html": [
              "\n",
              "  <div id=\"df-f89ee972-d8f7-4264-a142-dd1101714231\" class=\"colab-df-container\">\n",
              "    <div>\n",
              "<style scoped>\n",
              "    .dataframe tbody tr th:only-of-type {\n",
              "        vertical-align: middle;\n",
              "    }\n",
              "\n",
              "    .dataframe tbody tr th {\n",
              "        vertical-align: top;\n",
              "    }\n",
              "\n",
              "    .dataframe thead th {\n",
              "        text-align: right;\n",
              "    }\n",
              "</style>\n",
              "<table border=\"1\" class=\"dataframe\">\n",
              "  <thead>\n",
              "    <tr style=\"text-align: right;\">\n",
              "      <th></th>\n",
              "      <th>geometry</th>\n",
              "      <th>datetime</th>\n",
              "      <th>platform</th>\n",
              "      <th>gsd</th>\n",
              "      <th>ard_metadata_version</th>\n",
              "      <th>catalog_id</th>\n",
              "      <th>utm_zone</th>\n",
              "      <th>quadkey</th>\n",
              "      <th>view:off_nadir</th>\n",
              "      <th>view:azimuth</th>\n",
              "      <th>...</th>\n",
              "      <th>view:sun_azimuth</th>\n",
              "      <th>view:sun_elevation</th>\n",
              "      <th>proj:epsg</th>\n",
              "      <th>proj:geometry</th>\n",
              "      <th>grid:code</th>\n",
              "      <th>proj:bbox</th>\n",
              "      <th>tile:data_area</th>\n",
              "      <th>tile:clouds_area</th>\n",
              "      <th>tile:clouds_percent</th>\n",
              "      <th>visual</th>\n",
              "    </tr>\n",
              "  </thead>\n",
              "  <tbody>\n",
              "    <tr>\n",
              "      <th>0</th>\n",
              "      <td>POLYGON ((36.57098 37.22216, 36.57318 37.22217...</td>\n",
              "      <td>2023-02-07T08:39:03Z</td>\n",
              "      <td>GE01</td>\n",
              "      <td>0.46</td>\n",
              "      <td>0.0.1</td>\n",
              "      <td>1050050044DE7E00</td>\n",
              "      <td>37</td>\n",
              "      <td>031133010322</td>\n",
              "      <td>20.8</td>\n",
              "      <td>312.2</td>\n",
              "      <td>...</td>\n",
              "      <td>159.7</td>\n",
              "      <td>35.2</td>\n",
              "      <td>32637</td>\n",
              "      <td>{'type': 'Polygon', 'coordinates': [[[284487.9...</td>\n",
              "      <td>MXRA-Z37-031133010322</td>\n",
              "      <td>284419.5556640625,4119843.75,285156.25,4122282...</td>\n",
              "      <td>1.7</td>\n",
              "      <td>0.4</td>\n",
              "      <td>26</td>\n",
              "      <td>https://maxar-opendata.s3.amazonaws.com/events...</td>\n",
              "    </tr>\n",
              "    <tr>\n",
              "      <th>1</th>\n",
              "      <td>POLYGON ((36.57499 37.22208, 36.57569 37.20028...</td>\n",
              "      <td>2023-02-07T08:39:03Z</td>\n",
              "      <td>GE01</td>\n",
              "      <td>0.46</td>\n",
              "      <td>0.0.1</td>\n",
              "      <td>1050050044DE7E00</td>\n",
              "      <td>37</td>\n",
              "      <td>031133010323</td>\n",
              "      <td>20.7</td>\n",
              "      <td>311.7</td>\n",
              "      <td>...</td>\n",
              "      <td>159.7</td>\n",
              "      <td>35.2</td>\n",
              "      <td>32637</td>\n",
              "      <td>{'type': 'Polygon', 'coordinates': [[[284843.7...</td>\n",
              "      <td>MXRA-Z37-031133010323</td>\n",
              "      <td>284843.75,4119843.75,290156.25,4122264.0991210938</td>\n",
              "      <td>11.4</td>\n",
              "      <td>2.1</td>\n",
              "      <td>18</td>\n",
              "      <td>https://maxar-opendata.s3.amazonaws.com/events...</td>\n",
              "    </tr>\n",
              "    <tr>\n",
              "      <th>2</th>\n",
              "      <td>POLYGON ((36.63144 37.21884, 36.63198 37.20142...</td>\n",
              "      <td>2023-02-07T08:39:03Z</td>\n",
              "      <td>GE01</td>\n",
              "      <td>0.47</td>\n",
              "      <td>0.0.1</td>\n",
              "      <td>1050050044DE7E00</td>\n",
              "      <td>37</td>\n",
              "      <td>031133010332</td>\n",
              "      <td>21.0</td>\n",
              "      <td>311.1</td>\n",
              "      <td>...</td>\n",
              "      <td>159.7</td>\n",
              "      <td>35.2</td>\n",
              "      <td>32637</td>\n",
              "      <td>{'type': 'Polygon', 'coordinates': [[[289843.7...</td>\n",
              "      <td>MXRA-Z37-031133010332</td>\n",
              "      <td>289843.75,4119843.75,295156.25,4121777.34375</td>\n",
              "      <td>8.8</td>\n",
              "      <td>0.7</td>\n",
              "      <td>8</td>\n",
              "      <td>https://maxar-opendata.s3.amazonaws.com/events...</td>\n",
              "    </tr>\n",
              "    <tr>\n",
              "      <th>3</th>\n",
              "      <td>POLYGON ((36.68789 37.21518, 36.68828 37.20253...</td>\n",
              "      <td>2023-02-07T08:39:03Z</td>\n",
              "      <td>GE01</td>\n",
              "      <td>0.47</td>\n",
              "      <td>0.0.1</td>\n",
              "      <td>1050050044DE7E00</td>\n",
              "      <td>37</td>\n",
              "      <td>031133010333</td>\n",
              "      <td>21.3</td>\n",
              "      <td>310.5</td>\n",
              "      <td>...</td>\n",
              "      <td>159.7</td>\n",
              "      <td>35.2</td>\n",
              "      <td>32637</td>\n",
              "      <td>{'type': 'Polygon', 'coordinates': [[[294843.7...</td>\n",
              "      <td>MXRA-Z37-031133010333</td>\n",
              "      <td>294843.75,4119843.75,300156.25,4121247.55859375</td>\n",
              "      <td>5.3</td>\n",
              "      <td>0.0</td>\n",
              "      <td>0</td>\n",
              "      <td>https://maxar-opendata.s3.amazonaws.com/events...</td>\n",
              "    </tr>\n",
              "    <tr>\n",
              "      <th>4</th>\n",
              "      <td>POLYGON ((36.74440 37.20960, 36.74458 37.20362...</td>\n",
              "      <td>2023-02-07T08:39:03Z</td>\n",
              "      <td>GE01</td>\n",
              "      <td>0.47</td>\n",
              "      <td>0.0.1</td>\n",
              "      <td>1050050044DE7E00</td>\n",
              "      <td>37</td>\n",
              "      <td>031133011222</td>\n",
              "      <td>21.5</td>\n",
              "      <td>310.4</td>\n",
              "      <td>...</td>\n",
              "      <td>159.7</td>\n",
              "      <td>35.2</td>\n",
              "      <td>32637</td>\n",
              "      <td>{'type': 'Polygon', 'coordinates': [[[299843.7...</td>\n",
              "      <td>MXRA-Z37-031133011222</td>\n",
              "      <td>299843.75,4119843.75,302031.55517578125,412050...</td>\n",
              "      <td>1.1</td>\n",
              "      <td>0.2</td>\n",
              "      <td>25</td>\n",
              "      <td>https://maxar-opendata.s3.amazonaws.com/events...</td>\n",
              "    </tr>\n",
              "  </tbody>\n",
              "</table>\n",
              "<p>5 rows × 21 columns</p>\n",
              "</div>\n",
              "    <div class=\"colab-df-buttons\">\n",
              "\n",
              "  <div class=\"colab-df-container\">\n",
              "    <button class=\"colab-df-convert\" onclick=\"convertToInteractive('df-f89ee972-d8f7-4264-a142-dd1101714231')\"\n",
              "            title=\"Convert this dataframe to an interactive table.\"\n",
              "            style=\"display:none;\">\n",
              "\n",
              "  <svg xmlns=\"http://www.w3.org/2000/svg\" height=\"24px\" viewBox=\"0 -960 960 960\">\n",
              "    <path d=\"M120-120v-720h720v720H120Zm60-500h600v-160H180v160Zm220 220h160v-160H400v160Zm0 220h160v-160H400v160ZM180-400h160v-160H180v160Zm440 0h160v-160H620v160ZM180-180h160v-160H180v160Zm440 0h160v-160H620v160Z\"/>\n",
              "  </svg>\n",
              "    </button>\n",
              "\n",
              "  <style>\n",
              "    .colab-df-container {\n",
              "      display:flex;\n",
              "      gap: 12px;\n",
              "    }\n",
              "\n",
              "    .colab-df-convert {\n",
              "      background-color: #E8F0FE;\n",
              "      border: none;\n",
              "      border-radius: 50%;\n",
              "      cursor: pointer;\n",
              "      display: none;\n",
              "      fill: #1967D2;\n",
              "      height: 32px;\n",
              "      padding: 0 0 0 0;\n",
              "      width: 32px;\n",
              "    }\n",
              "\n",
              "    .colab-df-convert:hover {\n",
              "      background-color: #E2EBFA;\n",
              "      box-shadow: 0px 1px 2px rgba(60, 64, 67, 0.3), 0px 1px 3px 1px rgba(60, 64, 67, 0.15);\n",
              "      fill: #174EA6;\n",
              "    }\n",
              "\n",
              "    .colab-df-buttons div {\n",
              "      margin-bottom: 4px;\n",
              "    }\n",
              "\n",
              "    [theme=dark] .colab-df-convert {\n",
              "      background-color: #3B4455;\n",
              "      fill: #D2E3FC;\n",
              "    }\n",
              "\n",
              "    [theme=dark] .colab-df-convert:hover {\n",
              "      background-color: #434B5C;\n",
              "      box-shadow: 0px 1px 3px 1px rgba(0, 0, 0, 0.15);\n",
              "      filter: drop-shadow(0px 1px 2px rgba(0, 0, 0, 0.3));\n",
              "      fill: #FFFFFF;\n",
              "    }\n",
              "  </style>\n",
              "\n",
              "    <script>\n",
              "      const buttonEl =\n",
              "        document.querySelector('#df-f89ee972-d8f7-4264-a142-dd1101714231 button.colab-df-convert');\n",
              "      buttonEl.style.display =\n",
              "        google.colab.kernel.accessAllowed ? 'block' : 'none';\n",
              "\n",
              "      async function convertToInteractive(key) {\n",
              "        const element = document.querySelector('#df-f89ee972-d8f7-4264-a142-dd1101714231');\n",
              "        const dataTable =\n",
              "          await google.colab.kernel.invokeFunction('convertToInteractive',\n",
              "                                                    [key], {});\n",
              "        if (!dataTable) return;\n",
              "\n",
              "        const docLinkHtml = 'Like what you see? Visit the ' +\n",
              "          '<a target=\"_blank\" href=https://colab.research.google.com/notebooks/data_table.ipynb>data table notebook</a>'\n",
              "          + ' to learn more about interactive tables.';\n",
              "        element.innerHTML = '';\n",
              "        dataTable['output_type'] = 'display_data';\n",
              "        await google.colab.output.renderOutput(dataTable, element);\n",
              "        const docLink = document.createElement('div');\n",
              "        docLink.innerHTML = docLinkHtml;\n",
              "        element.appendChild(docLink);\n",
              "      }\n",
              "    </script>\n",
              "  </div>\n",
              "\n",
              "\n",
              "<div id=\"df-b9eddcfa-aa5b-4da0-92cd-bae078d0f264\">\n",
              "  <button class=\"colab-df-quickchart\" onclick=\"quickchart('df-b9eddcfa-aa5b-4da0-92cd-bae078d0f264')\"\n",
              "            title=\"Suggest charts\"\n",
              "            style=\"display:none;\">\n",
              "\n",
              "<svg xmlns=\"http://www.w3.org/2000/svg\" height=\"24px\"viewBox=\"0 0 24 24\"\n",
              "     width=\"24px\">\n",
              "    <g>\n",
              "        <path d=\"M19 3H5c-1.1 0-2 .9-2 2v14c0 1.1.9 2 2 2h14c1.1 0 2-.9 2-2V5c0-1.1-.9-2-2-2zM9 17H7v-7h2v7zm4 0h-2V7h2v10zm4 0h-2v-4h2v4z\"/>\n",
              "    </g>\n",
              "</svg>\n",
              "  </button>\n",
              "\n",
              "<style>\n",
              "  .colab-df-quickchart {\n",
              "      --bg-color: #E8F0FE;\n",
              "      --fill-color: #1967D2;\n",
              "      --hover-bg-color: #E2EBFA;\n",
              "      --hover-fill-color: #174EA6;\n",
              "      --disabled-fill-color: #AAA;\n",
              "      --disabled-bg-color: #DDD;\n",
              "  }\n",
              "\n",
              "  [theme=dark] .colab-df-quickchart {\n",
              "      --bg-color: #3B4455;\n",
              "      --fill-color: #D2E3FC;\n",
              "      --hover-bg-color: #434B5C;\n",
              "      --hover-fill-color: #FFFFFF;\n",
              "      --disabled-bg-color: #3B4455;\n",
              "      --disabled-fill-color: #666;\n",
              "  }\n",
              "\n",
              "  .colab-df-quickchart {\n",
              "    background-color: var(--bg-color);\n",
              "    border: none;\n",
              "    border-radius: 50%;\n",
              "    cursor: pointer;\n",
              "    display: none;\n",
              "    fill: var(--fill-color);\n",
              "    height: 32px;\n",
              "    padding: 0;\n",
              "    width: 32px;\n",
              "  }\n",
              "\n",
              "  .colab-df-quickchart:hover {\n",
              "    background-color: var(--hover-bg-color);\n",
              "    box-shadow: 0 1px 2px rgba(60, 64, 67, 0.3), 0 1px 3px 1px rgba(60, 64, 67, 0.15);\n",
              "    fill: var(--button-hover-fill-color);\n",
              "  }\n",
              "\n",
              "  .colab-df-quickchart-complete:disabled,\n",
              "  .colab-df-quickchart-complete:disabled:hover {\n",
              "    background-color: var(--disabled-bg-color);\n",
              "    fill: var(--disabled-fill-color);\n",
              "    box-shadow: none;\n",
              "  }\n",
              "\n",
              "  .colab-df-spinner {\n",
              "    border: 2px solid var(--fill-color);\n",
              "    border-color: transparent;\n",
              "    border-bottom-color: var(--fill-color);\n",
              "    animation:\n",
              "      spin 1s steps(1) infinite;\n",
              "  }\n",
              "\n",
              "  @keyframes spin {\n",
              "    0% {\n",
              "      border-color: transparent;\n",
              "      border-bottom-color: var(--fill-color);\n",
              "      border-left-color: var(--fill-color);\n",
              "    }\n",
              "    20% {\n",
              "      border-color: transparent;\n",
              "      border-left-color: var(--fill-color);\n",
              "      border-top-color: var(--fill-color);\n",
              "    }\n",
              "    30% {\n",
              "      border-color: transparent;\n",
              "      border-left-color: var(--fill-color);\n",
              "      border-top-color: var(--fill-color);\n",
              "      border-right-color: var(--fill-color);\n",
              "    }\n",
              "    40% {\n",
              "      border-color: transparent;\n",
              "      border-right-color: var(--fill-color);\n",
              "      border-top-color: var(--fill-color);\n",
              "    }\n",
              "    60% {\n",
              "      border-color: transparent;\n",
              "      border-right-color: var(--fill-color);\n",
              "    }\n",
              "    80% {\n",
              "      border-color: transparent;\n",
              "      border-right-color: var(--fill-color);\n",
              "      border-bottom-color: var(--fill-color);\n",
              "    }\n",
              "    90% {\n",
              "      border-color: transparent;\n",
              "      border-bottom-color: var(--fill-color);\n",
              "    }\n",
              "  }\n",
              "</style>\n",
              "\n",
              "  <script>\n",
              "    async function quickchart(key) {\n",
              "      const quickchartButtonEl =\n",
              "        document.querySelector('#' + key + ' button');\n",
              "      quickchartButtonEl.disabled = true;  // To prevent multiple clicks.\n",
              "      quickchartButtonEl.classList.add('colab-df-spinner');\n",
              "      try {\n",
              "        const charts = await google.colab.kernel.invokeFunction(\n",
              "            'suggestCharts', [key], {});\n",
              "      } catch (error) {\n",
              "        console.error('Error during call to suggestCharts:', error);\n",
              "      }\n",
              "      quickchartButtonEl.classList.remove('colab-df-spinner');\n",
              "      quickchartButtonEl.classList.add('colab-df-quickchart-complete');\n",
              "    }\n",
              "    (() => {\n",
              "      let quickchartButtonEl =\n",
              "        document.querySelector('#df-b9eddcfa-aa5b-4da0-92cd-bae078d0f264 button');\n",
              "      quickchartButtonEl.style.display =\n",
              "        google.colab.kernel.accessAllowed ? 'block' : 'none';\n",
              "    })();\n",
              "  </script>\n",
              "</div>\n",
              "\n",
              "    </div>\n",
              "  </div>\n"
            ],
            "application/vnd.google.colaboratory.intrinsic+json": {
              "type": "dataframe",
              "variable_name": "gdf"
            }
          },
          "metadata": {},
          "execution_count": 6
        }
      ],
      "source": [
        "gdf = leafmap.maxar_items(\n",
        "    collection_id=\"Kahramanmaras-turkey-earthquake-23\",\n",
        "    child_id=\"1050050044DE7E00\",\n",
        "    return_gdf=True,\n",
        "    assets=[\"visual\"],\n",
        ")\n",
        "gdf.head()"
      ]
    },
    {
      "cell_type": "markdown",
      "id": "10",
      "metadata": {
        "id": "10"
      },
      "source": [
        "Add the footprints to the map:"
      ]
    },
    {
      "cell_type": "code",
      "execution_count": 7,
      "id": "11",
      "metadata": {
        "id": "11",
        "outputId": "b60b8427-5fd6-431f-af42-4d8b4509a85e",
        "colab": {
          "base_uri": "https://localhost:8080/",
          "height": 621,
          "referenced_widgets": [
            "b81b12577f4f4d48a8aeb0382e864c7b",
            "9c56585f617247548f0511a3f495a162",
            "cd24ec5eb5a1449e9f51b24bec0a8010",
            "7218eb5dae7f411491a81fefe53b5178",
            "e20b096f89064483894747166fd12f40",
            "e280bd120ef941b8980e860b48996a14",
            "aa114ad6077446c4b0207db944ded9db",
            "a151d13dd8fe415897f4dc5ca267fc3e",
            "93858a9f4cca42229e09eb29f6be6fcf",
            "895d97c2b3bd4988a56605b775194b20",
            "9681b454429e4220aa752cbe491b85a7",
            "1e8013a7320e483fb12ee598e32dfe94",
            "0c540a687b97466bb0cf8bc2fa488835",
            "a0498b0388a64d4597ec7295716b0c5b",
            "9bf185ad2ce34009ae2dfa039adab33c",
            "f219a1f0257440d0ad2cb76b2bb31cd2",
            "f34e285cc89f4050ad5db6cb52863dd6",
            "412e8fac636246828faa54c1ad7c2753",
            "e9a9c3dc4fb9477c806c0122c7d39230",
            "f150128540484c81850667f4dfb261d2",
            "3c2ce9f2b01f47ba88e9ec53587cb268",
            "6ab4e2513c914d0886b69d3c6d781d15",
            "3cc6ae07d3c14bd385414983a8a5b092",
            "f45555820bad4ae3a45a6d479e0aeb33",
            "8e6b3509ad1d4022a56bcc27f1cec6b3",
            "a3c213020c3a45a4a9183199feb0d84a",
            "b8129f30548249c199eba57b393e2236",
            "29ac7a88e89648298bf0d76d0f840cbb",
            "164da2a197f14160b04123c9d96a02d5",
            "079d7155e22c4728ad0ada75a4c032a8",
            "30d4be09e3f84b98b0070d8c52cb3bf8",
            "99c517c4de8f4a60b190c6e81d0c52ef"
          ]
        }
      },
      "outputs": [
        {
          "output_type": "display_data",
          "data": {
            "text/plain": [
              "Map(center=[20, 0], controls=(ZoomControl(options=['position', 'zoom_in_text', 'zoom_in_title', 'zoom_out_text…"
            ],
            "application/vnd.jupyter.widget-view+json": {
              "version_major": 2,
              "version_minor": 0,
              "model_id": "b81b12577f4f4d48a8aeb0382e864c7b"
            }
          },
          "metadata": {
            "application/vnd.jupyter.widget-view+json": {
              "colab": {
                "custom_widget_manager": {
                  "url": "https://ssl.gstatic.com/colaboratory-static/widgets/colab-cdn-widget-manager/2b70e893a8ba7c0f/manager.min.js"
                }
              }
            }
          }
        }
      ],
      "source": [
        "m = leafmap.Map()\n",
        "m.add_gdf(gdf, layer_name=\"Footprints\")\n",
        "m"
      ]
    },
    {
      "cell_type": "markdown",
      "id": "12",
      "metadata": {
        "id": "12"
      },
      "source": [
        "Retrieve the COG URLs for all tiles in a collection:"
      ]
    },
    {
      "cell_type": "code",
      "execution_count": 8,
      "id": "13",
      "metadata": {
        "id": "13",
        "outputId": "f415e870-03c0-4758-e4ec-40c0c3c80927",
        "colab": {
          "base_uri": "https://localhost:8080/"
        }
      },
      "outputs": [
        {
          "output_type": "execute_result",
          "data": {
            "text/plain": [
              "['https://maxar-opendata.s3.amazonaws.com/events/Kahramanmaras-turkey-earthquake-23/ard/37/031133010322/2023-02-07/1050050044DE7E00-visual.tif',\n",
              " 'https://maxar-opendata.s3.amazonaws.com/events/Kahramanmaras-turkey-earthquake-23/ard/37/031133010323/2023-02-07/1050050044DE7E00-visual.tif',\n",
              " 'https://maxar-opendata.s3.amazonaws.com/events/Kahramanmaras-turkey-earthquake-23/ard/37/031133010332/2023-02-07/1050050044DE7E00-visual.tif',\n",
              " 'https://maxar-opendata.s3.amazonaws.com/events/Kahramanmaras-turkey-earthquake-23/ard/37/031133010333/2023-02-07/1050050044DE7E00-visual.tif',\n",
              " 'https://maxar-opendata.s3.amazonaws.com/events/Kahramanmaras-turkey-earthquake-23/ard/37/031133011222/2023-02-07/1050050044DE7E00-visual.tif']"
            ]
          },
          "metadata": {},
          "execution_count": 8
        }
      ],
      "source": [
        "images = gdf[\"visual\"].tolist()\n",
        "images[:5]"
      ]
    },
    {
      "cell_type": "markdown",
      "id": "14",
      "metadata": {
        "id": "14"
      },
      "source": [
        "Create a mosaic json file for the collection. You need to install `cogeo-mosaic` first using `pip install cogeo-mosaic`. Creating a mosaic json file might take a few minutes. Please be patient."
      ]
    },
    {
      "cell_type": "code",
      "execution_count": 9,
      "id": "15",
      "metadata": {
        "id": "15",
        "outputId": "7b5cafbc-b89b-4f82-f8ad-5a859c03e2b4",
        "colab": {
          "base_uri": "https://localhost:8080/"
        }
      },
      "outputs": [
        {
          "output_type": "stream",
          "name": "stderr",
          "text": [
            "INFO:rasterio.session:boto3 not available, falling back to a DummySession.\n",
            "INFO:rasterio.session:boto3 not available, falling back to a DummySession.\n",
            "INFO:rasterio.session:boto3 not available, falling back to a DummySession.\n",
            "INFO:rasterio.session:boto3 not available, falling back to a DummySession.\n",
            "INFO:rasterio.session:boto3 not available, falling back to a DummySession.\n",
            "INFO:rasterio.session:boto3 not available, falling back to a DummySession.\n",
            "INFO:rasterio.session:boto3 not available, falling back to a DummySession.\n",
            "INFO:rasterio.session:boto3 not available, falling back to a DummySession.\n",
            "INFO:rasterio.session:boto3 not available, falling back to a DummySession.\n",
            "INFO:rasterio.session:boto3 not available, falling back to a DummySession.\n",
            "INFO:rasterio.session:boto3 not available, falling back to a DummySession.\n",
            "INFO:rasterio.session:boto3 not available, falling back to a DummySession.\n",
            "INFO:rasterio.session:boto3 not available, falling back to a DummySession.\n",
            "INFO:rasterio.session:boto3 not available, falling back to a DummySession.\n",
            "INFO:rasterio.session:boto3 not available, falling back to a DummySession.\n",
            "INFO:rasterio.session:boto3 not available, falling back to a DummySession.\n",
            "INFO:rasterio.session:boto3 not available, falling back to a DummySession.\n",
            "INFO:rasterio.session:boto3 not available, falling back to a DummySession.\n",
            "INFO:rasterio.session:boto3 not available, falling back to a DummySession.\n",
            "INFO:rasterio.session:boto3 not available, falling back to a DummySession.\n",
            "INFO:rasterio.session:boto3 not available, falling back to a DummySession.\n",
            "INFO:rasterio.session:boto3 not available, falling back to a DummySession.\n",
            "INFO:rasterio.session:boto3 not available, falling back to a DummySession.\n",
            "INFO:rasterio.session:boto3 not available, falling back to a DummySession.\n",
            "INFO:rasterio.session:boto3 not available, falling back to a DummySession.\n",
            "INFO:rasterio.session:boto3 not available, falling back to a DummySession.\n",
            "INFO:rasterio.session:boto3 not available, falling back to a DummySession.\n",
            "INFO:rasterio.session:boto3 not available, falling back to a DummySession.\n",
            "INFO:rasterio.session:boto3 not available, falling back to a DummySession.\n",
            "INFO:rasterio.session:boto3 not available, falling back to a DummySession.\n",
            "INFO:rasterio.session:boto3 not available, falling back to a DummySession.\n",
            "INFO:rasterio.session:boto3 not available, falling back to a DummySession.\n",
            "INFO:rasterio.session:boto3 not available, falling back to a DummySession.\n",
            "INFO:rasterio.session:boto3 not available, falling back to a DummySession.\n"
          ]
        }
      ],
      "source": [
        "leafmap.create_mosaicjson(images, output='1050050044DE7E00.json')"
      ]
    },
    {
      "cell_type": "markdown",
      "id": "16",
      "metadata": {
        "id": "16"
      },
      "source": [
        "Make the mosaic json file available on the web, then you can add the mosaic to the map:"
      ]
    },
    {
      "cell_type": "code",
      "execution_count": 10,
      "id": "17",
      "metadata": {
        "id": "17",
        "outputId": "b01e2fc6-af88-4e00-c221-50f2af65dae3",
        "colab": {
          "base_uri": "https://localhost:8080/",
          "height": 621,
          "referenced_widgets": [
            "88206e7eda1a4d2c8fc888220c24f8d8",
            "fe2937042b9648659ad2f437576b82e2",
            "20d87a160f854ebb967f15dbb6ba9375",
            "41db3a9d47274a7496489dc4afca3c3b",
            "a7b4cb77742c40579410c6bdf055ba0e",
            "44be67f1b59a4b53a7a9a6ec7d02b8eb",
            "0f86f459ce8f4d5f9075759009c33a87",
            "3142c79bb45b4703adc1376094a7f940",
            "5932741a1c074931be5d98dbdfacda7e",
            "384e5420c19c49089d19baaa5d89477a",
            "7e5ac0e34491406aa6a3a170ab7649b4",
            "e2c00469172a43179c61ba7488d87f54",
            "106541e9d36d4eed84e042b031ac6632",
            "03f7198c4c9c4a7ab451b7784566dd01",
            "0506045cd4bf4f3caeb383a32d980afc",
            "b3b99cd9730c422fade5d73dbfd789f7",
            "a20653bee3e34930ac2d8b5f49284c09",
            "706856a33d7d451bab097f2de3b1c53a",
            "f40063c825cb4b5080a3222c46279305",
            "c5049a79b209478c9d5efc9ab187fcd8",
            "4c6f7aa20718452694e4018c873ab079",
            "9afa77bfc6d1452d8aad0e94baa2c81b",
            "a0f7db82fc64454eacf512487a036337",
            "710666970e1b43829f7ba69464abc01e",
            "d548854e869d4c4d9ca968807ebcf24a",
            "60c19fa6c02441a4b1c64f96f98d8f95",
            "77f4feb598644d6983f6ef39fec4d5d2",
            "4e27e7dc66f7417385d595a7968fe281",
            "117294bc5f9a4bd69b0f702751d6a25a",
            "48e40f7b899e4126ae02ead549224090",
            "513edb2e354b4bcd979910cde3313c2a",
            "72bc56c4343b47d9a1a26c0b678a7121",
            "7b8022ab3f6b45beaaa14afc3035aac3"
          ]
        }
      },
      "outputs": [
        {
          "output_type": "display_data",
          "data": {
            "text/plain": [
              "Map(center=[20, 0], controls=(ZoomControl(options=['position', 'zoom_in_text', 'zoom_in_title', 'zoom_out_text…"
            ],
            "application/vnd.jupyter.widget-view+json": {
              "version_major": 2,
              "version_minor": 0,
              "model_id": "88206e7eda1a4d2c8fc888220c24f8d8"
            }
          },
          "metadata": {
            "application/vnd.jupyter.widget-view+json": {
              "colab": {
                "custom_widget_manager": {
                  "url": "https://ssl.gstatic.com/colaboratory-static/widgets/colab-cdn-widget-manager/2b70e893a8ba7c0f/manager.min.js"
                }
              }
            }
          }
        }
      ],
      "source": [
        "m = leafmap.Map()\n",
        "url = \"https://geospatial.glitch.me/1050050044DE7E00.json\"\n",
        "m.add_stac_layer(url, name=\"Mosaic\")\n",
        "m.add_gdf(gdf, layer_name=\"Footprints\")\n",
        "m"
      ]
    },
    {
      "cell_type": "markdown",
      "id": "18",
      "metadata": {
        "id": "18"
      },
      "source": [
        "Retrieve the footprint of all tiles for a specific event. This might take 15+ minutes. Please be patient."
      ]
    }
  ],
  "metadata": {
    "kernelspec": {
      "display_name": "Python 3",
      "language": "python",
      "name": "python3"
    },
    "colab": {
      "provenance": []
    },
    "widgets": {
      "application/vnd.jupyter.widget-state+json": {
        "b81b12577f4f4d48a8aeb0382e864c7b": {
          "model_module": "jupyter-leaflet",
          "model_name": "LeafletMapModel",
          "model_module_version": "^0.18",
          "state": {
            "_dom_classes": [],
            "_model_module": "jupyter-leaflet",
            "_model_module_version": "^0.18",
            "_model_name": "LeafletMapModel",
            "_view_count": null,
            "_view_module": "jupyter-leaflet",
            "_view_module_version": "^0.18",
            "_view_name": "LeafletMapView",
            "bottom": 639,
            "bounce_at_zoom_limits": true,
            "box_zoom": true,
            "center": [
              -50.51152110866068,
              240.11529250982264
            ],
            "close_popup_on_click": true,
            "controls": [
              "IPY_MODEL_9c56585f617247548f0511a3f495a162",
              "IPY_MODEL_cd24ec5eb5a1449e9f51b24bec0a8010",
              "IPY_MODEL_7218eb5dae7f411491a81fefe53b5178",
              "IPY_MODEL_e20b096f89064483894747166fd12f40",
              "IPY_MODEL_e280bd120ef941b8980e860b48996a14",
              "IPY_MODEL_aa114ad6077446c4b0207db944ded9db",
              "IPY_MODEL_a151d13dd8fe415897f4dc5ca267fc3e"
            ],
            "crs": {
              "name": "EPSG3857",
              "custom": false
            },
            "default_style": "IPY_MODEL_93858a9f4cca42229e09eb29f6be6fcf",
            "double_click_zoom": true,
            "dragging": true,
            "dragging_style": "IPY_MODEL_895d97c2b3bd4988a56605b775194b20",
            "east": 726.3281250000001,
            "fullscreen": false,
            "inertia": true,
            "inertia_deceleration": 3000,
            "inertia_max_speed": 1500,
            "interpolation": "bilinear",
            "keyboard": true,
            "keyboard_pan_offset": 80,
            "keyboard_zoom_offset": 1,
            "layers": [
              "IPY_MODEL_9681b454429e4220aa752cbe491b85a7",
              "IPY_MODEL_1e8013a7320e483fb12ee598e32dfe94"
            ],
            "layout": "IPY_MODEL_0c540a687b97466bb0cf8bc2fa488835",
            "left": -94,
            "max_zoom": 24,
            "min_zoom": null,
            "modisdate": "2024-04-10",
            "north": 82.02137801950887,
            "options": [
              "bounce_at_zoom_limits",
              "box_zoom",
              "center",
              "close_popup_on_click",
              "double_click_zoom",
              "dragging",
              "fullscreen",
              "inertia",
              "inertia_deceleration",
              "inertia_max_speed",
              "interpolation",
              "keyboard",
              "keyboard_pan_offset",
              "keyboard_zoom_offset",
              "max_zoom",
              "min_zoom",
              "prefer_canvas",
              "scroll_wheel_zoom",
              "tap",
              "tap_tolerance",
              "touch_zoom",
              "world_copy_jump",
              "zoom",
              "zoom_animation_threshold",
              "zoom_delta",
              "zoom_snap"
            ],
            "panes": {},
            "prefer_canvas": false,
            "right": 1289,
            "scroll_wheel_zoom": true,
            "south": -88.9579088200246,
            "style": "IPY_MODEL_93858a9f4cca42229e09eb29f6be6fcf",
            "tap": true,
            "tap_tolerance": 15,
            "top": 39,
            "touch_zoom": true,
            "west": -246.09375000000003,
            "window_url": "https://dq4j6onoz6-496ff2e9c6d22116-0-colab.googleusercontent.com/outputframe.html?vrz=colab_20240410-060226_RC01_623688093",
            "world_copy_jump": false,
            "zoom": 1,
            "zoom_animation_threshold": 4,
            "zoom_delta": 1,
            "zoom_snap": 1
          }
        },
        "9c56585f617247548f0511a3f495a162": {
          "model_module": "jupyter-leaflet",
          "model_name": "LeafletZoomControlModel",
          "model_module_version": "^0.18",
          "state": {
            "_model_module": "jupyter-leaflet",
            "_model_module_version": "^0.18",
            "_model_name": "LeafletZoomControlModel",
            "_view_count": null,
            "_view_module": "jupyter-leaflet",
            "_view_module_version": "^0.18",
            "_view_name": "LeafletZoomControlView",
            "options": [
              "position",
              "zoom_in_text",
              "zoom_in_title",
              "zoom_out_text",
              "zoom_out_title"
            ],
            "position": "topleft",
            "zoom_in_text": "+",
            "zoom_in_title": "Zoom in",
            "zoom_out_text": "-",
            "zoom_out_title": "Zoom out"
          }
        },
        "cd24ec5eb5a1449e9f51b24bec0a8010": {
          "model_module": "jupyter-leaflet",
          "model_name": "LeafletAttributionControlModel",
          "model_module_version": "^0.18",
          "state": {
            "_model_module": "jupyter-leaflet",
            "_model_module_version": "^0.18",
            "_model_name": "LeafletAttributionControlModel",
            "_view_count": null,
            "_view_module": "jupyter-leaflet",
            "_view_module_version": "^0.18",
            "_view_name": "LeafletAttributionControlView",
            "options": [
              "position",
              "prefix"
            ],
            "position": "bottomright",
            "prefix": "ipyleaflet"
          }
        },
        "7218eb5dae7f411491a81fefe53b5178": {
          "model_module": "jupyter-leaflet",
          "model_name": "LeafletFullScreenControlModel",
          "model_module_version": "^0.18",
          "state": {
            "_model_module": "jupyter-leaflet",
            "_model_module_version": "^0.18",
            "_model_name": "LeafletFullScreenControlModel",
            "_view_count": null,
            "_view_module": "jupyter-leaflet",
            "_view_module_version": "^0.18",
            "_view_name": "LeafletFullScreenControlView",
            "options": [
              "position"
            ],
            "position": "topleft"
          }
        },
        "e20b096f89064483894747166fd12f40": {
          "model_module": "jupyter-leaflet",
          "model_name": "LeafletDrawControlModel",
          "model_module_version": "^0.18",
          "state": {
            "_model_module": "jupyter-leaflet",
            "_model_module_version": "^0.18",
            "_model_name": "LeafletDrawControlModel",
            "_view_count": null,
            "_view_module": "jupyter-leaflet",
            "_view_module_version": "^0.18",
            "_view_name": "LeafletDrawControlView",
            "circle": {
              "shapeOptions": {
                "color": "#3388ff"
              },
              "repeatMode": false
            },
            "circlemarker": {},
            "data": [],
            "edit": true,
            "marker": {
              "shapeOptions": {
                "color": "#3388ff"
              },
              "repeatMode": false
            },
            "options": [
              "position"
            ],
            "polygon": {
              "repeatMode": false
            },
            "polyline": {
              "repeatMode": false
            },
            "position": "topleft",
            "rectangle": {
              "shapeOptions": {
                "color": "#3388ff"
              },
              "repeatMode": false
            },
            "remove": true
          }
        },
        "e280bd120ef941b8980e860b48996a14": {
          "model_module": "jupyter-leaflet",
          "model_name": "LeafletScaleControlModel",
          "model_module_version": "^0.18",
          "state": {
            "_model_module": "jupyter-leaflet",
            "_model_module_version": "^0.18",
            "_model_name": "LeafletScaleControlModel",
            "_view_count": null,
            "_view_module": "jupyter-leaflet",
            "_view_module_version": "^0.18",
            "_view_name": "LeafletScaleControlView",
            "imperial": true,
            "max_width": 100,
            "metric": true,
            "options": [
              "imperial",
              "max_width",
              "metric",
              "position",
              "update_when_idle"
            ],
            "position": "bottomleft",
            "update_when_idle": false
          }
        },
        "aa114ad6077446c4b0207db944ded9db": {
          "model_module": "jupyter-leaflet",
          "model_name": "LeafletWidgetControlModel",
          "model_module_version": "^0.18",
          "state": {
            "_model_module": "jupyter-leaflet",
            "_model_module_version": "^0.18",
            "_model_name": "LeafletWidgetControlModel",
            "_view_count": null,
            "_view_module": "jupyter-leaflet",
            "_view_module_version": "^0.18",
            "_view_name": "LeafletWidgetControlView",
            "max_height": null,
            "max_width": null,
            "min_height": null,
            "min_width": null,
            "options": [
              "position",
              "transparent_bg"
            ],
            "position": "topright",
            "transparent_bg": false,
            "widget": "IPY_MODEL_9bf185ad2ce34009ae2dfa039adab33c"
          }
        },
        "a151d13dd8fe415897f4dc5ca267fc3e": {
          "model_module": "jupyter-leaflet",
          "model_name": "LeafletWidgetControlModel",
          "model_module_version": "^0.18",
          "state": {
            "_model_module": "jupyter-leaflet",
            "_model_module_version": "^0.18",
            "_model_name": "LeafletWidgetControlModel",
            "_view_count": null,
            "_view_module": "jupyter-leaflet",
            "_view_module_version": "^0.18",
            "_view_name": "LeafletWidgetControlView",
            "max_height": null,
            "max_width": null,
            "min_height": null,
            "min_width": null,
            "options": [
              "position",
              "transparent_bg"
            ],
            "position": "bottomright",
            "transparent_bg": false,
            "widget": "IPY_MODEL_f219a1f0257440d0ad2cb76b2bb31cd2"
          }
        },
        "93858a9f4cca42229e09eb29f6be6fcf": {
          "model_module": "jupyter-leaflet",
          "model_name": "LeafletMapStyleModel",
          "model_module_version": "^0.18",
          "state": {
            "_model_module": "jupyter-leaflet",
            "_model_module_version": "^0.18",
            "_model_name": "LeafletMapStyleModel",
            "_view_count": null,
            "_view_module": "@jupyter-widgets/base",
            "_view_module_version": "1.2.0",
            "_view_name": "StyleView",
            "cursor": "grab"
          }
        },
        "895d97c2b3bd4988a56605b775194b20": {
          "model_module": "jupyter-leaflet",
          "model_name": "LeafletMapStyleModel",
          "model_module_version": "^0.18",
          "state": {
            "_model_module": "jupyter-leaflet",
            "_model_module_version": "^0.18",
            "_model_name": "LeafletMapStyleModel",
            "_view_count": null,
            "_view_module": "@jupyter-widgets/base",
            "_view_module_version": "1.2.0",
            "_view_name": "StyleView",
            "cursor": "move"
          }
        },
        "9681b454429e4220aa752cbe491b85a7": {
          "model_module": "jupyter-leaflet",
          "model_name": "LeafletTileLayerModel",
          "model_module_version": "^0.18",
          "state": {
            "_model_module": "jupyter-leaflet",
            "_model_module_version": "^0.18",
            "_model_name": "LeafletTileLayerModel",
            "_view_count": null,
            "_view_module": "jupyter-leaflet",
            "_view_module_version": "^0.18",
            "_view_name": "LeafletTileLayerView",
            "attribution": "&copy; <a href=\"https://www.openstreetmap.org/copyright\">OpenStreetMap</a> contributors",
            "base": true,
            "bottom": true,
            "bounds": null,
            "detect_retina": false,
            "loading": false,
            "max_native_zoom": null,
            "max_zoom": 19,
            "min_native_zoom": null,
            "min_zoom": 1,
            "name": "OpenStreetMap",
            "no_wrap": false,
            "opacity": 1,
            "options": [
              "attribution",
              "bounds",
              "detect_retina",
              "max_native_zoom",
              "max_zoom",
              "min_native_zoom",
              "min_zoom",
              "no_wrap",
              "tile_size",
              "tms",
              "zoom_offset"
            ],
            "pane": "",
            "popup": null,
            "popup_max_height": null,
            "popup_max_width": 300,
            "popup_min_width": 50,
            "show_loading": false,
            "subitems": [],
            "tile_size": 256,
            "tms": false,
            "url": "https://tile.openstreetmap.org/{z}/{x}/{y}.png",
            "visible": true,
            "zoom_offset": 0
          }
        },
        "1e8013a7320e483fb12ee598e32dfe94": {
          "model_module": "jupyter-leaflet",
          "model_name": "LeafletGeoJSONModel",
          "model_module_version": "^0.18",
          "state": {
            "_model_module": "jupyter-leaflet",
            "_model_module_version": "^0.18",
            "_model_name": "LeafletGeoJSONModel",
            "_view_count": null,
            "_view_module": "jupyter-leaflet",
            "_view_module_version": "^0.18",
            "_view_name": "LeafletGeoJSONView",
            "base": false,
            "bottom": false,
            "data": {
              "type": "FeatureCollection",
              "features": [
                {
                  "id": "0",
                  "type": "Feature",
                  "properties": {
                    "datetime": "2023-02-07T08:39:03Z",
                    "platform": "GE01",
                    "gsd": 0.46,
                    "ard_metadata_version": "0.0.1",
                    "catalog_id": "1050050044DE7E00",
                    "utm_zone": 37,
                    "quadkey": "031133010322",
                    "view:off_nadir": 20.8,
                    "view:azimuth": 312.2,
                    "view:incidence_angle": 66.9,
                    "view:sun_azimuth": 159.7,
                    "view:sun_elevation": 35.2,
                    "proj:epsg": 32637,
                    "proj:geometry": {
                      "type": "Polygon",
                      "coordinates": [
                        [
                          [
                            284487.9150390625,
                            4122282.1044921875
                          ],
                          [
                            284683.837890625,
                            4122277.83203125
                          ],
                          [
                            285156.25,
                            4122243.3471679688
                          ],
                          [
                            285156.25,
                            4119843.75
                          ],
                          [
                            284419.5556640625,
                            4119843.75
                          ],
                          [
                            284445.1904296875,
                            4120731.5063476562
                          ],
                          [
                            284431.7626953125,
                            4121143.798828125
                          ],
                          [
                            284447.021484375,
                            4121339.7216796875
                          ],
                          [
                            284443.05419921875,
                            4121493.2250976562
                          ],
                          [
                            284461.36474609375,
                            4121899.1088867188
                          ],
                          [
                            284487.9150390625,
                            4122282.1044921875
                          ]
                        ]
                      ]
                    },
                    "grid:code": "MXRA-Z37-031133010322",
                    "proj:bbox": "284419.5556640625,4119843.75,285156.25,4122282.1044921875",
                    "tile:data_area": 1.7,
                    "tile:clouds_area": 0.4,
                    "tile:clouds_percent": 26,
                    "visual": "https://maxar-opendata.s3.amazonaws.com/events/Kahramanmaras-turkey-earthquake-23/ard/37/031133010322/2023-02-07/1050050044DE7E00-visual.tif",
                    "style": {
                      "color": "black",
                      "fillColor": "black"
                    }
                  },
                  "geometry": {
                    "type": "Polygon",
                    "coordinates": [
                      [
                        [
                          36.570975787937265,
                          37.222160180383206
                        ],
                        [
                          36.57318344842727,
                          37.2221669589583
                        ],
                        [
                          36.578513570135016,
                          37.22196534122829
                        ],
                        [
                          36.57920447602127,
                          37.20035447470807
                        ],
                        [
                          36.57091041624839,
                          37.20018459898955
                        ],
                        [
                          36.57094265862702,
                          37.20818565177471
                        ],
                        [
                          36.5706723643652,
                          37.2118956501803
                        ],
                        [
                          36.57078757912559,
                          37.21366365381059
                        ],
                        [
                          36.57069855216751,
                          37.21515244420553
                        ],
                        [
                          36.570787467882965,
                          37.21870479705271
                        ],
                        [
                          36.57098144965415,
                          37.221233474519785
                        ],
                        [
                          36.570975787937265,
                          37.222160180383206
                        ]
                      ]
                    ]
                  },
                  "bbox": [
                    36.5706723643652,
                    37.20018459898955,
                    36.57920447602127,
                    37.2221669589583
                  ]
                },
                {
                  "id": "1",
                  "type": "Feature",
                  "properties": {
                    "datetime": "2023-02-07T08:39:03Z",
                    "platform": "GE01",
                    "gsd": 0.46,
                    "ard_metadata_version": "0.0.1",
                    "catalog_id": "1050050044DE7E00",
                    "utm_zone": 37,
                    "quadkey": "031133010323",
                    "view:off_nadir": 20.7,
                    "view:azimuth": 311.7,
                    "view:incidence_angle": 66.9,
                    "view:sun_azimuth": 159.7,
                    "view:sun_elevation": 35.2,
                    "proj:epsg": 32637,
                    "proj:geometry": {
                      "type": "Polygon",
                      "coordinates": [
                        [
                          [
                            284843.75,
                            4122264.0991210938
                          ],
                          [
                            284843.75,
                            4119843.75
                          ],
                          [
                            290156.25,
                            4119843.75
                          ],
                          [
                            290156.25,
                            4121743.1640625
                          ],
                          [
                            289952.69775390625,
                            4121748.6572265625
                          ],
                          [
                            289669.189453125,
                            4121820.3735351562
                          ],
                          [
                            289112.24365234375,
                            4121830.4443359375
                          ],
                          [
                            288835.44921875,
                            4121870.4223632812
                          ],
                          [
                            288029.47998046875,
                            4121893.6157226562
                          ],
                          [
                            287723.9990234375,
                            4121945.4956054688
                          ],
                          [
                            287469.482421875,
                            4121965.33203125
                          ],
                          [
                            287189.63623046875,
                            4122034.912109375
                          ],
                          [
                            286969.6044921875,
                            4122053.5278320312
                          ],
                          [
                            286717.22412109375,
                            4122111.81640625
                          ],
                          [
                            286407.77587890625,
                            4122122.4975585938
                          ],
                          [
                            286073.91357421875,
                            4122190.8569335938
                          ],
                          [
                            284843.75,
                            4122264.0991210938
                          ]
                        ]
                      ]
                    },
                    "grid:code": "MXRA-Z37-031133010323",
                    "proj:bbox": "284843.75,4119843.75,290156.25,4122264.0991210938",
                    "tile:data_area": 11.4,
                    "tile:clouds_area": 2.1,
                    "tile:clouds_percent": 18,
                    "visual": "https://maxar-opendata.s3.amazonaws.com/events/Kahramanmaras-turkey-earthquake-23/ard/37/031133010323/2023-02-07/1050050044DE7E00-visual.tif",
                    "style": {
                      "color": "black",
                      "fillColor": "black"
                    }
                  },
                  "geometry": {
                    "type": "Polygon",
                    "coordinates": [
                      [
                        [
                          36.57498829743425,
                          37.22208018808955
                        ],
                        [
                          36.575686191963385,
                          37.20028248558779
                        ],
                        [
                          36.63549870823818,
                          37.20149210546009
                        ],
                        [
                          36.634964565758715,
                          37.21859901173318
                        ],
                        [
                          36.63267067729961,
                          37.21860266537972
                        ],
                        [
                          36.629457679069056,
                          37.21918467629968
                        ],
                        [
                          36.62318267161057,
                          37.219149609337116
                        ],
                        [
                          36.620054186503836,
                          37.219447034910544
                        ],
                        [
                          36.61097104953142,
                          37.21947308929613
                        ],
                        [
                          36.60751607574589,
                          37.21987085164137
                        ],
                        [
                          36.604644147130294,
                          37.21999153751847
                        ],
                        [
                          36.60147276674302,
                          37.22055437396929
                        ],
                        [
                          36.59898951782077,
                          37.22067179583933
                        ],
                        [
                          36.5961306178358,
                          37.22113906712239
                        ],
                        [
                          36.59264263372485,
                          37.22116444140616
                        ],
                        [
                          36.58886316439615,
                          37.22170356808865
                        ],
                        [
                          36.57498829743425,
                          37.22208018808955
                        ]
                      ]
                    ]
                  },
                  "bbox": [
                    36.57498829743425,
                    37.20028248558779,
                    36.63549870823818,
                    37.22208018808955
                  ]
                },
                {
                  "id": "2",
                  "type": "Feature",
                  "properties": {
                    "datetime": "2023-02-07T08:39:03Z",
                    "platform": "GE01",
                    "gsd": 0.47,
                    "ard_metadata_version": "0.0.1",
                    "catalog_id": "1050050044DE7E00",
                    "utm_zone": 37,
                    "quadkey": "031133010332",
                    "view:off_nadir": 21,
                    "view:azimuth": 311.1,
                    "view:incidence_angle": 66.6,
                    "view:sun_azimuth": 159.7,
                    "view:sun_elevation": 35.2,
                    "proj:epsg": 32637,
                    "proj:geometry": {
                      "type": "Polygon",
                      "coordinates": [
                        [
                          [
                            289843.75,
                            4121777.34375
                          ],
                          [
                            289843.75,
                            4119843.75
                          ],
                          [
                            295156.25,
                            4119843.75
                          ],
                          [
                            295155.6396484375,
                            4121235.6567382812
                          ],
                          [
                            289843.75,
                            4121777.34375
                          ]
                        ]
                      ]
                    },
                    "grid:code": "MXRA-Z37-031133010332",
                    "proj:bbox": "289843.75,4119843.75,295156.25,4121777.34375",
                    "tile:data_area": 8.8,
                    "tile:clouds_area": 0.7,
                    "tile:clouds_percent": 8,
                    "visual": "https://maxar-opendata.s3.amazonaws.com/events/Kahramanmaras-turkey-earthquake-23/ard/37/031133010332/2023-02-07/1050050044DE7E00-visual.tif",
                    "style": {
                      "color": "black",
                      "fillColor": "black"
                    }
                  },
                  "geometry": {
                    "type": "Polygon",
                    "coordinates": [
                      [
                        [
                          36.63143566067438,
                          37.21883648441061
                        ],
                        [
                          36.631980226399016,
                          37.201421786405795
                        ],
                        [
                          36.691796065591966,
                          37.20260301269083
                        ],
                        [
                          36.69140711016489,
                          37.21513947184079
                        ],
                        [
                          36.63143566067438,
                          37.21883648441061
                        ]
                      ]
                    ]
                  },
                  "bbox": [
                    36.63143566067438,
                    37.201421786405795,
                    36.691796065591966,
                    37.21883648441061
                  ]
                },
                {
                  "id": "3",
                  "type": "Feature",
                  "properties": {
                    "datetime": "2023-02-07T08:39:03Z",
                    "platform": "GE01",
                    "gsd": 0.47,
                    "ard_metadata_version": "0.0.1",
                    "catalog_id": "1050050044DE7E00",
                    "utm_zone": 37,
                    "quadkey": "031133010333",
                    "view:off_nadir": 21.3,
                    "view:azimuth": 310.5,
                    "view:incidence_angle": 66.2,
                    "view:sun_azimuth": 159.7,
                    "view:sun_elevation": 35.2,
                    "proj:epsg": 32637,
                    "proj:geometry": {
                      "type": "Polygon",
                      "coordinates": [
                        [
                          [
                            294843.75,
                            4121247.55859375
                          ],
                          [
                            294843.75,
                            4119843.75
                          ],
                          [
                            300156.25,
                            4119843.75
                          ],
                          [
                            300155.33447265625,
                            4120462.646484375
                          ],
                          [
                            299011.8408203125,
                            4120608.8256835938
                          ],
                          [
                            298584.89990234375,
                            4120691.2231445312
                          ],
                          [
                            298392.9443359375,
                            4120712.5854492188
                          ],
                          [
                            298033.447265625,
                            4120794.3725585938
                          ],
                          [
                            297568.359375,
                            4120822.1435546875
                          ],
                          [
                            297308.04443359375,
                            4120887.451171875
                          ],
                          [
                            297005.615234375,
                            4120898.4375
                          ],
                          [
                            296583.8623046875,
                            4120940.2465820312
                          ],
                          [
                            296251.220703125,
                            4121000.9765625
                          ],
                          [
                            295773.92578125,
                            4121119.6899414062
                          ],
                          [
                            295255.7373046875,
                            4121225.2807617188
                          ],
                          [
                            294843.75,
                            4121247.55859375
                          ]
                        ]
                      ]
                    },
                    "grid:code": "MXRA-Z37-031133010333",
                    "proj:bbox": "294843.75,4119843.75,300156.25,4121247.55859375",
                    "tile:data_area": 5.3,
                    "tile:clouds_area": 0,
                    "tile:clouds_percent": 0,
                    "visual": "https://maxar-opendata.s3.amazonaws.com/events/Kahramanmaras-turkey-earthquake-23/ard/37/031133010333/2023-02-07/1050050044DE7E00-visual.tif",
                    "style": {
                      "color": "black",
                      "fillColor": "black"
                    }
                  },
                  "geometry": {
                    "type": "Polygon",
                    "coordinates": [
                      [
                        [
                          36.68789145446487,
                          37.21517812313962
                        ],
                        [
                          36.688277390602785,
                          37.202534363991525
                        ],
                        [
                          36.748096473968744,
                          37.20368719183437
                        ],
                        [
                          36.74792043906965,
                          37.20926147953711
                        ],
                        [
                          36.73500402306632,
                          37.21033247948369
                        ],
                        [
                          36.72800645213169,
                          37.21113350424626
                        ],
                        [
                          36.72393590565606,
                          37.211792399159656
                        ],
                        [
                          36.71869084427307,
                          37.21194172406625
                        ],
                        [
                          36.715741601336006,
                          37.21247342058846
                        ],
                        [
                          36.70757190903283,
                          37.21279131010831
                        ],
                        [
                          36.692537222151635,
                          37.21506799471842
                        ],
                        [
                          36.68789145446487,
                          37.21517812313962
                        ]
                      ]
                    ]
                  },
                  "bbox": [
                    36.68789145446487,
                    37.202534363991525,
                    36.748096473968744,
                    37.21517812313962
                  ]
                },
                {
                  "id": "4",
                  "type": "Feature",
                  "properties": {
                    "datetime": "2023-02-07T08:39:03Z",
                    "platform": "GE01",
                    "gsd": 0.47,
                    "ard_metadata_version": "0.0.1",
                    "catalog_id": "1050050044DE7E00",
                    "utm_zone": 37,
                    "quadkey": "031133011222",
                    "view:off_nadir": 21.5,
                    "view:azimuth": 310.4,
                    "view:incidence_angle": 66,
                    "view:sun_azimuth": 159.7,
                    "view:sun_elevation": 35.2,
                    "proj:epsg": 32637,
                    "proj:geometry": {
                      "type": "Polygon",
                      "coordinates": [
                        [
                          [
                            299843.75,
                            4120507.5073242188
                          ],
                          [
                            299843.75,
                            4119843.75
                          ],
                          [
                            302021.78955078125,
                            4119843.75
                          ],
                          [
                            302023.62060546875,
                            4119976.5014648438
                          ],
                          [
                            302030.6396484375,
                            4120148.0102539062
                          ],
                          [
                            302031.55517578125,
                            4120211.181640625
                          ],
                          [
                            301883.544921875,
                            4120228.5766601562
                          ],
                          [
                            301581.11572265625,
                            4120268.2495117188
                          ],
                          [
                            301185.60791015625,
                            4120328.6743164062
                          ],
                          [
                            301129.7607421875,
                            4120333.8623046875
                          ],
                          [
                            300935.97412109375,
                            4120346.0693359375
                          ],
                          [
                            300822.75390625,
                            4120359.4970703125
                          ],
                          [
                            300600.28076171875,
                            4120391.845703125
                          ],
                          [
                            300521.54541015625,
                            4120406.494140625
                          ],
                          [
                            300421.7529296875,
                            4120422.0581054688
                          ],
                          [
                            300294.7998046875,
                            4120447.6928710938
                          ],
                          [
                            300128.47900390625,
                            4120465.6982421875
                          ],
                          [
                            300044.25048828125,
                            4120477.6000976562
                          ],
                          [
                            299931.640625,
                            4120495.9106445312
                          ],
                          [
                            299843.75,
                            4120507.5073242188
                          ]
                        ]
                      ]
                    },
                    "grid:code": "MXRA-Z37-031133011222",
                    "proj:bbox": "299843.75,4119843.75,302031.55517578125,4120507.5073242188",
                    "tile:data_area": 1.1,
                    "tile:clouds_area": 0.2,
                    "tile:clouds_percent": 25,
                    "visual": "https://maxar-opendata.s3.amazonaws.com/events/Kahramanmaras-turkey-earthquake-23/ard/37/031133011222/2023-02-07/1050050044DE7E00-visual.tif",
                    "style": {
                      "color": "black",
                      "fillColor": "black"
                    }
                  },
                  "geometry": {
                    "type": "Polygon",
                    "coordinates": [
                      [
                        [
                          36.74439959396212,
                          37.209598750548835
                        ],
                        [
                          36.744577610462414,
                          37.2036202137722
                        ],
                        [
                          36.769103368203204,
                          37.20408486010994
                        ],
                        [
                          36.76908877453399,
                          37.20528097652292
                        ],
                        [
                          36.769095822632345,
                          37.20609245508642
                        ],
                        [
                          36.769122320104394,
                          37.2068272909461
                        ],
                        [
                          36.76911587226007,
                          37.207396486538585
                        ],
                        [
                          36.767444498074525,
                          37.20752175095105
                        ],
                        [
                          36.764028269459565,
                          37.20781482612917
                        ],
                        [
                          36.75955832034158,
                          37.208274888996556
                        ],
                        [
                          36.758928034501636,
                          37.208309715790676
                        ],
                        [
                          36.756742519769716,
                          37.20837833999904
                        ],
                        [
                          36.75546394722346,
                          37.20847512204648
                        ],
                        [
                          36.75295000284705,
                          37.2087189701068
                        ],
                        [
                          36.75205943550825,
                          37.20883407976841
                        ],
                        [
                          36.75093149268907,
                          37.20895292464721
                        ],
                        [
                          36.74949499041073,
                          37.20915665426516
                        ],
                        [
                          36.7476171966636,
                          37.20928321410241
                        ],
                        [
                          36.745392460361444,
                          37.20951315013265
                        ],
                        [
                          36.74439959396212,
                          37.209598750548835
                        ]
                      ]
                    ]
                  },
                  "bbox": [
                    36.74439959396212,
                    37.2036202137722,
                    36.769122320104394,
                    37.209598750548835
                  ]
                },
                {
                  "id": "5",
                  "type": "Feature",
                  "properties": {
                    "datetime": "2023-02-07T08:39:03Z",
                    "platform": "GE01",
                    "gsd": 0.46,
                    "ard_metadata_version": "0.0.1",
                    "catalog_id": "1050050044DE7E00",
                    "utm_zone": 37,
                    "quadkey": "031133012100",
                    "view:off_nadir": 21,
                    "view:azimuth": 313.4,
                    "view:incidence_angle": 66.6,
                    "view:sun_azimuth": 159.7,
                    "view:sun_elevation": 35.3,
                    "proj:epsg": 32637,
                    "proj:geometry": {
                      "type": "Polygon",
                      "coordinates": [
                        [
                          [
                            284429.931640625,
                            4120156.25
                          ],
                          [
                            285156.25,
                            4120156.25
                          ],
                          [
                            285156.25,
                            4114843.75
                          ],
                          [
                            284133.30078125,
                            4114843.75
                          ],
                          [
                            284124.755859375,
                            4115290.8325195312
                          ],
                          [
                            284182.43408203125,
                            4115708.9233398438
                          ],
                          [
                            284196.47216796875,
                            4115974.12109375
                          ],
                          [
                            284237.36572265625,
                            4116179.5043945312
                          ],
                          [
                            284245.60546875,
                            4116576.8432617188
                          ],
                          [
                            284284.36279296875,
                            4116822.8149414062
                          ],
                          [
                            284295.34912109375,
                            4117770.99609375
                          ],
                          [
                            284360.04638671875,
                            4118244.3237304688
                          ],
                          [
                            284356.0791015625,
                            4118473.5107421875
                          ],
                          [
                            284382.62939453125,
                            4118722.2290039062
                          ],
                          [
                            284429.931640625,
                            4120156.25
                          ]
                        ]
                      ]
                    },
                    "grid:code": "MXRA-Z37-031133012100",
                    "proj:bbox": "284124.755859375,4114843.75,285156.25,4120156.25",
                    "tile:data_area": 4.5,
                    "tile:clouds_area": 2,
                    "tile:clouds_percent": 44,
                    "visual": "https://maxar-opendata.s3.amazonaws.com/events/Kahramanmaras-turkey-earthquake-23/ard/37/031133012100/2023-02-07/1050050044DE7E00-visual.tif",
                    "style": {
                      "color": "black",
                      "fillColor": "black"
                    }
                  },
                  "geometry": {
                    "type": "Polygon",
                    "coordinates": [
                      [
                        [
                          36.570936995385686,
                          37.20300137105119
                        ],
                        [
                          36.57911454096447,
                          37.20316886710356
                        ],
                        [
                          36.58064173857684,
                          37.155323988813045
                        ],
                        [
                          36.56913172353687,
                          37.15508833115959
                        ],
                        [
                          36.568906579034,
                          37.15911280799943
                        ],
                        [
                          36.5694349680234,
                          37.162891475705045
                        ],
                        [
                          36.56951641698283,
                          37.16528310133957
                        ],
                        [
                          36.569917346001404,
                          37.16714223607616
                        ],
                        [
                          36.56989542281668,
                          37.17072259003766
                        ],
                        [
                          36.57026062906461,
                          37.17294677062388
                        ],
                        [
                          36.57011063350234,
                          37.18148865860431
                        ],
                        [
                          36.570702241587824,
                          37.1857664006434
                        ],
                        [
                          36.57059142986407,
                          37.18782954762315
                        ],
                        [
                          36.57081850455759,
                          37.190075640627676
                        ],
                        [
                          36.570936995385686,
                          37.20300137105119
                        ]
                      ]
                    ]
                  },
                  "bbox": [
                    36.568906579034,
                    37.15508833115959,
                    36.58064173857684,
                    37.20316886710356
                  ]
                },
                {
                  "id": "6",
                  "type": "Feature",
                  "properties": {
                    "datetime": "2023-02-07T08:39:03Z",
                    "platform": "GE01",
                    "gsd": 0.47,
                    "ard_metadata_version": "0.0.1",
                    "catalog_id": "1050050044DE7E00",
                    "utm_zone": 37,
                    "quadkey": "031133012101",
                    "view:off_nadir": 21,
                    "view:azimuth": 313,
                    "view:incidence_angle": 66.6,
                    "view:sun_azimuth": 159.7,
                    "view:sun_elevation": 35.2,
                    "proj:epsg": 32637,
                    "proj:geometry": {
                      "type": "Polygon",
                      "coordinates": [
                        [
                          [
                            284843.75,
                            4120156.25
                          ],
                          [
                            284843.75,
                            4114843.75
                          ],
                          [
                            290156.25,
                            4114843.75
                          ],
                          [
                            290156.25,
                            4120156.25
                          ],
                          [
                            284843.75,
                            4120156.25
                          ]
                        ]
                      ]
                    },
                    "grid:code": "MXRA-Z37-031133012101",
                    "proj:bbox": "284843.75,4114843.75,290156.25,4120156.25",
                    "tile:data_area": 28.2,
                    "tile:clouds_area": 13.3,
                    "tile:clouds_percent": 47,
                    "visual": "https://maxar-opendata.s3.amazonaws.com/events/Kahramanmaras-turkey-earthquake-23/ard/37/031133012101/2023-02-07/1050050044DE7E00-visual.tif",
                    "style": {
                      "color": "black",
                      "fillColor": "black"
                    }
                  },
                  "geometry": {
                    "type": "Polygon",
                    "coordinates": [
                      [
                        [
                          36.57559612651064,
                          37.20309687068599
                        ],
                        [
                          36.57712553839631,
                          37.15525211637687
                        ],
                        [
                          36.636902624832295,
                          37.15645977559877
                        ],
                        [
                          36.635410859762146,
                          37.20430661317501
                        ],
                        [
                          36.57559612651064,
                          37.20309687068599
                        ]
                      ]
                    ]
                  },
                  "bbox": [
                    36.57559612651064,
                    37.15525211637687,
                    36.636902624832295,
                    37.20430661317501
                  ]
                },
                {
                  "id": "7",
                  "type": "Feature",
                  "properties": {
                    "datetime": "2023-02-07T08:39:02Z",
                    "platform": "GE01",
                    "gsd": 0.47,
                    "ard_metadata_version": "0.0.1",
                    "catalog_id": "1050050044DE7E00",
                    "utm_zone": 37,
                    "quadkey": "031133012102",
                    "view:off_nadir": 21.5,
                    "view:azimuth": 315.5,
                    "view:incidence_angle": 66,
                    "view:sun_azimuth": 159.7,
                    "view:sun_elevation": 35.3,
                    "proj:epsg": 32637,
                    "proj:geometry": {
                      "type": "Polygon",
                      "coordinates": [
                        [
                          [
                            284122.9248046875,
                            4115156.25
                          ],
                          [
                            285156.25,
                            4115156.25
                          ],
                          [
                            285156.25,
                            4109843.75
                          ],
                          [
                            283877.25830078125,
                            4109843.75
                          ],
                          [
                            283980.712890625,
                            4111220.703125
                          ],
                          [
                            284023.13232421875,
                            4111586.3037109375
                          ],
                          [
                            284033.8134765625,
                            4112392.8833007812
                          ],
                          [
                            284062.5,
                            4112643.4326171875
                          ],
                          [
                            284085.99853515625,
                            4113215.33203125
                          ],
                          [
                            284081.11572265625,
                            4113789.3676757812
                          ],
                          [
                            284124.755859375,
                            4114150.6958007812
                          ],
                          [
                            284121.39892578125,
                            4114375
                          ],
                          [
                            284145.81298828125,
                            4114561.1572265625
                          ],
                          [
                            284122.9248046875,
                            4115156.25
                          ]
                        ]
                      ]
                    },
                    "grid:code": "MXRA-Z37-031133012102",
                    "proj:bbox": "283877.25830078125,4109843.75,285156.25,4115156.25",
                    "tile:data_area": 5.9,
                    "tile:clouds_area": 4.9,
                    "tile:clouds_percent": 83,
                    "visual": "https://maxar-opendata.s3.amazonaws.com/events/Kahramanmaras-turkey-earthquake-23/ard/37/031133012102/2023-02-07/1050050044DE7E00-visual.tif",
                    "style": {
                      "color": "black",
                      "fillColor": "black"
                    }
                  },
                  "geometry": {
                    "type": "Polygon",
                    "coordinates": [
                      [
                        [
                          36.56892481032786,
                          37.15790032778815
                        ],
                        [
                          36.58055200325364,
                          37.15813840562547
                        ],
                        [
                          36.58207580934252,
                          37.11029311239625
                        ],
                        [
                          36.567693387496185,
                          37.109998773390785
                        ],
                        [
                          36.5681553740862,
                          37.11584429360495
                        ],
                        [
                          36.56845997571472,
                          37.122423645769004
                        ],
                        [
                          36.56883169581763,
                          37.12572607292308
                        ],
                        [
                          36.56871932428712,
                          37.13299267194306
                        ],
                        [
                          36.56896977203251,
                          37.13525576337406
                        ],
                        [
                          36.569069215944076,
                          37.14041176257828
                        ],
                        [
                          36.56884873844383,
                          37.145580444512724
                        ],
                        [
                          36.569235498727245,
                          37.14884466710414
                        ],
                        [
                          36.569133032849834,
                          37.15086399093221
                        ],
                        [
                          36.56935402452474,
                          37.15254617205504
                        ],
                        [
                          36.56892481032786,
                          37.15790032778815
                        ]
                      ]
                    ]
                  },
                  "bbox": [
                    36.567693387496185,
                    37.109998773390785,
                    36.58207580934252,
                    37.15813840562547
                  ]
                },
                {
                  "id": "8",
                  "type": "Feature",
                  "properties": {
                    "datetime": "2023-02-07T08:39:02Z",
                    "platform": "GE01",
                    "gsd": 0.47,
                    "ard_metadata_version": "0.0.1",
                    "catalog_id": "1050050044DE7E00",
                    "utm_zone": 37,
                    "quadkey": "031133012103",
                    "view:off_nadir": 21.5,
                    "view:azimuth": 315.1,
                    "view:incidence_angle": 66,
                    "view:sun_azimuth": 159.7,
                    "view:sun_elevation": 35.3,
                    "proj:epsg": 32637,
                    "proj:geometry": {
                      "type": "Polygon",
                      "coordinates": [
                        [
                          [
                            284843.75,
                            4115156.25
                          ],
                          [
                            284843.75,
                            4109843.75
                          ],
                          [
                            290156.25,
                            4109843.75
                          ],
                          [
                            290156.25,
                            4115156.25
                          ],
                          [
                            284843.75,
                            4115156.25
                          ]
                        ]
                      ]
                    },
                    "grid:code": "MXRA-Z37-031133012103",
                    "proj:bbox": "284843.75,4109843.75,290156.25,4115156.25",
                    "tile:data_area": 28.2,
                    "tile:clouds_area": 24.8,
                    "tile:clouds_percent": 88,
                    "visual": "https://maxar-opendata.s3.amazonaws.com/events/Kahramanmaras-turkey-earthquake-23/ard/37/031133012103/2023-02-07/1050050044DE7E00-visual.tif",
                    "style": {
                      "color": "black",
                      "fillColor": "black"
                    }
                  },
                  "geometry": {
                    "type": "Polygon",
                    "coordinates": [
                      [
                        [
                          36.577035672966204,
                          37.15806652590054
                        ],
                        [
                          36.578561688420436,
                          37.110221356508106
                        ],
                        [
                          36.638303423553054,
                          37.111427057366086
                        ],
                        [
                          36.63681497146439,
                          37.15927430759603
                        ],
                        [
                          36.577035672966204,
                          37.15806652590054
                        ]
                      ]
                    ]
                  },
                  "bbox": [
                    36.577035672966204,
                    37.110221356508106,
                    36.638303423553054,
                    37.15927430759603
                  ]
                },
                {
                  "id": "9",
                  "type": "Feature",
                  "properties": {
                    "datetime": "2023-02-07T08:39:03Z",
                    "platform": "GE01",
                    "gsd": 0.47,
                    "ard_metadata_version": "0.0.1",
                    "catalog_id": "1050050044DE7E00",
                    "utm_zone": 37,
                    "quadkey": "031133012110",
                    "view:off_nadir": 21.3,
                    "view:azimuth": 312.1,
                    "view:incidence_angle": 66.3,
                    "view:sun_azimuth": 159.7,
                    "view:sun_elevation": 35.2,
                    "proj:epsg": 32637,
                    "proj:geometry": {
                      "type": "Polygon",
                      "coordinates": [
                        [
                          [
                            289843.75,
                            4120156.25
                          ],
                          [
                            289843.75,
                            4114843.75
                          ],
                          [
                            295156.25,
                            4114843.75
                          ],
                          [
                            295156.25,
                            4120156.25
                          ],
                          [
                            289843.75,
                            4120156.25
                          ]
                        ]
                      ]
                    },
                    "grid:code": "MXRA-Z37-031133012110",
                    "proj:bbox": "289843.75,4114843.75,295156.25,4120156.25",
                    "tile:data_area": 28.2,
                    "tile:clouds_area": 10.8,
                    "tile:clouds_percent": 38,
                    "visual": "https://maxar-opendata.s3.amazonaws.com/events/Kahramanmaras-turkey-earthquake-23/ard/37/031133012110/2023-02-07/1050050044DE7E00-visual.tif",
                    "style": {
                      "color": "black",
                      "fillColor": "black"
                    }
                  },
                  "geometry": {
                    "type": "Polygon",
                    "coordinates": [
                      [
                        [
                          36.631892247498236,
                          37.204236286992504
                        ],
                        [
                          36.63338622733042,
                          37.156389570525015
                        ],
                        [
                          36.69316662895682,
                          37.1575688821261
                        ],
                        [
                          36.69171030415179,
                          37.205417633019586
                        ],
                        [
                          36.631892247498236,
                          37.204236286992504
                        ]
                      ]
                    ]
                  },
                  "bbox": [
                    36.631892247498236,
                    37.156389570525015,
                    36.69316662895682,
                    37.205417633019586
                  ]
                },
                {
                  "id": "10",
                  "type": "Feature",
                  "properties": {
                    "datetime": "2023-02-07T08:39:03Z",
                    "platform": "GE01",
                    "gsd": 0.47,
                    "ard_metadata_version": "0.0.1",
                    "catalog_id": "1050050044DE7E00",
                    "utm_zone": 37,
                    "quadkey": "031133012111",
                    "view:off_nadir": 21.5,
                    "view:azimuth": 311.2,
                    "view:incidence_angle": 66.1,
                    "view:sun_azimuth": 159.7,
                    "view:sun_elevation": 35.2,
                    "proj:epsg": 32637,
                    "proj:geometry": {
                      "type": "Polygon",
                      "coordinates": [
                        [
                          [
                            294843.75,
                            4120156.25
                          ],
                          [
                            294843.75,
                            4114843.75
                          ],
                          [
                            300156.25,
                            4114843.75
                          ],
                          [
                            300156.25,
                            4120156.25
                          ],
                          [
                            294843.75,
                            4120156.25
                          ]
                        ]
                      ]
                    },
                    "grid:code": "MXRA-Z37-031133012111",
                    "proj:bbox": "294843.75,4114843.75,300156.25,4120156.25",
                    "tile:data_area": 28.2,
                    "tile:clouds_area": 6,
                    "tile:clouds_percent": 21,
                    "visual": "https://maxar-opendata.s3.amazonaws.com/events/Kahramanmaras-turkey-earthquake-23/ard/37/031133012111/2023-02-07/1050050044DE7E00-visual.tif",
                    "style": {
                      "color": "black",
                      "fillColor": "black"
                    }
                  },
                  "geometry": {
                    "type": "Polygon",
                    "coordinates": [
                      [
                        [
                          36.688191498709735,
                          37.20534897736118
                        ],
                        [
                          36.68965003875414,
                          37.15750034470307
                        ],
                        [
                          36.74943367700826,
                          37.15865130384028
                        ],
                        [
                          36.74801280000877,
                          37.206501922070636
                        ],
                        [
                          36.688191498709735,
                          37.20534897736118
                        ]
                      ]
                    ]
                  },
                  "bbox": [
                    36.688191498709735,
                    37.15750034470307,
                    36.74943367700826,
                    37.206501922070636
                  ]
                },
                {
                  "id": "11",
                  "type": "Feature",
                  "properties": {
                    "datetime": "2023-02-07T08:39:02Z",
                    "platform": "GE01",
                    "gsd": 0.47,
                    "ard_metadata_version": "0.0.1",
                    "catalog_id": "1050050044DE7E00",
                    "utm_zone": 37,
                    "quadkey": "031133012112",
                    "view:off_nadir": 21.7,
                    "view:azimuth": 314.2,
                    "view:incidence_angle": 65.8,
                    "view:sun_azimuth": 159.7,
                    "view:sun_elevation": 35.3,
                    "proj:epsg": 32637,
                    "proj:geometry": {
                      "type": "Polygon",
                      "coordinates": [
                        [
                          [
                            289843.75,
                            4115156.25
                          ],
                          [
                            289843.75,
                            4109843.75
                          ],
                          [
                            295156.25,
                            4109843.75
                          ],
                          [
                            295156.25,
                            4115156.25
                          ],
                          [
                            289843.75,
                            4115156.25
                          ]
                        ]
                      ]
                    },
                    "grid:code": "MXRA-Z37-031133012112",
                    "proj:bbox": "289843.75,4109843.75,295156.25,4115156.25",
                    "tile:data_area": 28.2,
                    "tile:clouds_area": 4.5,
                    "tile:clouds_percent": 16,
                    "visual": "https://maxar-opendata.s3.amazonaws.com/events/Kahramanmaras-turkey-earthquake-23/ard/37/031133012112/2023-02-07/1050050044DE7E00-visual.tif",
                    "style": {
                      "color": "black",
                      "fillColor": "black"
                    }
                  },
                  "geometry": {
                    "type": "Polygon",
                    "coordinates": [
                      [
                        [
                          36.63329844382692,
                          37.15920409540239
                        ],
                        [
                          36.63478910576793,
                          37.111356966139944
                        ],
                        [
                          36.694534148390574,
                          37.11253436529022
                        ],
                        [
                          36.69308105799769,
                          37.16038352660574
                        ],
                        [
                          36.63329844382692,
                          37.15920409540239
                        ]
                      ]
                    ]
                  },
                  "bbox": [
                    36.63329844382692,
                    37.111356966139944,
                    36.694534148390574,
                    37.16038352660574
                  ]
                },
                {
                  "id": "12",
                  "type": "Feature",
                  "properties": {
                    "datetime": "2023-02-07T08:39:02Z",
                    "platform": "GE01",
                    "gsd": 0.47,
                    "ard_metadata_version": "0.0.1",
                    "catalog_id": "1050050044DE7E00",
                    "utm_zone": 37,
                    "quadkey": "031133012113",
                    "view:off_nadir": 21.9,
                    "view:azimuth": 313.3,
                    "view:incidence_angle": 65.5,
                    "view:sun_azimuth": 159.7,
                    "view:sun_elevation": 35.3,
                    "proj:epsg": 32637,
                    "proj:geometry": {
                      "type": "Polygon",
                      "coordinates": [
                        [
                          [
                            294843.75,
                            4115156.25
                          ],
                          [
                            294843.75,
                            4109843.75
                          ],
                          [
                            300156.25,
                            4109843.75
                          ],
                          [
                            300156.25,
                            4115156.25
                          ],
                          [
                            294843.75,
                            4115156.25
                          ]
                        ]
                      ]
                    },
                    "grid:code": "MXRA-Z37-031133012113",
                    "proj:bbox": "294843.75,4109843.75,300156.25,4115156.25",
                    "tile:data_area": 28.2,
                    "tile:clouds_area": 19.1,
                    "tile:clouds_percent": 67,
                    "visual": "https://maxar-opendata.s3.amazonaws.com/events/Kahramanmaras-turkey-earthquake-23/ard/37/031133012113/2023-02-07/1050050044DE7E00-visual.tif",
                    "style": {
                      "color": "black",
                      "fillColor": "black"
                    }
                  },
                  "geometry": {
                    "type": "Polygon",
                    "coordinates": [
                      [
                        [
                          36.689564337631374,
                          37.16031498223174
                        ],
                        [
                          36.691019638352266,
                          37.11246593901368
                        ],
                        [
                          36.75076791008405,
                          37.11361503162503
                        ],
                        [
                          36.74935018890067,
                          37.16146605809912
                        ],
                        [
                          36.689564337631374,
                          37.16031498223174
                        ]
                      ]
                    ]
                  },
                  "bbox": [
                    36.689564337631374,
                    37.11246593901368,
                    36.75076791008405,
                    37.16146605809912
                  ]
                },
                {
                  "id": "13",
                  "type": "Feature",
                  "properties": {
                    "datetime": "2023-02-07T08:39:01Z",
                    "platform": "GE01",
                    "gsd": 0.47,
                    "ard_metadata_version": "0.0.1",
                    "catalog_id": "1050050044DE7E00",
                    "utm_zone": 37,
                    "quadkey": "031133012120",
                    "view:off_nadir": 22,
                    "view:azimuth": 317.6,
                    "view:incidence_angle": 65.5,
                    "view:sun_azimuth": 159.7,
                    "view:sun_elevation": 35.3,
                    "proj:epsg": 32637,
                    "proj:geometry": {
                      "type": "Polygon",
                      "coordinates": [
                        [
                          [
                            283897.39990234375,
                            4110156.25
                          ],
                          [
                            285156.25,
                            4110156.25
                          ],
                          [
                            285156.25,
                            4104843.75
                          ],
                          [
                            283685.302734375,
                            4104843.75
                          ],
                          [
                            283709.41162109375,
                            4105071.1059570312
                          ],
                          [
                            283678.28369140625,
                            4105645.751953125
                          ],
                          [
                            283724.06005859375,
                            4106065.3686523438
                          ],
                          [
                            283731.0791015625,
                            4106358.642578125
                          ],
                          [
                            283788.75732421875,
                            4106789.2456054688
                          ],
                          [
                            283788.75732421875,
                            4107572.021484375
                          ],
                          [
                            283764.34326171875,
                            4107844.5434570312
                          ],
                          [
                            283764.34326171875,
                            4108043.5180664062
                          ],
                          [
                            283813.78173828125,
                            4108624.5727539062
                          ],
                          [
                            283855.89599609375,
                            4108848.5717773438
                          ],
                          [
                            283847.96142578125,
                            4109018.2495117188
                          ],
                          [
                            283897.39990234375,
                            4110156.25
                          ]
                        ]
                      ]
                    },
                    "grid:code": "MXRA-Z37-031133012120",
                    "proj:bbox": "283678.28369140625,4104843.75,285156.25,4110156.25",
                    "tile:data_area": 7.2,
                    "tile:clouds_area": 6,
                    "tile:clouds_percent": 83,
                    "visual": "https://maxar-opendata.s3.amazonaws.com/events/Kahramanmaras-turkey-earthquake-23/ard/37/031133012120/2023-02-07/1050050044DE7E00-visual.tif",
                    "style": {
                      "color": "black",
                      "fillColor": "black"
                    }
                  },
                  "geometry": {
                    "type": "Polygon",
                    "coordinates": [
                      [
                        [
                          36.56782982171389,
                          37.11281783397597
                        ],
                        [
                          36.58198627328874,
                          37.113107553608046
                        ],
                        [
                          36.58350669573142,
                          37.065261845738945
                        ],
                        [
                          36.56697549274904,
                          37.06492373033711
                        ],
                        [
                          36.5671810062237,
                          37.066976899863235
                        ],
                        [
                          36.56666573711077,
                          37.07214508192762
                        ],
                        [
                          36.56705943540333,
                          37.0759347811394
                        ],
                        [
                          36.567053888720174,
                          37.078577673608656
                        ],
                        [
                          36.56757824681537,
                          37.082469059896226
                        ],
                        [
                          36.567352829267996,
                          37.08951885981371
                        ],
                        [
                          36.56699986012298,
                          37.091967598263274
                        ],
                        [
                          36.566942535102875,
                          37.09375959144982
                        ],
                        [
                          36.56733096011313,
                          37.09900405902754
                        ],
                        [
                          36.567739938209954,
                          37.10103114300427
                        ],
                        [
                          36.56760183695862,
                          37.10255745183344
                        ],
                        [
                          36.56782982171389,
                          37.11281783397597
                        ]
                      ]
                    ]
                  },
                  "bbox": [
                    36.56666573711077,
                    37.06492373033711,
                    36.58350669573142,
                    37.113107553608046
                  ]
                },
                {
                  "id": "14",
                  "type": "Feature",
                  "properties": {
                    "datetime": "2023-02-07T08:39:01Z",
                    "platform": "GE01",
                    "gsd": 0.47,
                    "ard_metadata_version": "0.0.1",
                    "catalog_id": "1050050044DE7E00",
                    "utm_zone": 37,
                    "quadkey": "031133012121",
                    "view:off_nadir": 22.1,
                    "view:azimuth": 317.1,
                    "view:incidence_angle": 65.4,
                    "view:sun_azimuth": 159.7,
                    "view:sun_elevation": 35.3,
                    "proj:epsg": 32637,
                    "proj:geometry": {
                      "type": "Polygon",
                      "coordinates": [
                        [
                          [
                            284843.75,
                            4110156.25
                          ],
                          [
                            284843.75,
                            4104843.75
                          ],
                          [
                            290156.25,
                            4104843.75
                          ],
                          [
                            290156.25,
                            4110156.25
                          ],
                          [
                            284843.75,
                            4110156.25
                          ]
                        ]
                      ]
                    },
                    "grid:code": "MXRA-Z37-031133012121",
                    "proj:bbox": "284843.75,4104843.75,290156.25,4110156.25",
                    "tile:data_area": 28.2,
                    "tile:clouds_area": 8.2,
                    "tile:clouds_percent": 29,
                    "visual": "https://maxar-opendata.s3.amazonaws.com/events/Kahramanmaras-turkey-earthquake-23/ard/37/031133012121/2023-02-07/1050050044DE7E00-visual.tif",
                    "style": {
                      "color": "black",
                      "fillColor": "black"
                    }
                  },
                  "geometry": {
                    "type": "Polygon",
                    "coordinates": [
                      [
                        [
                          36.57847202254812,
                          37.11303579043962
                        ],
                        [
                          36.57999464945956,
                          37.065190206263146
                        ],
                        [
                          36.63970111164254,
                          37.06639395103721
                        ],
                        [
                          36.638215964839794,
                          37.11424161362849
                        ],
                        [
                          36.57847202254812,
                          37.11303579043962
                        ]
                      ]
                    ]
                  },
                  "bbox": [
                    36.57847202254812,
                    37.065190206263146,
                    36.63970111164254,
                    37.11424161362849
                  ]
                },
                {
                  "id": "15",
                  "type": "Feature",
                  "properties": {
                    "datetime": "2023-02-07T08:39:00Z",
                    "platform": "GE01",
                    "gsd": 0.47,
                    "ard_metadata_version": "0.0.1",
                    "catalog_id": "1050050044DE7E00",
                    "utm_zone": 37,
                    "quadkey": "031133012122",
                    "view:off_nadir": 22.6,
                    "view:azimuth": 319.5,
                    "view:incidence_angle": 64.8,
                    "view:sun_azimuth": 159.6,
                    "view:sun_elevation": 35.4,
                    "proj:epsg": 32637,
                    "proj:geometry": {
                      "type": "Polygon",
                      "coordinates": [
                        [
                          [
                            283703.91845703125,
                            4105156.25
                          ],
                          [
                            285156.25,
                            4105156.25
                          ],
                          [
                            285156.25,
                            4099843.75
                          ],
                          [
                            283562.6220703125,
                            4099843.75
                          ],
                          [
                            283588.56201171875,
                            4100092.1630859375
                          ],
                          [
                            283581.23779296875,
                            4100294.189453125
                          ],
                          [
                            283610.2294921875,
                            4100901.1840820312
                          ],
                          [
                            283661.19384765625,
                            4101492.0043945312
                          ],
                          [
                            283672.79052734375,
                            4101933.2885742188
                          ],
                          [
                            283662.41455078125,
                            4102212.5244140625
                          ],
                          [
                            283617.24853515625,
                            4102549.1333007812
                          ],
                          [
                            283639.22119140625,
                            4102770.0805664062
                          ],
                          [
                            283636.474609375,
                            4102913.5131835938
                          ],
                          [
                            283586.73095703125,
                            4103390.8081054688
                          ],
                          [
                            283660.2783203125,
                            4104223.6328125
                          ],
                          [
                            283648.98681640625,
                            4104476.318359375
                          ],
                          [
                            283707.8857421875,
                            4105033.8745117188
                          ],
                          [
                            283703.91845703125,
                            4105156.25
                          ]
                        ]
                      ]
                    },
                    "grid:code": "MXRA-Z37-031133012122",
                    "proj:bbox": "283562.6220703125,4099843.75,285156.25,4105156.25",
                    "tile:data_area": 8,
                    "tile:clouds_area": 0.8,
                    "tile:clouds_percent": 10,
                    "visual": "https://maxar-opendata.s3.amazonaws.com/events/Kahramanmaras-turkey-earthquake-23/ard/37/031133012122/2023-02-07/1050050044DE7E00-visual.tif",
                    "style": {
                      "color": "black",
                      "fillColor": "black"
                    }
                  },
                  "geometry": {
                    "type": "Polygon",
                    "coordinates": [
                      [
                        [
                          36.56709476412221,
                          37.06774245547681
                        ],
                        [
                          36.5834173584845,
                          37.068076311332526
                        ],
                        [
                          36.584934405130404,
                          37.02023018912283
                        ],
                        [
                          36.567035027302374,
                          37.01986436481804
                        ],
                        [
                          36.56725500521642,
                          37.022107611744886
                        ],
                        [
                          36.56711468606495,
                          37.02392542371495
                        ],
                        [
                          36.56726590058733,
                          37.029398844632524
                        ],
                        [
                          36.56766860331901,
                          37.03473165508195
                        ],
                        [
                          36.567672042929374,
                          37.03870863414056
                        ],
                        [
                          36.56747519734585,
                          37.041221103590466
                        ],
                        [
                          36.56687095845491,
                          37.04424226531796
                        ],
                        [
                          36.567054285875194,
                          37.0462372289246
                        ],
                        [
                          36.566982172379035,
                          37.047528380018676
                        ],
                        [
                          36.56628593260918,
                          37.051815524480034
                        ],
                        [
                          36.56687273094009,
                          37.05933306784635
                        ],
                        [
                          36.56667312036873,
                          37.06160619709474
                        ],
                        [
                          36.567174572820605,
                          37.06664123480612
                        ],
                        [
                          36.56709476412221,
                          37.06774245547681
                        ]
                      ]
                    ]
                  },
                  "bbox": [
                    36.56628593260918,
                    37.01986436481804,
                    36.584934405130404,
                    37.068076311332526
                  ]
                },
                {
                  "id": "16",
                  "type": "Feature",
                  "properties": {
                    "datetime": "2023-02-07T08:39:00Z",
                    "platform": "GE01",
                    "gsd": 0.47,
                    "ard_metadata_version": "0.0.1",
                    "catalog_id": "1050050044DE7E00",
                    "utm_zone": 37,
                    "quadkey": "031133012123",
                    "view:off_nadir": 22.6,
                    "view:azimuth": 318.9,
                    "view:incidence_angle": 64.8,
                    "view:sun_azimuth": 159.6,
                    "view:sun_elevation": 35.4,
                    "proj:epsg": 32637,
                    "proj:geometry": {
                      "type": "Polygon",
                      "coordinates": [
                        [
                          [
                            284843.75,
                            4105156.25
                          ],
                          [
                            284843.75,
                            4099843.75
                          ],
                          [
                            290156.25,
                            4099843.75
                          ],
                          [
                            290156.25,
                            4105156.25
                          ],
                          [
                            284843.75,
                            4105156.25
                          ]
                        ]
                      ]
                    },
                    "grid:code": "MXRA-Z37-031133012123",
                    "proj:bbox": "284843.75,4099843.75,290156.25,4105156.25",
                    "tile:data_area": 28.2,
                    "tile:clouds_area": 0.1,
                    "tile:clouds_percent": 0,
                    "visual": "https://maxar-opendata.s3.amazonaws.com/events/Kahramanmaras-turkey-earthquake-23/ard/37/031133012123/2023-02-07/1050050044DE7E00-visual.tif",
                    "style": {
                      "color": "black",
                      "fillColor": "black"
                    }
                  },
                  "geometry": {
                    "type": "Polygon",
                    "coordinates": [
                      [
                        [
                          36.579905182681806,
                          37.06800466458492
                        ],
                        [
                          36.58142442891117,
                          37.020158665924086
                        ],
                        [
                          36.64109569631723,
                          37.02136045688774
                        ],
                        [
                          36.639613847132054,
                          37.06920853154755
                        ],
                        [
                          36.579905182681806,
                          37.06800466458492
                        ]
                      ]
                    ]
                  },
                  "bbox": [
                    36.579905182681806,
                    37.020158665924086,
                    36.64109569631723,
                    37.06920853154755
                  ]
                },
                {
                  "id": "17",
                  "type": "Feature",
                  "properties": {
                    "datetime": "2023-02-07T08:39:01Z",
                    "platform": "GE01",
                    "gsd": 0.47,
                    "ard_metadata_version": "0.0.1",
                    "catalog_id": "1050050044DE7E00",
                    "utm_zone": 37,
                    "quadkey": "031133012130",
                    "view:off_nadir": 22.2,
                    "view:azimuth": 316.2,
                    "view:incidence_angle": 65.2,
                    "view:sun_azimuth": 159.7,
                    "view:sun_elevation": 35.3,
                    "proj:epsg": 32637,
                    "proj:geometry": {
                      "type": "Polygon",
                      "coordinates": [
                        [
                          [
                            289843.75,
                            4110156.25
                          ],
                          [
                            289843.75,
                            4104843.75
                          ],
                          [
                            295156.25,
                            4104843.75
                          ],
                          [
                            295156.25,
                            4110156.25
                          ],
                          [
                            289843.75,
                            4110156.25
                          ]
                        ]
                      ]
                    },
                    "grid:code": "MXRA-Z37-031133012130",
                    "proj:bbox": "289843.75,4104843.75,295156.25,4110156.25",
                    "tile:data_area": 28.2,
                    "tile:clouds_area": 13.5,
                    "tile:clouds_percent": 48,
                    "visual": "https://maxar-opendata.s3.amazonaws.com/events/Kahramanmaras-turkey-earthquake-23/ard/37/031133012130/2023-02-07/1050050044DE7E00-visual.tif",
                    "style": {
                      "color": "black",
                      "fillColor": "black"
                    }
                  },
                  "geometry": {
                    "type": "Polygon",
                    "coordinates": [
                      [
                        [
                          36.63470151720754,
                          37.11417151529075
                        ],
                        [
                          36.63618886896432,
                          37.06632397352611
                        ],
                        [
                          36.69589863096421,
                          37.06749946245242
                        ],
                        [
                          36.69444876746972,
                          37.11534903390392
                        ],
                        [
                          36.63470151720754,
                          37.11417151529075
                        ]
                      ]
                    ]
                  },
                  "bbox": [
                    36.63470151720754,
                    37.06632397352611,
                    36.69589863096421,
                    37.11534903390392
                  ]
                },
                {
                  "id": "18",
                  "type": "Feature",
                  "properties": {
                    "datetime": "2023-02-07T08:39:01Z",
                    "platform": "GE01",
                    "gsd": 0.47,
                    "ard_metadata_version": "0.0.1",
                    "catalog_id": "1050050044DE7E00",
                    "utm_zone": 37,
                    "quadkey": "031133012131",
                    "view:off_nadir": 22.4,
                    "view:azimuth": 315.3,
                    "view:incidence_angle": 65,
                    "view:sun_azimuth": 159.7,
                    "view:sun_elevation": 35.3,
                    "proj:epsg": 32637,
                    "proj:geometry": {
                      "type": "Polygon",
                      "coordinates": [
                        [
                          [
                            294843.75,
                            4110156.25
                          ],
                          [
                            294843.75,
                            4104843.75
                          ],
                          [
                            300156.25,
                            4104843.75
                          ],
                          [
                            300156.25,
                            4110156.25
                          ],
                          [
                            294843.75,
                            4110156.25
                          ]
                        ]
                      ]
                    },
                    "grid:code": "MXRA-Z37-031133012131",
                    "proj:bbox": "294843.75,4104843.75,300156.25,4110156.25",
                    "tile:data_area": 28.2,
                    "tile:clouds_area": 23.8,
                    "tile:clouds_percent": 84,
                    "visual": "https://maxar-opendata.s3.amazonaws.com/events/Kahramanmaras-turkey-earthquake-23/ard/37/031133012131/2023-02-07/1050050044DE7E00-visual.tif",
                    "style": {
                      "color": "black",
                      "fillColor": "black"
                    }
                  },
                  "geometry": {
                    "type": "Polygon",
                    "coordinates": [
                      [
                        [
                          36.690934127556346,
                          37.11528060068451
                        ],
                        [
                          36.69238619647883,
                          37.06743114719294
                        ],
                        [
                          36.75209918009588,
                          37.06857837545204
                        ],
                        [
                          36.7506846073968,
                          37.116429809889986
                        ],
                        [
                          36.690934127556346,
                          37.11528060068451
                        ]
                      ]
                    ]
                  },
                  "bbox": [
                    36.690934127556346,
                    37.06743114719294,
                    36.75209918009588,
                    37.116429809889986
                  ]
                },
                {
                  "id": "19",
                  "type": "Feature",
                  "properties": {
                    "datetime": "2023-02-07T08:39:00Z",
                    "platform": "GE01",
                    "gsd": 0.48,
                    "ard_metadata_version": "0.0.1",
                    "catalog_id": "1050050044DE7E00",
                    "utm_zone": 37,
                    "quadkey": "031133012132",
                    "view:off_nadir": 22.8,
                    "view:azimuth": 318,
                    "view:incidence_angle": 64.6,
                    "view:sun_azimuth": 159.6,
                    "view:sun_elevation": 35.4,
                    "proj:epsg": 32637,
                    "proj:geometry": {
                      "type": "Polygon",
                      "coordinates": [
                        [
                          [
                            289843.75,
                            4105156.25
                          ],
                          [
                            289843.75,
                            4099843.75
                          ],
                          [
                            295156.25,
                            4099843.75
                          ],
                          [
                            295156.25,
                            4105156.25
                          ],
                          [
                            289843.75,
                            4105156.25
                          ]
                        ]
                      ]
                    },
                    "grid:code": "MXRA-Z37-031133012132",
                    "proj:bbox": "289843.75,4099843.75,295156.25,4105156.25",
                    "tile:data_area": 28.2,
                    "tile:clouds_area": 13.4,
                    "tile:clouds_percent": 47,
                    "visual": "https://maxar-opendata.s3.amazonaws.com/events/Kahramanmaras-turkey-earthquake-23/ard/37/031133012132/2023-02-07/1050050044DE7E00-visual.tif",
                    "style": {
                      "color": "black",
                      "fillColor": "black"
                    }
                  },
                  "geometry": {
                    "type": "Polygon",
                    "coordinates": [
                      [
                        [
                          36.6361014748945,
                          37.069138546933154
                        ],
                        [
                          36.637585524146715,
                          37.021290592959545
                        ],
                        [
                          36.69726008372368,
                          37.02246417388236
                        ],
                        [
                          36.695813439640425,
                          37.07031415518333
                        ],
                        [
                          36.6361014748945,
                          37.069138546933154
                        ]
                      ]
                    ]
                  },
                  "bbox": [
                    36.6361014748945,
                    37.021290592959545,
                    36.69726008372368,
                    37.07031415518333
                  ]
                },
                {
                  "id": "20",
                  "type": "Feature",
                  "properties": {
                    "datetime": "2023-02-07T08:39:00Z",
                    "platform": "GE01",
                    "gsd": 0.48,
                    "ard_metadata_version": "0.0.1",
                    "catalog_id": "1050050044DE7E00",
                    "utm_zone": 37,
                    "quadkey": "031133012133",
                    "view:off_nadir": 23,
                    "view:azimuth": 317.2,
                    "view:incidence_angle": 64.4,
                    "view:sun_azimuth": 159.6,
                    "view:sun_elevation": 35.4,
                    "proj:epsg": 32637,
                    "proj:geometry": {
                      "type": "Polygon",
                      "coordinates": [
                        [
                          [
                            294843.75,
                            4105156.25
                          ],
                          [
                            294843.75,
                            4099843.75
                          ],
                          [
                            300156.25,
                            4099843.75
                          ],
                          [
                            300156.25,
                            4105156.25
                          ],
                          [
                            294843.75,
                            4105156.25
                          ]
                        ]
                      ]
                    },
                    "grid:code": "MXRA-Z37-031133012133",
                    "proj:bbox": "294843.75,4099843.75,300156.25,4105156.25",
                    "tile:data_area": 28.2,
                    "tile:clouds_area": 25.6,
                    "tile:clouds_percent": 90,
                    "visual": "https://maxar-opendata.s3.amazonaws.com/events/Kahramanmaras-turkey-earthquake-23/ard/37/031133012133/2023-02-07/1050050044DE7E00-visual.tif",
                    "style": {
                      "color": "black",
                      "fillColor": "black"
                    }
                  },
                  "geometry": {
                    "type": "Polygon",
                    "coordinates": [
                      [
                        [
                          36.692300875567895,
                          37.07024583298907
                        ],
                        [
                          36.69374972019046,
                          37.02239596951089
                        ],
                        [
                          36.753427493919105,
                          37.02354133558519
                        ],
                        [
                          36.75201606239845,
                          37.07139317770663
                        ],
                        [
                          36.692300875567895,
                          37.07024583298907
                        ]
                      ]
                    ]
                  },
                  "bbox": [
                    36.692300875567895,
                    37.02239596951089,
                    36.753427493919105,
                    37.07139317770663
                  ]
                },
                {
                  "id": "21",
                  "type": "Feature",
                  "properties": {
                    "datetime": "2023-02-07T08:38:59Z",
                    "platform": "GE01",
                    "gsd": 0.48,
                    "ard_metadata_version": "0.0.1",
                    "catalog_id": "1050050044DE7E00",
                    "utm_zone": 37,
                    "quadkey": "031133012300",
                    "view:off_nadir": 23,
                    "view:azimuth": 321,
                    "view:incidence_angle": 64.3,
                    "view:sun_azimuth": 159.6,
                    "view:sun_elevation": 35.4,
                    "proj:epsg": 32637,
                    "proj:geometry": {
                      "type": "Polygon",
                      "coordinates": [
                        [
                          [
                            283586.73095703125,
                            4100156.25
                          ],
                          [
                            285156.25,
                            4100156.25
                          ],
                          [
                            285156.25,
                            4095068.359375
                          ],
                          [
                            284268.49365234375,
                            4095278.6254882812
                          ],
                          [
                            283972.16796875,
                            4095321.9604492188
                          ],
                          [
                            283613.8916015625,
                            4095320.7397460938
                          ],
                          [
                            283415.22216796875,
                            4095347.900390625
                          ],
                          [
                            283462.82958984375,
                            4096240.5395507812
                          ],
                          [
                            283429.5654296875,
                            4096773.9868164062
                          ],
                          [
                            283429.87060546875,
                            4097293.3959960938
                          ],
                          [
                            283439.3310546875,
                            4097501.220703125
                          ],
                          [
                            283474.12109375,
                            4097733.154296875
                          ],
                          [
                            283509.21630859375,
                            4098382.568359375
                          ],
                          [
                            283505.859375,
                            4099080.2001953125
                          ],
                          [
                            283535.46142578125,
                            4099461.9750976562
                          ],
                          [
                            283534.24072265625,
                            4099634.7045898438
                          ],
                          [
                            283586.73095703125,
                            4100156.25
                          ]
                        ]
                      ]
                    },
                    "grid:code": "MXRA-Z37-031133012300",
                    "proj:bbox": "283415.22216796875,4095068.359375,285156.25,4100156.25",
                    "tile:data_area": 8.2,
                    "tile:clouds_area": 1.9,
                    "tile:clouds_percent": 24,
                    "visual": "https://maxar-opendata.s3.amazonaws.com/events/Kahramanmaras-turkey-earthquake-23/ard/37/031133012300/2023-02-07/1050050044DE7E00-visual.tif",
                    "style": {
                      "color": "black",
                      "fillColor": "black"
                    }
                  },
                  "geometry": {
                    "type": "Polygon",
                    "coordinates": [
                      [
                        [
                          36.56721602410447,
                          37.0226843725797
                        ],
                        [
                          36.58484526622944,
                          37.02304467908058
                        ],
                        [
                          36.58629501979484,
                          36.97722107513998
                        ],
                        [
                          36.57626934950163,
                          36.97891167089051
                        ],
                        [
                          36.57293046040133,
                          36.9792339637123
                        ],
                        [
                          36.56890887414329,
                          36.97914063137189
                        ],
                        [
                          36.56667086581303,
                          36.97933953216519
                        ],
                        [
                          36.566949154736385,
                          36.987389873628715
                        ],
                        [
                          36.56642255533743,
                          36.99218659708231
                        ],
                        [
                          36.566459658271135,
                          36.99457186682046
                        ],
                        [
                          36.566276833224975,
                          36.9968646146574
                        ],
                        [
                          36.566323374493166,
                          36.99873852141166
                        ],
                        [
                          36.56664741542345,
                          37.00083539364656
                        ],
                        [
                          36.56685500124637,
                          37.00669227853451
                        ],
                        [
                          36.566616897221735,
                          37.01297456213405
                        ],
                        [
                          36.56683966718257,
                          37.01641974548194
                        ],
                        [
                          36.56677632623228,
                          37.01797510989494
                        ],
                        [
                          36.56721602410447,
                          37.0226843725797
                        ]
                      ]
                    ]
                  },
                  "bbox": [
                    36.566276833224975,
                    36.97722107513998,
                    36.58629501979484,
                    37.02304467908058
                  ]
                },
                {
                  "id": "22",
                  "type": "Feature",
                  "properties": {
                    "datetime": "2023-02-07T08:38:59Z",
                    "platform": "GE01",
                    "gsd": 0.48,
                    "ard_metadata_version": "0.0.1",
                    "catalog_id": "1050050044DE7E00",
                    "utm_zone": 37,
                    "quadkey": "031133012301",
                    "view:off_nadir": 23.1,
                    "view:azimuth": 320.6,
                    "view:incidence_angle": 64.2,
                    "view:sun_azimuth": 159.6,
                    "view:sun_elevation": 35.4,
                    "proj:epsg": 32637,
                    "proj:geometry": {
                      "type": "Polygon",
                      "coordinates": [
                        [
                          [
                            284843.75,
                            4100156.25
                          ],
                          [
                            284843.75,
                            4095140.0756835938
                          ],
                          [
                            286201.171875,
                            4094843.75
                          ],
                          [
                            290156.25,
                            4094843.75
                          ],
                          [
                            290156.25,
                            4100156.25
                          ],
                          [
                            284843.75,
                            4100156.25
                          ]
                        ]
                      ]
                    },
                    "grid:code": "MXRA-Z37-031133012301",
                    "proj:bbox": "284843.75,4094843.75,290156.25,4100156.25",
                    "tile:data_area": 28,
                    "tile:clouds_area": 0.2,
                    "tile:clouds_percent": 0,
                    "visual": "https://maxar-opendata.s3.amazonaws.com/events/Kahramanmaras-turkey-earthquake-23/ard/37/031133012301/2023-02-07/1050050044DE7E00-visual.tif",
                    "style": {
                      "color": "black",
                      "fillColor": "black"
                    }
                  },
                  "geometry": {
                    "type": "Polygon",
                    "coordinates": [
                      [
                        [
                          36.58133516076641,
                          37.02297314861847
                        ],
                        [
                          36.58276657454542,
                          36.97779557013197
                        ],
                        [
                          36.59808861108898,
                          36.97543615832933
                        ],
                        [
                          36.64248718476807,
                          36.97632657519381
                        ],
                        [
                          36.64100862555923,
                          37.024175061628796
                        ],
                        [
                          36.58133516076641,
                          37.02297314861847
                        ]
                      ]
                    ]
                  },
                  "bbox": [
                    36.58133516076641,
                    36.97543615832933,
                    36.64248718476807,
                    37.024175061628796
                  ]
                },
                {
                  "id": "23",
                  "type": "Feature",
                  "properties": {
                    "datetime": "2023-02-07T08:38:58Z",
                    "platform": "GE01",
                    "gsd": 0.48,
                    "ard_metadata_version": "0.0.1",
                    "catalog_id": "1050050044DE7E00",
                    "utm_zone": 37,
                    "quadkey": "031133012303",
                    "view:off_nadir": 23.3,
                    "view:azimuth": 321.1,
                    "view:incidence_angle": 64,
                    "view:sun_azimuth": 159.6,
                    "view:sun_elevation": 35.4,
                    "proj:epsg": 32637,
                    "proj:geometry": {
                      "type": "Polygon",
                      "coordinates": [
                        [
                          [
                            284843.75,
                            4095156.25
                          ],
                          [
                            284843.75,
                            4095141.6015625
                          ],
                          [
                            284859.92431640625,
                            4095136.4135742188
                          ],
                          [
                            285025.0244140625,
                            4095092.4682617188
                          ],
                          [
                            285095.52001953125,
                            4095077.5146484375
                          ],
                          [
                            285184.326171875,
                            4095063.7817382812
                          ],
                          [
                            285219.42138671875,
                            4095055.8471679688
                          ],
                          [
                            285249.0234375,
                            4095046.9970703125
                          ],
                          [
                            285336.60888671875,
                            4095015.5639648438
                          ],
                          [
                            285422.36328125,
                            4094988.4033203125
                          ],
                          [
                            285451.0498046875,
                            4094981.689453125
                          ],
                          [
                            285513.61083984375,
                            4094971.923828125
                          ],
                          [
                            285632.32421875,
                            4094966.1254882812
                          ],
                          [
                            285691.5283203125,
                            4094960.3271484375
                          ],
                          [
                            285770.56884765625,
                            4094942.3217773438
                          ],
                          [
                            285871.27685546875,
                            4094913.330078125
                          ],
                          [
                            285929.26025390625,
                            4094898.9868164062
                          ],
                          [
                            286083.06884765625,
                            4094867.2485351562
                          ],
                          [
                            286541.1376953125,
                            4094783.935546875
                          ],
                          [
                            287029.72412109375,
                            4094708.251953125
                          ],
                          [
                            287883.30078125,
                            4094586.4868164062
                          ],
                          [
                            288775.0244140625,
                            4094457.0922851562
                          ],
                          [
                            290156.25,
                            4094253.8452148438
                          ],
                          [
                            290156.25,
                            4095156.25
                          ],
                          [
                            284843.75,
                            4095156.25
                          ]
                        ]
                      ]
                    },
                    "grid:code": "MXRA-Z37-031133012303",
                    "proj:bbox": "284843.75,4094253.8452148438,290156.25,4095156.25",
                    "tile:data_area": 2.6,
                    "tile:clouds_area": 0,
                    "tile:clouds_percent": 0,
                    "visual": "https://maxar-opendata.s3.amazonaws.com/events/Kahramanmaras-turkey-earthquake-23/ard/37/031133012303/2023-02-07/1050050044DE7E00-visual.tif",
                    "style": {
                      "color": "black",
                      "fillColor": "black"
                    }
                  },
                  "geometry": {
                    "type": "Polygon",
                    "coordinates": [
                      [
                        [
                          36.58276196417492,
                          36.977941242822766
                        ],
                        [
                          36.582766139606214,
                          36.977809312838815
                        ],
                        [
                          36.58294918613272,
                          36.977766286400815
                        ],
                        [
                          36.58481506482373,
                          36.97740823529087
                        ],
                        [
                          36.585610681177414,
                          36.97728966169662
                        ],
                        [
                          36.58661149529941,
                          36.977186257775664
                        ],
                        [
                          36.58700771887995,
                          36.977122807878146
                        ],
                        [
                          36.587342538185915,
                          36.977049857160274
                        ],
                        [
                          36.58833467799581,
                          36.97678674382851
                        ],
                        [
                          36.58930504229563,
                          36.976561684114884
                        ],
                        [
                          36.58962897282013,
                          36.9765077578572
                        ],
                        [
                          36.59033403009023,
                          36.97643406803106
                        ],
                        [
                          36.591668300389664,
                          36.97640890072227
                        ],
                        [
                          36.592334545711765,
                          36.97637016533687
                        ],
                        [
                          36.59322692976601,
                          36.97622600049457
                        ],
                        [
                          36.594365656096464,
                          36.97598781188818
                        ],
                        [
                          36.595020617338506,
                          36.97587182355171
                        ],
                        [
                          36.5967561916851,
                          36.97562095443147
                        ],
                        [
                          36.60192180620511,
                          36.97497462528382
                        ],
                        [
                          36.60742776456992,
                          36.974403690618296
                        ],
                        [
                          36.62708990310009,
                          36.97253498412026
                        ],
                        [
                          36.64265115004441,
                          36.971013409186945
                        ],
                        [
                          36.64240030731386,
                          36.97914120414829
                        ],
                        [
                          36.58276196417492,
                          36.977941242822766
                        ]
                      ]
                    ]
                  },
                  "bbox": [
                    36.58276196417492,
                    36.971013409186945,
                    36.64265115004441,
                    36.97914120414829
                  ]
                },
                {
                  "id": "24",
                  "type": "Feature",
                  "properties": {
                    "datetime": "2023-02-07T08:38:59Z",
                    "platform": "GE01",
                    "gsd": 0.48,
                    "ard_metadata_version": "0.0.1",
                    "catalog_id": "1050050044DE7E00",
                    "utm_zone": 37,
                    "quadkey": "031133012310",
                    "view:off_nadir": 23.3,
                    "view:azimuth": 319.8,
                    "view:incidence_angle": 64,
                    "view:sun_azimuth": 159.6,
                    "view:sun_elevation": 35.4,
                    "proj:epsg": 32637,
                    "proj:geometry": {
                      "type": "Polygon",
                      "coordinates": [
                        [
                          [
                            289843.75,
                            4100156.25
                          ],
                          [
                            289843.75,
                            4094843.75
                          ],
                          [
                            295156.25,
                            4094843.75
                          ],
                          [
                            295156.25,
                            4100156.25
                          ],
                          [
                            289843.75,
                            4100156.25
                          ]
                        ]
                      ]
                    },
                    "grid:code": "MXRA-Z37-031133012310",
                    "proj:bbox": "289843.75,4094843.75,295156.25,4100156.25",
                    "tile:data_area": 28.2,
                    "tile:clouds_area": 5.4,
                    "tile:clouds_percent": 19,
                    "visual": "https://maxar-opendata.s3.amazonaws.com/events/Kahramanmaras-turkey-earthquake-23/ard/37/031133012310/2023-02-07/1050050044DE7E00-visual.tif",
                    "style": {
                      "color": "black",
                      "fillColor": "black"
                    }
                  },
                  "geometry": {
                    "type": "Polygon",
                    "coordinates": [
                      [
                        [
                          36.63749832411653,
                          37.02410519060553
                        ],
                        [
                          36.63897907851668,
                          36.976256824716685
                        ],
                        [
                          36.698618513690015,
                          36.97742849985023
                        ],
                        [
                          36.697175081557326,
                          37.02527889071363
                        ],
                        [
                          36.63749832411653,
                          37.02410519060553
                        ]
                      ]
                    ]
                  },
                  "bbox": [
                    36.63749832411653,
                    36.976256824716685,
                    36.698618513690015,
                    37.02527889071363
                  ]
                },
                {
                  "id": "25",
                  "type": "Feature",
                  "properties": {
                    "datetime": "2023-02-07T08:38:59Z",
                    "platform": "GE01",
                    "gsd": 0.48,
                    "ard_metadata_version": "0.0.1",
                    "catalog_id": "1050050044DE7E00",
                    "utm_zone": 37,
                    "quadkey": "031133012311",
                    "view:off_nadir": 23.5,
                    "view:azimuth": 318.9,
                    "view:incidence_angle": 63.8,
                    "view:sun_azimuth": 159.6,
                    "view:sun_elevation": 35.4,
                    "proj:epsg": 32637,
                    "proj:geometry": {
                      "type": "Polygon",
                      "coordinates": [
                        [
                          [
                            294843.75,
                            4100156.25
                          ],
                          [
                            294843.75,
                            4094843.75
                          ],
                          [
                            300156.25,
                            4094843.75
                          ],
                          [
                            300156.25,
                            4100156.25
                          ],
                          [
                            294843.75,
                            4100156.25
                          ]
                        ]
                      ]
                    },
                    "grid:code": "MXRA-Z37-031133012311",
                    "proj:bbox": "294843.75,4094843.75,300156.25,4100156.25",
                    "tile:data_area": 28.2,
                    "tile:clouds_area": 17,
                    "tile:clouds_percent": 60,
                    "visual": "https://maxar-opendata.s3.amazonaws.com/events/Kahramanmaras-turkey-earthquake-23/ard/37/031133012311/2023-02-07/1050050044DE7E00-visual.tif",
                    "style": {
                      "color": "black",
                      "fillColor": "black"
                    }
                  },
                  "geometry": {
                    "type": "Polygon",
                    "coordinates": [
                      [
                        [
                          36.69366458872419,
                          37.02521067941544
                        ],
                        [
                          36.695110216518806,
                          36.97736040623807
                        ],
                        [
                          36.75475285840474,
                          36.978503912288865
                        ],
                        [
                          36.75334456078249,
                          37.0263561618129
                        ],
                        [
                          36.69366458872419,
                          37.02521067941544
                        ]
                      ]
                    ]
                  },
                  "bbox": [
                    36.69366458872419,
                    36.97736040623807,
                    36.75475285840474,
                    37.0263561618129
                  ]
                },
                {
                  "id": "26",
                  "type": "Feature",
                  "properties": {
                    "datetime": "2023-02-07T08:38:58Z",
                    "platform": "GE01",
                    "gsd": 0.48,
                    "ard_metadata_version": "0.0.1",
                    "catalog_id": "1050050044DE7E00",
                    "utm_zone": 37,
                    "quadkey": "031133012312",
                    "view:off_nadir": 23.5,
                    "view:azimuth": 320.4,
                    "view:incidence_angle": 63.8,
                    "view:sun_azimuth": 159.6,
                    "view:sun_elevation": 35.4,
                    "proj:epsg": 32637,
                    "proj:geometry": {
                      "type": "Polygon",
                      "coordinates": [
                        [
                          [
                            289843.75,
                            4095156.25
                          ],
                          [
                            289843.75,
                            4094299.31640625
                          ],
                          [
                            294232.48291015625,
                            4093658.7524414062
                          ],
                          [
                            295156.25,
                            4093542.48046875
                          ],
                          [
                            295156.25,
                            4095156.25
                          ],
                          [
                            289843.75,
                            4095156.25
                          ]
                        ]
                      ]
                    },
                    "grid:code": "MXRA-Z37-031133012312",
                    "proj:bbox": "289843.75,4093542.48046875,295156.25,4095156.25",
                    "tile:data_area": 6.6,
                    "tile:clouds_area": 0,
                    "tile:clouds_percent": 0,
                    "visual": "https://maxar-opendata.s3.amazonaws.com/events/Kahramanmaras-turkey-earthquake-23/ard/37/031133012312/2023-02-07/1050050044DE7E00-visual.tif",
                    "style": {
                      "color": "black",
                      "fillColor": "black"
                    }
                  },
                  "geometry": {
                    "type": "Polygon",
                    "coordinates": [
                      [
                        [
                          36.63889207207676,
                          36.97907144658432
                        ],
                        [
                          36.63913063118345,
                          36.97135322206691
                        ],
                        [
                          36.68857078008392,
                          36.96655350042775
                        ],
                        [
                          36.698971555543196,
                          36.9657077265831
                        ],
                        [
                          36.69853370024301,
                          36.98024324076495
                        ],
                        [
                          36.63889207207676,
                          36.97907144658432
                        ]
                      ]
                    ]
                  },
                  "bbox": [
                    36.63889207207676,
                    36.9657077265831,
                    36.698971555543196,
                    36.98024324076495
                  ]
                },
                {
                  "id": "27",
                  "type": "Feature",
                  "properties": {
                    "datetime": "2023-02-07T08:38:58Z",
                    "platform": "GE01",
                    "gsd": 0.48,
                    "ard_metadata_version": "0.0.1",
                    "catalog_id": "1050050044DE7E00",
                    "utm_zone": 37,
                    "quadkey": "031133012313",
                    "view:off_nadir": 23.8,
                    "view:azimuth": 319.8,
                    "view:incidence_angle": 63.5,
                    "view:sun_azimuth": 159.6,
                    "view:sun_elevation": 35.4,
                    "proj:epsg": 32637,
                    "proj:geometry": {
                      "type": "Polygon",
                      "coordinates": [
                        [
                          [
                            294843.75,
                            4095156.25
                          ],
                          [
                            294844.3603515625,
                            4093576.66015625
                          ],
                          [
                            295549.62158203125,
                            4093488.76953125
                          ],
                          [
                            296419.98291015625,
                            4093338.0126953125
                          ],
                          [
                            300156.25,
                            4092807.6171875
                          ],
                          [
                            300156.25,
                            4095156.25
                          ],
                          [
                            294843.75,
                            4095156.25
                          ]
                        ]
                      ]
                    },
                    "grid:code": "MXRA-Z37-031133012313",
                    "proj:bbox": "294843.75,4092807.6171875,300156.25,4095156.25",
                    "tile:data_area": 10.4,
                    "tile:clouds_area": 1.6,
                    "tile:clouds_percent": 16,
                    "visual": "https://maxar-opendata.s3.amazonaws.com/events/Kahramanmaras-turkey-earthquake-23/ard/37/031133012313/2023-02-07/1050050044DE7E00-visual.tif",
                    "style": {
                      "color": "black",
                      "fillColor": "black"
                    }
                  },
                  "geometry": {
                    "type": "Polygon",
                    "coordinates": [
                      [
                        [
                          36.69502527405845,
                          36.9801751402341
                        ],
                        [
                          36.6954613618744,
                          36.96594765710647
                        ],
                        [
                          36.70340164218332,
                          36.965309472330866
                        ],
                        [
                          36.71321197919823,
                          36.96414022183659
                        ],
                        [
                          36.75529173852494,
                          36.96016336741287
                        ],
                        [
                          36.754670109401474,
                          36.98131876247316
                        ],
                        [
                          36.69502527405845,
                          36.9801751402341
                        ]
                      ]
                    ]
                  },
                  "bbox": [
                    36.69502527405845,
                    36.96016336741287,
                    36.75529173852494,
                    36.98131876247316
                  ]
                },
                {
                  "id": "28",
                  "type": "Feature",
                  "properties": {
                    "datetime": "2023-02-07T08:39:03Z",
                    "platform": "GE01",
                    "gsd": 0.47,
                    "ard_metadata_version": "0.0.1",
                    "catalog_id": "1050050044DE7E00",
                    "utm_zone": 37,
                    "quadkey": "031133013000",
                    "view:off_nadir": 21.6,
                    "view:azimuth": 310.8,
                    "view:incidence_angle": 65.9,
                    "view:sun_azimuth": 159.7,
                    "view:sun_elevation": 35.2,
                    "proj:epsg": 32637,
                    "proj:geometry": {
                      "type": "Polygon",
                      "coordinates": [
                        [
                          [
                            299843.75,
                            4120156.25
                          ],
                          [
                            299843.75,
                            4114843.75
                          ],
                          [
                            301890.56396484375,
                            4114843.75
                          ],
                          [
                            301911.92626953125,
                            4115771.1791992188
                          ],
                          [
                            301878.96728515625,
                            4116353.759765625
                          ],
                          [
                            301924.13330078125,
                            4116661.0717773438
                          ],
                          [
                            301947.021484375,
                            4116995.2392578125
                          ],
                          [
                            302030.6396484375,
                            4120156.25
                          ],
                          [
                            299843.75,
                            4120156.25
                          ]
                        ]
                      ]
                    },
                    "grid:code": "MXRA-Z37-031133013000",
                    "proj:bbox": "299843.75,4114843.75,302030.6396484375,4120156.25",
                    "tile:data_area": 11.2,
                    "tile:clouds_area": 4.6,
                    "tile:clouds_percent": 41,
                    "visual": "https://maxar-opendata.s3.amazonaws.com/events/Kahramanmaras-turkey-earthquake-23/ard/37/031133013000/2023-02-07/1050050044DE7E00-visual.tif",
                    "style": {
                      "color": "black",
                      "fillColor": "black"
                    }
                  },
                  "geometry": {
                    "type": "Polygon",
                    "coordinates": [
                      [
                        [
                          36.74449380602211,
                          37.206434937218546
                        ],
                        [
                          36.745916898726904,
                          37.15858443434944
                        ],
                        [
                          36.768951319957644,
                          37.15902052158359
                        ],
                        [
                          36.768946092979455,
                          37.16737871042396
                        ],
                        [
                          36.76842075637593,
                          37.172619209840796
                        ],
                        [
                          36.768847709531485,
                          37.175396842940465
                        ],
                        [
                          36.769016795804596,
                          37.17841164602534
                        ],
                        [
                          36.76912013434613,
                          37.20690150851475
                        ],
                        [
                          36.74449380602211,
                          37.206434937218546
                        ]
                      ]
                    ]
                  },
                  "bbox": [
                    36.74449380602211,
                    37.15858443434944,
                    36.76912013434613,
                    37.20690150851475
                  ]
                },
                {
                  "id": "29",
                  "type": "Feature",
                  "properties": {
                    "datetime": "2023-02-07T08:39:02Z",
                    "platform": "GE01",
                    "gsd": 0.47,
                    "ard_metadata_version": "0.0.1",
                    "catalog_id": "1050050044DE7E00",
                    "utm_zone": 37,
                    "quadkey": "031133013002",
                    "view:off_nadir": 22.1,
                    "view:azimuth": 312.7,
                    "view:incidence_angle": 65.4,
                    "view:sun_azimuth": 159.7,
                    "view:sun_elevation": 35.3,
                    "proj:epsg": 32637,
                    "proj:geometry": {
                      "type": "Polygon",
                      "coordinates": [
                        [
                          [
                            299843.75,
                            4115156.25
                          ],
                          [
                            299843.75,
                            4109843.75
                          ],
                          [
                            301749.267578125,
                            4109843.75
                          ],
                          [
                            301898.8037109375,
                            4115156.25
                          ],
                          [
                            299843.75,
                            4115156.25
                          ]
                        ]
                      ]
                    },
                    "grid:code": "MXRA-Z37-031133013002",
                    "proj:bbox": "299843.75,4109843.75,301898.8037109375,4115156.25",
                    "tile:data_area": 10.5,
                    "tile:clouds_area": 10.4,
                    "tile:clouds_percent": 99,
                    "visual": "https://maxar-opendata.s3.amazonaws.com/events/Kahramanmaras-turkey-earthquake-23/ard/37/031133013002/2023-02-07/1050050044DE7E00-visual.tif",
                    "style": {
                      "color": "black",
                      "fillColor": "black"
                    }
                  },
                  "geometry": {
                    "type": "Polygon",
                    "coordinates": [
                      [
                        [
                          36.74583328042832,
                          37.1613991818263
                        ],
                        [
                          36.74725321240399,
                          37.113548270578875
                        ],
                        [
                          36.76868481018602,
                          37.113953738773645
                        ],
                        [
                          36.76896128724796,
                          37.16183705995971
                        ],
                        [
                          36.74583328042832,
                          37.1613991818263
                        ]
                      ]
                    ]
                  },
                  "bbox": [
                    36.74583328042832,
                    37.113548270578875,
                    36.76896128724796,
                    37.16183705995971
                  ]
                },
                {
                  "id": "30",
                  "type": "Feature",
                  "properties": {
                    "datetime": "2023-02-07T08:39:01Z",
                    "platform": "GE01",
                    "gsd": 0.48,
                    "ard_metadata_version": "0.0.1",
                    "catalog_id": "1050050044DE7E00",
                    "utm_zone": 37,
                    "quadkey": "031133013020",
                    "view:off_nadir": 22.5,
                    "view:azimuth": 314.8,
                    "view:incidence_angle": 64.9,
                    "view:sun_azimuth": 159.7,
                    "view:sun_elevation": 35.3,
                    "proj:epsg": 32637,
                    "proj:geometry": {
                      "type": "Polygon",
                      "coordinates": [
                        [
                          [
                            299843.75,
                            4110156.25
                          ],
                          [
                            299843.75,
                            4104843.75
                          ],
                          [
                            301611.02294921875,
                            4104843.75
                          ],
                          [
                            301757.8125,
                            4110156.25
                          ],
                          [
                            299843.75,
                            4110156.25
                          ]
                        ]
                      ]
                    },
                    "grid:code": "MXRA-Z37-031133013020",
                    "proj:bbox": "299843.75,4104843.75,301757.8125,4110156.25",
                    "tile:data_area": 9.7,
                    "tile:clouds_area": 9.7,
                    "tile:clouds_percent": 99,
                    "visual": "https://maxar-opendata.s3.amazonaws.com/events/Kahramanmaras-turkey-earthquake-23/ard/37/031133013020/2023-02-07/1050050044DE7E00-visual.tif",
                    "style": {
                      "color": "black",
                      "fillColor": "black"
                    }
                  },
                  "geometry": {
                    "type": "Polygon",
                    "coordinates": [
                      [
                        [
                          36.747169779814406,
                          37.116363042069736
                        ],
                        [
                          36.74858655840413,
                          37.06851172272428
                        ],
                        [
                          36.76845154627115,
                          37.06888729419978
                        ],
                        [
                          36.76869828005878,
                          37.11677036111678
                        ],
                        [
                          36.747169779814406,
                          37.116363042069736
                        ]
                      ]
                    ]
                  },
                  "bbox": [
                    36.747169779814406,
                    37.06851172272428,
                    36.76869828005878,
                    37.11677036111678
                  ]
                },
                {
                  "id": "31",
                  "type": "Feature",
                  "properties": {
                    "datetime": "2023-02-07T08:39:00Z",
                    "platform": "GE01",
                    "gsd": 0.48,
                    "ard_metadata_version": "0.0.1",
                    "catalog_id": "1050050044DE7E00",
                    "utm_zone": 37,
                    "quadkey": "031133013022",
                    "view:off_nadir": 23,
                    "view:azimuth": 316.7,
                    "view:incidence_angle": 64.3,
                    "view:sun_azimuth": 159.6,
                    "view:sun_elevation": 35.4,
                    "proj:epsg": 32637,
                    "proj:geometry": {
                      "type": "Polygon",
                      "coordinates": [
                        [
                          [
                            299843.75,
                            4105156.25
                          ],
                          [
                            299843.75,
                            4099843.75
                          ],
                          [
                            301474.30419921875,
                            4099843.75
                          ],
                          [
                            301480.40771484375,
                            4100494.0795898438
                          ],
                          [
                            301502.0751953125,
                            4100881.34765625
                          ],
                          [
                            301558.837890625,
                            4103197.6318359375
                          ],
                          [
                            301620.4833984375,
                            4105156.25
                          ],
                          [
                            299843.75,
                            4105156.25
                          ]
                        ]
                      ]
                    },
                    "grid:code": "MXRA-Z37-031133013022",
                    "proj:bbox": "299843.75,4099843.75,301620.4833984375,4105156.25",
                    "tile:data_area": 9,
                    "tile:clouds_area": 9,
                    "tile:clouds_percent": 100,
                    "visual": "https://maxar-opendata.s3.amazonaws.com/events/Kahramanmaras-turkey-earthquake-23/ard/37/031133013022/2023-02-07/1050050044DE7E00-visual.tif",
                    "style": {
                      "color": "black",
                      "fillColor": "black"
                    }
                  },
                  "geometry": {
                    "type": "Polygon",
                    "coordinates": [
                      [
                        [
                          36.748503311092364,
                          37.07132651821264
                        ],
                        [
                          36.74991694361334,
                          37.02347479104987
                        ],
                        [
                          36.76823432630988,
                          37.02382086372526
                        ],
                        [
                          36.768131431989744,
                          37.029680018829026
                        ],
                        [
                          36.768272745243266,
                          37.03317292663148
                        ],
                        [
                          36.76829953135711,
                          37.0540488769577
                        ],
                        [
                          36.7684197219598,
                          37.060839083712025
                        ],
                        [
                          36.7684753768449,
                          37.07170412955844
                        ],
                        [
                          36.748503311092364,
                          37.07132651821264
                        ]
                      ]
                    ]
                  },
                  "bbox": [
                    36.748503311092364,
                    37.02347479104987,
                    36.7684753768449,
                    37.07170412955844
                  ]
                },
                {
                  "id": "32",
                  "type": "Feature",
                  "properties": {
                    "datetime": "2023-02-07T08:38:59Z",
                    "platform": "GE01",
                    "gsd": 0.48,
                    "ard_metadata_version": "0.0.1",
                    "catalog_id": "1050050044DE7E00",
                    "utm_zone": 37,
                    "quadkey": "031133013200",
                    "view:off_nadir": 23.5,
                    "view:azimuth": 318.4,
                    "view:incidence_angle": 63.7,
                    "view:sun_azimuth": 159.6,
                    "view:sun_elevation": 35.4,
                    "proj:epsg": 32637,
                    "proj:geometry": {
                      "type": "Polygon",
                      "coordinates": [
                        [
                          [
                            299843.75,
                            4100156.25
                          ],
                          [
                            299843.75,
                            4094843.75
                          ],
                          [
                            301379.08935546875,
                            4094843.75
                          ],
                          [
                            301459.3505859375,
                            4098269.04296875
                          ],
                          [
                            301454.4677734375,
                            4098803.7109375
                          ],
                          [
                            301478.8818359375,
                            4100156.25
                          ],
                          [
                            299843.75,
                            4100156.25
                          ]
                        ]
                      ]
                    },
                    "grid:code": "MXRA-Z37-031133013200",
                    "proj:bbox": "299843.75,4094843.75,301478.8818359375,4100156.25",
                    "tile:data_area": 8.4,
                    "tile:clouds_area": 8,
                    "tile:clouds_percent": 95,
                    "visual": "https://maxar-opendata.s3.amazonaws.com/events/Kahramanmaras-turkey-earthquake-23/ard/37/031133013200/2023-02-07/1050050044DE7E00-visual.tif",
                    "style": {
                      "color": "black",
                      "fillColor": "black"
                    }
                  },
                  "geometry": {
                    "type": "Polygon",
                    "coordinates": [
                      [
                        [
                          36.74983388114973,
                          37.02628961051924
                        ],
                        [
                          36.751244374893275,
                          36.97843747582043
                        ],
                        [
                          36.768481966217976,
                          36.97876288820408
                        ],
                        [
                          36.768481351972824,
                          37.009633453285275
                        ],
                        [
                          36.76828562650499,
                          37.014448473190505
                        ],
                        [
                          36.768203365429976,
                          37.026636686032916
                        ],
                        [
                          36.74983388114973,
                          37.02628961051924
                        ]
                      ]
                    ]
                  },
                  "bbox": [
                    36.74983388114973,
                    36.97843747582043,
                    36.768481966217976,
                    37.026636686032916
                  ]
                },
                {
                  "id": "33",
                  "type": "Feature",
                  "properties": {
                    "datetime": "2023-02-07T08:38:59Z",
                    "platform": "GE01",
                    "gsd": 0.48,
                    "ard_metadata_version": "0.0.1",
                    "catalog_id": "1050050044DE7E00",
                    "utm_zone": 37,
                    "quadkey": "031133013202",
                    "view:off_nadir": 23.8,
                    "view:azimuth": 319.4,
                    "view:incidence_angle": 63.5,
                    "view:sun_azimuth": 159.6,
                    "view:sun_elevation": 35.4,
                    "proj:epsg": 32637,
                    "proj:geometry": {
                      "type": "Polygon",
                      "coordinates": [
                        [
                          [
                            299843.75,
                            4095156.25
                          ],
                          [
                            299843.75,
                            4092851.2573242188
                          ],
                          [
                            301329.04052734375,
                            4092643.4326171875
                          ],
                          [
                            301386.71875,
                            4095156.25
                          ],
                          [
                            299843.75,
                            4095156.25
                          ]
                        ]
                      ]
                    },
                    "grid:code": "MXRA-Z37-031133013202",
                    "proj:bbox": "299843.75,4092643.4326171875,301386.71875,4095156.25",
                    "tile:data_area": 3.6,
                    "tile:clouds_area": 1.8,
                    "tile:clouds_percent": 51,
                    "visual": "https://maxar-opendata.s3.amazonaws.com/events/Kahramanmaras-turkey-earthquake-23/ard/37/031133013202/2023-02-07/1050050044DE7E00-visual.tif",
                    "style": {
                      "color": "black",
                      "fillColor": "black"
                    }
                  },
                  "geometry": {
                    "type": "Polygon",
                    "coordinates": [
                      [
                        [
                          36.75116149684969,
                          36.98125231925421
                        ],
                        [
                          36.75177253272608,
                          36.960490064855634
                        ],
                        [
                          36.76849895641563,
                          36.95893269570756
                        ],
                        [
                          36.76848538290139,
                          36.98157937565941
                        ],
                        [
                          36.75116149684969,
                          36.98125231925421
                        ]
                      ]
                    ]
                  },
                  "bbox": [
                    36.75116149684969,
                    36.95893269570756,
                    36.76849895641563,
                    36.98157937565941
                  ]
                }
              ],
              "bbox": [
                36.566276833224975,
                36.95893269570756,
                36.769122320104394,
                37.2221669589583
              ]
            },
            "hover_style": {
              "weight": 4,
              "fillOpacity": 0
            },
            "layers": [],
            "name": "Footprints",
            "options": [],
            "pane": "",
            "point_style": {},
            "popup": null,
            "popup_max_height": null,
            "popup_max_width": 300,
            "popup_min_width": 50,
            "style": {
              "color": "#3388ff",
              "weight": 2,
              "opacity": 1,
              "fill": true,
              "fillColor": "#3388ff",
              "fillOpacity": 0.2
            },
            "subitems": [],
            "visible": true
          }
        },
        "0c540a687b97466bb0cf8bc2fa488835": {
          "model_module": "@jupyter-widgets/base",
          "model_name": "LayoutModel",
          "model_module_version": "1.2.0",
          "state": {
            "_model_module": "@jupyter-widgets/base",
            "_model_module_version": "1.2.0",
            "_model_name": "LayoutModel",
            "_view_count": null,
            "_view_module": "@jupyter-widgets/base",
            "_view_module_version": "1.2.0",
            "_view_name": "LayoutView",
            "align_content": null,
            "align_items": null,
            "align_self": null,
            "border": null,
            "bottom": null,
            "display": null,
            "flex": null,
            "flex_flow": null,
            "grid_area": null,
            "grid_auto_columns": null,
            "grid_auto_flow": null,
            "grid_auto_rows": null,
            "grid_column": null,
            "grid_gap": null,
            "grid_row": null,
            "grid_template_areas": null,
            "grid_template_columns": null,
            "grid_template_rows": null,
            "height": "600px",
            "justify_content": null,
            "justify_items": null,
            "left": null,
            "margin": null,
            "max_height": null,
            "max_width": null,
            "min_height": null,
            "min_width": null,
            "object_fit": null,
            "object_position": null,
            "order": null,
            "overflow": null,
            "overflow_x": null,
            "overflow_y": null,
            "padding": null,
            "right": null,
            "top": null,
            "visibility": null,
            "width": null
          }
        },
        "a0498b0388a64d4597ec7295716b0c5b": {
          "model_module": "jupyter-leaflet",
          "model_name": "LeafletMapStyleModel",
          "model_module_version": "^0.18",
          "state": {
            "_model_module": "jupyter-leaflet",
            "_model_module_version": "^0.18",
            "_model_name": "LeafletMapStyleModel",
            "_view_count": null,
            "_view_module": "@jupyter-widgets/base",
            "_view_module_version": "1.2.0",
            "_view_name": "StyleView",
            "cursor": "grab"
          }
        },
        "9bf185ad2ce34009ae2dfa039adab33c": {
          "model_module": "@jupyter-widgets/controls",
          "model_name": "VBoxModel",
          "model_module_version": "1.5.0",
          "state": {
            "_dom_classes": [],
            "_model_module": "@jupyter-widgets/controls",
            "_model_module_version": "1.5.0",
            "_model_name": "VBoxModel",
            "_view_count": null,
            "_view_module": "@jupyter-widgets/controls",
            "_view_module_version": "1.5.0",
            "_view_name": "VBoxView",
            "box_style": "",
            "children": [
              "IPY_MODEL_f34e285cc89f4050ad5db6cb52863dd6"
            ],
            "layout": "IPY_MODEL_412e8fac636246828faa54c1ad7c2753"
          }
        },
        "f219a1f0257440d0ad2cb76b2bb31cd2": {
          "model_module": "@jupyter-widgets/controls",
          "model_name": "VBoxModel",
          "model_module_version": "1.5.0",
          "state": {
            "_dom_classes": [],
            "_model_module": "@jupyter-widgets/controls",
            "_model_module_version": "1.5.0",
            "_model_name": "VBoxModel",
            "_view_count": null,
            "_view_module": "@jupyter-widgets/controls",
            "_view_module_version": "1.5.0",
            "_view_name": "VBoxView",
            "box_style": "",
            "children": [
              "IPY_MODEL_e9a9c3dc4fb9477c806c0122c7d39230",
              "IPY_MODEL_f150128540484c81850667f4dfb261d2"
            ],
            "layout": "IPY_MODEL_3c2ce9f2b01f47ba88e9ec53587cb268"
          }
        },
        "f34e285cc89f4050ad5db6cb52863dd6": {
          "model_module": "@jupyter-widgets/controls",
          "model_name": "ToggleButtonModel",
          "model_module_version": "1.5.0",
          "state": {
            "_dom_classes": [],
            "_model_module": "@jupyter-widgets/controls",
            "_model_module_version": "1.5.0",
            "_model_name": "ToggleButtonModel",
            "_view_count": null,
            "_view_module": "@jupyter-widgets/controls",
            "_view_module_version": "1.5.0",
            "_view_name": "ToggleButtonView",
            "button_style": "",
            "description": "",
            "description_tooltip": null,
            "disabled": false,
            "icon": "wrench",
            "layout": "IPY_MODEL_6ab4e2513c914d0886b69d3c6d781d15",
            "style": "IPY_MODEL_3cc6ae07d3c14bd385414983a8a5b092",
            "tooltip": "Toolbar",
            "value": false
          }
        },
        "412e8fac636246828faa54c1ad7c2753": {
          "model_module": "@jupyter-widgets/base",
          "model_name": "LayoutModel",
          "model_module_version": "1.2.0",
          "state": {
            "_model_module": "@jupyter-widgets/base",
            "_model_module_version": "1.2.0",
            "_model_name": "LayoutModel",
            "_view_count": null,
            "_view_module": "@jupyter-widgets/base",
            "_view_module_version": "1.2.0",
            "_view_name": "LayoutView",
            "align_content": null,
            "align_items": null,
            "align_self": null,
            "border": null,
            "bottom": null,
            "display": null,
            "flex": null,
            "flex_flow": null,
            "grid_area": null,
            "grid_auto_columns": null,
            "grid_auto_flow": null,
            "grid_auto_rows": null,
            "grid_column": null,
            "grid_gap": null,
            "grid_row": null,
            "grid_template_areas": null,
            "grid_template_columns": null,
            "grid_template_rows": null,
            "height": null,
            "justify_content": null,
            "justify_items": null,
            "left": null,
            "margin": null,
            "max_height": null,
            "max_width": null,
            "min_height": null,
            "min_width": null,
            "object_fit": null,
            "object_position": null,
            "order": null,
            "overflow": null,
            "overflow_x": null,
            "overflow_y": null,
            "padding": null,
            "right": null,
            "top": null,
            "visibility": null,
            "width": null
          }
        },
        "e9a9c3dc4fb9477c806c0122c7d39230": {
          "model_module": "@jupyter-widgets/controls",
          "model_name": "HBoxModel",
          "model_module_version": "1.5.0",
          "state": {
            "_dom_classes": [],
            "_model_module": "@jupyter-widgets/controls",
            "_model_module_version": "1.5.0",
            "_model_name": "HBoxModel",
            "_view_count": null,
            "_view_module": "@jupyter-widgets/controls",
            "_view_module_version": "1.5.0",
            "_view_name": "HBoxView",
            "box_style": "",
            "children": [
              "IPY_MODEL_f45555820bad4ae3a45a6d479e0aeb33",
              "IPY_MODEL_8e6b3509ad1d4022a56bcc27f1cec6b3"
            ],
            "layout": "IPY_MODEL_a3c213020c3a45a4a9183199feb0d84a"
          }
        },
        "f150128540484c81850667f4dfb261d2": {
          "model_module": "@jupyter-widgets/controls",
          "model_name": "HTMLModel",
          "model_module_version": "1.5.0",
          "state": {
            "_dom_classes": [],
            "_model_module": "@jupyter-widgets/controls",
            "_model_module_version": "1.5.0",
            "_model_name": "HTMLModel",
            "_view_count": null,
            "_view_module": "@jupyter-widgets/controls",
            "_view_module_version": "1.5.0",
            "_view_name": "HTMLView",
            "description": "",
            "description_tooltip": null,
            "layout": "IPY_MODEL_b8129f30548249c199eba57b393e2236",
            "placeholder": "​",
            "style": "IPY_MODEL_29ac7a88e89648298bf0d76d0f840cbb",
            "value": ""
          }
        },
        "3c2ce9f2b01f47ba88e9ec53587cb268": {
          "model_module": "@jupyter-widgets/base",
          "model_name": "LayoutModel",
          "model_module_version": "1.2.0",
          "state": {
            "_model_module": "@jupyter-widgets/base",
            "_model_module_version": "1.2.0",
            "_model_name": "LayoutModel",
            "_view_count": null,
            "_view_module": "@jupyter-widgets/base",
            "_view_module_version": "1.2.0",
            "_view_name": "LayoutView",
            "align_content": null,
            "align_items": null,
            "align_self": null,
            "border": null,
            "bottom": null,
            "display": null,
            "flex": null,
            "flex_flow": null,
            "grid_area": null,
            "grid_auto_columns": null,
            "grid_auto_flow": null,
            "grid_auto_rows": null,
            "grid_column": null,
            "grid_gap": null,
            "grid_row": null,
            "grid_template_areas": null,
            "grid_template_columns": null,
            "grid_template_rows": null,
            "height": null,
            "justify_content": null,
            "justify_items": null,
            "left": null,
            "margin": null,
            "max_height": null,
            "max_width": null,
            "min_height": null,
            "min_width": null,
            "object_fit": null,
            "object_position": null,
            "order": null,
            "overflow": null,
            "overflow_x": null,
            "overflow_y": null,
            "padding": null,
            "right": null,
            "top": null,
            "visibility": null,
            "width": null
          }
        },
        "6ab4e2513c914d0886b69d3c6d781d15": {
          "model_module": "@jupyter-widgets/base",
          "model_name": "LayoutModel",
          "model_module_version": "1.2.0",
          "state": {
            "_model_module": "@jupyter-widgets/base",
            "_model_module_version": "1.2.0",
            "_model_name": "LayoutModel",
            "_view_count": null,
            "_view_module": "@jupyter-widgets/base",
            "_view_module_version": "1.2.0",
            "_view_name": "LayoutView",
            "align_content": null,
            "align_items": null,
            "align_self": null,
            "border": null,
            "bottom": null,
            "display": null,
            "flex": null,
            "flex_flow": null,
            "grid_area": null,
            "grid_auto_columns": null,
            "grid_auto_flow": null,
            "grid_auto_rows": null,
            "grid_column": null,
            "grid_gap": null,
            "grid_row": null,
            "grid_template_areas": null,
            "grid_template_columns": null,
            "grid_template_rows": null,
            "height": "28px",
            "justify_content": null,
            "justify_items": null,
            "left": null,
            "margin": null,
            "max_height": null,
            "max_width": null,
            "min_height": null,
            "min_width": null,
            "object_fit": null,
            "object_position": null,
            "order": null,
            "overflow": null,
            "overflow_x": null,
            "overflow_y": null,
            "padding": "0px 0px 0px 4px",
            "right": null,
            "top": null,
            "visibility": null,
            "width": "28px"
          }
        },
        "3cc6ae07d3c14bd385414983a8a5b092": {
          "model_module": "@jupyter-widgets/controls",
          "model_name": "DescriptionStyleModel",
          "model_module_version": "1.5.0",
          "state": {
            "_model_module": "@jupyter-widgets/controls",
            "_model_module_version": "1.5.0",
            "_model_name": "DescriptionStyleModel",
            "_view_count": null,
            "_view_module": "@jupyter-widgets/base",
            "_view_module_version": "1.2.0",
            "_view_name": "StyleView",
            "description_width": ""
          }
        },
        "f45555820bad4ae3a45a6d479e0aeb33": {
          "model_module": "@jupyter-widgets/controls",
          "model_name": "ToggleButtonModel",
          "model_module_version": "1.5.0",
          "state": {
            "_dom_classes": [],
            "_model_module": "@jupyter-widgets/controls",
            "_model_module_version": "1.5.0",
            "_model_name": "ToggleButtonModel",
            "_view_count": null,
            "_view_module": "@jupyter-widgets/controls",
            "_view_module_version": "1.5.0",
            "_view_name": "ToggleButtonView",
            "button_style": "",
            "description": "",
            "description_tooltip": null,
            "disabled": false,
            "icon": "info",
            "layout": "IPY_MODEL_164da2a197f14160b04123c9d96a02d5",
            "style": "IPY_MODEL_079d7155e22c4728ad0ada75a4c032a8",
            "tooltip": "Toolbar",
            "value": true
          }
        },
        "8e6b3509ad1d4022a56bcc27f1cec6b3": {
          "model_module": "@jupyter-widgets/controls",
          "model_name": "ToggleButtonModel",
          "model_module_version": "1.5.0",
          "state": {
            "_dom_classes": [],
            "_model_module": "@jupyter-widgets/controls",
            "_model_module_version": "1.5.0",
            "_model_name": "ToggleButtonModel",
            "_view_count": null,
            "_view_module": "@jupyter-widgets/controls",
            "_view_module_version": "1.5.0",
            "_view_name": "ToggleButtonView",
            "button_style": "",
            "description": "",
            "description_tooltip": null,
            "disabled": false,
            "icon": "times",
            "layout": "IPY_MODEL_30d4be09e3f84b98b0070d8c52cb3bf8",
            "style": "IPY_MODEL_99c517c4de8f4a60b190c6e81d0c52ef",
            "tooltip": "Close the tool",
            "value": false
          }
        },
        "a3c213020c3a45a4a9183199feb0d84a": {
          "model_module": "@jupyter-widgets/base",
          "model_name": "LayoutModel",
          "model_module_version": "1.2.0",
          "state": {
            "_model_module": "@jupyter-widgets/base",
            "_model_module_version": "1.2.0",
            "_model_name": "LayoutModel",
            "_view_count": null,
            "_view_module": "@jupyter-widgets/base",
            "_view_module_version": "1.2.0",
            "_view_name": "LayoutView",
            "align_content": null,
            "align_items": null,
            "align_self": null,
            "border": null,
            "bottom": null,
            "display": null,
            "flex": null,
            "flex_flow": null,
            "grid_area": null,
            "grid_auto_columns": null,
            "grid_auto_flow": null,
            "grid_auto_rows": null,
            "grid_column": null,
            "grid_gap": null,
            "grid_row": null,
            "grid_template_areas": null,
            "grid_template_columns": null,
            "grid_template_rows": null,
            "height": null,
            "justify_content": null,
            "justify_items": null,
            "left": null,
            "margin": null,
            "max_height": null,
            "max_width": null,
            "min_height": null,
            "min_width": null,
            "object_fit": null,
            "object_position": null,
            "order": null,
            "overflow": null,
            "overflow_x": null,
            "overflow_y": null,
            "padding": null,
            "right": null,
            "top": null,
            "visibility": null,
            "width": null
          }
        },
        "b8129f30548249c199eba57b393e2236": {
          "model_module": "@jupyter-widgets/base",
          "model_name": "LayoutModel",
          "model_module_version": "1.2.0",
          "state": {
            "_model_module": "@jupyter-widgets/base",
            "_model_module_version": "1.2.0",
            "_model_name": "LayoutModel",
            "_view_count": null,
            "_view_module": "@jupyter-widgets/base",
            "_view_module_version": "1.2.0",
            "_view_name": "LayoutView",
            "align_content": null,
            "align_items": null,
            "align_self": null,
            "border": null,
            "bottom": null,
            "display": null,
            "flex": null,
            "flex_flow": null,
            "grid_area": null,
            "grid_auto_columns": null,
            "grid_auto_flow": null,
            "grid_auto_rows": null,
            "grid_column": null,
            "grid_gap": null,
            "grid_row": null,
            "grid_template_areas": null,
            "grid_template_columns": null,
            "grid_template_rows": null,
            "height": null,
            "justify_content": null,
            "justify_items": null,
            "left": null,
            "margin": "0px 10px 0px 10px",
            "max_height": "250px",
            "max_width": "250px",
            "min_height": null,
            "min_width": null,
            "object_fit": null,
            "object_position": null,
            "order": null,
            "overflow": null,
            "overflow_x": null,
            "overflow_y": null,
            "padding": null,
            "right": null,
            "top": null,
            "visibility": null,
            "width": null
          }
        },
        "29ac7a88e89648298bf0d76d0f840cbb": {
          "model_module": "@jupyter-widgets/controls",
          "model_name": "DescriptionStyleModel",
          "model_module_version": "1.5.0",
          "state": {
            "_model_module": "@jupyter-widgets/controls",
            "_model_module_version": "1.5.0",
            "_model_name": "DescriptionStyleModel",
            "_view_count": null,
            "_view_module": "@jupyter-widgets/base",
            "_view_module_version": "1.2.0",
            "_view_name": "StyleView",
            "description_width": ""
          }
        },
        "164da2a197f14160b04123c9d96a02d5": {
          "model_module": "@jupyter-widgets/base",
          "model_name": "LayoutModel",
          "model_module_version": "1.2.0",
          "state": {
            "_model_module": "@jupyter-widgets/base",
            "_model_module_version": "1.2.0",
            "_model_name": "LayoutModel",
            "_view_count": null,
            "_view_module": "@jupyter-widgets/base",
            "_view_module_version": "1.2.0",
            "_view_name": "LayoutView",
            "align_content": null,
            "align_items": null,
            "align_self": null,
            "border": null,
            "bottom": null,
            "display": null,
            "flex": null,
            "flex_flow": null,
            "grid_area": null,
            "grid_auto_columns": null,
            "grid_auto_flow": null,
            "grid_auto_rows": null,
            "grid_column": null,
            "grid_gap": null,
            "grid_row": null,
            "grid_template_areas": null,
            "grid_template_columns": null,
            "grid_template_rows": null,
            "height": "28px",
            "justify_content": null,
            "justify_items": null,
            "left": null,
            "margin": null,
            "max_height": null,
            "max_width": null,
            "min_height": null,
            "min_width": null,
            "object_fit": null,
            "object_position": null,
            "order": null,
            "overflow": null,
            "overflow_x": null,
            "overflow_y": null,
            "padding": "0px 0px 0px 4px",
            "right": null,
            "top": null,
            "visibility": null,
            "width": "28px"
          }
        },
        "079d7155e22c4728ad0ada75a4c032a8": {
          "model_module": "@jupyter-widgets/controls",
          "model_name": "DescriptionStyleModel",
          "model_module_version": "1.5.0",
          "state": {
            "_model_module": "@jupyter-widgets/controls",
            "_model_module_version": "1.5.0",
            "_model_name": "DescriptionStyleModel",
            "_view_count": null,
            "_view_module": "@jupyter-widgets/base",
            "_view_module_version": "1.2.0",
            "_view_name": "StyleView",
            "description_width": ""
          }
        },
        "30d4be09e3f84b98b0070d8c52cb3bf8": {
          "model_module": "@jupyter-widgets/base",
          "model_name": "LayoutModel",
          "model_module_version": "1.2.0",
          "state": {
            "_model_module": "@jupyter-widgets/base",
            "_model_module_version": "1.2.0",
            "_model_name": "LayoutModel",
            "_view_count": null,
            "_view_module": "@jupyter-widgets/base",
            "_view_module_version": "1.2.0",
            "_view_name": "LayoutView",
            "align_content": null,
            "align_items": null,
            "align_self": null,
            "border": null,
            "bottom": null,
            "display": null,
            "flex": null,
            "flex_flow": null,
            "grid_area": null,
            "grid_auto_columns": null,
            "grid_auto_flow": null,
            "grid_auto_rows": null,
            "grid_column": null,
            "grid_gap": null,
            "grid_row": null,
            "grid_template_areas": null,
            "grid_template_columns": null,
            "grid_template_rows": null,
            "height": "28px",
            "justify_content": null,
            "justify_items": null,
            "left": null,
            "margin": null,
            "max_height": null,
            "max_width": null,
            "min_height": null,
            "min_width": null,
            "object_fit": null,
            "object_position": null,
            "order": null,
            "overflow": null,
            "overflow_x": null,
            "overflow_y": null,
            "padding": "0px 0px 0px 4px",
            "right": null,
            "top": null,
            "visibility": null,
            "width": "28px"
          }
        },
        "99c517c4de8f4a60b190c6e81d0c52ef": {
          "model_module": "@jupyter-widgets/controls",
          "model_name": "DescriptionStyleModel",
          "model_module_version": "1.5.0",
          "state": {
            "_model_module": "@jupyter-widgets/controls",
            "_model_module_version": "1.5.0",
            "_model_name": "DescriptionStyleModel",
            "_view_count": null,
            "_view_module": "@jupyter-widgets/base",
            "_view_module_version": "1.2.0",
            "_view_name": "StyleView",
            "description_width": ""
          }
        },
        "88206e7eda1a4d2c8fc888220c24f8d8": {
          "model_module": "jupyter-leaflet",
          "model_name": "LeafletMapModel",
          "model_module_version": "^0.18",
          "state": {
            "_dom_classes": [],
            "_model_module": "jupyter-leaflet",
            "_model_module_version": "^0.18",
            "_model_name": "LeafletMapModel",
            "_view_count": null,
            "_view_module": "jupyter-leaflet",
            "_view_module_version": "^0.18",
            "_view_name": "LeafletMapView",
            "bottom": 204227,
            "bounce_at_zoom_limits": true,
            "box_zoom": true,
            "center": [
              37.07764101274631,
              36.53812408447266
            ],
            "close_popup_on_click": true,
            "controls": [
              "IPY_MODEL_fe2937042b9648659ad2f437576b82e2",
              "IPY_MODEL_20d87a160f854ebb967f15dbb6ba9375",
              "IPY_MODEL_41db3a9d47274a7496489dc4afca3c3b",
              "IPY_MODEL_a7b4cb77742c40579410c6bdf055ba0e",
              "IPY_MODEL_44be67f1b59a4b53a7a9a6ec7d02b8eb",
              "IPY_MODEL_0f86f459ce8f4d5f9075759009c33a87",
              "IPY_MODEL_3142c79bb45b4703adc1376094a7f940"
            ],
            "crs": {
              "name": "EPSG3857",
              "custom": false
            },
            "default_style": "IPY_MODEL_5932741a1c074931be5d98dbdfacda7e",
            "double_click_zoom": true,
            "dragging": true,
            "dragging_style": "IPY_MODEL_384e5420c19c49089d19baaa5d89477a",
            "east": 37.01293945312501,
            "fullscreen": false,
            "inertia": true,
            "inertia_deceleration": 3000,
            "inertia_max_speed": 1500,
            "interpolation": "bilinear",
            "keyboard": true,
            "keyboard_pan_offset": 80,
            "keyboard_zoom_offset": 1,
            "layers": [
              "IPY_MODEL_7e5ac0e34491406aa6a3a170ab7649b4",
              "IPY_MODEL_e2c00469172a43179c61ba7488d87f54",
              "IPY_MODEL_106541e9d36d4eed84e042b031ac6632"
            ],
            "layout": "IPY_MODEL_03f7198c4c9c4a7ab451b7784566dd01",
            "left": 314665,
            "max_zoom": 24,
            "min_zoom": null,
            "modisdate": "2024-04-10",
            "north": 37.24180850465067,
            "options": [
              "bounce_at_zoom_limits",
              "box_zoom",
              "center",
              "close_popup_on_click",
              "double_click_zoom",
              "dragging",
              "fullscreen",
              "inertia",
              "inertia_deceleration",
              "inertia_max_speed",
              "interpolation",
              "keyboard",
              "keyboard_pan_offset",
              "keyboard_zoom_offset",
              "max_zoom",
              "min_zoom",
              "prefer_canvas",
              "scroll_wheel_zoom",
              "tap",
              "tap_tolerance",
              "touch_zoom",
              "world_copy_jump",
              "zoom",
              "zoom_animation_threshold",
              "zoom_delta",
              "zoom_snap"
            ],
            "panes": {},
            "prefer_canvas": false,
            "right": 316048,
            "scroll_wheel_zoom": true,
            "south": 36.91311729030539,
            "style": "IPY_MODEL_5932741a1c074931be5d98dbdfacda7e",
            "tap": true,
            "tap_tolerance": 15,
            "top": 203627,
            "touch_zoom": true,
            "west": 36.06330871582032,
            "window_url": "https://dq4j6onoz6-496ff2e9c6d22116-0-colab.googleusercontent.com/outputframe.html?vrz=colab_20240410-060226_RC01_623688093",
            "world_copy_jump": false,
            "zoom": 11,
            "zoom_animation_threshold": 4,
            "zoom_delta": 1,
            "zoom_snap": 1
          }
        },
        "fe2937042b9648659ad2f437576b82e2": {
          "model_module": "jupyter-leaflet",
          "model_name": "LeafletZoomControlModel",
          "model_module_version": "^0.18",
          "state": {
            "_model_module": "jupyter-leaflet",
            "_model_module_version": "^0.18",
            "_model_name": "LeafletZoomControlModel",
            "_view_count": null,
            "_view_module": "jupyter-leaflet",
            "_view_module_version": "^0.18",
            "_view_name": "LeafletZoomControlView",
            "options": [
              "position",
              "zoom_in_text",
              "zoom_in_title",
              "zoom_out_text",
              "zoom_out_title"
            ],
            "position": "topleft",
            "zoom_in_text": "+",
            "zoom_in_title": "Zoom in",
            "zoom_out_text": "-",
            "zoom_out_title": "Zoom out"
          }
        },
        "20d87a160f854ebb967f15dbb6ba9375": {
          "model_module": "jupyter-leaflet",
          "model_name": "LeafletAttributionControlModel",
          "model_module_version": "^0.18",
          "state": {
            "_model_module": "jupyter-leaflet",
            "_model_module_version": "^0.18",
            "_model_name": "LeafletAttributionControlModel",
            "_view_count": null,
            "_view_module": "jupyter-leaflet",
            "_view_module_version": "^0.18",
            "_view_name": "LeafletAttributionControlView",
            "options": [
              "position",
              "prefix"
            ],
            "position": "bottomright",
            "prefix": "ipyleaflet"
          }
        },
        "41db3a9d47274a7496489dc4afca3c3b": {
          "model_module": "jupyter-leaflet",
          "model_name": "LeafletFullScreenControlModel",
          "model_module_version": "^0.18",
          "state": {
            "_model_module": "jupyter-leaflet",
            "_model_module_version": "^0.18",
            "_model_name": "LeafletFullScreenControlModel",
            "_view_count": null,
            "_view_module": "jupyter-leaflet",
            "_view_module_version": "^0.18",
            "_view_name": "LeafletFullScreenControlView",
            "options": [
              "position"
            ],
            "position": "topleft"
          }
        },
        "a7b4cb77742c40579410c6bdf055ba0e": {
          "model_module": "jupyter-leaflet",
          "model_name": "LeafletDrawControlModel",
          "model_module_version": "^0.18",
          "state": {
            "_model_module": "jupyter-leaflet",
            "_model_module_version": "^0.18",
            "_model_name": "LeafletDrawControlModel",
            "_view_count": null,
            "_view_module": "jupyter-leaflet",
            "_view_module_version": "^0.18",
            "_view_name": "LeafletDrawControlView",
            "circle": {
              "shapeOptions": {
                "color": "#3388ff"
              },
              "repeatMode": false
            },
            "circlemarker": {},
            "data": [],
            "edit": true,
            "marker": {
              "shapeOptions": {
                "color": "#3388ff"
              },
              "repeatMode": false
            },
            "options": [
              "position"
            ],
            "polygon": {
              "repeatMode": false
            },
            "polyline": {
              "repeatMode": false
            },
            "position": "topleft",
            "rectangle": {
              "shapeOptions": {
                "color": "#3388ff"
              },
              "repeatMode": false
            },
            "remove": true
          }
        },
        "44be67f1b59a4b53a7a9a6ec7d02b8eb": {
          "model_module": "jupyter-leaflet",
          "model_name": "LeafletScaleControlModel",
          "model_module_version": "^0.18",
          "state": {
            "_model_module": "jupyter-leaflet",
            "_model_module_version": "^0.18",
            "_model_name": "LeafletScaleControlModel",
            "_view_count": null,
            "_view_module": "jupyter-leaflet",
            "_view_module_version": "^0.18",
            "_view_name": "LeafletScaleControlView",
            "imperial": true,
            "max_width": 100,
            "metric": true,
            "options": [
              "imperial",
              "max_width",
              "metric",
              "position",
              "update_when_idle"
            ],
            "position": "bottomleft",
            "update_when_idle": false
          }
        },
        "0f86f459ce8f4d5f9075759009c33a87": {
          "model_module": "jupyter-leaflet",
          "model_name": "LeafletWidgetControlModel",
          "model_module_version": "^0.18",
          "state": {
            "_model_module": "jupyter-leaflet",
            "_model_module_version": "^0.18",
            "_model_name": "LeafletWidgetControlModel",
            "_view_count": null,
            "_view_module": "jupyter-leaflet",
            "_view_module_version": "^0.18",
            "_view_name": "LeafletWidgetControlView",
            "max_height": null,
            "max_width": null,
            "min_height": null,
            "min_width": null,
            "options": [
              "position",
              "transparent_bg"
            ],
            "position": "topright",
            "transparent_bg": false,
            "widget": "IPY_MODEL_b3b99cd9730c422fade5d73dbfd789f7"
          }
        },
        "3142c79bb45b4703adc1376094a7f940": {
          "model_module": "jupyter-leaflet",
          "model_name": "LeafletWidgetControlModel",
          "model_module_version": "^0.18",
          "state": {
            "_model_module": "jupyter-leaflet",
            "_model_module_version": "^0.18",
            "_model_name": "LeafletWidgetControlModel",
            "_view_count": null,
            "_view_module": "jupyter-leaflet",
            "_view_module_version": "^0.18",
            "_view_name": "LeafletWidgetControlView",
            "max_height": null,
            "max_width": null,
            "min_height": null,
            "min_width": null,
            "options": [
              "position",
              "transparent_bg"
            ],
            "position": "bottomright",
            "transparent_bg": false,
            "widget": "IPY_MODEL_a20653bee3e34930ac2d8b5f49284c09"
          }
        },
        "5932741a1c074931be5d98dbdfacda7e": {
          "model_module": "jupyter-leaflet",
          "model_name": "LeafletMapStyleModel",
          "model_module_version": "^0.18",
          "state": {
            "_model_module": "jupyter-leaflet",
            "_model_module_version": "^0.18",
            "_model_name": "LeafletMapStyleModel",
            "_view_count": null,
            "_view_module": "@jupyter-widgets/base",
            "_view_module_version": "1.2.0",
            "_view_name": "StyleView",
            "cursor": "grab"
          }
        },
        "384e5420c19c49089d19baaa5d89477a": {
          "model_module": "jupyter-leaflet",
          "model_name": "LeafletMapStyleModel",
          "model_module_version": "^0.18",
          "state": {
            "_model_module": "jupyter-leaflet",
            "_model_module_version": "^0.18",
            "_model_name": "LeafletMapStyleModel",
            "_view_count": null,
            "_view_module": "@jupyter-widgets/base",
            "_view_module_version": "1.2.0",
            "_view_name": "StyleView",
            "cursor": "move"
          }
        },
        "7e5ac0e34491406aa6a3a170ab7649b4": {
          "model_module": "jupyter-leaflet",
          "model_name": "LeafletTileLayerModel",
          "model_module_version": "^0.18",
          "state": {
            "_model_module": "jupyter-leaflet",
            "_model_module_version": "^0.18",
            "_model_name": "LeafletTileLayerModel",
            "_view_count": null,
            "_view_module": "jupyter-leaflet",
            "_view_module_version": "^0.18",
            "_view_name": "LeafletTileLayerView",
            "attribution": "&copy; <a href=\"https://www.openstreetmap.org/copyright\">OpenStreetMap</a> contributors",
            "base": true,
            "bottom": true,
            "bounds": null,
            "detect_retina": false,
            "loading": false,
            "max_native_zoom": null,
            "max_zoom": 19,
            "min_native_zoom": null,
            "min_zoom": 1,
            "name": "OpenStreetMap",
            "no_wrap": false,
            "opacity": 1,
            "options": [
              "attribution",
              "bounds",
              "detect_retina",
              "max_native_zoom",
              "max_zoom",
              "min_native_zoom",
              "min_zoom",
              "no_wrap",
              "tile_size",
              "tms",
              "zoom_offset"
            ],
            "pane": "",
            "popup": null,
            "popup_max_height": null,
            "popup_max_width": 300,
            "popup_min_width": 50,
            "show_loading": false,
            "subitems": [],
            "tile_size": 256,
            "tms": false,
            "url": "https://tile.openstreetmap.org/{z}/{x}/{y}.png",
            "visible": true,
            "zoom_offset": 0
          }
        },
        "e2c00469172a43179c61ba7488d87f54": {
          "model_module": "jupyter-leaflet",
          "model_name": "LeafletTileLayerModel",
          "model_module_version": "^0.18",
          "state": {
            "_model_module": "jupyter-leaflet",
            "_model_module_version": "^0.18",
            "_model_name": "LeafletTileLayerModel",
            "_view_count": null,
            "_view_module": "jupyter-leaflet",
            "_view_module_version": "^0.18",
            "_view_name": "LeafletTileLayerView",
            "attribution": "",
            "base": false,
            "bottom": true,
            "bounds": null,
            "detect_retina": false,
            "loading": false,
            "max_native_zoom": 30,
            "max_zoom": 30,
            "min_native_zoom": null,
            "min_zoom": 0,
            "name": "Mosaic",
            "no_wrap": false,
            "opacity": 1,
            "options": [
              "attribution",
              "bounds",
              "detect_retina",
              "max_native_zoom",
              "max_zoom",
              "min_native_zoom",
              "min_zoom",
              "no_wrap",
              "tile_size",
              "tms",
              "zoom_offset"
            ],
            "pane": "",
            "popup": null,
            "popup_max_height": null,
            "popup_max_width": 300,
            "popup_min_width": 50,
            "show_loading": false,
            "subitems": [],
            "tile_size": 256,
            "tms": false,
            "url": "https://titiler.xyz/mosaicjson/tiles/WebMercatorQuad/{z}/{x}/{y}@1x?url=https%3A%2F%2Fgeospatial.glitch.me%2F1050050044DE7E00.json",
            "visible": true,
            "zoom_offset": 0
          }
        },
        "106541e9d36d4eed84e042b031ac6632": {
          "model_module": "jupyter-leaflet",
          "model_name": "LeafletGeoJSONModel",
          "model_module_version": "^0.18",
          "state": {
            "_model_module": "jupyter-leaflet",
            "_model_module_version": "^0.18",
            "_model_name": "LeafletGeoJSONModel",
            "_view_count": null,
            "_view_module": "jupyter-leaflet",
            "_view_module_version": "^0.18",
            "_view_name": "LeafletGeoJSONView",
            "base": false,
            "bottom": false,
            "data": {
              "type": "FeatureCollection",
              "features": [
                {
                  "id": "0",
                  "type": "Feature",
                  "properties": {
                    "datetime": "2023-02-07T08:39:03Z",
                    "platform": "GE01",
                    "gsd": 0.46,
                    "ard_metadata_version": "0.0.1",
                    "catalog_id": "1050050044DE7E00",
                    "utm_zone": 37,
                    "quadkey": "031133010322",
                    "view:off_nadir": 20.8,
                    "view:azimuth": 312.2,
                    "view:incidence_angle": 66.9,
                    "view:sun_azimuth": 159.7,
                    "view:sun_elevation": 35.2,
                    "proj:epsg": 32637,
                    "proj:geometry": {
                      "type": "Polygon",
                      "coordinates": [
                        [
                          [
                            284487.9150390625,
                            4122282.1044921875
                          ],
                          [
                            284683.837890625,
                            4122277.83203125
                          ],
                          [
                            285156.25,
                            4122243.3471679688
                          ],
                          [
                            285156.25,
                            4119843.75
                          ],
                          [
                            284419.5556640625,
                            4119843.75
                          ],
                          [
                            284445.1904296875,
                            4120731.5063476562
                          ],
                          [
                            284431.7626953125,
                            4121143.798828125
                          ],
                          [
                            284447.021484375,
                            4121339.7216796875
                          ],
                          [
                            284443.05419921875,
                            4121493.2250976562
                          ],
                          [
                            284461.36474609375,
                            4121899.1088867188
                          ],
                          [
                            284487.9150390625,
                            4122282.1044921875
                          ]
                        ]
                      ]
                    },
                    "grid:code": "MXRA-Z37-031133010322",
                    "proj:bbox": "284419.5556640625,4119843.75,285156.25,4122282.1044921875",
                    "tile:data_area": 1.7,
                    "tile:clouds_area": 0.4,
                    "tile:clouds_percent": 26,
                    "visual": "https://maxar-opendata.s3.amazonaws.com/events/Kahramanmaras-turkey-earthquake-23/ard/37/031133010322/2023-02-07/1050050044DE7E00-visual.tif",
                    "style": {
                      "color": "black",
                      "fillColor": "black"
                    }
                  },
                  "geometry": {
                    "type": "Polygon",
                    "coordinates": [
                      [
                        [
                          36.570975787937265,
                          37.222160180383206
                        ],
                        [
                          36.57318344842727,
                          37.2221669589583
                        ],
                        [
                          36.578513570135016,
                          37.22196534122829
                        ],
                        [
                          36.57920447602127,
                          37.20035447470807
                        ],
                        [
                          36.57091041624839,
                          37.20018459898955
                        ],
                        [
                          36.57094265862702,
                          37.20818565177471
                        ],
                        [
                          36.5706723643652,
                          37.2118956501803
                        ],
                        [
                          36.57078757912559,
                          37.21366365381059
                        ],
                        [
                          36.57069855216751,
                          37.21515244420553
                        ],
                        [
                          36.570787467882965,
                          37.21870479705271
                        ],
                        [
                          36.57098144965415,
                          37.221233474519785
                        ],
                        [
                          36.570975787937265,
                          37.222160180383206
                        ]
                      ]
                    ]
                  },
                  "bbox": [
                    36.5706723643652,
                    37.20018459898955,
                    36.57920447602127,
                    37.2221669589583
                  ]
                },
                {
                  "id": "1",
                  "type": "Feature",
                  "properties": {
                    "datetime": "2023-02-07T08:39:03Z",
                    "platform": "GE01",
                    "gsd": 0.46,
                    "ard_metadata_version": "0.0.1",
                    "catalog_id": "1050050044DE7E00",
                    "utm_zone": 37,
                    "quadkey": "031133010323",
                    "view:off_nadir": 20.7,
                    "view:azimuth": 311.7,
                    "view:incidence_angle": 66.9,
                    "view:sun_azimuth": 159.7,
                    "view:sun_elevation": 35.2,
                    "proj:epsg": 32637,
                    "proj:geometry": {
                      "type": "Polygon",
                      "coordinates": [
                        [
                          [
                            284843.75,
                            4122264.0991210938
                          ],
                          [
                            284843.75,
                            4119843.75
                          ],
                          [
                            290156.25,
                            4119843.75
                          ],
                          [
                            290156.25,
                            4121743.1640625
                          ],
                          [
                            289952.69775390625,
                            4121748.6572265625
                          ],
                          [
                            289669.189453125,
                            4121820.3735351562
                          ],
                          [
                            289112.24365234375,
                            4121830.4443359375
                          ],
                          [
                            288835.44921875,
                            4121870.4223632812
                          ],
                          [
                            288029.47998046875,
                            4121893.6157226562
                          ],
                          [
                            287723.9990234375,
                            4121945.4956054688
                          ],
                          [
                            287469.482421875,
                            4121965.33203125
                          ],
                          [
                            287189.63623046875,
                            4122034.912109375
                          ],
                          [
                            286969.6044921875,
                            4122053.5278320312
                          ],
                          [
                            286717.22412109375,
                            4122111.81640625
                          ],
                          [
                            286407.77587890625,
                            4122122.4975585938
                          ],
                          [
                            286073.91357421875,
                            4122190.8569335938
                          ],
                          [
                            284843.75,
                            4122264.0991210938
                          ]
                        ]
                      ]
                    },
                    "grid:code": "MXRA-Z37-031133010323",
                    "proj:bbox": "284843.75,4119843.75,290156.25,4122264.0991210938",
                    "tile:data_area": 11.4,
                    "tile:clouds_area": 2.1,
                    "tile:clouds_percent": 18,
                    "visual": "https://maxar-opendata.s3.amazonaws.com/events/Kahramanmaras-turkey-earthquake-23/ard/37/031133010323/2023-02-07/1050050044DE7E00-visual.tif",
                    "style": {
                      "color": "black",
                      "fillColor": "black"
                    }
                  },
                  "geometry": {
                    "type": "Polygon",
                    "coordinates": [
                      [
                        [
                          36.57498829743425,
                          37.22208018808955
                        ],
                        [
                          36.575686191963385,
                          37.20028248558779
                        ],
                        [
                          36.63549870823818,
                          37.20149210546009
                        ],
                        [
                          36.634964565758715,
                          37.21859901173318
                        ],
                        [
                          36.63267067729961,
                          37.21860266537972
                        ],
                        [
                          36.629457679069056,
                          37.21918467629968
                        ],
                        [
                          36.62318267161057,
                          37.219149609337116
                        ],
                        [
                          36.620054186503836,
                          37.219447034910544
                        ],
                        [
                          36.61097104953142,
                          37.21947308929613
                        ],
                        [
                          36.60751607574589,
                          37.21987085164137
                        ],
                        [
                          36.604644147130294,
                          37.21999153751847
                        ],
                        [
                          36.60147276674302,
                          37.22055437396929
                        ],
                        [
                          36.59898951782077,
                          37.22067179583933
                        ],
                        [
                          36.5961306178358,
                          37.22113906712239
                        ],
                        [
                          36.59264263372485,
                          37.22116444140616
                        ],
                        [
                          36.58886316439615,
                          37.22170356808865
                        ],
                        [
                          36.57498829743425,
                          37.22208018808955
                        ]
                      ]
                    ]
                  },
                  "bbox": [
                    36.57498829743425,
                    37.20028248558779,
                    36.63549870823818,
                    37.22208018808955
                  ]
                },
                {
                  "id": "2",
                  "type": "Feature",
                  "properties": {
                    "datetime": "2023-02-07T08:39:03Z",
                    "platform": "GE01",
                    "gsd": 0.47,
                    "ard_metadata_version": "0.0.1",
                    "catalog_id": "1050050044DE7E00",
                    "utm_zone": 37,
                    "quadkey": "031133010332",
                    "view:off_nadir": 21,
                    "view:azimuth": 311.1,
                    "view:incidence_angle": 66.6,
                    "view:sun_azimuth": 159.7,
                    "view:sun_elevation": 35.2,
                    "proj:epsg": 32637,
                    "proj:geometry": {
                      "type": "Polygon",
                      "coordinates": [
                        [
                          [
                            289843.75,
                            4121777.34375
                          ],
                          [
                            289843.75,
                            4119843.75
                          ],
                          [
                            295156.25,
                            4119843.75
                          ],
                          [
                            295155.6396484375,
                            4121235.6567382812
                          ],
                          [
                            289843.75,
                            4121777.34375
                          ]
                        ]
                      ]
                    },
                    "grid:code": "MXRA-Z37-031133010332",
                    "proj:bbox": "289843.75,4119843.75,295156.25,4121777.34375",
                    "tile:data_area": 8.8,
                    "tile:clouds_area": 0.7,
                    "tile:clouds_percent": 8,
                    "visual": "https://maxar-opendata.s3.amazonaws.com/events/Kahramanmaras-turkey-earthquake-23/ard/37/031133010332/2023-02-07/1050050044DE7E00-visual.tif",
                    "style": {
                      "color": "black",
                      "fillColor": "black"
                    }
                  },
                  "geometry": {
                    "type": "Polygon",
                    "coordinates": [
                      [
                        [
                          36.63143566067438,
                          37.21883648441061
                        ],
                        [
                          36.631980226399016,
                          37.201421786405795
                        ],
                        [
                          36.691796065591966,
                          37.20260301269083
                        ],
                        [
                          36.69140711016489,
                          37.21513947184079
                        ],
                        [
                          36.63143566067438,
                          37.21883648441061
                        ]
                      ]
                    ]
                  },
                  "bbox": [
                    36.63143566067438,
                    37.201421786405795,
                    36.691796065591966,
                    37.21883648441061
                  ]
                },
                {
                  "id": "3",
                  "type": "Feature",
                  "properties": {
                    "datetime": "2023-02-07T08:39:03Z",
                    "platform": "GE01",
                    "gsd": 0.47,
                    "ard_metadata_version": "0.0.1",
                    "catalog_id": "1050050044DE7E00",
                    "utm_zone": 37,
                    "quadkey": "031133010333",
                    "view:off_nadir": 21.3,
                    "view:azimuth": 310.5,
                    "view:incidence_angle": 66.2,
                    "view:sun_azimuth": 159.7,
                    "view:sun_elevation": 35.2,
                    "proj:epsg": 32637,
                    "proj:geometry": {
                      "type": "Polygon",
                      "coordinates": [
                        [
                          [
                            294843.75,
                            4121247.55859375
                          ],
                          [
                            294843.75,
                            4119843.75
                          ],
                          [
                            300156.25,
                            4119843.75
                          ],
                          [
                            300155.33447265625,
                            4120462.646484375
                          ],
                          [
                            299011.8408203125,
                            4120608.8256835938
                          ],
                          [
                            298584.89990234375,
                            4120691.2231445312
                          ],
                          [
                            298392.9443359375,
                            4120712.5854492188
                          ],
                          [
                            298033.447265625,
                            4120794.3725585938
                          ],
                          [
                            297568.359375,
                            4120822.1435546875
                          ],
                          [
                            297308.04443359375,
                            4120887.451171875
                          ],
                          [
                            297005.615234375,
                            4120898.4375
                          ],
                          [
                            296583.8623046875,
                            4120940.2465820312
                          ],
                          [
                            296251.220703125,
                            4121000.9765625
                          ],
                          [
                            295773.92578125,
                            4121119.6899414062
                          ],
                          [
                            295255.7373046875,
                            4121225.2807617188
                          ],
                          [
                            294843.75,
                            4121247.55859375
                          ]
                        ]
                      ]
                    },
                    "grid:code": "MXRA-Z37-031133010333",
                    "proj:bbox": "294843.75,4119843.75,300156.25,4121247.55859375",
                    "tile:data_area": 5.3,
                    "tile:clouds_area": 0,
                    "tile:clouds_percent": 0,
                    "visual": "https://maxar-opendata.s3.amazonaws.com/events/Kahramanmaras-turkey-earthquake-23/ard/37/031133010333/2023-02-07/1050050044DE7E00-visual.tif",
                    "style": {
                      "color": "black",
                      "fillColor": "black"
                    }
                  },
                  "geometry": {
                    "type": "Polygon",
                    "coordinates": [
                      [
                        [
                          36.68789145446487,
                          37.21517812313962
                        ],
                        [
                          36.688277390602785,
                          37.202534363991525
                        ],
                        [
                          36.748096473968744,
                          37.20368719183437
                        ],
                        [
                          36.74792043906965,
                          37.20926147953711
                        ],
                        [
                          36.73500402306632,
                          37.21033247948369
                        ],
                        [
                          36.72800645213169,
                          37.21113350424626
                        ],
                        [
                          36.72393590565606,
                          37.211792399159656
                        ],
                        [
                          36.71869084427307,
                          37.21194172406625
                        ],
                        [
                          36.715741601336006,
                          37.21247342058846
                        ],
                        [
                          36.70757190903283,
                          37.21279131010831
                        ],
                        [
                          36.692537222151635,
                          37.21506799471842
                        ],
                        [
                          36.68789145446487,
                          37.21517812313962
                        ]
                      ]
                    ]
                  },
                  "bbox": [
                    36.68789145446487,
                    37.202534363991525,
                    36.748096473968744,
                    37.21517812313962
                  ]
                },
                {
                  "id": "4",
                  "type": "Feature",
                  "properties": {
                    "datetime": "2023-02-07T08:39:03Z",
                    "platform": "GE01",
                    "gsd": 0.47,
                    "ard_metadata_version": "0.0.1",
                    "catalog_id": "1050050044DE7E00",
                    "utm_zone": 37,
                    "quadkey": "031133011222",
                    "view:off_nadir": 21.5,
                    "view:azimuth": 310.4,
                    "view:incidence_angle": 66,
                    "view:sun_azimuth": 159.7,
                    "view:sun_elevation": 35.2,
                    "proj:epsg": 32637,
                    "proj:geometry": {
                      "type": "Polygon",
                      "coordinates": [
                        [
                          [
                            299843.75,
                            4120507.5073242188
                          ],
                          [
                            299843.75,
                            4119843.75
                          ],
                          [
                            302021.78955078125,
                            4119843.75
                          ],
                          [
                            302023.62060546875,
                            4119976.5014648438
                          ],
                          [
                            302030.6396484375,
                            4120148.0102539062
                          ],
                          [
                            302031.55517578125,
                            4120211.181640625
                          ],
                          [
                            301883.544921875,
                            4120228.5766601562
                          ],
                          [
                            301581.11572265625,
                            4120268.2495117188
                          ],
                          [
                            301185.60791015625,
                            4120328.6743164062
                          ],
                          [
                            301129.7607421875,
                            4120333.8623046875
                          ],
                          [
                            300935.97412109375,
                            4120346.0693359375
                          ],
                          [
                            300822.75390625,
                            4120359.4970703125
                          ],
                          [
                            300600.28076171875,
                            4120391.845703125
                          ],
                          [
                            300521.54541015625,
                            4120406.494140625
                          ],
                          [
                            300421.7529296875,
                            4120422.0581054688
                          ],
                          [
                            300294.7998046875,
                            4120447.6928710938
                          ],
                          [
                            300128.47900390625,
                            4120465.6982421875
                          ],
                          [
                            300044.25048828125,
                            4120477.6000976562
                          ],
                          [
                            299931.640625,
                            4120495.9106445312
                          ],
                          [
                            299843.75,
                            4120507.5073242188
                          ]
                        ]
                      ]
                    },
                    "grid:code": "MXRA-Z37-031133011222",
                    "proj:bbox": "299843.75,4119843.75,302031.55517578125,4120507.5073242188",
                    "tile:data_area": 1.1,
                    "tile:clouds_area": 0.2,
                    "tile:clouds_percent": 25,
                    "visual": "https://maxar-opendata.s3.amazonaws.com/events/Kahramanmaras-turkey-earthquake-23/ard/37/031133011222/2023-02-07/1050050044DE7E00-visual.tif",
                    "style": {
                      "color": "black",
                      "fillColor": "black"
                    }
                  },
                  "geometry": {
                    "type": "Polygon",
                    "coordinates": [
                      [
                        [
                          36.74439959396212,
                          37.209598750548835
                        ],
                        [
                          36.744577610462414,
                          37.2036202137722
                        ],
                        [
                          36.769103368203204,
                          37.20408486010994
                        ],
                        [
                          36.76908877453399,
                          37.20528097652292
                        ],
                        [
                          36.769095822632345,
                          37.20609245508642
                        ],
                        [
                          36.769122320104394,
                          37.2068272909461
                        ],
                        [
                          36.76911587226007,
                          37.207396486538585
                        ],
                        [
                          36.767444498074525,
                          37.20752175095105
                        ],
                        [
                          36.764028269459565,
                          37.20781482612917
                        ],
                        [
                          36.75955832034158,
                          37.208274888996556
                        ],
                        [
                          36.758928034501636,
                          37.208309715790676
                        ],
                        [
                          36.756742519769716,
                          37.20837833999904
                        ],
                        [
                          36.75546394722346,
                          37.20847512204648
                        ],
                        [
                          36.75295000284705,
                          37.2087189701068
                        ],
                        [
                          36.75205943550825,
                          37.20883407976841
                        ],
                        [
                          36.75093149268907,
                          37.20895292464721
                        ],
                        [
                          36.74949499041073,
                          37.20915665426516
                        ],
                        [
                          36.7476171966636,
                          37.20928321410241
                        ],
                        [
                          36.745392460361444,
                          37.20951315013265
                        ],
                        [
                          36.74439959396212,
                          37.209598750548835
                        ]
                      ]
                    ]
                  },
                  "bbox": [
                    36.74439959396212,
                    37.2036202137722,
                    36.769122320104394,
                    37.209598750548835
                  ]
                },
                {
                  "id": "5",
                  "type": "Feature",
                  "properties": {
                    "datetime": "2023-02-07T08:39:03Z",
                    "platform": "GE01",
                    "gsd": 0.46,
                    "ard_metadata_version": "0.0.1",
                    "catalog_id": "1050050044DE7E00",
                    "utm_zone": 37,
                    "quadkey": "031133012100",
                    "view:off_nadir": 21,
                    "view:azimuth": 313.4,
                    "view:incidence_angle": 66.6,
                    "view:sun_azimuth": 159.7,
                    "view:sun_elevation": 35.3,
                    "proj:epsg": 32637,
                    "proj:geometry": {
                      "type": "Polygon",
                      "coordinates": [
                        [
                          [
                            284429.931640625,
                            4120156.25
                          ],
                          [
                            285156.25,
                            4120156.25
                          ],
                          [
                            285156.25,
                            4114843.75
                          ],
                          [
                            284133.30078125,
                            4114843.75
                          ],
                          [
                            284124.755859375,
                            4115290.8325195312
                          ],
                          [
                            284182.43408203125,
                            4115708.9233398438
                          ],
                          [
                            284196.47216796875,
                            4115974.12109375
                          ],
                          [
                            284237.36572265625,
                            4116179.5043945312
                          ],
                          [
                            284245.60546875,
                            4116576.8432617188
                          ],
                          [
                            284284.36279296875,
                            4116822.8149414062
                          ],
                          [
                            284295.34912109375,
                            4117770.99609375
                          ],
                          [
                            284360.04638671875,
                            4118244.3237304688
                          ],
                          [
                            284356.0791015625,
                            4118473.5107421875
                          ],
                          [
                            284382.62939453125,
                            4118722.2290039062
                          ],
                          [
                            284429.931640625,
                            4120156.25
                          ]
                        ]
                      ]
                    },
                    "grid:code": "MXRA-Z37-031133012100",
                    "proj:bbox": "284124.755859375,4114843.75,285156.25,4120156.25",
                    "tile:data_area": 4.5,
                    "tile:clouds_area": 2,
                    "tile:clouds_percent": 44,
                    "visual": "https://maxar-opendata.s3.amazonaws.com/events/Kahramanmaras-turkey-earthquake-23/ard/37/031133012100/2023-02-07/1050050044DE7E00-visual.tif",
                    "style": {
                      "color": "black",
                      "fillColor": "black"
                    }
                  },
                  "geometry": {
                    "type": "Polygon",
                    "coordinates": [
                      [
                        [
                          36.570936995385686,
                          37.20300137105119
                        ],
                        [
                          36.57911454096447,
                          37.20316886710356
                        ],
                        [
                          36.58064173857684,
                          37.155323988813045
                        ],
                        [
                          36.56913172353687,
                          37.15508833115959
                        ],
                        [
                          36.568906579034,
                          37.15911280799943
                        ],
                        [
                          36.5694349680234,
                          37.162891475705045
                        ],
                        [
                          36.56951641698283,
                          37.16528310133957
                        ],
                        [
                          36.569917346001404,
                          37.16714223607616
                        ],
                        [
                          36.56989542281668,
                          37.17072259003766
                        ],
                        [
                          36.57026062906461,
                          37.17294677062388
                        ],
                        [
                          36.57011063350234,
                          37.18148865860431
                        ],
                        [
                          36.570702241587824,
                          37.1857664006434
                        ],
                        [
                          36.57059142986407,
                          37.18782954762315
                        ],
                        [
                          36.57081850455759,
                          37.190075640627676
                        ],
                        [
                          36.570936995385686,
                          37.20300137105119
                        ]
                      ]
                    ]
                  },
                  "bbox": [
                    36.568906579034,
                    37.15508833115959,
                    36.58064173857684,
                    37.20316886710356
                  ]
                },
                {
                  "id": "6",
                  "type": "Feature",
                  "properties": {
                    "datetime": "2023-02-07T08:39:03Z",
                    "platform": "GE01",
                    "gsd": 0.47,
                    "ard_metadata_version": "0.0.1",
                    "catalog_id": "1050050044DE7E00",
                    "utm_zone": 37,
                    "quadkey": "031133012101",
                    "view:off_nadir": 21,
                    "view:azimuth": 313,
                    "view:incidence_angle": 66.6,
                    "view:sun_azimuth": 159.7,
                    "view:sun_elevation": 35.2,
                    "proj:epsg": 32637,
                    "proj:geometry": {
                      "type": "Polygon",
                      "coordinates": [
                        [
                          [
                            284843.75,
                            4120156.25
                          ],
                          [
                            284843.75,
                            4114843.75
                          ],
                          [
                            290156.25,
                            4114843.75
                          ],
                          [
                            290156.25,
                            4120156.25
                          ],
                          [
                            284843.75,
                            4120156.25
                          ]
                        ]
                      ]
                    },
                    "grid:code": "MXRA-Z37-031133012101",
                    "proj:bbox": "284843.75,4114843.75,290156.25,4120156.25",
                    "tile:data_area": 28.2,
                    "tile:clouds_area": 13.3,
                    "tile:clouds_percent": 47,
                    "visual": "https://maxar-opendata.s3.amazonaws.com/events/Kahramanmaras-turkey-earthquake-23/ard/37/031133012101/2023-02-07/1050050044DE7E00-visual.tif",
                    "style": {
                      "color": "black",
                      "fillColor": "black"
                    }
                  },
                  "geometry": {
                    "type": "Polygon",
                    "coordinates": [
                      [
                        [
                          36.57559612651064,
                          37.20309687068599
                        ],
                        [
                          36.57712553839631,
                          37.15525211637687
                        ],
                        [
                          36.636902624832295,
                          37.15645977559877
                        ],
                        [
                          36.635410859762146,
                          37.20430661317501
                        ],
                        [
                          36.57559612651064,
                          37.20309687068599
                        ]
                      ]
                    ]
                  },
                  "bbox": [
                    36.57559612651064,
                    37.15525211637687,
                    36.636902624832295,
                    37.20430661317501
                  ]
                },
                {
                  "id": "7",
                  "type": "Feature",
                  "properties": {
                    "datetime": "2023-02-07T08:39:02Z",
                    "platform": "GE01",
                    "gsd": 0.47,
                    "ard_metadata_version": "0.0.1",
                    "catalog_id": "1050050044DE7E00",
                    "utm_zone": 37,
                    "quadkey": "031133012102",
                    "view:off_nadir": 21.5,
                    "view:azimuth": 315.5,
                    "view:incidence_angle": 66,
                    "view:sun_azimuth": 159.7,
                    "view:sun_elevation": 35.3,
                    "proj:epsg": 32637,
                    "proj:geometry": {
                      "type": "Polygon",
                      "coordinates": [
                        [
                          [
                            284122.9248046875,
                            4115156.25
                          ],
                          [
                            285156.25,
                            4115156.25
                          ],
                          [
                            285156.25,
                            4109843.75
                          ],
                          [
                            283877.25830078125,
                            4109843.75
                          ],
                          [
                            283980.712890625,
                            4111220.703125
                          ],
                          [
                            284023.13232421875,
                            4111586.3037109375
                          ],
                          [
                            284033.8134765625,
                            4112392.8833007812
                          ],
                          [
                            284062.5,
                            4112643.4326171875
                          ],
                          [
                            284085.99853515625,
                            4113215.33203125
                          ],
                          [
                            284081.11572265625,
                            4113789.3676757812
                          ],
                          [
                            284124.755859375,
                            4114150.6958007812
                          ],
                          [
                            284121.39892578125,
                            4114375
                          ],
                          [
                            284145.81298828125,
                            4114561.1572265625
                          ],
                          [
                            284122.9248046875,
                            4115156.25
                          ]
                        ]
                      ]
                    },
                    "grid:code": "MXRA-Z37-031133012102",
                    "proj:bbox": "283877.25830078125,4109843.75,285156.25,4115156.25",
                    "tile:data_area": 5.9,
                    "tile:clouds_area": 4.9,
                    "tile:clouds_percent": 83,
                    "visual": "https://maxar-opendata.s3.amazonaws.com/events/Kahramanmaras-turkey-earthquake-23/ard/37/031133012102/2023-02-07/1050050044DE7E00-visual.tif",
                    "style": {
                      "color": "black",
                      "fillColor": "black"
                    }
                  },
                  "geometry": {
                    "type": "Polygon",
                    "coordinates": [
                      [
                        [
                          36.56892481032786,
                          37.15790032778815
                        ],
                        [
                          36.58055200325364,
                          37.15813840562547
                        ],
                        [
                          36.58207580934252,
                          37.11029311239625
                        ],
                        [
                          36.567693387496185,
                          37.109998773390785
                        ],
                        [
                          36.5681553740862,
                          37.11584429360495
                        ],
                        [
                          36.56845997571472,
                          37.122423645769004
                        ],
                        [
                          36.56883169581763,
                          37.12572607292308
                        ],
                        [
                          36.56871932428712,
                          37.13299267194306
                        ],
                        [
                          36.56896977203251,
                          37.13525576337406
                        ],
                        [
                          36.569069215944076,
                          37.14041176257828
                        ],
                        [
                          36.56884873844383,
                          37.145580444512724
                        ],
                        [
                          36.569235498727245,
                          37.14884466710414
                        ],
                        [
                          36.569133032849834,
                          37.15086399093221
                        ],
                        [
                          36.56935402452474,
                          37.15254617205504
                        ],
                        [
                          36.56892481032786,
                          37.15790032778815
                        ]
                      ]
                    ]
                  },
                  "bbox": [
                    36.567693387496185,
                    37.109998773390785,
                    36.58207580934252,
                    37.15813840562547
                  ]
                },
                {
                  "id": "8",
                  "type": "Feature",
                  "properties": {
                    "datetime": "2023-02-07T08:39:02Z",
                    "platform": "GE01",
                    "gsd": 0.47,
                    "ard_metadata_version": "0.0.1",
                    "catalog_id": "1050050044DE7E00",
                    "utm_zone": 37,
                    "quadkey": "031133012103",
                    "view:off_nadir": 21.5,
                    "view:azimuth": 315.1,
                    "view:incidence_angle": 66,
                    "view:sun_azimuth": 159.7,
                    "view:sun_elevation": 35.3,
                    "proj:epsg": 32637,
                    "proj:geometry": {
                      "type": "Polygon",
                      "coordinates": [
                        [
                          [
                            284843.75,
                            4115156.25
                          ],
                          [
                            284843.75,
                            4109843.75
                          ],
                          [
                            290156.25,
                            4109843.75
                          ],
                          [
                            290156.25,
                            4115156.25
                          ],
                          [
                            284843.75,
                            4115156.25
                          ]
                        ]
                      ]
                    },
                    "grid:code": "MXRA-Z37-031133012103",
                    "proj:bbox": "284843.75,4109843.75,290156.25,4115156.25",
                    "tile:data_area": 28.2,
                    "tile:clouds_area": 24.8,
                    "tile:clouds_percent": 88,
                    "visual": "https://maxar-opendata.s3.amazonaws.com/events/Kahramanmaras-turkey-earthquake-23/ard/37/031133012103/2023-02-07/1050050044DE7E00-visual.tif",
                    "style": {
                      "color": "black",
                      "fillColor": "black"
                    }
                  },
                  "geometry": {
                    "type": "Polygon",
                    "coordinates": [
                      [
                        [
                          36.577035672966204,
                          37.15806652590054
                        ],
                        [
                          36.578561688420436,
                          37.110221356508106
                        ],
                        [
                          36.638303423553054,
                          37.111427057366086
                        ],
                        [
                          36.63681497146439,
                          37.15927430759603
                        ],
                        [
                          36.577035672966204,
                          37.15806652590054
                        ]
                      ]
                    ]
                  },
                  "bbox": [
                    36.577035672966204,
                    37.110221356508106,
                    36.638303423553054,
                    37.15927430759603
                  ]
                },
                {
                  "id": "9",
                  "type": "Feature",
                  "properties": {
                    "datetime": "2023-02-07T08:39:03Z",
                    "platform": "GE01",
                    "gsd": 0.47,
                    "ard_metadata_version": "0.0.1",
                    "catalog_id": "1050050044DE7E00",
                    "utm_zone": 37,
                    "quadkey": "031133012110",
                    "view:off_nadir": 21.3,
                    "view:azimuth": 312.1,
                    "view:incidence_angle": 66.3,
                    "view:sun_azimuth": 159.7,
                    "view:sun_elevation": 35.2,
                    "proj:epsg": 32637,
                    "proj:geometry": {
                      "type": "Polygon",
                      "coordinates": [
                        [
                          [
                            289843.75,
                            4120156.25
                          ],
                          [
                            289843.75,
                            4114843.75
                          ],
                          [
                            295156.25,
                            4114843.75
                          ],
                          [
                            295156.25,
                            4120156.25
                          ],
                          [
                            289843.75,
                            4120156.25
                          ]
                        ]
                      ]
                    },
                    "grid:code": "MXRA-Z37-031133012110",
                    "proj:bbox": "289843.75,4114843.75,295156.25,4120156.25",
                    "tile:data_area": 28.2,
                    "tile:clouds_area": 10.8,
                    "tile:clouds_percent": 38,
                    "visual": "https://maxar-opendata.s3.amazonaws.com/events/Kahramanmaras-turkey-earthquake-23/ard/37/031133012110/2023-02-07/1050050044DE7E00-visual.tif",
                    "style": {
                      "color": "black",
                      "fillColor": "black"
                    }
                  },
                  "geometry": {
                    "type": "Polygon",
                    "coordinates": [
                      [
                        [
                          36.631892247498236,
                          37.204236286992504
                        ],
                        [
                          36.63338622733042,
                          37.156389570525015
                        ],
                        [
                          36.69316662895682,
                          37.1575688821261
                        ],
                        [
                          36.69171030415179,
                          37.205417633019586
                        ],
                        [
                          36.631892247498236,
                          37.204236286992504
                        ]
                      ]
                    ]
                  },
                  "bbox": [
                    36.631892247498236,
                    37.156389570525015,
                    36.69316662895682,
                    37.205417633019586
                  ]
                },
                {
                  "id": "10",
                  "type": "Feature",
                  "properties": {
                    "datetime": "2023-02-07T08:39:03Z",
                    "platform": "GE01",
                    "gsd": 0.47,
                    "ard_metadata_version": "0.0.1",
                    "catalog_id": "1050050044DE7E00",
                    "utm_zone": 37,
                    "quadkey": "031133012111",
                    "view:off_nadir": 21.5,
                    "view:azimuth": 311.2,
                    "view:incidence_angle": 66.1,
                    "view:sun_azimuth": 159.7,
                    "view:sun_elevation": 35.2,
                    "proj:epsg": 32637,
                    "proj:geometry": {
                      "type": "Polygon",
                      "coordinates": [
                        [
                          [
                            294843.75,
                            4120156.25
                          ],
                          [
                            294843.75,
                            4114843.75
                          ],
                          [
                            300156.25,
                            4114843.75
                          ],
                          [
                            300156.25,
                            4120156.25
                          ],
                          [
                            294843.75,
                            4120156.25
                          ]
                        ]
                      ]
                    },
                    "grid:code": "MXRA-Z37-031133012111",
                    "proj:bbox": "294843.75,4114843.75,300156.25,4120156.25",
                    "tile:data_area": 28.2,
                    "tile:clouds_area": 6,
                    "tile:clouds_percent": 21,
                    "visual": "https://maxar-opendata.s3.amazonaws.com/events/Kahramanmaras-turkey-earthquake-23/ard/37/031133012111/2023-02-07/1050050044DE7E00-visual.tif",
                    "style": {
                      "color": "black",
                      "fillColor": "black"
                    }
                  },
                  "geometry": {
                    "type": "Polygon",
                    "coordinates": [
                      [
                        [
                          36.688191498709735,
                          37.20534897736118
                        ],
                        [
                          36.68965003875414,
                          37.15750034470307
                        ],
                        [
                          36.74943367700826,
                          37.15865130384028
                        ],
                        [
                          36.74801280000877,
                          37.206501922070636
                        ],
                        [
                          36.688191498709735,
                          37.20534897736118
                        ]
                      ]
                    ]
                  },
                  "bbox": [
                    36.688191498709735,
                    37.15750034470307,
                    36.74943367700826,
                    37.206501922070636
                  ]
                },
                {
                  "id": "11",
                  "type": "Feature",
                  "properties": {
                    "datetime": "2023-02-07T08:39:02Z",
                    "platform": "GE01",
                    "gsd": 0.47,
                    "ard_metadata_version": "0.0.1",
                    "catalog_id": "1050050044DE7E00",
                    "utm_zone": 37,
                    "quadkey": "031133012112",
                    "view:off_nadir": 21.7,
                    "view:azimuth": 314.2,
                    "view:incidence_angle": 65.8,
                    "view:sun_azimuth": 159.7,
                    "view:sun_elevation": 35.3,
                    "proj:epsg": 32637,
                    "proj:geometry": {
                      "type": "Polygon",
                      "coordinates": [
                        [
                          [
                            289843.75,
                            4115156.25
                          ],
                          [
                            289843.75,
                            4109843.75
                          ],
                          [
                            295156.25,
                            4109843.75
                          ],
                          [
                            295156.25,
                            4115156.25
                          ],
                          [
                            289843.75,
                            4115156.25
                          ]
                        ]
                      ]
                    },
                    "grid:code": "MXRA-Z37-031133012112",
                    "proj:bbox": "289843.75,4109843.75,295156.25,4115156.25",
                    "tile:data_area": 28.2,
                    "tile:clouds_area": 4.5,
                    "tile:clouds_percent": 16,
                    "visual": "https://maxar-opendata.s3.amazonaws.com/events/Kahramanmaras-turkey-earthquake-23/ard/37/031133012112/2023-02-07/1050050044DE7E00-visual.tif",
                    "style": {
                      "color": "black",
                      "fillColor": "black"
                    }
                  },
                  "geometry": {
                    "type": "Polygon",
                    "coordinates": [
                      [
                        [
                          36.63329844382692,
                          37.15920409540239
                        ],
                        [
                          36.63478910576793,
                          37.111356966139944
                        ],
                        [
                          36.694534148390574,
                          37.11253436529022
                        ],
                        [
                          36.69308105799769,
                          37.16038352660574
                        ],
                        [
                          36.63329844382692,
                          37.15920409540239
                        ]
                      ]
                    ]
                  },
                  "bbox": [
                    36.63329844382692,
                    37.111356966139944,
                    36.694534148390574,
                    37.16038352660574
                  ]
                },
                {
                  "id": "12",
                  "type": "Feature",
                  "properties": {
                    "datetime": "2023-02-07T08:39:02Z",
                    "platform": "GE01",
                    "gsd": 0.47,
                    "ard_metadata_version": "0.0.1",
                    "catalog_id": "1050050044DE7E00",
                    "utm_zone": 37,
                    "quadkey": "031133012113",
                    "view:off_nadir": 21.9,
                    "view:azimuth": 313.3,
                    "view:incidence_angle": 65.5,
                    "view:sun_azimuth": 159.7,
                    "view:sun_elevation": 35.3,
                    "proj:epsg": 32637,
                    "proj:geometry": {
                      "type": "Polygon",
                      "coordinates": [
                        [
                          [
                            294843.75,
                            4115156.25
                          ],
                          [
                            294843.75,
                            4109843.75
                          ],
                          [
                            300156.25,
                            4109843.75
                          ],
                          [
                            300156.25,
                            4115156.25
                          ],
                          [
                            294843.75,
                            4115156.25
                          ]
                        ]
                      ]
                    },
                    "grid:code": "MXRA-Z37-031133012113",
                    "proj:bbox": "294843.75,4109843.75,300156.25,4115156.25",
                    "tile:data_area": 28.2,
                    "tile:clouds_area": 19.1,
                    "tile:clouds_percent": 67,
                    "visual": "https://maxar-opendata.s3.amazonaws.com/events/Kahramanmaras-turkey-earthquake-23/ard/37/031133012113/2023-02-07/1050050044DE7E00-visual.tif",
                    "style": {
                      "color": "black",
                      "fillColor": "black"
                    }
                  },
                  "geometry": {
                    "type": "Polygon",
                    "coordinates": [
                      [
                        [
                          36.689564337631374,
                          37.16031498223174
                        ],
                        [
                          36.691019638352266,
                          37.11246593901368
                        ],
                        [
                          36.75076791008405,
                          37.11361503162503
                        ],
                        [
                          36.74935018890067,
                          37.16146605809912
                        ],
                        [
                          36.689564337631374,
                          37.16031498223174
                        ]
                      ]
                    ]
                  },
                  "bbox": [
                    36.689564337631374,
                    37.11246593901368,
                    36.75076791008405,
                    37.16146605809912
                  ]
                },
                {
                  "id": "13",
                  "type": "Feature",
                  "properties": {
                    "datetime": "2023-02-07T08:39:01Z",
                    "platform": "GE01",
                    "gsd": 0.47,
                    "ard_metadata_version": "0.0.1",
                    "catalog_id": "1050050044DE7E00",
                    "utm_zone": 37,
                    "quadkey": "031133012120",
                    "view:off_nadir": 22,
                    "view:azimuth": 317.6,
                    "view:incidence_angle": 65.5,
                    "view:sun_azimuth": 159.7,
                    "view:sun_elevation": 35.3,
                    "proj:epsg": 32637,
                    "proj:geometry": {
                      "type": "Polygon",
                      "coordinates": [
                        [
                          [
                            283897.39990234375,
                            4110156.25
                          ],
                          [
                            285156.25,
                            4110156.25
                          ],
                          [
                            285156.25,
                            4104843.75
                          ],
                          [
                            283685.302734375,
                            4104843.75
                          ],
                          [
                            283709.41162109375,
                            4105071.1059570312
                          ],
                          [
                            283678.28369140625,
                            4105645.751953125
                          ],
                          [
                            283724.06005859375,
                            4106065.3686523438
                          ],
                          [
                            283731.0791015625,
                            4106358.642578125
                          ],
                          [
                            283788.75732421875,
                            4106789.2456054688
                          ],
                          [
                            283788.75732421875,
                            4107572.021484375
                          ],
                          [
                            283764.34326171875,
                            4107844.5434570312
                          ],
                          [
                            283764.34326171875,
                            4108043.5180664062
                          ],
                          [
                            283813.78173828125,
                            4108624.5727539062
                          ],
                          [
                            283855.89599609375,
                            4108848.5717773438
                          ],
                          [
                            283847.96142578125,
                            4109018.2495117188
                          ],
                          [
                            283897.39990234375,
                            4110156.25
                          ]
                        ]
                      ]
                    },
                    "grid:code": "MXRA-Z37-031133012120",
                    "proj:bbox": "283678.28369140625,4104843.75,285156.25,4110156.25",
                    "tile:data_area": 7.2,
                    "tile:clouds_area": 6,
                    "tile:clouds_percent": 83,
                    "visual": "https://maxar-opendata.s3.amazonaws.com/events/Kahramanmaras-turkey-earthquake-23/ard/37/031133012120/2023-02-07/1050050044DE7E00-visual.tif",
                    "style": {
                      "color": "black",
                      "fillColor": "black"
                    }
                  },
                  "geometry": {
                    "type": "Polygon",
                    "coordinates": [
                      [
                        [
                          36.56782982171389,
                          37.11281783397597
                        ],
                        [
                          36.58198627328874,
                          37.113107553608046
                        ],
                        [
                          36.58350669573142,
                          37.065261845738945
                        ],
                        [
                          36.56697549274904,
                          37.06492373033711
                        ],
                        [
                          36.5671810062237,
                          37.066976899863235
                        ],
                        [
                          36.56666573711077,
                          37.07214508192762
                        ],
                        [
                          36.56705943540333,
                          37.0759347811394
                        ],
                        [
                          36.567053888720174,
                          37.078577673608656
                        ],
                        [
                          36.56757824681537,
                          37.082469059896226
                        ],
                        [
                          36.567352829267996,
                          37.08951885981371
                        ],
                        [
                          36.56699986012298,
                          37.091967598263274
                        ],
                        [
                          36.566942535102875,
                          37.09375959144982
                        ],
                        [
                          36.56733096011313,
                          37.09900405902754
                        ],
                        [
                          36.567739938209954,
                          37.10103114300427
                        ],
                        [
                          36.56760183695862,
                          37.10255745183344
                        ],
                        [
                          36.56782982171389,
                          37.11281783397597
                        ]
                      ]
                    ]
                  },
                  "bbox": [
                    36.56666573711077,
                    37.06492373033711,
                    36.58350669573142,
                    37.113107553608046
                  ]
                },
                {
                  "id": "14",
                  "type": "Feature",
                  "properties": {
                    "datetime": "2023-02-07T08:39:01Z",
                    "platform": "GE01",
                    "gsd": 0.47,
                    "ard_metadata_version": "0.0.1",
                    "catalog_id": "1050050044DE7E00",
                    "utm_zone": 37,
                    "quadkey": "031133012121",
                    "view:off_nadir": 22.1,
                    "view:azimuth": 317.1,
                    "view:incidence_angle": 65.4,
                    "view:sun_azimuth": 159.7,
                    "view:sun_elevation": 35.3,
                    "proj:epsg": 32637,
                    "proj:geometry": {
                      "type": "Polygon",
                      "coordinates": [
                        [
                          [
                            284843.75,
                            4110156.25
                          ],
                          [
                            284843.75,
                            4104843.75
                          ],
                          [
                            290156.25,
                            4104843.75
                          ],
                          [
                            290156.25,
                            4110156.25
                          ],
                          [
                            284843.75,
                            4110156.25
                          ]
                        ]
                      ]
                    },
                    "grid:code": "MXRA-Z37-031133012121",
                    "proj:bbox": "284843.75,4104843.75,290156.25,4110156.25",
                    "tile:data_area": 28.2,
                    "tile:clouds_area": 8.2,
                    "tile:clouds_percent": 29,
                    "visual": "https://maxar-opendata.s3.amazonaws.com/events/Kahramanmaras-turkey-earthquake-23/ard/37/031133012121/2023-02-07/1050050044DE7E00-visual.tif",
                    "style": {
                      "color": "black",
                      "fillColor": "black"
                    }
                  },
                  "geometry": {
                    "type": "Polygon",
                    "coordinates": [
                      [
                        [
                          36.57847202254812,
                          37.11303579043962
                        ],
                        [
                          36.57999464945956,
                          37.065190206263146
                        ],
                        [
                          36.63970111164254,
                          37.06639395103721
                        ],
                        [
                          36.638215964839794,
                          37.11424161362849
                        ],
                        [
                          36.57847202254812,
                          37.11303579043962
                        ]
                      ]
                    ]
                  },
                  "bbox": [
                    36.57847202254812,
                    37.065190206263146,
                    36.63970111164254,
                    37.11424161362849
                  ]
                },
                {
                  "id": "15",
                  "type": "Feature",
                  "properties": {
                    "datetime": "2023-02-07T08:39:00Z",
                    "platform": "GE01",
                    "gsd": 0.47,
                    "ard_metadata_version": "0.0.1",
                    "catalog_id": "1050050044DE7E00",
                    "utm_zone": 37,
                    "quadkey": "031133012122",
                    "view:off_nadir": 22.6,
                    "view:azimuth": 319.5,
                    "view:incidence_angle": 64.8,
                    "view:sun_azimuth": 159.6,
                    "view:sun_elevation": 35.4,
                    "proj:epsg": 32637,
                    "proj:geometry": {
                      "type": "Polygon",
                      "coordinates": [
                        [
                          [
                            283703.91845703125,
                            4105156.25
                          ],
                          [
                            285156.25,
                            4105156.25
                          ],
                          [
                            285156.25,
                            4099843.75
                          ],
                          [
                            283562.6220703125,
                            4099843.75
                          ],
                          [
                            283588.56201171875,
                            4100092.1630859375
                          ],
                          [
                            283581.23779296875,
                            4100294.189453125
                          ],
                          [
                            283610.2294921875,
                            4100901.1840820312
                          ],
                          [
                            283661.19384765625,
                            4101492.0043945312
                          ],
                          [
                            283672.79052734375,
                            4101933.2885742188
                          ],
                          [
                            283662.41455078125,
                            4102212.5244140625
                          ],
                          [
                            283617.24853515625,
                            4102549.1333007812
                          ],
                          [
                            283639.22119140625,
                            4102770.0805664062
                          ],
                          [
                            283636.474609375,
                            4102913.5131835938
                          ],
                          [
                            283586.73095703125,
                            4103390.8081054688
                          ],
                          [
                            283660.2783203125,
                            4104223.6328125
                          ],
                          [
                            283648.98681640625,
                            4104476.318359375
                          ],
                          [
                            283707.8857421875,
                            4105033.8745117188
                          ],
                          [
                            283703.91845703125,
                            4105156.25
                          ]
                        ]
                      ]
                    },
                    "grid:code": "MXRA-Z37-031133012122",
                    "proj:bbox": "283562.6220703125,4099843.75,285156.25,4105156.25",
                    "tile:data_area": 8,
                    "tile:clouds_area": 0.8,
                    "tile:clouds_percent": 10,
                    "visual": "https://maxar-opendata.s3.amazonaws.com/events/Kahramanmaras-turkey-earthquake-23/ard/37/031133012122/2023-02-07/1050050044DE7E00-visual.tif",
                    "style": {
                      "color": "black",
                      "fillColor": "black"
                    }
                  },
                  "geometry": {
                    "type": "Polygon",
                    "coordinates": [
                      [
                        [
                          36.56709476412221,
                          37.06774245547681
                        ],
                        [
                          36.5834173584845,
                          37.068076311332526
                        ],
                        [
                          36.584934405130404,
                          37.02023018912283
                        ],
                        [
                          36.567035027302374,
                          37.01986436481804
                        ],
                        [
                          36.56725500521642,
                          37.022107611744886
                        ],
                        [
                          36.56711468606495,
                          37.02392542371495
                        ],
                        [
                          36.56726590058733,
                          37.029398844632524
                        ],
                        [
                          36.56766860331901,
                          37.03473165508195
                        ],
                        [
                          36.567672042929374,
                          37.03870863414056
                        ],
                        [
                          36.56747519734585,
                          37.041221103590466
                        ],
                        [
                          36.56687095845491,
                          37.04424226531796
                        ],
                        [
                          36.567054285875194,
                          37.0462372289246
                        ],
                        [
                          36.566982172379035,
                          37.047528380018676
                        ],
                        [
                          36.56628593260918,
                          37.051815524480034
                        ],
                        [
                          36.56687273094009,
                          37.05933306784635
                        ],
                        [
                          36.56667312036873,
                          37.06160619709474
                        ],
                        [
                          36.567174572820605,
                          37.06664123480612
                        ],
                        [
                          36.56709476412221,
                          37.06774245547681
                        ]
                      ]
                    ]
                  },
                  "bbox": [
                    36.56628593260918,
                    37.01986436481804,
                    36.584934405130404,
                    37.068076311332526
                  ]
                },
                {
                  "id": "16",
                  "type": "Feature",
                  "properties": {
                    "datetime": "2023-02-07T08:39:00Z",
                    "platform": "GE01",
                    "gsd": 0.47,
                    "ard_metadata_version": "0.0.1",
                    "catalog_id": "1050050044DE7E00",
                    "utm_zone": 37,
                    "quadkey": "031133012123",
                    "view:off_nadir": 22.6,
                    "view:azimuth": 318.9,
                    "view:incidence_angle": 64.8,
                    "view:sun_azimuth": 159.6,
                    "view:sun_elevation": 35.4,
                    "proj:epsg": 32637,
                    "proj:geometry": {
                      "type": "Polygon",
                      "coordinates": [
                        [
                          [
                            284843.75,
                            4105156.25
                          ],
                          [
                            284843.75,
                            4099843.75
                          ],
                          [
                            290156.25,
                            4099843.75
                          ],
                          [
                            290156.25,
                            4105156.25
                          ],
                          [
                            284843.75,
                            4105156.25
                          ]
                        ]
                      ]
                    },
                    "grid:code": "MXRA-Z37-031133012123",
                    "proj:bbox": "284843.75,4099843.75,290156.25,4105156.25",
                    "tile:data_area": 28.2,
                    "tile:clouds_area": 0.1,
                    "tile:clouds_percent": 0,
                    "visual": "https://maxar-opendata.s3.amazonaws.com/events/Kahramanmaras-turkey-earthquake-23/ard/37/031133012123/2023-02-07/1050050044DE7E00-visual.tif",
                    "style": {
                      "color": "black",
                      "fillColor": "black"
                    }
                  },
                  "geometry": {
                    "type": "Polygon",
                    "coordinates": [
                      [
                        [
                          36.579905182681806,
                          37.06800466458492
                        ],
                        [
                          36.58142442891117,
                          37.020158665924086
                        ],
                        [
                          36.64109569631723,
                          37.02136045688774
                        ],
                        [
                          36.639613847132054,
                          37.06920853154755
                        ],
                        [
                          36.579905182681806,
                          37.06800466458492
                        ]
                      ]
                    ]
                  },
                  "bbox": [
                    36.579905182681806,
                    37.020158665924086,
                    36.64109569631723,
                    37.06920853154755
                  ]
                },
                {
                  "id": "17",
                  "type": "Feature",
                  "properties": {
                    "datetime": "2023-02-07T08:39:01Z",
                    "platform": "GE01",
                    "gsd": 0.47,
                    "ard_metadata_version": "0.0.1",
                    "catalog_id": "1050050044DE7E00",
                    "utm_zone": 37,
                    "quadkey": "031133012130",
                    "view:off_nadir": 22.2,
                    "view:azimuth": 316.2,
                    "view:incidence_angle": 65.2,
                    "view:sun_azimuth": 159.7,
                    "view:sun_elevation": 35.3,
                    "proj:epsg": 32637,
                    "proj:geometry": {
                      "type": "Polygon",
                      "coordinates": [
                        [
                          [
                            289843.75,
                            4110156.25
                          ],
                          [
                            289843.75,
                            4104843.75
                          ],
                          [
                            295156.25,
                            4104843.75
                          ],
                          [
                            295156.25,
                            4110156.25
                          ],
                          [
                            289843.75,
                            4110156.25
                          ]
                        ]
                      ]
                    },
                    "grid:code": "MXRA-Z37-031133012130",
                    "proj:bbox": "289843.75,4104843.75,295156.25,4110156.25",
                    "tile:data_area": 28.2,
                    "tile:clouds_area": 13.5,
                    "tile:clouds_percent": 48,
                    "visual": "https://maxar-opendata.s3.amazonaws.com/events/Kahramanmaras-turkey-earthquake-23/ard/37/031133012130/2023-02-07/1050050044DE7E00-visual.tif",
                    "style": {
                      "color": "black",
                      "fillColor": "black"
                    }
                  },
                  "geometry": {
                    "type": "Polygon",
                    "coordinates": [
                      [
                        [
                          36.63470151720754,
                          37.11417151529075
                        ],
                        [
                          36.63618886896432,
                          37.06632397352611
                        ],
                        [
                          36.69589863096421,
                          37.06749946245242
                        ],
                        [
                          36.69444876746972,
                          37.11534903390392
                        ],
                        [
                          36.63470151720754,
                          37.11417151529075
                        ]
                      ]
                    ]
                  },
                  "bbox": [
                    36.63470151720754,
                    37.06632397352611,
                    36.69589863096421,
                    37.11534903390392
                  ]
                },
                {
                  "id": "18",
                  "type": "Feature",
                  "properties": {
                    "datetime": "2023-02-07T08:39:01Z",
                    "platform": "GE01",
                    "gsd": 0.47,
                    "ard_metadata_version": "0.0.1",
                    "catalog_id": "1050050044DE7E00",
                    "utm_zone": 37,
                    "quadkey": "031133012131",
                    "view:off_nadir": 22.4,
                    "view:azimuth": 315.3,
                    "view:incidence_angle": 65,
                    "view:sun_azimuth": 159.7,
                    "view:sun_elevation": 35.3,
                    "proj:epsg": 32637,
                    "proj:geometry": {
                      "type": "Polygon",
                      "coordinates": [
                        [
                          [
                            294843.75,
                            4110156.25
                          ],
                          [
                            294843.75,
                            4104843.75
                          ],
                          [
                            300156.25,
                            4104843.75
                          ],
                          [
                            300156.25,
                            4110156.25
                          ],
                          [
                            294843.75,
                            4110156.25
                          ]
                        ]
                      ]
                    },
                    "grid:code": "MXRA-Z37-031133012131",
                    "proj:bbox": "294843.75,4104843.75,300156.25,4110156.25",
                    "tile:data_area": 28.2,
                    "tile:clouds_area": 23.8,
                    "tile:clouds_percent": 84,
                    "visual": "https://maxar-opendata.s3.amazonaws.com/events/Kahramanmaras-turkey-earthquake-23/ard/37/031133012131/2023-02-07/1050050044DE7E00-visual.tif",
                    "style": {
                      "color": "black",
                      "fillColor": "black"
                    }
                  },
                  "geometry": {
                    "type": "Polygon",
                    "coordinates": [
                      [
                        [
                          36.690934127556346,
                          37.11528060068451
                        ],
                        [
                          36.69238619647883,
                          37.06743114719294
                        ],
                        [
                          36.75209918009588,
                          37.06857837545204
                        ],
                        [
                          36.7506846073968,
                          37.116429809889986
                        ],
                        [
                          36.690934127556346,
                          37.11528060068451
                        ]
                      ]
                    ]
                  },
                  "bbox": [
                    36.690934127556346,
                    37.06743114719294,
                    36.75209918009588,
                    37.116429809889986
                  ]
                },
                {
                  "id": "19",
                  "type": "Feature",
                  "properties": {
                    "datetime": "2023-02-07T08:39:00Z",
                    "platform": "GE01",
                    "gsd": 0.48,
                    "ard_metadata_version": "0.0.1",
                    "catalog_id": "1050050044DE7E00",
                    "utm_zone": 37,
                    "quadkey": "031133012132",
                    "view:off_nadir": 22.8,
                    "view:azimuth": 318,
                    "view:incidence_angle": 64.6,
                    "view:sun_azimuth": 159.6,
                    "view:sun_elevation": 35.4,
                    "proj:epsg": 32637,
                    "proj:geometry": {
                      "type": "Polygon",
                      "coordinates": [
                        [
                          [
                            289843.75,
                            4105156.25
                          ],
                          [
                            289843.75,
                            4099843.75
                          ],
                          [
                            295156.25,
                            4099843.75
                          ],
                          [
                            295156.25,
                            4105156.25
                          ],
                          [
                            289843.75,
                            4105156.25
                          ]
                        ]
                      ]
                    },
                    "grid:code": "MXRA-Z37-031133012132",
                    "proj:bbox": "289843.75,4099843.75,295156.25,4105156.25",
                    "tile:data_area": 28.2,
                    "tile:clouds_area": 13.4,
                    "tile:clouds_percent": 47,
                    "visual": "https://maxar-opendata.s3.amazonaws.com/events/Kahramanmaras-turkey-earthquake-23/ard/37/031133012132/2023-02-07/1050050044DE7E00-visual.tif",
                    "style": {
                      "color": "black",
                      "fillColor": "black"
                    }
                  },
                  "geometry": {
                    "type": "Polygon",
                    "coordinates": [
                      [
                        [
                          36.6361014748945,
                          37.069138546933154
                        ],
                        [
                          36.637585524146715,
                          37.021290592959545
                        ],
                        [
                          36.69726008372368,
                          37.02246417388236
                        ],
                        [
                          36.695813439640425,
                          37.07031415518333
                        ],
                        [
                          36.6361014748945,
                          37.069138546933154
                        ]
                      ]
                    ]
                  },
                  "bbox": [
                    36.6361014748945,
                    37.021290592959545,
                    36.69726008372368,
                    37.07031415518333
                  ]
                },
                {
                  "id": "20",
                  "type": "Feature",
                  "properties": {
                    "datetime": "2023-02-07T08:39:00Z",
                    "platform": "GE01",
                    "gsd": 0.48,
                    "ard_metadata_version": "0.0.1",
                    "catalog_id": "1050050044DE7E00",
                    "utm_zone": 37,
                    "quadkey": "031133012133",
                    "view:off_nadir": 23,
                    "view:azimuth": 317.2,
                    "view:incidence_angle": 64.4,
                    "view:sun_azimuth": 159.6,
                    "view:sun_elevation": 35.4,
                    "proj:epsg": 32637,
                    "proj:geometry": {
                      "type": "Polygon",
                      "coordinates": [
                        [
                          [
                            294843.75,
                            4105156.25
                          ],
                          [
                            294843.75,
                            4099843.75
                          ],
                          [
                            300156.25,
                            4099843.75
                          ],
                          [
                            300156.25,
                            4105156.25
                          ],
                          [
                            294843.75,
                            4105156.25
                          ]
                        ]
                      ]
                    },
                    "grid:code": "MXRA-Z37-031133012133",
                    "proj:bbox": "294843.75,4099843.75,300156.25,4105156.25",
                    "tile:data_area": 28.2,
                    "tile:clouds_area": 25.6,
                    "tile:clouds_percent": 90,
                    "visual": "https://maxar-opendata.s3.amazonaws.com/events/Kahramanmaras-turkey-earthquake-23/ard/37/031133012133/2023-02-07/1050050044DE7E00-visual.tif",
                    "style": {
                      "color": "black",
                      "fillColor": "black"
                    }
                  },
                  "geometry": {
                    "type": "Polygon",
                    "coordinates": [
                      [
                        [
                          36.692300875567895,
                          37.07024583298907
                        ],
                        [
                          36.69374972019046,
                          37.02239596951089
                        ],
                        [
                          36.753427493919105,
                          37.02354133558519
                        ],
                        [
                          36.75201606239845,
                          37.07139317770663
                        ],
                        [
                          36.692300875567895,
                          37.07024583298907
                        ]
                      ]
                    ]
                  },
                  "bbox": [
                    36.692300875567895,
                    37.02239596951089,
                    36.753427493919105,
                    37.07139317770663
                  ]
                },
                {
                  "id": "21",
                  "type": "Feature",
                  "properties": {
                    "datetime": "2023-02-07T08:38:59Z",
                    "platform": "GE01",
                    "gsd": 0.48,
                    "ard_metadata_version": "0.0.1",
                    "catalog_id": "1050050044DE7E00",
                    "utm_zone": 37,
                    "quadkey": "031133012300",
                    "view:off_nadir": 23,
                    "view:azimuth": 321,
                    "view:incidence_angle": 64.3,
                    "view:sun_azimuth": 159.6,
                    "view:sun_elevation": 35.4,
                    "proj:epsg": 32637,
                    "proj:geometry": {
                      "type": "Polygon",
                      "coordinates": [
                        [
                          [
                            283586.73095703125,
                            4100156.25
                          ],
                          [
                            285156.25,
                            4100156.25
                          ],
                          [
                            285156.25,
                            4095068.359375
                          ],
                          [
                            284268.49365234375,
                            4095278.6254882812
                          ],
                          [
                            283972.16796875,
                            4095321.9604492188
                          ],
                          [
                            283613.8916015625,
                            4095320.7397460938
                          ],
                          [
                            283415.22216796875,
                            4095347.900390625
                          ],
                          [
                            283462.82958984375,
                            4096240.5395507812
                          ],
                          [
                            283429.5654296875,
                            4096773.9868164062
                          ],
                          [
                            283429.87060546875,
                            4097293.3959960938
                          ],
                          [
                            283439.3310546875,
                            4097501.220703125
                          ],
                          [
                            283474.12109375,
                            4097733.154296875
                          ],
                          [
                            283509.21630859375,
                            4098382.568359375
                          ],
                          [
                            283505.859375,
                            4099080.2001953125
                          ],
                          [
                            283535.46142578125,
                            4099461.9750976562
                          ],
                          [
                            283534.24072265625,
                            4099634.7045898438
                          ],
                          [
                            283586.73095703125,
                            4100156.25
                          ]
                        ]
                      ]
                    },
                    "grid:code": "MXRA-Z37-031133012300",
                    "proj:bbox": "283415.22216796875,4095068.359375,285156.25,4100156.25",
                    "tile:data_area": 8.2,
                    "tile:clouds_area": 1.9,
                    "tile:clouds_percent": 24,
                    "visual": "https://maxar-opendata.s3.amazonaws.com/events/Kahramanmaras-turkey-earthquake-23/ard/37/031133012300/2023-02-07/1050050044DE7E00-visual.tif",
                    "style": {
                      "color": "black",
                      "fillColor": "black"
                    }
                  },
                  "geometry": {
                    "type": "Polygon",
                    "coordinates": [
                      [
                        [
                          36.56721602410447,
                          37.0226843725797
                        ],
                        [
                          36.58484526622944,
                          37.02304467908058
                        ],
                        [
                          36.58629501979484,
                          36.97722107513998
                        ],
                        [
                          36.57626934950163,
                          36.97891167089051
                        ],
                        [
                          36.57293046040133,
                          36.9792339637123
                        ],
                        [
                          36.56890887414329,
                          36.97914063137189
                        ],
                        [
                          36.56667086581303,
                          36.97933953216519
                        ],
                        [
                          36.566949154736385,
                          36.987389873628715
                        ],
                        [
                          36.56642255533743,
                          36.99218659708231
                        ],
                        [
                          36.566459658271135,
                          36.99457186682046
                        ],
                        [
                          36.566276833224975,
                          36.9968646146574
                        ],
                        [
                          36.566323374493166,
                          36.99873852141166
                        ],
                        [
                          36.56664741542345,
                          37.00083539364656
                        ],
                        [
                          36.56685500124637,
                          37.00669227853451
                        ],
                        [
                          36.566616897221735,
                          37.01297456213405
                        ],
                        [
                          36.56683966718257,
                          37.01641974548194
                        ],
                        [
                          36.56677632623228,
                          37.01797510989494
                        ],
                        [
                          36.56721602410447,
                          37.0226843725797
                        ]
                      ]
                    ]
                  },
                  "bbox": [
                    36.566276833224975,
                    36.97722107513998,
                    36.58629501979484,
                    37.02304467908058
                  ]
                },
                {
                  "id": "22",
                  "type": "Feature",
                  "properties": {
                    "datetime": "2023-02-07T08:38:59Z",
                    "platform": "GE01",
                    "gsd": 0.48,
                    "ard_metadata_version": "0.0.1",
                    "catalog_id": "1050050044DE7E00",
                    "utm_zone": 37,
                    "quadkey": "031133012301",
                    "view:off_nadir": 23.1,
                    "view:azimuth": 320.6,
                    "view:incidence_angle": 64.2,
                    "view:sun_azimuth": 159.6,
                    "view:sun_elevation": 35.4,
                    "proj:epsg": 32637,
                    "proj:geometry": {
                      "type": "Polygon",
                      "coordinates": [
                        [
                          [
                            284843.75,
                            4100156.25
                          ],
                          [
                            284843.75,
                            4095140.0756835938
                          ],
                          [
                            286201.171875,
                            4094843.75
                          ],
                          [
                            290156.25,
                            4094843.75
                          ],
                          [
                            290156.25,
                            4100156.25
                          ],
                          [
                            284843.75,
                            4100156.25
                          ]
                        ]
                      ]
                    },
                    "grid:code": "MXRA-Z37-031133012301",
                    "proj:bbox": "284843.75,4094843.75,290156.25,4100156.25",
                    "tile:data_area": 28,
                    "tile:clouds_area": 0.2,
                    "tile:clouds_percent": 0,
                    "visual": "https://maxar-opendata.s3.amazonaws.com/events/Kahramanmaras-turkey-earthquake-23/ard/37/031133012301/2023-02-07/1050050044DE7E00-visual.tif",
                    "style": {
                      "color": "black",
                      "fillColor": "black"
                    }
                  },
                  "geometry": {
                    "type": "Polygon",
                    "coordinates": [
                      [
                        [
                          36.58133516076641,
                          37.02297314861847
                        ],
                        [
                          36.58276657454542,
                          36.97779557013197
                        ],
                        [
                          36.59808861108898,
                          36.97543615832933
                        ],
                        [
                          36.64248718476807,
                          36.97632657519381
                        ],
                        [
                          36.64100862555923,
                          37.024175061628796
                        ],
                        [
                          36.58133516076641,
                          37.02297314861847
                        ]
                      ]
                    ]
                  },
                  "bbox": [
                    36.58133516076641,
                    36.97543615832933,
                    36.64248718476807,
                    37.024175061628796
                  ]
                },
                {
                  "id": "23",
                  "type": "Feature",
                  "properties": {
                    "datetime": "2023-02-07T08:38:58Z",
                    "platform": "GE01",
                    "gsd": 0.48,
                    "ard_metadata_version": "0.0.1",
                    "catalog_id": "1050050044DE7E00",
                    "utm_zone": 37,
                    "quadkey": "031133012303",
                    "view:off_nadir": 23.3,
                    "view:azimuth": 321.1,
                    "view:incidence_angle": 64,
                    "view:sun_azimuth": 159.6,
                    "view:sun_elevation": 35.4,
                    "proj:epsg": 32637,
                    "proj:geometry": {
                      "type": "Polygon",
                      "coordinates": [
                        [
                          [
                            284843.75,
                            4095156.25
                          ],
                          [
                            284843.75,
                            4095141.6015625
                          ],
                          [
                            284859.92431640625,
                            4095136.4135742188
                          ],
                          [
                            285025.0244140625,
                            4095092.4682617188
                          ],
                          [
                            285095.52001953125,
                            4095077.5146484375
                          ],
                          [
                            285184.326171875,
                            4095063.7817382812
                          ],
                          [
                            285219.42138671875,
                            4095055.8471679688
                          ],
                          [
                            285249.0234375,
                            4095046.9970703125
                          ],
                          [
                            285336.60888671875,
                            4095015.5639648438
                          ],
                          [
                            285422.36328125,
                            4094988.4033203125
                          ],
                          [
                            285451.0498046875,
                            4094981.689453125
                          ],
                          [
                            285513.61083984375,
                            4094971.923828125
                          ],
                          [
                            285632.32421875,
                            4094966.1254882812
                          ],
                          [
                            285691.5283203125,
                            4094960.3271484375
                          ],
                          [
                            285770.56884765625,
                            4094942.3217773438
                          ],
                          [
                            285871.27685546875,
                            4094913.330078125
                          ],
                          [
                            285929.26025390625,
                            4094898.9868164062
                          ],
                          [
                            286083.06884765625,
                            4094867.2485351562
                          ],
                          [
                            286541.1376953125,
                            4094783.935546875
                          ],
                          [
                            287029.72412109375,
                            4094708.251953125
                          ],
                          [
                            287883.30078125,
                            4094586.4868164062
                          ],
                          [
                            288775.0244140625,
                            4094457.0922851562
                          ],
                          [
                            290156.25,
                            4094253.8452148438
                          ],
                          [
                            290156.25,
                            4095156.25
                          ],
                          [
                            284843.75,
                            4095156.25
                          ]
                        ]
                      ]
                    },
                    "grid:code": "MXRA-Z37-031133012303",
                    "proj:bbox": "284843.75,4094253.8452148438,290156.25,4095156.25",
                    "tile:data_area": 2.6,
                    "tile:clouds_area": 0,
                    "tile:clouds_percent": 0,
                    "visual": "https://maxar-opendata.s3.amazonaws.com/events/Kahramanmaras-turkey-earthquake-23/ard/37/031133012303/2023-02-07/1050050044DE7E00-visual.tif",
                    "style": {
                      "color": "black",
                      "fillColor": "black"
                    }
                  },
                  "geometry": {
                    "type": "Polygon",
                    "coordinates": [
                      [
                        [
                          36.58276196417492,
                          36.977941242822766
                        ],
                        [
                          36.582766139606214,
                          36.977809312838815
                        ],
                        [
                          36.58294918613272,
                          36.977766286400815
                        ],
                        [
                          36.58481506482373,
                          36.97740823529087
                        ],
                        [
                          36.585610681177414,
                          36.97728966169662
                        ],
                        [
                          36.58661149529941,
                          36.977186257775664
                        ],
                        [
                          36.58700771887995,
                          36.977122807878146
                        ],
                        [
                          36.587342538185915,
                          36.977049857160274
                        ],
                        [
                          36.58833467799581,
                          36.97678674382851
                        ],
                        [
                          36.58930504229563,
                          36.976561684114884
                        ],
                        [
                          36.58962897282013,
                          36.9765077578572
                        ],
                        [
                          36.59033403009023,
                          36.97643406803106
                        ],
                        [
                          36.591668300389664,
                          36.97640890072227
                        ],
                        [
                          36.592334545711765,
                          36.97637016533687
                        ],
                        [
                          36.59322692976601,
                          36.97622600049457
                        ],
                        [
                          36.594365656096464,
                          36.97598781188818
                        ],
                        [
                          36.595020617338506,
                          36.97587182355171
                        ],
                        [
                          36.5967561916851,
                          36.97562095443147
                        ],
                        [
                          36.60192180620511,
                          36.97497462528382
                        ],
                        [
                          36.60742776456992,
                          36.974403690618296
                        ],
                        [
                          36.62708990310009,
                          36.97253498412026
                        ],
                        [
                          36.64265115004441,
                          36.971013409186945
                        ],
                        [
                          36.64240030731386,
                          36.97914120414829
                        ],
                        [
                          36.58276196417492,
                          36.977941242822766
                        ]
                      ]
                    ]
                  },
                  "bbox": [
                    36.58276196417492,
                    36.971013409186945,
                    36.64265115004441,
                    36.97914120414829
                  ]
                },
                {
                  "id": "24",
                  "type": "Feature",
                  "properties": {
                    "datetime": "2023-02-07T08:38:59Z",
                    "platform": "GE01",
                    "gsd": 0.48,
                    "ard_metadata_version": "0.0.1",
                    "catalog_id": "1050050044DE7E00",
                    "utm_zone": 37,
                    "quadkey": "031133012310",
                    "view:off_nadir": 23.3,
                    "view:azimuth": 319.8,
                    "view:incidence_angle": 64,
                    "view:sun_azimuth": 159.6,
                    "view:sun_elevation": 35.4,
                    "proj:epsg": 32637,
                    "proj:geometry": {
                      "type": "Polygon",
                      "coordinates": [
                        [
                          [
                            289843.75,
                            4100156.25
                          ],
                          [
                            289843.75,
                            4094843.75
                          ],
                          [
                            295156.25,
                            4094843.75
                          ],
                          [
                            295156.25,
                            4100156.25
                          ],
                          [
                            289843.75,
                            4100156.25
                          ]
                        ]
                      ]
                    },
                    "grid:code": "MXRA-Z37-031133012310",
                    "proj:bbox": "289843.75,4094843.75,295156.25,4100156.25",
                    "tile:data_area": 28.2,
                    "tile:clouds_area": 5.4,
                    "tile:clouds_percent": 19,
                    "visual": "https://maxar-opendata.s3.amazonaws.com/events/Kahramanmaras-turkey-earthquake-23/ard/37/031133012310/2023-02-07/1050050044DE7E00-visual.tif",
                    "style": {
                      "color": "black",
                      "fillColor": "black"
                    }
                  },
                  "geometry": {
                    "type": "Polygon",
                    "coordinates": [
                      [
                        [
                          36.63749832411653,
                          37.02410519060553
                        ],
                        [
                          36.63897907851668,
                          36.976256824716685
                        ],
                        [
                          36.698618513690015,
                          36.97742849985023
                        ],
                        [
                          36.697175081557326,
                          37.02527889071363
                        ],
                        [
                          36.63749832411653,
                          37.02410519060553
                        ]
                      ]
                    ]
                  },
                  "bbox": [
                    36.63749832411653,
                    36.976256824716685,
                    36.698618513690015,
                    37.02527889071363
                  ]
                },
                {
                  "id": "25",
                  "type": "Feature",
                  "properties": {
                    "datetime": "2023-02-07T08:38:59Z",
                    "platform": "GE01",
                    "gsd": 0.48,
                    "ard_metadata_version": "0.0.1",
                    "catalog_id": "1050050044DE7E00",
                    "utm_zone": 37,
                    "quadkey": "031133012311",
                    "view:off_nadir": 23.5,
                    "view:azimuth": 318.9,
                    "view:incidence_angle": 63.8,
                    "view:sun_azimuth": 159.6,
                    "view:sun_elevation": 35.4,
                    "proj:epsg": 32637,
                    "proj:geometry": {
                      "type": "Polygon",
                      "coordinates": [
                        [
                          [
                            294843.75,
                            4100156.25
                          ],
                          [
                            294843.75,
                            4094843.75
                          ],
                          [
                            300156.25,
                            4094843.75
                          ],
                          [
                            300156.25,
                            4100156.25
                          ],
                          [
                            294843.75,
                            4100156.25
                          ]
                        ]
                      ]
                    },
                    "grid:code": "MXRA-Z37-031133012311",
                    "proj:bbox": "294843.75,4094843.75,300156.25,4100156.25",
                    "tile:data_area": 28.2,
                    "tile:clouds_area": 17,
                    "tile:clouds_percent": 60,
                    "visual": "https://maxar-opendata.s3.amazonaws.com/events/Kahramanmaras-turkey-earthquake-23/ard/37/031133012311/2023-02-07/1050050044DE7E00-visual.tif",
                    "style": {
                      "color": "black",
                      "fillColor": "black"
                    }
                  },
                  "geometry": {
                    "type": "Polygon",
                    "coordinates": [
                      [
                        [
                          36.69366458872419,
                          37.02521067941544
                        ],
                        [
                          36.695110216518806,
                          36.97736040623807
                        ],
                        [
                          36.75475285840474,
                          36.978503912288865
                        ],
                        [
                          36.75334456078249,
                          37.0263561618129
                        ],
                        [
                          36.69366458872419,
                          37.02521067941544
                        ]
                      ]
                    ]
                  },
                  "bbox": [
                    36.69366458872419,
                    36.97736040623807,
                    36.75475285840474,
                    37.0263561618129
                  ]
                },
                {
                  "id": "26",
                  "type": "Feature",
                  "properties": {
                    "datetime": "2023-02-07T08:38:58Z",
                    "platform": "GE01",
                    "gsd": 0.48,
                    "ard_metadata_version": "0.0.1",
                    "catalog_id": "1050050044DE7E00",
                    "utm_zone": 37,
                    "quadkey": "031133012312",
                    "view:off_nadir": 23.5,
                    "view:azimuth": 320.4,
                    "view:incidence_angle": 63.8,
                    "view:sun_azimuth": 159.6,
                    "view:sun_elevation": 35.4,
                    "proj:epsg": 32637,
                    "proj:geometry": {
                      "type": "Polygon",
                      "coordinates": [
                        [
                          [
                            289843.75,
                            4095156.25
                          ],
                          [
                            289843.75,
                            4094299.31640625
                          ],
                          [
                            294232.48291015625,
                            4093658.7524414062
                          ],
                          [
                            295156.25,
                            4093542.48046875
                          ],
                          [
                            295156.25,
                            4095156.25
                          ],
                          [
                            289843.75,
                            4095156.25
                          ]
                        ]
                      ]
                    },
                    "grid:code": "MXRA-Z37-031133012312",
                    "proj:bbox": "289843.75,4093542.48046875,295156.25,4095156.25",
                    "tile:data_area": 6.6,
                    "tile:clouds_area": 0,
                    "tile:clouds_percent": 0,
                    "visual": "https://maxar-opendata.s3.amazonaws.com/events/Kahramanmaras-turkey-earthquake-23/ard/37/031133012312/2023-02-07/1050050044DE7E00-visual.tif",
                    "style": {
                      "color": "black",
                      "fillColor": "black"
                    }
                  },
                  "geometry": {
                    "type": "Polygon",
                    "coordinates": [
                      [
                        [
                          36.63889207207676,
                          36.97907144658432
                        ],
                        [
                          36.63913063118345,
                          36.97135322206691
                        ],
                        [
                          36.68857078008392,
                          36.96655350042775
                        ],
                        [
                          36.698971555543196,
                          36.9657077265831
                        ],
                        [
                          36.69853370024301,
                          36.98024324076495
                        ],
                        [
                          36.63889207207676,
                          36.97907144658432
                        ]
                      ]
                    ]
                  },
                  "bbox": [
                    36.63889207207676,
                    36.9657077265831,
                    36.698971555543196,
                    36.98024324076495
                  ]
                },
                {
                  "id": "27",
                  "type": "Feature",
                  "properties": {
                    "datetime": "2023-02-07T08:38:58Z",
                    "platform": "GE01",
                    "gsd": 0.48,
                    "ard_metadata_version": "0.0.1",
                    "catalog_id": "1050050044DE7E00",
                    "utm_zone": 37,
                    "quadkey": "031133012313",
                    "view:off_nadir": 23.8,
                    "view:azimuth": 319.8,
                    "view:incidence_angle": 63.5,
                    "view:sun_azimuth": 159.6,
                    "view:sun_elevation": 35.4,
                    "proj:epsg": 32637,
                    "proj:geometry": {
                      "type": "Polygon",
                      "coordinates": [
                        [
                          [
                            294843.75,
                            4095156.25
                          ],
                          [
                            294844.3603515625,
                            4093576.66015625
                          ],
                          [
                            295549.62158203125,
                            4093488.76953125
                          ],
                          [
                            296419.98291015625,
                            4093338.0126953125
                          ],
                          [
                            300156.25,
                            4092807.6171875
                          ],
                          [
                            300156.25,
                            4095156.25
                          ],
                          [
                            294843.75,
                            4095156.25
                          ]
                        ]
                      ]
                    },
                    "grid:code": "MXRA-Z37-031133012313",
                    "proj:bbox": "294843.75,4092807.6171875,300156.25,4095156.25",
                    "tile:data_area": 10.4,
                    "tile:clouds_area": 1.6,
                    "tile:clouds_percent": 16,
                    "visual": "https://maxar-opendata.s3.amazonaws.com/events/Kahramanmaras-turkey-earthquake-23/ard/37/031133012313/2023-02-07/1050050044DE7E00-visual.tif",
                    "style": {
                      "color": "black",
                      "fillColor": "black"
                    }
                  },
                  "geometry": {
                    "type": "Polygon",
                    "coordinates": [
                      [
                        [
                          36.69502527405845,
                          36.9801751402341
                        ],
                        [
                          36.6954613618744,
                          36.96594765710647
                        ],
                        [
                          36.70340164218332,
                          36.965309472330866
                        ],
                        [
                          36.71321197919823,
                          36.96414022183659
                        ],
                        [
                          36.75529173852494,
                          36.96016336741287
                        ],
                        [
                          36.754670109401474,
                          36.98131876247316
                        ],
                        [
                          36.69502527405845,
                          36.9801751402341
                        ]
                      ]
                    ]
                  },
                  "bbox": [
                    36.69502527405845,
                    36.96016336741287,
                    36.75529173852494,
                    36.98131876247316
                  ]
                },
                {
                  "id": "28",
                  "type": "Feature",
                  "properties": {
                    "datetime": "2023-02-07T08:39:03Z",
                    "platform": "GE01",
                    "gsd": 0.47,
                    "ard_metadata_version": "0.0.1",
                    "catalog_id": "1050050044DE7E00",
                    "utm_zone": 37,
                    "quadkey": "031133013000",
                    "view:off_nadir": 21.6,
                    "view:azimuth": 310.8,
                    "view:incidence_angle": 65.9,
                    "view:sun_azimuth": 159.7,
                    "view:sun_elevation": 35.2,
                    "proj:epsg": 32637,
                    "proj:geometry": {
                      "type": "Polygon",
                      "coordinates": [
                        [
                          [
                            299843.75,
                            4120156.25
                          ],
                          [
                            299843.75,
                            4114843.75
                          ],
                          [
                            301890.56396484375,
                            4114843.75
                          ],
                          [
                            301911.92626953125,
                            4115771.1791992188
                          ],
                          [
                            301878.96728515625,
                            4116353.759765625
                          ],
                          [
                            301924.13330078125,
                            4116661.0717773438
                          ],
                          [
                            301947.021484375,
                            4116995.2392578125
                          ],
                          [
                            302030.6396484375,
                            4120156.25
                          ],
                          [
                            299843.75,
                            4120156.25
                          ]
                        ]
                      ]
                    },
                    "grid:code": "MXRA-Z37-031133013000",
                    "proj:bbox": "299843.75,4114843.75,302030.6396484375,4120156.25",
                    "tile:data_area": 11.2,
                    "tile:clouds_area": 4.6,
                    "tile:clouds_percent": 41,
                    "visual": "https://maxar-opendata.s3.amazonaws.com/events/Kahramanmaras-turkey-earthquake-23/ard/37/031133013000/2023-02-07/1050050044DE7E00-visual.tif",
                    "style": {
                      "color": "black",
                      "fillColor": "black"
                    }
                  },
                  "geometry": {
                    "type": "Polygon",
                    "coordinates": [
                      [
                        [
                          36.74449380602211,
                          37.206434937218546
                        ],
                        [
                          36.745916898726904,
                          37.15858443434944
                        ],
                        [
                          36.768951319957644,
                          37.15902052158359
                        ],
                        [
                          36.768946092979455,
                          37.16737871042396
                        ],
                        [
                          36.76842075637593,
                          37.172619209840796
                        ],
                        [
                          36.768847709531485,
                          37.175396842940465
                        ],
                        [
                          36.769016795804596,
                          37.17841164602534
                        ],
                        [
                          36.76912013434613,
                          37.20690150851475
                        ],
                        [
                          36.74449380602211,
                          37.206434937218546
                        ]
                      ]
                    ]
                  },
                  "bbox": [
                    36.74449380602211,
                    37.15858443434944,
                    36.76912013434613,
                    37.20690150851475
                  ]
                },
                {
                  "id": "29",
                  "type": "Feature",
                  "properties": {
                    "datetime": "2023-02-07T08:39:02Z",
                    "platform": "GE01",
                    "gsd": 0.47,
                    "ard_metadata_version": "0.0.1",
                    "catalog_id": "1050050044DE7E00",
                    "utm_zone": 37,
                    "quadkey": "031133013002",
                    "view:off_nadir": 22.1,
                    "view:azimuth": 312.7,
                    "view:incidence_angle": 65.4,
                    "view:sun_azimuth": 159.7,
                    "view:sun_elevation": 35.3,
                    "proj:epsg": 32637,
                    "proj:geometry": {
                      "type": "Polygon",
                      "coordinates": [
                        [
                          [
                            299843.75,
                            4115156.25
                          ],
                          [
                            299843.75,
                            4109843.75
                          ],
                          [
                            301749.267578125,
                            4109843.75
                          ],
                          [
                            301898.8037109375,
                            4115156.25
                          ],
                          [
                            299843.75,
                            4115156.25
                          ]
                        ]
                      ]
                    },
                    "grid:code": "MXRA-Z37-031133013002",
                    "proj:bbox": "299843.75,4109843.75,301898.8037109375,4115156.25",
                    "tile:data_area": 10.5,
                    "tile:clouds_area": 10.4,
                    "tile:clouds_percent": 99,
                    "visual": "https://maxar-opendata.s3.amazonaws.com/events/Kahramanmaras-turkey-earthquake-23/ard/37/031133013002/2023-02-07/1050050044DE7E00-visual.tif",
                    "style": {
                      "color": "black",
                      "fillColor": "black"
                    }
                  },
                  "geometry": {
                    "type": "Polygon",
                    "coordinates": [
                      [
                        [
                          36.74583328042832,
                          37.1613991818263
                        ],
                        [
                          36.74725321240399,
                          37.113548270578875
                        ],
                        [
                          36.76868481018602,
                          37.113953738773645
                        ],
                        [
                          36.76896128724796,
                          37.16183705995971
                        ],
                        [
                          36.74583328042832,
                          37.1613991818263
                        ]
                      ]
                    ]
                  },
                  "bbox": [
                    36.74583328042832,
                    37.113548270578875,
                    36.76896128724796,
                    37.16183705995971
                  ]
                },
                {
                  "id": "30",
                  "type": "Feature",
                  "properties": {
                    "datetime": "2023-02-07T08:39:01Z",
                    "platform": "GE01",
                    "gsd": 0.48,
                    "ard_metadata_version": "0.0.1",
                    "catalog_id": "1050050044DE7E00",
                    "utm_zone": 37,
                    "quadkey": "031133013020",
                    "view:off_nadir": 22.5,
                    "view:azimuth": 314.8,
                    "view:incidence_angle": 64.9,
                    "view:sun_azimuth": 159.7,
                    "view:sun_elevation": 35.3,
                    "proj:epsg": 32637,
                    "proj:geometry": {
                      "type": "Polygon",
                      "coordinates": [
                        [
                          [
                            299843.75,
                            4110156.25
                          ],
                          [
                            299843.75,
                            4104843.75
                          ],
                          [
                            301611.02294921875,
                            4104843.75
                          ],
                          [
                            301757.8125,
                            4110156.25
                          ],
                          [
                            299843.75,
                            4110156.25
                          ]
                        ]
                      ]
                    },
                    "grid:code": "MXRA-Z37-031133013020",
                    "proj:bbox": "299843.75,4104843.75,301757.8125,4110156.25",
                    "tile:data_area": 9.7,
                    "tile:clouds_area": 9.7,
                    "tile:clouds_percent": 99,
                    "visual": "https://maxar-opendata.s3.amazonaws.com/events/Kahramanmaras-turkey-earthquake-23/ard/37/031133013020/2023-02-07/1050050044DE7E00-visual.tif",
                    "style": {
                      "color": "black",
                      "fillColor": "black"
                    }
                  },
                  "geometry": {
                    "type": "Polygon",
                    "coordinates": [
                      [
                        [
                          36.747169779814406,
                          37.116363042069736
                        ],
                        [
                          36.74858655840413,
                          37.06851172272428
                        ],
                        [
                          36.76845154627115,
                          37.06888729419978
                        ],
                        [
                          36.76869828005878,
                          37.11677036111678
                        ],
                        [
                          36.747169779814406,
                          37.116363042069736
                        ]
                      ]
                    ]
                  },
                  "bbox": [
                    36.747169779814406,
                    37.06851172272428,
                    36.76869828005878,
                    37.11677036111678
                  ]
                },
                {
                  "id": "31",
                  "type": "Feature",
                  "properties": {
                    "datetime": "2023-02-07T08:39:00Z",
                    "platform": "GE01",
                    "gsd": 0.48,
                    "ard_metadata_version": "0.0.1",
                    "catalog_id": "1050050044DE7E00",
                    "utm_zone": 37,
                    "quadkey": "031133013022",
                    "view:off_nadir": 23,
                    "view:azimuth": 316.7,
                    "view:incidence_angle": 64.3,
                    "view:sun_azimuth": 159.6,
                    "view:sun_elevation": 35.4,
                    "proj:epsg": 32637,
                    "proj:geometry": {
                      "type": "Polygon",
                      "coordinates": [
                        [
                          [
                            299843.75,
                            4105156.25
                          ],
                          [
                            299843.75,
                            4099843.75
                          ],
                          [
                            301474.30419921875,
                            4099843.75
                          ],
                          [
                            301480.40771484375,
                            4100494.0795898438
                          ],
                          [
                            301502.0751953125,
                            4100881.34765625
                          ],
                          [
                            301558.837890625,
                            4103197.6318359375
                          ],
                          [
                            301620.4833984375,
                            4105156.25
                          ],
                          [
                            299843.75,
                            4105156.25
                          ]
                        ]
                      ]
                    },
                    "grid:code": "MXRA-Z37-031133013022",
                    "proj:bbox": "299843.75,4099843.75,301620.4833984375,4105156.25",
                    "tile:data_area": 9,
                    "tile:clouds_area": 9,
                    "tile:clouds_percent": 100,
                    "visual": "https://maxar-opendata.s3.amazonaws.com/events/Kahramanmaras-turkey-earthquake-23/ard/37/031133013022/2023-02-07/1050050044DE7E00-visual.tif",
                    "style": {
                      "color": "black",
                      "fillColor": "black"
                    }
                  },
                  "geometry": {
                    "type": "Polygon",
                    "coordinates": [
                      [
                        [
                          36.748503311092364,
                          37.07132651821264
                        ],
                        [
                          36.74991694361334,
                          37.02347479104987
                        ],
                        [
                          36.76823432630988,
                          37.02382086372526
                        ],
                        [
                          36.768131431989744,
                          37.029680018829026
                        ],
                        [
                          36.768272745243266,
                          37.03317292663148
                        ],
                        [
                          36.76829953135711,
                          37.0540488769577
                        ],
                        [
                          36.7684197219598,
                          37.060839083712025
                        ],
                        [
                          36.7684753768449,
                          37.07170412955844
                        ],
                        [
                          36.748503311092364,
                          37.07132651821264
                        ]
                      ]
                    ]
                  },
                  "bbox": [
                    36.748503311092364,
                    37.02347479104987,
                    36.7684753768449,
                    37.07170412955844
                  ]
                },
                {
                  "id": "32",
                  "type": "Feature",
                  "properties": {
                    "datetime": "2023-02-07T08:38:59Z",
                    "platform": "GE01",
                    "gsd": 0.48,
                    "ard_metadata_version": "0.0.1",
                    "catalog_id": "1050050044DE7E00",
                    "utm_zone": 37,
                    "quadkey": "031133013200",
                    "view:off_nadir": 23.5,
                    "view:azimuth": 318.4,
                    "view:incidence_angle": 63.7,
                    "view:sun_azimuth": 159.6,
                    "view:sun_elevation": 35.4,
                    "proj:epsg": 32637,
                    "proj:geometry": {
                      "type": "Polygon",
                      "coordinates": [
                        [
                          [
                            299843.75,
                            4100156.25
                          ],
                          [
                            299843.75,
                            4094843.75
                          ],
                          [
                            301379.08935546875,
                            4094843.75
                          ],
                          [
                            301459.3505859375,
                            4098269.04296875
                          ],
                          [
                            301454.4677734375,
                            4098803.7109375
                          ],
                          [
                            301478.8818359375,
                            4100156.25
                          ],
                          [
                            299843.75,
                            4100156.25
                          ]
                        ]
                      ]
                    },
                    "grid:code": "MXRA-Z37-031133013200",
                    "proj:bbox": "299843.75,4094843.75,301478.8818359375,4100156.25",
                    "tile:data_area": 8.4,
                    "tile:clouds_area": 8,
                    "tile:clouds_percent": 95,
                    "visual": "https://maxar-opendata.s3.amazonaws.com/events/Kahramanmaras-turkey-earthquake-23/ard/37/031133013200/2023-02-07/1050050044DE7E00-visual.tif",
                    "style": {
                      "color": "black",
                      "fillColor": "black"
                    }
                  },
                  "geometry": {
                    "type": "Polygon",
                    "coordinates": [
                      [
                        [
                          36.74983388114973,
                          37.02628961051924
                        ],
                        [
                          36.751244374893275,
                          36.97843747582043
                        ],
                        [
                          36.768481966217976,
                          36.97876288820408
                        ],
                        [
                          36.768481351972824,
                          37.009633453285275
                        ],
                        [
                          36.76828562650499,
                          37.014448473190505
                        ],
                        [
                          36.768203365429976,
                          37.026636686032916
                        ],
                        [
                          36.74983388114973,
                          37.02628961051924
                        ]
                      ]
                    ]
                  },
                  "bbox": [
                    36.74983388114973,
                    36.97843747582043,
                    36.768481966217976,
                    37.026636686032916
                  ]
                },
                {
                  "id": "33",
                  "type": "Feature",
                  "properties": {
                    "datetime": "2023-02-07T08:38:59Z",
                    "platform": "GE01",
                    "gsd": 0.48,
                    "ard_metadata_version": "0.0.1",
                    "catalog_id": "1050050044DE7E00",
                    "utm_zone": 37,
                    "quadkey": "031133013202",
                    "view:off_nadir": 23.8,
                    "view:azimuth": 319.4,
                    "view:incidence_angle": 63.5,
                    "view:sun_azimuth": 159.6,
                    "view:sun_elevation": 35.4,
                    "proj:epsg": 32637,
                    "proj:geometry": {
                      "type": "Polygon",
                      "coordinates": [
                        [
                          [
                            299843.75,
                            4095156.25
                          ],
                          [
                            299843.75,
                            4092851.2573242188
                          ],
                          [
                            301329.04052734375,
                            4092643.4326171875
                          ],
                          [
                            301386.71875,
                            4095156.25
                          ],
                          [
                            299843.75,
                            4095156.25
                          ]
                        ]
                      ]
                    },
                    "grid:code": "MXRA-Z37-031133013202",
                    "proj:bbox": "299843.75,4092643.4326171875,301386.71875,4095156.25",
                    "tile:data_area": 3.6,
                    "tile:clouds_area": 1.8,
                    "tile:clouds_percent": 51,
                    "visual": "https://maxar-opendata.s3.amazonaws.com/events/Kahramanmaras-turkey-earthquake-23/ard/37/031133013202/2023-02-07/1050050044DE7E00-visual.tif",
                    "style": {
                      "color": "black",
                      "fillColor": "black"
                    }
                  },
                  "geometry": {
                    "type": "Polygon",
                    "coordinates": [
                      [
                        [
                          36.75116149684969,
                          36.98125231925421
                        ],
                        [
                          36.75177253272608,
                          36.960490064855634
                        ],
                        [
                          36.76849895641563,
                          36.95893269570756
                        ],
                        [
                          36.76848538290139,
                          36.98157937565941
                        ],
                        [
                          36.75116149684969,
                          36.98125231925421
                        ]
                      ]
                    ]
                  },
                  "bbox": [
                    36.75116149684969,
                    36.95893269570756,
                    36.76849895641563,
                    36.98157937565941
                  ]
                }
              ],
              "bbox": [
                36.566276833224975,
                36.95893269570756,
                36.769122320104394,
                37.2221669589583
              ]
            },
            "hover_style": {
              "weight": 4,
              "fillOpacity": 0
            },
            "layers": [],
            "name": "Footprints",
            "options": [],
            "pane": "",
            "point_style": {},
            "popup": null,
            "popup_max_height": null,
            "popup_max_width": 300,
            "popup_min_width": 50,
            "style": {
              "color": "#3388ff",
              "weight": 2,
              "opacity": 1,
              "fill": true,
              "fillColor": "#3388ff",
              "fillOpacity": 0.2
            },
            "subitems": [],
            "visible": true
          }
        },
        "03f7198c4c9c4a7ab451b7784566dd01": {
          "model_module": "@jupyter-widgets/base",
          "model_name": "LayoutModel",
          "model_module_version": "1.2.0",
          "state": {
            "_model_module": "@jupyter-widgets/base",
            "_model_module_version": "1.2.0",
            "_model_name": "LayoutModel",
            "_view_count": null,
            "_view_module": "@jupyter-widgets/base",
            "_view_module_version": "1.2.0",
            "_view_name": "LayoutView",
            "align_content": null,
            "align_items": null,
            "align_self": null,
            "border": null,
            "bottom": null,
            "display": null,
            "flex": null,
            "flex_flow": null,
            "grid_area": null,
            "grid_auto_columns": null,
            "grid_auto_flow": null,
            "grid_auto_rows": null,
            "grid_column": null,
            "grid_gap": null,
            "grid_row": null,
            "grid_template_areas": null,
            "grid_template_columns": null,
            "grid_template_rows": null,
            "height": "600px",
            "justify_content": null,
            "justify_items": null,
            "left": null,
            "margin": null,
            "max_height": null,
            "max_width": null,
            "min_height": null,
            "min_width": null,
            "object_fit": null,
            "object_position": null,
            "order": null,
            "overflow": null,
            "overflow_x": null,
            "overflow_y": null,
            "padding": null,
            "right": null,
            "top": null,
            "visibility": null,
            "width": null
          }
        },
        "0506045cd4bf4f3caeb383a32d980afc": {
          "model_module": "jupyter-leaflet",
          "model_name": "LeafletMapStyleModel",
          "model_module_version": "^0.18",
          "state": {
            "_model_module": "jupyter-leaflet",
            "_model_module_version": "^0.18",
            "_model_name": "LeafletMapStyleModel",
            "_view_count": null,
            "_view_module": "@jupyter-widgets/base",
            "_view_module_version": "1.2.0",
            "_view_name": "StyleView",
            "cursor": "grab"
          }
        },
        "b3b99cd9730c422fade5d73dbfd789f7": {
          "model_module": "@jupyter-widgets/controls",
          "model_name": "VBoxModel",
          "model_module_version": "1.5.0",
          "state": {
            "_dom_classes": [],
            "_model_module": "@jupyter-widgets/controls",
            "_model_module_version": "1.5.0",
            "_model_name": "VBoxModel",
            "_view_count": null,
            "_view_module": "@jupyter-widgets/controls",
            "_view_module_version": "1.5.0",
            "_view_name": "VBoxView",
            "box_style": "",
            "children": [
              "IPY_MODEL_706856a33d7d451bab097f2de3b1c53a"
            ],
            "layout": "IPY_MODEL_f40063c825cb4b5080a3222c46279305"
          }
        },
        "a20653bee3e34930ac2d8b5f49284c09": {
          "model_module": "@jupyter-widgets/controls",
          "model_name": "VBoxModel",
          "model_module_version": "1.5.0",
          "state": {
            "_dom_classes": [],
            "_model_module": "@jupyter-widgets/controls",
            "_model_module_version": "1.5.0",
            "_model_name": "VBoxModel",
            "_view_count": null,
            "_view_module": "@jupyter-widgets/controls",
            "_view_module_version": "1.5.0",
            "_view_name": "VBoxView",
            "box_style": "",
            "children": [
              "IPY_MODEL_c5049a79b209478c9d5efc9ab187fcd8",
              "IPY_MODEL_4c6f7aa20718452694e4018c873ab079"
            ],
            "layout": "IPY_MODEL_9afa77bfc6d1452d8aad0e94baa2c81b"
          }
        },
        "706856a33d7d451bab097f2de3b1c53a": {
          "model_module": "@jupyter-widgets/controls",
          "model_name": "ToggleButtonModel",
          "model_module_version": "1.5.0",
          "state": {
            "_dom_classes": [],
            "_model_module": "@jupyter-widgets/controls",
            "_model_module_version": "1.5.0",
            "_model_name": "ToggleButtonModel",
            "_view_count": null,
            "_view_module": "@jupyter-widgets/controls",
            "_view_module_version": "1.5.0",
            "_view_name": "ToggleButtonView",
            "button_style": "",
            "description": "",
            "description_tooltip": null,
            "disabled": false,
            "icon": "wrench",
            "layout": "IPY_MODEL_a0f7db82fc64454eacf512487a036337",
            "style": "IPY_MODEL_710666970e1b43829f7ba69464abc01e",
            "tooltip": "Toolbar",
            "value": false
          }
        },
        "f40063c825cb4b5080a3222c46279305": {
          "model_module": "@jupyter-widgets/base",
          "model_name": "LayoutModel",
          "model_module_version": "1.2.0",
          "state": {
            "_model_module": "@jupyter-widgets/base",
            "_model_module_version": "1.2.0",
            "_model_name": "LayoutModel",
            "_view_count": null,
            "_view_module": "@jupyter-widgets/base",
            "_view_module_version": "1.2.0",
            "_view_name": "LayoutView",
            "align_content": null,
            "align_items": null,
            "align_self": null,
            "border": null,
            "bottom": null,
            "display": null,
            "flex": null,
            "flex_flow": null,
            "grid_area": null,
            "grid_auto_columns": null,
            "grid_auto_flow": null,
            "grid_auto_rows": null,
            "grid_column": null,
            "grid_gap": null,
            "grid_row": null,
            "grid_template_areas": null,
            "grid_template_columns": null,
            "grid_template_rows": null,
            "height": null,
            "justify_content": null,
            "justify_items": null,
            "left": null,
            "margin": null,
            "max_height": null,
            "max_width": null,
            "min_height": null,
            "min_width": null,
            "object_fit": null,
            "object_position": null,
            "order": null,
            "overflow": null,
            "overflow_x": null,
            "overflow_y": null,
            "padding": null,
            "right": null,
            "top": null,
            "visibility": null,
            "width": null
          }
        },
        "c5049a79b209478c9d5efc9ab187fcd8": {
          "model_module": "@jupyter-widgets/controls",
          "model_name": "HBoxModel",
          "model_module_version": "1.5.0",
          "state": {
            "_dom_classes": [],
            "_model_module": "@jupyter-widgets/controls",
            "_model_module_version": "1.5.0",
            "_model_name": "HBoxModel",
            "_view_count": null,
            "_view_module": "@jupyter-widgets/controls",
            "_view_module_version": "1.5.0",
            "_view_name": "HBoxView",
            "box_style": "",
            "children": [
              "IPY_MODEL_d548854e869d4c4d9ca968807ebcf24a",
              "IPY_MODEL_60c19fa6c02441a4b1c64f96f98d8f95"
            ],
            "layout": "IPY_MODEL_77f4feb598644d6983f6ef39fec4d5d2"
          }
        },
        "4c6f7aa20718452694e4018c873ab079": {
          "model_module": "@jupyter-widgets/controls",
          "model_name": "HTMLModel",
          "model_module_version": "1.5.0",
          "state": {
            "_dom_classes": [],
            "_model_module": "@jupyter-widgets/controls",
            "_model_module_version": "1.5.0",
            "_model_name": "HTMLModel",
            "_view_count": null,
            "_view_module": "@jupyter-widgets/controls",
            "_view_module_version": "1.5.0",
            "_view_name": "HTMLView",
            "description": "",
            "description_tooltip": null,
            "layout": "IPY_MODEL_4e27e7dc66f7417385d595a7968fe281",
            "placeholder": "​",
            "style": "IPY_MODEL_117294bc5f9a4bd69b0f702751d6a25a",
            "value": "<b>datetime: </b>2023-02-07T08:39:01Z<br><b>platform: </b>GE01<br><b>gsd: </b>0.47<br><b>ard_metadata_version: </b>0.0.1<br><b>catalog_id: </b>1050050044DE7E00<br><b>utm_zone: </b>37<br><b>quadkey: </b>031133012120<br><b>view:off_nadir: </b>22<br><b>view:azimuth: </b>317.6<br><b>view:incidence_angle: </b>65.5<br><b>view:sun_azimuth: </b>159.7<br><b>view:sun_elevation: </b>35.3<br><b>proj:epsg: </b>32637<br><b>proj:geometry: </b>{'type': 'Polygon', 'coordinates': [[[283897.39990234375, 4110156.25], [285156.25, 4110156.25], [285156.25, 4104843.75], [283685.302734375, 4104843.75], [283709.41162109375, 4105071.1059570312], [283678.28369140625, 4105645.751953125], [283724.06005859375, 4106065.3686523438], [283731.0791015625, 4106358.642578125], [283788.75732421875, 4106789.2456054688], [283788.75732421875, 4107572.021484375], [283764.34326171875, 4107844.5434570312], [283764.34326171875, 4108043.5180664062], [283813.78173828125, 4108624.5727539062], [283855.89599609375, 4108848.5717773438], [283847.96142578125, 4109018.2495117188], [283897.39990234375, 4110156.25]]]}<br><b>grid:code: </b>MXRA-Z37-031133012120<br><b>proj:bbox: </b>283678.28369140625,4104843.75,285156.25,4110156.25<br><b>tile:data_area: </b>7.2<br><b>tile:clouds_area: </b>6<br><b>tile:clouds_percent: </b>83<br><b>visual: </b>https://maxar-opendata.s3.amazonaws.com/events/Kahramanmaras-turkey-earthquake-23/ard/37/031133012120/2023-02-07/1050050044DE7E00-visual.tif<br>"
          }
        },
        "9afa77bfc6d1452d8aad0e94baa2c81b": {
          "model_module": "@jupyter-widgets/base",
          "model_name": "LayoutModel",
          "model_module_version": "1.2.0",
          "state": {
            "_model_module": "@jupyter-widgets/base",
            "_model_module_version": "1.2.0",
            "_model_name": "LayoutModel",
            "_view_count": null,
            "_view_module": "@jupyter-widgets/base",
            "_view_module_version": "1.2.0",
            "_view_name": "LayoutView",
            "align_content": null,
            "align_items": null,
            "align_self": null,
            "border": null,
            "bottom": null,
            "display": null,
            "flex": null,
            "flex_flow": null,
            "grid_area": null,
            "grid_auto_columns": null,
            "grid_auto_flow": null,
            "grid_auto_rows": null,
            "grid_column": null,
            "grid_gap": null,
            "grid_row": null,
            "grid_template_areas": null,
            "grid_template_columns": null,
            "grid_template_rows": null,
            "height": null,
            "justify_content": null,
            "justify_items": null,
            "left": null,
            "margin": null,
            "max_height": null,
            "max_width": null,
            "min_height": null,
            "min_width": null,
            "object_fit": null,
            "object_position": null,
            "order": null,
            "overflow": null,
            "overflow_x": null,
            "overflow_y": null,
            "padding": null,
            "right": null,
            "top": null,
            "visibility": null,
            "width": null
          }
        },
        "a0f7db82fc64454eacf512487a036337": {
          "model_module": "@jupyter-widgets/base",
          "model_name": "LayoutModel",
          "model_module_version": "1.2.0",
          "state": {
            "_model_module": "@jupyter-widgets/base",
            "_model_module_version": "1.2.0",
            "_model_name": "LayoutModel",
            "_view_count": null,
            "_view_module": "@jupyter-widgets/base",
            "_view_module_version": "1.2.0",
            "_view_name": "LayoutView",
            "align_content": null,
            "align_items": null,
            "align_self": null,
            "border": null,
            "bottom": null,
            "display": null,
            "flex": null,
            "flex_flow": null,
            "grid_area": null,
            "grid_auto_columns": null,
            "grid_auto_flow": null,
            "grid_auto_rows": null,
            "grid_column": null,
            "grid_gap": null,
            "grid_row": null,
            "grid_template_areas": null,
            "grid_template_columns": null,
            "grid_template_rows": null,
            "height": "28px",
            "justify_content": null,
            "justify_items": null,
            "left": null,
            "margin": null,
            "max_height": null,
            "max_width": null,
            "min_height": null,
            "min_width": null,
            "object_fit": null,
            "object_position": null,
            "order": null,
            "overflow": null,
            "overflow_x": null,
            "overflow_y": null,
            "padding": "0px 0px 0px 4px",
            "right": null,
            "top": null,
            "visibility": null,
            "width": "28px"
          }
        },
        "710666970e1b43829f7ba69464abc01e": {
          "model_module": "@jupyter-widgets/controls",
          "model_name": "DescriptionStyleModel",
          "model_module_version": "1.5.0",
          "state": {
            "_model_module": "@jupyter-widgets/controls",
            "_model_module_version": "1.5.0",
            "_model_name": "DescriptionStyleModel",
            "_view_count": null,
            "_view_module": "@jupyter-widgets/base",
            "_view_module_version": "1.2.0",
            "_view_name": "StyleView",
            "description_width": ""
          }
        },
        "d548854e869d4c4d9ca968807ebcf24a": {
          "model_module": "@jupyter-widgets/controls",
          "model_name": "ToggleButtonModel",
          "model_module_version": "1.5.0",
          "state": {
            "_dom_classes": [],
            "_model_module": "@jupyter-widgets/controls",
            "_model_module_version": "1.5.0",
            "_model_name": "ToggleButtonModel",
            "_view_count": null,
            "_view_module": "@jupyter-widgets/controls",
            "_view_module_version": "1.5.0",
            "_view_name": "ToggleButtonView",
            "button_style": "",
            "description": "",
            "description_tooltip": null,
            "disabled": false,
            "icon": "info",
            "layout": "IPY_MODEL_48e40f7b899e4126ae02ead549224090",
            "style": "IPY_MODEL_513edb2e354b4bcd979910cde3313c2a",
            "tooltip": "Toolbar",
            "value": true
          }
        },
        "60c19fa6c02441a4b1c64f96f98d8f95": {
          "model_module": "@jupyter-widgets/controls",
          "model_name": "ToggleButtonModel",
          "model_module_version": "1.5.0",
          "state": {
            "_dom_classes": [],
            "_model_module": "@jupyter-widgets/controls",
            "_model_module_version": "1.5.0",
            "_model_name": "ToggleButtonModel",
            "_view_count": null,
            "_view_module": "@jupyter-widgets/controls",
            "_view_module_version": "1.5.0",
            "_view_name": "ToggleButtonView",
            "button_style": "",
            "description": "",
            "description_tooltip": null,
            "disabled": false,
            "icon": "times",
            "layout": "IPY_MODEL_72bc56c4343b47d9a1a26c0b678a7121",
            "style": "IPY_MODEL_7b8022ab3f6b45beaaa14afc3035aac3",
            "tooltip": "Close the tool",
            "value": false
          }
        },
        "77f4feb598644d6983f6ef39fec4d5d2": {
          "model_module": "@jupyter-widgets/base",
          "model_name": "LayoutModel",
          "model_module_version": "1.2.0",
          "state": {
            "_model_module": "@jupyter-widgets/base",
            "_model_module_version": "1.2.0",
            "_model_name": "LayoutModel",
            "_view_count": null,
            "_view_module": "@jupyter-widgets/base",
            "_view_module_version": "1.2.0",
            "_view_name": "LayoutView",
            "align_content": null,
            "align_items": null,
            "align_self": null,
            "border": null,
            "bottom": null,
            "display": null,
            "flex": null,
            "flex_flow": null,
            "grid_area": null,
            "grid_auto_columns": null,
            "grid_auto_flow": null,
            "grid_auto_rows": null,
            "grid_column": null,
            "grid_gap": null,
            "grid_row": null,
            "grid_template_areas": null,
            "grid_template_columns": null,
            "grid_template_rows": null,
            "height": null,
            "justify_content": null,
            "justify_items": null,
            "left": null,
            "margin": null,
            "max_height": null,
            "max_width": null,
            "min_height": null,
            "min_width": null,
            "object_fit": null,
            "object_position": null,
            "order": null,
            "overflow": null,
            "overflow_x": null,
            "overflow_y": null,
            "padding": null,
            "right": null,
            "top": null,
            "visibility": null,
            "width": null
          }
        },
        "4e27e7dc66f7417385d595a7968fe281": {
          "model_module": "@jupyter-widgets/base",
          "model_name": "LayoutModel",
          "model_module_version": "1.2.0",
          "state": {
            "_model_module": "@jupyter-widgets/base",
            "_model_module_version": "1.2.0",
            "_model_name": "LayoutModel",
            "_view_count": null,
            "_view_module": "@jupyter-widgets/base",
            "_view_module_version": "1.2.0",
            "_view_name": "LayoutView",
            "align_content": null,
            "align_items": null,
            "align_self": null,
            "border": null,
            "bottom": null,
            "display": null,
            "flex": null,
            "flex_flow": null,
            "grid_area": null,
            "grid_auto_columns": null,
            "grid_auto_flow": null,
            "grid_auto_rows": null,
            "grid_column": null,
            "grid_gap": null,
            "grid_row": null,
            "grid_template_areas": null,
            "grid_template_columns": null,
            "grid_template_rows": null,
            "height": null,
            "justify_content": null,
            "justify_items": null,
            "left": null,
            "margin": "0px 10px 0px 10px",
            "max_height": "250px",
            "max_width": "250px",
            "min_height": null,
            "min_width": null,
            "object_fit": null,
            "object_position": null,
            "order": null,
            "overflow": null,
            "overflow_x": null,
            "overflow_y": null,
            "padding": null,
            "right": null,
            "top": null,
            "visibility": null,
            "width": null
          }
        },
        "117294bc5f9a4bd69b0f702751d6a25a": {
          "model_module": "@jupyter-widgets/controls",
          "model_name": "DescriptionStyleModel",
          "model_module_version": "1.5.0",
          "state": {
            "_model_module": "@jupyter-widgets/controls",
            "_model_module_version": "1.5.0",
            "_model_name": "DescriptionStyleModel",
            "_view_count": null,
            "_view_module": "@jupyter-widgets/base",
            "_view_module_version": "1.2.0",
            "_view_name": "StyleView",
            "description_width": ""
          }
        },
        "48e40f7b899e4126ae02ead549224090": {
          "model_module": "@jupyter-widgets/base",
          "model_name": "LayoutModel",
          "model_module_version": "1.2.0",
          "state": {
            "_model_module": "@jupyter-widgets/base",
            "_model_module_version": "1.2.0",
            "_model_name": "LayoutModel",
            "_view_count": null,
            "_view_module": "@jupyter-widgets/base",
            "_view_module_version": "1.2.0",
            "_view_name": "LayoutView",
            "align_content": null,
            "align_items": null,
            "align_self": null,
            "border": null,
            "bottom": null,
            "display": null,
            "flex": null,
            "flex_flow": null,
            "grid_area": null,
            "grid_auto_columns": null,
            "grid_auto_flow": null,
            "grid_auto_rows": null,
            "grid_column": null,
            "grid_gap": null,
            "grid_row": null,
            "grid_template_areas": null,
            "grid_template_columns": null,
            "grid_template_rows": null,
            "height": "28px",
            "justify_content": null,
            "justify_items": null,
            "left": null,
            "margin": null,
            "max_height": null,
            "max_width": null,
            "min_height": null,
            "min_width": null,
            "object_fit": null,
            "object_position": null,
            "order": null,
            "overflow": null,
            "overflow_x": null,
            "overflow_y": null,
            "padding": "0px 0px 0px 4px",
            "right": null,
            "top": null,
            "visibility": null,
            "width": "28px"
          }
        },
        "513edb2e354b4bcd979910cde3313c2a": {
          "model_module": "@jupyter-widgets/controls",
          "model_name": "DescriptionStyleModel",
          "model_module_version": "1.5.0",
          "state": {
            "_model_module": "@jupyter-widgets/controls",
            "_model_module_version": "1.5.0",
            "_model_name": "DescriptionStyleModel",
            "_view_count": null,
            "_view_module": "@jupyter-widgets/base",
            "_view_module_version": "1.2.0",
            "_view_name": "StyleView",
            "description_width": ""
          }
        },
        "72bc56c4343b47d9a1a26c0b678a7121": {
          "model_module": "@jupyter-widgets/base",
          "model_name": "LayoutModel",
          "model_module_version": "1.2.0",
          "state": {
            "_model_module": "@jupyter-widgets/base",
            "_model_module_version": "1.2.0",
            "_model_name": "LayoutModel",
            "_view_count": null,
            "_view_module": "@jupyter-widgets/base",
            "_view_module_version": "1.2.0",
            "_view_name": "LayoutView",
            "align_content": null,
            "align_items": null,
            "align_self": null,
            "border": null,
            "bottom": null,
            "display": null,
            "flex": null,
            "flex_flow": null,
            "grid_area": null,
            "grid_auto_columns": null,
            "grid_auto_flow": null,
            "grid_auto_rows": null,
            "grid_column": null,
            "grid_gap": null,
            "grid_row": null,
            "grid_template_areas": null,
            "grid_template_columns": null,
            "grid_template_rows": null,
            "height": "28px",
            "justify_content": null,
            "justify_items": null,
            "left": null,
            "margin": null,
            "max_height": null,
            "max_width": null,
            "min_height": null,
            "min_width": null,
            "object_fit": null,
            "object_position": null,
            "order": null,
            "overflow": null,
            "overflow_x": null,
            "overflow_y": null,
            "padding": "0px 0px 0px 4px",
            "right": null,
            "top": null,
            "visibility": null,
            "width": "28px"
          }
        },
        "7b8022ab3f6b45beaaa14afc3035aac3": {
          "model_module": "@jupyter-widgets/controls",
          "model_name": "DescriptionStyleModel",
          "model_module_version": "1.5.0",
          "state": {
            "_model_module": "@jupyter-widgets/controls",
            "_model_module_version": "1.5.0",
            "_model_name": "DescriptionStyleModel",
            "_view_count": null,
            "_view_module": "@jupyter-widgets/base",
            "_view_module_version": "1.2.0",
            "_view_name": "StyleView",
            "description_width": ""
          }
        }
      }
    }
  },
  "nbformat": 4,
  "nbformat_minor": 5
}
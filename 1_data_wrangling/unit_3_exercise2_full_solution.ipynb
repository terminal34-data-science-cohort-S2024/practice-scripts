{
 "cells": [
  {
   "cell_type": "markdown",
   "id": "418ee9d5",
   "metadata": {
    "papermill": {
     "duration": 0.016728,
     "end_time": "2023-12-24T19:42:23.761470",
     "exception": false,
     "start_time": "2023-12-24T19:42:23.744742",
     "status": "completed"
    },
    "tags": []
   },
   "source": [
    "**General Information**\n",
    "\n",
    "In this kernel i'll work with data from Data Science Job Posting on Glassdoor.\n",
    "\n",
    "This dataset is interesting for Data Cleaning & Transformation porpouses, so we will put were better effort on this. "
   ]
  },
  {
   "cell_type": "markdown",
   "id": "675e644c",
   "metadata": {
    "papermill": {
     "duration": 0.016797,
     "end_time": "2023-12-24T19:42:23.795441",
     "exception": false,
     "start_time": "2023-12-24T19:42:23.778644",
     "status": "completed"
    },
    "tags": []
   },
   "source": [
    "**1. First we make sure our file is readable, we assign a DataFrame variable to the file and take a first look at the file.**"
   ]
  },
  {
   "cell_type": "code",
   "execution_count": 1,
   "id": "00f086e6",
   "metadata": {
    "execution": {
     "iopub.execute_input": "2023-12-24T19:42:23.830523Z",
     "iopub.status.busy": "2023-12-24T19:42:23.829852Z",
     "iopub.status.idle": "2023-12-24T19:42:24.804870Z",
     "shell.execute_reply": "2023-12-24T19:42:24.803603Z"
    },
    "papermill": {
     "duration": 0.995637,
     "end_time": "2023-12-24T19:42:24.807662",
     "exception": false,
     "start_time": "2023-12-24T19:42:23.812025",
     "status": "completed"
    },
    "tags": []
   },
   "outputs": [
    {
     "data": {
      "text/html": [
       "<div>\n",
       "<style scoped>\n",
       "    .dataframe tbody tr th:only-of-type {\n",
       "        vertical-align: middle;\n",
       "    }\n",
       "\n",
       "    .dataframe tbody tr th {\n",
       "        vertical-align: top;\n",
       "    }\n",
       "\n",
       "    .dataframe thead th {\n",
       "        text-align: right;\n",
       "    }\n",
       "</style>\n",
       "<table border=\"1\" class=\"dataframe\">\n",
       "  <thead>\n",
       "    <tr style=\"text-align: right;\">\n",
       "      <th></th>\n",
       "      <th>index</th>\n",
       "      <th>Job Title</th>\n",
       "      <th>Salary Estimate</th>\n",
       "      <th>Job Description</th>\n",
       "      <th>Rating</th>\n",
       "      <th>Company Name</th>\n",
       "      <th>Location</th>\n",
       "      <th>Headquarters</th>\n",
       "      <th>Size</th>\n",
       "      <th>Founded</th>\n",
       "      <th>Type of ownership</th>\n",
       "      <th>Industry</th>\n",
       "      <th>Sector</th>\n",
       "      <th>Revenue</th>\n",
       "      <th>Competitors</th>\n",
       "    </tr>\n",
       "  </thead>\n",
       "  <tbody>\n",
       "    <tr>\n",
       "      <th>0</th>\n",
       "      <td>0</td>\n",
       "      <td>Sr Data Scientist</td>\n",
       "      <td>$137K-$171K (Glassdoor est.)</td>\n",
       "      <td>Description\\n\\nThe Senior Data Scientist is re...</td>\n",
       "      <td>3.1</td>\n",
       "      <td>Healthfirst\\n3.1</td>\n",
       "      <td>New York, NY</td>\n",
       "      <td>New York, NY</td>\n",
       "      <td>1001 to 5000 employees</td>\n",
       "      <td>1993</td>\n",
       "      <td>Nonprofit Organization</td>\n",
       "      <td>Insurance Carriers</td>\n",
       "      <td>Insurance</td>\n",
       "      <td>Unknown / Non-Applicable</td>\n",
       "      <td>EmblemHealth, UnitedHealth Group, Aetna</td>\n",
       "    </tr>\n",
       "    <tr>\n",
       "      <th>1</th>\n",
       "      <td>1</td>\n",
       "      <td>Data Scientist</td>\n",
       "      <td>$137K-$171K (Glassdoor est.)</td>\n",
       "      <td>Secure our Nation, Ignite your Future\\n\\nJoin ...</td>\n",
       "      <td>4.2</td>\n",
       "      <td>ManTech\\n4.2</td>\n",
       "      <td>Chantilly, VA</td>\n",
       "      <td>Herndon, VA</td>\n",
       "      <td>5001 to 10000 employees</td>\n",
       "      <td>1968</td>\n",
       "      <td>Company - Public</td>\n",
       "      <td>Research &amp; Development</td>\n",
       "      <td>Business Services</td>\n",
       "      <td>$1 to $2 billion (USD)</td>\n",
       "      <td>-1</td>\n",
       "    </tr>\n",
       "    <tr>\n",
       "      <th>2</th>\n",
       "      <td>2</td>\n",
       "      <td>Data Scientist</td>\n",
       "      <td>$137K-$171K (Glassdoor est.)</td>\n",
       "      <td>Overview\\n\\n\\nAnalysis Group is one of the lar...</td>\n",
       "      <td>3.8</td>\n",
       "      <td>Analysis Group\\n3.8</td>\n",
       "      <td>Boston, MA</td>\n",
       "      <td>Boston, MA</td>\n",
       "      <td>1001 to 5000 employees</td>\n",
       "      <td>1981</td>\n",
       "      <td>Private Practice / Firm</td>\n",
       "      <td>Consulting</td>\n",
       "      <td>Business Services</td>\n",
       "      <td>$100 to $500 million (USD)</td>\n",
       "      <td>-1</td>\n",
       "    </tr>\n",
       "    <tr>\n",
       "      <th>3</th>\n",
       "      <td>3</td>\n",
       "      <td>Data Scientist</td>\n",
       "      <td>$137K-$171K (Glassdoor est.)</td>\n",
       "      <td>JOB DESCRIPTION:\\n\\nDo you have a passion for ...</td>\n",
       "      <td>3.5</td>\n",
       "      <td>INFICON\\n3.5</td>\n",
       "      <td>Newton, MA</td>\n",
       "      <td>Bad Ragaz, Switzerland</td>\n",
       "      <td>501 to 1000 employees</td>\n",
       "      <td>2000</td>\n",
       "      <td>Company - Public</td>\n",
       "      <td>Electrical &amp; Electronic Manufacturing</td>\n",
       "      <td>Manufacturing</td>\n",
       "      <td>$100 to $500 million (USD)</td>\n",
       "      <td>MKS Instruments, Pfeiffer Vacuum, Agilent Tech...</td>\n",
       "    </tr>\n",
       "    <tr>\n",
       "      <th>4</th>\n",
       "      <td>4</td>\n",
       "      <td>Data Scientist</td>\n",
       "      <td>$137K-$171K (Glassdoor est.)</td>\n",
       "      <td>Data Scientist\\nAffinity Solutions / Marketing...</td>\n",
       "      <td>2.9</td>\n",
       "      <td>Affinity Solutions\\n2.9</td>\n",
       "      <td>New York, NY</td>\n",
       "      <td>New York, NY</td>\n",
       "      <td>51 to 200 employees</td>\n",
       "      <td>1998</td>\n",
       "      <td>Company - Private</td>\n",
       "      <td>Advertising &amp; Marketing</td>\n",
       "      <td>Business Services</td>\n",
       "      <td>Unknown / Non-Applicable</td>\n",
       "      <td>Commerce Signals, Cardlytics, Yodlee</td>\n",
       "    </tr>\n",
       "    <tr>\n",
       "      <th>...</th>\n",
       "      <td>...</td>\n",
       "      <td>...</td>\n",
       "      <td>...</td>\n",
       "      <td>...</td>\n",
       "      <td>...</td>\n",
       "      <td>...</td>\n",
       "      <td>...</td>\n",
       "      <td>...</td>\n",
       "      <td>...</td>\n",
       "      <td>...</td>\n",
       "      <td>...</td>\n",
       "      <td>...</td>\n",
       "      <td>...</td>\n",
       "      <td>...</td>\n",
       "      <td>...</td>\n",
       "    </tr>\n",
       "    <tr>\n",
       "      <th>667</th>\n",
       "      <td>667</td>\n",
       "      <td>Data Scientist</td>\n",
       "      <td>$105K-$167K (Glassdoor est.)</td>\n",
       "      <td>Summary\\n\\nWe’re looking for a data scientist ...</td>\n",
       "      <td>3.6</td>\n",
       "      <td>TRANZACT\\n3.6</td>\n",
       "      <td>Fort Lee, NJ</td>\n",
       "      <td>Fort Lee, NJ</td>\n",
       "      <td>1001 to 5000 employees</td>\n",
       "      <td>1989</td>\n",
       "      <td>Company - Private</td>\n",
       "      <td>Advertising &amp; Marketing</td>\n",
       "      <td>Business Services</td>\n",
       "      <td>Unknown / Non-Applicable</td>\n",
       "      <td>-1</td>\n",
       "    </tr>\n",
       "    <tr>\n",
       "      <th>668</th>\n",
       "      <td>668</td>\n",
       "      <td>Data Scientist</td>\n",
       "      <td>$105K-$167K (Glassdoor est.)</td>\n",
       "      <td>Job Description\\nBecome a thought leader withi...</td>\n",
       "      <td>-1.0</td>\n",
       "      <td>JKGT</td>\n",
       "      <td>San Francisco, CA</td>\n",
       "      <td>-1</td>\n",
       "      <td>-1</td>\n",
       "      <td>-1</td>\n",
       "      <td>-1</td>\n",
       "      <td>-1</td>\n",
       "      <td>-1</td>\n",
       "      <td>-1</td>\n",
       "      <td>-1</td>\n",
       "    </tr>\n",
       "    <tr>\n",
       "      <th>669</th>\n",
       "      <td>669</td>\n",
       "      <td>Data Scientist</td>\n",
       "      <td>$105K-$167K (Glassdoor est.)</td>\n",
       "      <td>Join a thriving company that is changing the w...</td>\n",
       "      <td>-1.0</td>\n",
       "      <td>AccessHope</td>\n",
       "      <td>Irwindale, CA</td>\n",
       "      <td>-1</td>\n",
       "      <td>-1</td>\n",
       "      <td>-1</td>\n",
       "      <td>-1</td>\n",
       "      <td>-1</td>\n",
       "      <td>-1</td>\n",
       "      <td>-1</td>\n",
       "      <td>-1</td>\n",
       "    </tr>\n",
       "    <tr>\n",
       "      <th>670</th>\n",
       "      <td>670</td>\n",
       "      <td>Data Scientist</td>\n",
       "      <td>$105K-$167K (Glassdoor est.)</td>\n",
       "      <td>100 Remote Opportunity As an AINLP Data Scient...</td>\n",
       "      <td>5.0</td>\n",
       "      <td>ChaTeck Incorporated\\n5.0</td>\n",
       "      <td>San Francisco, CA</td>\n",
       "      <td>Santa Clara, CA</td>\n",
       "      <td>1 to 50 employees</td>\n",
       "      <td>-1</td>\n",
       "      <td>Company - Private</td>\n",
       "      <td>Advertising &amp; Marketing</td>\n",
       "      <td>Business Services</td>\n",
       "      <td>$1 to $5 million (USD)</td>\n",
       "      <td>-1</td>\n",
       "    </tr>\n",
       "    <tr>\n",
       "      <th>671</th>\n",
       "      <td>671</td>\n",
       "      <td>Data Scientist</td>\n",
       "      <td>$105K-$167K (Glassdoor est.)</td>\n",
       "      <td>Description\\n\\nThe Data Scientist will be part...</td>\n",
       "      <td>2.7</td>\n",
       "      <td>1-800-Flowers\\n2.7</td>\n",
       "      <td>New York, NY</td>\n",
       "      <td>Carle Place, NY</td>\n",
       "      <td>1001 to 5000 employees</td>\n",
       "      <td>1976</td>\n",
       "      <td>Company - Public</td>\n",
       "      <td>Wholesale</td>\n",
       "      <td>Business Services</td>\n",
       "      <td>$1 to $2 billion (USD)</td>\n",
       "      <td>-1</td>\n",
       "    </tr>\n",
       "  </tbody>\n",
       "</table>\n",
       "<p>672 rows × 15 columns</p>\n",
       "</div>"
      ],
      "text/plain": [
       "     index          Job Title               Salary Estimate  \\\n",
       "0        0  Sr Data Scientist  $137K-$171K (Glassdoor est.)   \n",
       "1        1     Data Scientist  $137K-$171K (Glassdoor est.)   \n",
       "2        2     Data Scientist  $137K-$171K (Glassdoor est.)   \n",
       "3        3     Data Scientist  $137K-$171K (Glassdoor est.)   \n",
       "4        4     Data Scientist  $137K-$171K (Glassdoor est.)   \n",
       "..     ...                ...                           ...   \n",
       "667    667     Data Scientist  $105K-$167K (Glassdoor est.)   \n",
       "668    668     Data Scientist  $105K-$167K (Glassdoor est.)   \n",
       "669    669     Data Scientist  $105K-$167K (Glassdoor est.)   \n",
       "670    670     Data Scientist  $105K-$167K (Glassdoor est.)   \n",
       "671    671     Data Scientist  $105K-$167K (Glassdoor est.)   \n",
       "\n",
       "                                       Job Description  Rating  \\\n",
       "0    Description\\n\\nThe Senior Data Scientist is re...     3.1   \n",
       "1    Secure our Nation, Ignite your Future\\n\\nJoin ...     4.2   \n",
       "2    Overview\\n\\n\\nAnalysis Group is one of the lar...     3.8   \n",
       "3    JOB DESCRIPTION:\\n\\nDo you have a passion for ...     3.5   \n",
       "4    Data Scientist\\nAffinity Solutions / Marketing...     2.9   \n",
       "..                                                 ...     ...   \n",
       "667  Summary\\n\\nWe’re looking for a data scientist ...     3.6   \n",
       "668  Job Description\\nBecome a thought leader withi...    -1.0   \n",
       "669  Join a thriving company that is changing the w...    -1.0   \n",
       "670  100 Remote Opportunity As an AINLP Data Scient...     5.0   \n",
       "671  Description\\n\\nThe Data Scientist will be part...     2.7   \n",
       "\n",
       "                  Company Name           Location            Headquarters  \\\n",
       "0             Healthfirst\\n3.1       New York, NY            New York, NY   \n",
       "1                 ManTech\\n4.2      Chantilly, VA             Herndon, VA   \n",
       "2          Analysis Group\\n3.8         Boston, MA              Boston, MA   \n",
       "3                 INFICON\\n3.5         Newton, MA  Bad Ragaz, Switzerland   \n",
       "4      Affinity Solutions\\n2.9       New York, NY            New York, NY   \n",
       "..                         ...                ...                     ...   \n",
       "667              TRANZACT\\n3.6       Fort Lee, NJ            Fort Lee, NJ   \n",
       "668                       JKGT  San Francisco, CA                      -1   \n",
       "669                 AccessHope      Irwindale, CA                      -1   \n",
       "670  ChaTeck Incorporated\\n5.0  San Francisco, CA         Santa Clara, CA   \n",
       "671         1-800-Flowers\\n2.7       New York, NY         Carle Place, NY   \n",
       "\n",
       "                        Size  Founded        Type of ownership  \\\n",
       "0     1001 to 5000 employees     1993   Nonprofit Organization   \n",
       "1    5001 to 10000 employees     1968         Company - Public   \n",
       "2     1001 to 5000 employees     1981  Private Practice / Firm   \n",
       "3      501 to 1000 employees     2000         Company - Public   \n",
       "4        51 to 200 employees     1998        Company - Private   \n",
       "..                       ...      ...                      ...   \n",
       "667   1001 to 5000 employees     1989        Company - Private   \n",
       "668                       -1       -1                       -1   \n",
       "669                       -1       -1                       -1   \n",
       "670        1 to 50 employees       -1        Company - Private   \n",
       "671   1001 to 5000 employees     1976         Company - Public   \n",
       "\n",
       "                                  Industry             Sector  \\\n",
       "0                       Insurance Carriers          Insurance   \n",
       "1                   Research & Development  Business Services   \n",
       "2                               Consulting  Business Services   \n",
       "3    Electrical & Electronic Manufacturing      Manufacturing   \n",
       "4                  Advertising & Marketing  Business Services   \n",
       "..                                     ...                ...   \n",
       "667                Advertising & Marketing  Business Services   \n",
       "668                                     -1                 -1   \n",
       "669                                     -1                 -1   \n",
       "670                Advertising & Marketing  Business Services   \n",
       "671                              Wholesale  Business Services   \n",
       "\n",
       "                        Revenue  \\\n",
       "0      Unknown / Non-Applicable   \n",
       "1        $1 to $2 billion (USD)   \n",
       "2    $100 to $500 million (USD)   \n",
       "3    $100 to $500 million (USD)   \n",
       "4      Unknown / Non-Applicable   \n",
       "..                          ...   \n",
       "667    Unknown / Non-Applicable   \n",
       "668                          -1   \n",
       "669                          -1   \n",
       "670      $1 to $5 million (USD)   \n",
       "671      $1 to $2 billion (USD)   \n",
       "\n",
       "                                           Competitors  \n",
       "0              EmblemHealth, UnitedHealth Group, Aetna  \n",
       "1                                                   -1  \n",
       "2                                                   -1  \n",
       "3    MKS Instruments, Pfeiffer Vacuum, Agilent Tech...  \n",
       "4                 Commerce Signals, Cardlytics, Yodlee  \n",
       "..                                                 ...  \n",
       "667                                                 -1  \n",
       "668                                                 -1  \n",
       "669                                                 -1  \n",
       "670                                                 -1  \n",
       "671                                                 -1  \n",
       "\n",
       "[672 rows x 15 columns]"
      ]
     },
     "execution_count": 1,
     "metadata": {},
     "output_type": "execute_result"
    }
   ],
   "source": [
    "# Read File and assign a variable to DataFrame.\n",
    "\n",
    "import pandas as pd\n",
    "\n",
    "csv_file = '/kaggle/input/data-science-job-posting-on-glassdoor/Uncleaned_DS_jobs.csv'\n",
    "\n",
    "df = pd.read_csv(csv_file)\n",
    "\n",
    "df"
   ]
  },
  {
   "cell_type": "code",
   "execution_count": 2,
   "id": "ce5d6698",
   "metadata": {
    "execution": {
     "iopub.execute_input": "2023-12-24T19:42:24.844867Z",
     "iopub.status.busy": "2023-12-24T19:42:24.844450Z",
     "iopub.status.idle": "2023-12-24T19:42:24.852136Z",
     "shell.execute_reply": "2023-12-24T19:42:24.851384Z"
    },
    "papermill": {
     "duration": 0.029481,
     "end_time": "2023-12-24T19:42:24.854703",
     "exception": false,
     "start_time": "2023-12-24T19:42:24.825222",
     "status": "completed"
    },
    "tags": []
   },
   "outputs": [
    {
     "data": {
      "text/plain": [
       "index                  int64\n",
       "Job Title             object\n",
       "Salary Estimate       object\n",
       "Job Description       object\n",
       "Rating               float64\n",
       "Company Name          object\n",
       "Location              object\n",
       "Headquarters          object\n",
       "Size                  object\n",
       "Founded                int64\n",
       "Type of ownership     object\n",
       "Industry              object\n",
       "Sector                object\n",
       "Revenue               object\n",
       "Competitors           object\n",
       "dtype: object"
      ]
     },
     "execution_count": 2,
     "metadata": {},
     "output_type": "execute_result"
    }
   ],
   "source": [
    "#Fast checking the data types of my DataFrame.\n",
    "\n",
    "df.dtypes"
   ]
  },
  {
   "cell_type": "markdown",
   "id": "f5a3661e",
   "metadata": {
    "papermill": {
     "duration": 0.017608,
     "end_time": "2023-12-24T19:42:24.889556",
     "exception": false,
     "start_time": "2023-12-24T19:42:24.871948",
     "status": "completed"
    },
    "tags": []
   },
   "source": [
    "**2. Data Cleaning: We will check column by column that there are no errors and we will also work on some data as needed.**"
   ]
  },
  {
   "cell_type": "markdown",
   "id": "de179606",
   "metadata": {
    "papermill": {
     "duration": 0.017073,
     "end_time": "2023-12-24T19:42:24.924623",
     "exception": false,
     "start_time": "2023-12-24T19:42:24.907550",
     "status": "completed"
    },
    "tags": []
   },
   "source": [
    "* Column Job Title: We will verify that there are no values with error."
   ]
  },
  {
   "cell_type": "code",
   "execution_count": 3,
   "id": "459b12fc",
   "metadata": {
    "execution": {
     "iopub.execute_input": "2023-12-24T19:42:24.962129Z",
     "iopub.status.busy": "2023-12-24T19:42:24.961354Z",
     "iopub.status.idle": "2023-12-24T19:42:24.970096Z",
     "shell.execute_reply": "2023-12-24T19:42:24.969086Z"
    },
    "papermill": {
     "duration": 0.03038,
     "end_time": "2023-12-24T19:42:24.972284",
     "exception": false,
     "start_time": "2023-12-24T19:42:24.941904",
     "status": "completed"
    },
    "tags": []
   },
   "outputs": [
    {
     "data": {
      "text/plain": [
       "0"
      ]
     },
     "execution_count": 3,
     "metadata": {},
     "output_type": "execute_result"
    }
   ],
   "source": [
    "# Check for errors or NaN values in the column 'Job Title'.\n",
    "errors_or_nan_in_job_titles = df['Job Title'].isnull().sum()\n",
    "errors_or_nan_in_job_titles\n"
   ]
  },
  {
   "cell_type": "markdown",
   "id": "a2489c95",
   "metadata": {
    "papermill": {
     "duration": 0.016972,
     "end_time": "2023-12-24T19:42:25.006729",
     "exception": false,
     "start_time": "2023-12-24T19:42:24.989757",
     "status": "completed"
    },
    "tags": []
   },
   "source": [
    "* Column Salary Estimate: We will simplify the data so that we can categorize or analyze it appropriately.\n"
   ]
  },
  {
   "cell_type": "code",
   "execution_count": 4,
   "id": "70c6b1ae",
   "metadata": {
    "execution": {
     "iopub.execute_input": "2023-12-24T19:42:25.043258Z",
     "iopub.status.busy": "2023-12-24T19:42:25.042535Z",
     "iopub.status.idle": "2023-12-24T19:42:25.053995Z",
     "shell.execute_reply": "2023-12-24T19:42:25.053241Z"
    },
    "papermill": {
     "duration": 0.032254,
     "end_time": "2023-12-24T19:42:25.056153",
     "exception": false,
     "start_time": "2023-12-24T19:42:25.023899",
     "status": "completed"
    },
    "tags": []
   },
   "outputs": [
    {
     "data": {
      "text/plain": [
       "array(['$137K-$171K (Glassdoor est.)', '$75K-$131K (Glassdoor est.)',\n",
       "       '$79K-$131K (Glassdoor est.)', '$99K-$132K (Glassdoor est.)',\n",
       "       '$90K-$109K (Glassdoor est.)', '$101K-$165K (Glassdoor est.)',\n",
       "       '$56K-$97K (Glassdoor est.)', '$79K-$106K (Glassdoor est.)',\n",
       "       '$71K-$123K (Glassdoor est.)', '$90K-$124K (Glassdoor est.)',\n",
       "       '$91K-$150K (Glassdoor est.)', '$141K-$225K (Glassdoor est.)',\n",
       "       '$145K-$225K(Employer est.)', '$79K-$147K (Glassdoor est.)',\n",
       "       '$122K-$146K (Glassdoor est.)', '$112K-$116K (Glassdoor est.)',\n",
       "       '$110K-$163K (Glassdoor est.)', '$124K-$198K (Glassdoor est.)',\n",
       "       '$79K-$133K (Glassdoor est.)', '$69K-$116K (Glassdoor est.)',\n",
       "       '$31K-$56K (Glassdoor est.)', '$95K-$119K (Glassdoor est.)',\n",
       "       '$212K-$331K (Glassdoor est.)', '$66K-$112K (Glassdoor est.)',\n",
       "       '$128K-$201K (Glassdoor est.)', '$138K-$158K (Glassdoor est.)',\n",
       "       '$80K-$132K (Glassdoor est.)', '$87K-$141K (Glassdoor est.)',\n",
       "       '$92K-$155K (Glassdoor est.)', '$105K-$167K (Glassdoor est.)'],\n",
       "      dtype=object)"
      ]
     },
     "execution_count": 4,
     "metadata": {},
     "output_type": "execute_result"
    }
   ],
   "source": [
    "# Verification of salary values\n",
    "unique_salary = df['Salary Estimate'].unique()\n",
    "unique_salary"
   ]
  },
  {
   "cell_type": "code",
   "execution_count": 5,
   "id": "221fa461",
   "metadata": {
    "execution": {
     "iopub.execute_input": "2023-12-24T19:42:25.093545Z",
     "iopub.status.busy": "2023-12-24T19:42:25.093164Z",
     "iopub.status.idle": "2023-12-24T19:42:25.113502Z",
     "shell.execute_reply": "2023-12-24T19:42:25.112552Z"
    },
    "papermill": {
     "duration": 0.042185,
     "end_time": "2023-12-24T19:42:25.115786",
     "exception": false,
     "start_time": "2023-12-24T19:42:25.073601",
     "status": "completed"
    },
    "tags": []
   },
   "outputs": [
    {
     "data": {
      "text/plain": [
       "array(['137-171', '75-131', '79-131', '99-132', '90-109', '101-165',\n",
       "       '56-97', '79-106', '71-123', '90-124', '91-150', '141-225',\n",
       "       '145-225()', '79-147', '122-146', '112-116', '110-163', '124-198',\n",
       "       '79-133', '69-116', '31-56', '95-119', '212-331', '66-112',\n",
       "       '128-201', '138-158', '80-132', '87-141', '92-155', '105-167'],\n",
       "      dtype=object)"
      ]
     },
     "execution_count": 5,
     "metadata": {},
     "output_type": "execute_result"
    }
   ],
   "source": [
    "# Replacing the values \"$\", \"K\", and \" (Glassdoor est.)\" by empty in the column \"Salary Estimate\".\n",
    "df['Salary Estimate'] = df['Salary Estimate'].replace({'\\$': '', 'K': '', ' \\(Glassdoor est.\\)': '','(Employer est.)':''}, regex=True)\n",
    "\n",
    "# Showing the first records to verify the changes\n",
    "unique_salary = df['Salary Estimate'].unique()\n",
    "unique_salary"
   ]
  },
  {
   "cell_type": "markdown",
   "id": "557028f3",
   "metadata": {
    "papermill": {
     "duration": 0.017153,
     "end_time": "2023-12-24T19:42:25.150601",
     "exception": false,
     "start_time": "2023-12-24T19:42:25.133448",
     "status": "completed"
    },
    "tags": []
   },
   "source": [
    "* Column Job Description: We will verify that there are no values with error."
   ]
  },
  {
   "cell_type": "code",
   "execution_count": 6,
   "id": "1738a02a",
   "metadata": {
    "execution": {
     "iopub.execute_input": "2023-12-24T19:42:25.251535Z",
     "iopub.status.busy": "2023-12-24T19:42:25.251077Z",
     "iopub.status.idle": "2023-12-24T19:42:25.258981Z",
     "shell.execute_reply": "2023-12-24T19:42:25.257887Z"
    },
    "papermill": {
     "duration": 0.093328,
     "end_time": "2023-12-24T19:42:25.261258",
     "exception": false,
     "start_time": "2023-12-24T19:42:25.167930",
     "status": "completed"
    },
    "tags": []
   },
   "outputs": [
    {
     "data": {
      "text/plain": [
       "0"
      ]
     },
     "execution_count": 6,
     "metadata": {},
     "output_type": "execute_result"
    }
   ],
   "source": [
    "# Check for errors or NaN values in the column 'Job Description'.\n",
    "errors_or_nan_in_job_description = df['Job Description'].isnull().sum()\n",
    "errors_or_nan_in_job_description"
   ]
  },
  {
   "cell_type": "markdown",
   "id": "f050a0f6",
   "metadata": {
    "papermill": {
     "duration": 0.017454,
     "end_time": "2023-12-24T19:42:25.296660",
     "exception": false,
     "start_time": "2023-12-24T19:42:25.279206",
     "status": "completed"
    },
    "tags": []
   },
   "source": [
    "* Column Rating: We will transform those negative data into 0."
   ]
  },
  {
   "cell_type": "code",
   "execution_count": 7,
   "id": "f35d018b",
   "metadata": {
    "execution": {
     "iopub.execute_input": "2023-12-24T19:42:25.333842Z",
     "iopub.status.busy": "2023-12-24T19:42:25.333415Z",
     "iopub.status.idle": "2023-12-24T19:42:25.343943Z",
     "shell.execute_reply": "2023-12-24T19:42:25.342906Z"
    },
    "papermill": {
     "duration": 0.032149,
     "end_time": "2023-12-24T19:42:25.346416",
     "exception": false,
     "start_time": "2023-12-24T19:42:25.314267",
     "status": "completed"
    },
    "tags": []
   },
   "outputs": [
    {
     "data": {
      "text/plain": [
       "array([3.1, 4.2, 3.8, 3.5, 2.9, 3.9, 4.4, 3.6, 4.5, 4.7, 3.7, 3.4, 4.1,\n",
       "       3.2, 4.3, 2.8, 5. , 4.8, 3.3, 2.7, 2.2, 2.6, 4. , 2.5, 4.9, 2.4,\n",
       "       0. , 2.3, 4.6, 3. , 2.1, 2. ])"
      ]
     },
     "execution_count": 7,
     "metadata": {},
     "output_type": "execute_result"
    }
   ],
   "source": [
    "# Setting the values of the 'Rating' column less than 0 equal to 0\n",
    "df['Rating'] = df['Rating'].apply(lambda x: 0 if x < 0 else x)\n",
    "\n",
    "unique_rating = df['Rating'].unique()\n",
    "unique_rating"
   ]
  },
  {
   "cell_type": "markdown",
   "id": "d938d01a",
   "metadata": {
    "papermill": {
     "duration": 0.017728,
     "end_time": "2023-12-24T19:42:25.382444",
     "exception": false,
     "start_time": "2023-12-24T19:42:25.364716",
     "status": "completed"
    },
    "tags": []
   },
   "source": [
    "* Column Company Name: We will simplify the data so that we can categorize or analyze it appropriately."
   ]
  },
  {
   "cell_type": "code",
   "execution_count": 8,
   "id": "2448924b",
   "metadata": {
    "execution": {
     "iopub.execute_input": "2023-12-24T19:42:25.420517Z",
     "iopub.status.busy": "2023-12-24T19:42:25.420102Z",
     "iopub.status.idle": "2023-12-24T19:42:25.427953Z",
     "shell.execute_reply": "2023-12-24T19:42:25.426900Z"
    },
    "papermill": {
     "duration": 0.02975,
     "end_time": "2023-12-24T19:42:25.430548",
     "exception": false,
     "start_time": "2023-12-24T19:42:25.400798",
     "status": "completed"
    },
    "tags": []
   },
   "outputs": [
    {
     "data": {
      "text/plain": [
       "array(['Healthfirst\\n3.1', 'ManTech\\n4.2', 'Analysis Group\\n3.8',\n",
       "       'INFICON\\n3.5', 'Affinity Solutions\\n2.9', 'HG Insights\\n4.2',\n",
       "       'Novartis\\n3.9', 'iRobot\\n3.5', 'Intuit - Data\\n4.4',\n",
       "       'XSELL Technologies\\n3.6'], dtype=object)"
      ]
     },
     "execution_count": 8,
     "metadata": {},
     "output_type": "execute_result"
    }
   ],
   "source": [
    "# Get unique values from the column 'Company Name'.\n",
    "unique_company = df['Company Name'].unique()\n",
    "\n",
    "# Showing the first 10 unique values as an example\n",
    "unique_company[:10]\n"
   ]
  },
  {
   "cell_type": "code",
   "execution_count": 9,
   "id": "2950c9ac",
   "metadata": {
    "execution": {
     "iopub.execute_input": "2023-12-24T19:42:25.468538Z",
     "iopub.status.busy": "2023-12-24T19:42:25.468123Z",
     "iopub.status.idle": "2023-12-24T19:42:25.478564Z",
     "shell.execute_reply": "2023-12-24T19:42:25.477385Z"
    },
    "papermill": {
     "duration": 0.033176,
     "end_time": "2023-12-24T19:42:25.481801",
     "exception": false,
     "start_time": "2023-12-24T19:42:25.448625",
     "status": "completed"
    },
    "tags": []
   },
   "outputs": [
    {
     "data": {
      "text/plain": [
       "array(['Healthfirst', 'ManTech', 'Analysis Group', 'INFICON',\n",
       "       'Affinity Solutions', 'HG Insights', 'Novartis', 'iRobot',\n",
       "       'Intuit - Data', 'XSELL Technologies'], dtype=object)"
      ]
     },
     "execution_count": 9,
     "metadata": {},
     "output_type": "execute_result"
    }
   ],
   "source": [
    "# Function to clear the 'Company Name' column and delete everything after \"\\n\".\n",
    "def clean_company_name(company_name):\n",
    "    if \"\\n\" in company_name:\n",
    "        return company_name.split(\"\\n\")[0]\n",
    "    else:\n",
    "        return company_name\n",
    "\n",
    "# Applying the function to the column 'Company Name'.\n",
    "df['Company Name'] = df['Company Name'].apply(clean_company_name)\n",
    "\n",
    "# Get unique values from the column 'Company Name'.\n",
    "unique_company = df['Company Name'].unique()\n",
    "\n",
    "# Showing the first 10 unique values as an example\n",
    "unique_company[:10]\n",
    "\n"
   ]
  },
  {
   "cell_type": "markdown",
   "id": "43b33d97",
   "metadata": {
    "papermill": {
     "duration": 0.017976,
     "end_time": "2023-12-24T19:42:25.518155",
     "exception": false,
     "start_time": "2023-12-24T19:42:25.500179",
     "status": "completed"
    },
    "tags": []
   },
   "source": [
    "* Column Location:  We will verify that there are no values with error."
   ]
  },
  {
   "cell_type": "code",
   "execution_count": 10,
   "id": "fae08692",
   "metadata": {
    "execution": {
     "iopub.execute_input": "2023-12-24T19:42:25.556460Z",
     "iopub.status.busy": "2023-12-24T19:42:25.555946Z",
     "iopub.status.idle": "2023-12-24T19:42:25.564203Z",
     "shell.execute_reply": "2023-12-24T19:42:25.563187Z"
    },
    "papermill": {
     "duration": 0.029856,
     "end_time": "2023-12-24T19:42:25.566288",
     "exception": false,
     "start_time": "2023-12-24T19:42:25.536432",
     "status": "completed"
    },
    "tags": []
   },
   "outputs": [
    {
     "data": {
      "text/plain": [
       "0"
      ]
     },
     "execution_count": 10,
     "metadata": {},
     "output_type": "execute_result"
    }
   ],
   "source": [
    "errors_or_nan_in_location = df['Location'].isnull().sum()\n",
    "errors_or_nan_in_location"
   ]
  },
  {
   "cell_type": "markdown",
   "id": "bd7e2fe9",
   "metadata": {
    "papermill": {
     "duration": 0.018065,
     "end_time": "2023-12-24T19:42:25.602854",
     "exception": false,
     "start_time": "2023-12-24T19:42:25.584789",
     "status": "completed"
    },
    "tags": []
   },
   "source": [
    "* Column Headquarters:  We will verify that there are no values with error."
   ]
  },
  {
   "cell_type": "code",
   "execution_count": 11,
   "id": "7220cd4c",
   "metadata": {
    "execution": {
     "iopub.execute_input": "2023-12-24T19:42:25.641728Z",
     "iopub.status.busy": "2023-12-24T19:42:25.641347Z",
     "iopub.status.idle": "2023-12-24T19:42:25.649235Z",
     "shell.execute_reply": "2023-12-24T19:42:25.648106Z"
    },
    "papermill": {
     "duration": 0.030483,
     "end_time": "2023-12-24T19:42:25.651723",
     "exception": false,
     "start_time": "2023-12-24T19:42:25.621240",
     "status": "completed"
    },
    "tags": []
   },
   "outputs": [
    {
     "data": {
      "text/plain": [
       "0"
      ]
     },
     "execution_count": 11,
     "metadata": {},
     "output_type": "execute_result"
    }
   ],
   "source": [
    "errors_or_nan_in_location = df['Headquarters'].isnull().sum()\n",
    "errors_or_nan_in_location"
   ]
  },
  {
   "cell_type": "markdown",
   "id": "f5d038a9",
   "metadata": {
    "papermill": {
     "duration": 0.018522,
     "end_time": "2023-12-24T19:42:25.688966",
     "exception": false,
     "start_time": "2023-12-24T19:42:25.670444",
     "status": "completed"
    },
    "tags": []
   },
   "source": [
    "* Column Size:  In this case we will replace invalid values by Error, there was a possibility to replace them by mode, but without a concrete reason it would not be a good idea."
   ]
  },
  {
   "cell_type": "code",
   "execution_count": 12,
   "id": "ff041efc",
   "metadata": {
    "execution": {
     "iopub.execute_input": "2023-12-24T19:42:25.728238Z",
     "iopub.status.busy": "2023-12-24T19:42:25.727815Z",
     "iopub.status.idle": "2023-12-24T19:42:25.735794Z",
     "shell.execute_reply": "2023-12-24T19:42:25.734736Z"
    },
    "papermill": {
     "duration": 0.030343,
     "end_time": "2023-12-24T19:42:25.737989",
     "exception": false,
     "start_time": "2023-12-24T19:42:25.707646",
     "status": "completed"
    },
    "tags": []
   },
   "outputs": [
    {
     "data": {
      "text/plain": [
       "array(['1001 to 5000 employees', '5001 to 10000 employees',\n",
       "       '501 to 1000 employees', '51 to 200 employees', '10000+ employees',\n",
       "       '201 to 500 employees', '1 to 50 employees', '-1', 'Unknown'],\n",
       "      dtype=object)"
      ]
     },
     "execution_count": 12,
     "metadata": {},
     "output_type": "execute_result"
    }
   ],
   "source": [
    "# Get unique values from the 'Size' column\n",
    "unique_size = df['Size'].unique()\n",
    "unique_size"
   ]
  },
  {
   "cell_type": "code",
   "execution_count": 13,
   "id": "6414cb9e",
   "metadata": {
    "execution": {
     "iopub.execute_input": "2023-12-24T19:42:25.777543Z",
     "iopub.status.busy": "2023-12-24T19:42:25.777083Z",
     "iopub.status.idle": "2023-12-24T19:42:25.786786Z",
     "shell.execute_reply": "2023-12-24T19:42:25.785951Z"
    },
    "papermill": {
     "duration": 0.032052,
     "end_time": "2023-12-24T19:42:25.788997",
     "exception": false,
     "start_time": "2023-12-24T19:42:25.756945",
     "status": "completed"
    },
    "tags": []
   },
   "outputs": [
    {
     "data": {
      "text/plain": [
       "array(['1001 to 5000 employees', '5001 to 10000 employees',\n",
       "       '501 to 1000 employees', '51 to 200 employees', '10000+ employees',\n",
       "       '201 to 500 employees', '1 to 50 employees', <NA>], dtype=object)"
      ]
     },
     "execution_count": 13,
     "metadata": {},
     "output_type": "execute_result"
    }
   ],
   "source": [
    "# Replacing the values \"-1\" and \"Unknown\" by NaN in the column 'Size'.\n",
    "df['Size'] = df['Size'].replace(['-1', 'Unknown'], pd.NA)\n",
    "# Get unique values from the 'Size' column\n",
    "unique_size = df['Size'].unique()\n",
    "unique_size"
   ]
  },
  {
   "cell_type": "markdown",
   "id": "f0a7623e",
   "metadata": {
    "execution": {
     "iopub.execute_input": "2023-12-24T17:04:18.191270Z",
     "iopub.status.busy": "2023-12-24T17:04:18.190849Z",
     "iopub.status.idle": "2023-12-24T17:04:18.199531Z",
     "shell.execute_reply": "2023-12-24T17:04:18.197962Z",
     "shell.execute_reply.started": "2023-12-24T17:04:18.191238Z"
    },
    "papermill": {
     "duration": 0.018601,
     "end_time": "2023-12-24T19:42:25.827060",
     "exception": false,
     "start_time": "2023-12-24T19:42:25.808459",
     "status": "completed"
    },
    "tags": []
   },
   "source": [
    "* Column Founded:  In this case we will replace invalid values by Error, there was a possibility to replace them by mode, but without a concrete reason it would not be a good idea."
   ]
  },
  {
   "cell_type": "code",
   "execution_count": 14,
   "id": "b53980ab",
   "metadata": {
    "execution": {
     "iopub.execute_input": "2023-12-24T19:42:25.867211Z",
     "iopub.status.busy": "2023-12-24T19:42:25.866829Z",
     "iopub.status.idle": "2023-12-24T19:42:25.875900Z",
     "shell.execute_reply": "2023-12-24T19:42:25.874801Z"
    },
    "papermill": {
     "duration": 0.032138,
     "end_time": "2023-12-24T19:42:25.878305",
     "exception": false,
     "start_time": "2023-12-24T19:42:25.846167",
     "status": "completed"
    },
    "tags": []
   },
   "outputs": [
    {
     "data": {
      "text/plain": [
       "array([1993, 1968, 1981, 2000, 1998, 2010, 1996, 1990, 1983, 2014, 2012,\n",
       "       2016, 1965, 1973, 1986, 1997, 2015, 1945, 1988, 2017, 2011, 1967,\n",
       "       1860, 1992, 2003, 1951, 2005, 2019, 1925, 2008, 1999, 1978, 1966,\n",
       "       1912, 1958, 2013, 1849, 1781, 1926, 2006, 1994, 1863, 1995,   -1,\n",
       "       1982, 1974, 2001, 1985, 1913, 1971, 1911, 2009, 1959, 2007, 1939,\n",
       "       2002, 1961, 1963, 1969, 1946, 1957, 1953, 1948, 1850, 1851, 2004,\n",
       "       1976, 1918, 1954, 1947, 1955, 2018, 1937, 1917, 1935, 1929, 1820,\n",
       "       1952, 1932, 1894, 1960, 1788, 1830, 1984, 1933, 1880, 1887, 1970,\n",
       "       1942, 1980, 1989, 1908, 1853, 1875, 1914, 1898, 1956, 1977, 1987,\n",
       "       1896, 1972, 1949, 1962])"
      ]
     },
     "execution_count": 14,
     "metadata": {},
     "output_type": "execute_result"
    }
   ],
   "source": [
    "# Get unique values from the 'Size' column\n",
    "unique_founded = df['Founded'].unique()\n",
    "unique_founded"
   ]
  },
  {
   "cell_type": "code",
   "execution_count": 15,
   "id": "fb1d713a",
   "metadata": {
    "execution": {
     "iopub.execute_input": "2023-12-24T19:42:25.919185Z",
     "iopub.status.busy": "2023-12-24T19:42:25.918787Z",
     "iopub.status.idle": "2023-12-24T19:42:25.929479Z",
     "shell.execute_reply": "2023-12-24T19:42:25.928340Z"
    },
    "papermill": {
     "duration": 0.033912,
     "end_time": "2023-12-24T19:42:25.931943",
     "exception": false,
     "start_time": "2023-12-24T19:42:25.898031",
     "status": "completed"
    },
    "tags": []
   },
   "outputs": [
    {
     "data": {
      "text/plain": [
       "array([1993, 1968, 1981, 2000, 1998, 2010, 1996, 1990, 1983, 2014, 2012,\n",
       "       2016, 1965, 1973, 1986, 1997, 2015, 1945, 1988, 2017, 2011, 1967,\n",
       "       1860, 1992, 2003, 1951, 2005, 2019, 1925, 2008, 1999, 1978, 1966,\n",
       "       1912, 1958, 2013, 1849, 1781, 1926, 2006, 1994, 1863, 1995, <NA>,\n",
       "       1982, 1974, 2001, 1985, 1913, 1971, 1911, 2009, 1959, 2007, 1939,\n",
       "       2002, 1961, 1963, 1969, 1946, 1957, 1953, 1948, 1850, 1851, 2004,\n",
       "       1976, 1918, 1954, 1947, 1955, 2018, 1937, 1917, 1935, 1929, 1820,\n",
       "       1952, 1932, 1894, 1960, 1788, 1830, 1984, 1933, 1880, 1887, 1970,\n",
       "       1942, 1980, 1989, 1908, 1853, 1875, 1914, 1898, 1956, 1977, 1987,\n",
       "       1896, 1972, 1949, 1962], dtype=object)"
      ]
     },
     "execution_count": 15,
     "metadata": {},
     "output_type": "execute_result"
    }
   ],
   "source": [
    "# Replacing the values \"-1\" by NaN in the column 'Founded'.\n",
    "df['Founded'] = df['Founded'].replace([-1], pd.NA)\n",
    "# Get unique values from the 'Founded' column\n",
    "unique_founded = df['Founded'].unique()\n",
    "unique_founded"
   ]
  },
  {
   "cell_type": "markdown",
   "id": "69d436bf",
   "metadata": {
    "papermill": {
     "duration": 0.019174,
     "end_time": "2023-12-24T19:42:25.971062",
     "exception": false,
     "start_time": "2023-12-24T19:42:25.951888",
     "status": "completed"
    },
    "tags": []
   },
   "source": [
    "* Column Type of Ownership:  In this case we will replace invalid values by Error, there was a possibility to replace them by mode, but without a concrete reason it would not be a good idea."
   ]
  },
  {
   "cell_type": "code",
   "execution_count": 16,
   "id": "2c602d25",
   "metadata": {
    "execution": {
     "iopub.execute_input": "2023-12-24T19:42:26.011630Z",
     "iopub.status.busy": "2023-12-24T19:42:26.011170Z",
     "iopub.status.idle": "2023-12-24T19:42:26.018294Z",
     "shell.execute_reply": "2023-12-24T19:42:26.017512Z"
    },
    "papermill": {
     "duration": 0.030108,
     "end_time": "2023-12-24T19:42:26.020409",
     "exception": false,
     "start_time": "2023-12-24T19:42:25.990301",
     "status": "completed"
    },
    "tags": []
   },
   "outputs": [
    {
     "data": {
      "text/plain": [
       "array(['Nonprofit Organization', 'Company - Public',\n",
       "       'Private Practice / Firm', 'Company - Private', 'Government',\n",
       "       'Subsidiary or Business Segment', 'Other Organization', '-1',\n",
       "       'Unknown', 'Hospital', 'Self-employed', 'College / University',\n",
       "       'Contract'], dtype=object)"
      ]
     },
     "execution_count": 16,
     "metadata": {},
     "output_type": "execute_result"
    }
   ],
   "source": [
    "# Get unique values from the 'Size' column\n",
    "unique_founded = df['Type of ownership'].unique()\n",
    "unique_founded"
   ]
  },
  {
   "cell_type": "code",
   "execution_count": 17,
   "id": "ed04a5cf",
   "metadata": {
    "execution": {
     "iopub.execute_input": "2023-12-24T19:42:26.061396Z",
     "iopub.status.busy": "2023-12-24T19:42:26.060972Z",
     "iopub.status.idle": "2023-12-24T19:42:26.070867Z",
     "shell.execute_reply": "2023-12-24T19:42:26.069738Z"
    },
    "papermill": {
     "duration": 0.033282,
     "end_time": "2023-12-24T19:42:26.073257",
     "exception": false,
     "start_time": "2023-12-24T19:42:26.039975",
     "status": "completed"
    },
    "tags": []
   },
   "outputs": [
    {
     "data": {
      "text/plain": [
       "array(['Nonprofit Organization', 'Company - Public',\n",
       "       'Private Practice / Firm', 'Company - Private', 'Government',\n",
       "       'Subsidiary or Business Segment', 'Other Organization', <NA>,\n",
       "       'Unknown', 'Hospital', 'Self-employed', 'College / University',\n",
       "       'Contract'], dtype=object)"
      ]
     },
     "execution_count": 17,
     "metadata": {},
     "output_type": "execute_result"
    }
   ],
   "source": [
    "# Replacing the values \"-1\" by NaN in the column 'Founded'.\n",
    "df['Type of ownership'] = df['Type of ownership'].replace(['-1'], pd.NA)\n",
    "# Get unique values from the 'Founded' column\n",
    "unique_type = df['Type of ownership'].unique()\n",
    "unique_type "
   ]
  },
  {
   "cell_type": "markdown",
   "id": "1aedc885",
   "metadata": {
    "papermill": {
     "duration": 0.020617,
     "end_time": "2023-12-24T19:42:26.113824",
     "exception": false,
     "start_time": "2023-12-24T19:42:26.093207",
     "status": "completed"
    },
    "tags": []
   },
   "source": [
    "* Column Industry:  In this case we will replace invalid values by Error, there was a possibility to replace them by mode, but without a concrete reason it would not be a good idea."
   ]
  },
  {
   "cell_type": "code",
   "execution_count": 18,
   "id": "9b3a5152",
   "metadata": {
    "execution": {
     "iopub.execute_input": "2023-12-24T19:42:26.161128Z",
     "iopub.status.busy": "2023-12-24T19:42:26.159891Z",
     "iopub.status.idle": "2023-12-24T19:42:26.168526Z",
     "shell.execute_reply": "2023-12-24T19:42:26.167416Z"
    },
    "papermill": {
     "duration": 0.035234,
     "end_time": "2023-12-24T19:42:26.170968",
     "exception": false,
     "start_time": "2023-12-24T19:42:26.135734",
     "status": "completed"
    },
    "tags": []
   },
   "outputs": [
    {
     "data": {
      "text/plain": [
       "array(['Insurance Carriers', 'Research & Development', 'Consulting',\n",
       "       'Electrical & Electronic Manufacturing', 'Advertising & Marketing',\n",
       "       'Computer Hardware & Software', 'Biotech & Pharmaceuticals',\n",
       "       'Consumer Electronics & Appliances Stores',\n",
       "       'Enterprise Software & Network Solutions', 'IT Services', 'Energy',\n",
       "       'Chemical Manufacturing', 'Federal Agencies', 'Internet',\n",
       "       'Health Care Services & Hospitals',\n",
       "       'Investment Banking & Asset Management', 'Aerospace & Defense',\n",
       "       'Utilities', '-1', 'Express Delivery Services',\n",
       "       'Staffing & Outsourcing', 'Insurance Agencies & Brokerages',\n",
       "       'Consumer Products Manufacturing', 'Industrial Manufacturing',\n",
       "       'Food & Beverage Manufacturing', 'Banks & Credit Unions',\n",
       "       'Video Games', 'Shipping', 'Telecommunications Services',\n",
       "       'Lending', 'Cable, Internet & Telephone Providers', 'Real Estate',\n",
       "       'Venture Capital & Private Equity', 'Miscellaneous Manufacturing',\n",
       "       'Oil & Gas Services', 'Transportation Equipment Manufacturing',\n",
       "       'Telecommunications Manufacturing', 'Transportation Management',\n",
       "       'News Outlet', 'Architectural & Engineering Services',\n",
       "       'Food & Beverage Stores', 'Other Retail Stores',\n",
       "       'Hotels, Motels, & Resorts', 'State & Regional Agencies',\n",
       "       'Financial Transaction Processing', 'Timber Operations',\n",
       "       'Colleges & Universities', 'Travel Agencies', 'Accounting',\n",
       "       'Logistics & Supply Chain', 'Farm Support Services',\n",
       "       'Social Assistance', 'Construction',\n",
       "       'Department, Clothing, & Shoe Stores', 'Publishing',\n",
       "       'Health, Beauty, & Fitness', 'Wholesale', 'Rail'], dtype=object)"
      ]
     },
     "execution_count": 18,
     "metadata": {},
     "output_type": "execute_result"
    }
   ],
   "source": [
    "# Get unique values from the 'Size' column\n",
    "unique_industry = df['Industry'].unique()\n",
    "unique_industry"
   ]
  },
  {
   "cell_type": "code",
   "execution_count": 19,
   "id": "200c1902",
   "metadata": {
    "execution": {
     "iopub.execute_input": "2023-12-24T19:42:26.213124Z",
     "iopub.status.busy": "2023-12-24T19:42:26.212746Z",
     "iopub.status.idle": "2023-12-24T19:42:26.222954Z",
     "shell.execute_reply": "2023-12-24T19:42:26.221983Z"
    },
    "papermill": {
     "duration": 0.034215,
     "end_time": "2023-12-24T19:42:26.225085",
     "exception": false,
     "start_time": "2023-12-24T19:42:26.190870",
     "status": "completed"
    },
    "tags": []
   },
   "outputs": [
    {
     "data": {
      "text/plain": [
       "array(['Insurance Carriers', 'Research & Development', 'Consulting',\n",
       "       'Electrical & Electronic Manufacturing', 'Advertising & Marketing',\n",
       "       'Computer Hardware & Software', 'Biotech & Pharmaceuticals',\n",
       "       'Consumer Electronics & Appliances Stores',\n",
       "       'Enterprise Software & Network Solutions', 'IT Services', 'Energy',\n",
       "       'Chemical Manufacturing', 'Federal Agencies', 'Internet',\n",
       "       'Health Care Services & Hospitals',\n",
       "       'Investment Banking & Asset Management', 'Aerospace & Defense',\n",
       "       'Utilities', <NA>, 'Express Delivery Services',\n",
       "       'Staffing & Outsourcing', 'Insurance Agencies & Brokerages',\n",
       "       'Consumer Products Manufacturing', 'Industrial Manufacturing',\n",
       "       'Food & Beverage Manufacturing', 'Banks & Credit Unions',\n",
       "       'Video Games', 'Shipping', 'Telecommunications Services',\n",
       "       'Lending', 'Cable, Internet & Telephone Providers', 'Real Estate',\n",
       "       'Venture Capital & Private Equity', 'Miscellaneous Manufacturing',\n",
       "       'Oil & Gas Services', 'Transportation Equipment Manufacturing',\n",
       "       'Telecommunications Manufacturing', 'Transportation Management',\n",
       "       'News Outlet', 'Architectural & Engineering Services',\n",
       "       'Food & Beverage Stores', 'Other Retail Stores',\n",
       "       'Hotels, Motels, & Resorts', 'State & Regional Agencies',\n",
       "       'Financial Transaction Processing', 'Timber Operations',\n",
       "       'Colleges & Universities', 'Travel Agencies', 'Accounting',\n",
       "       'Logistics & Supply Chain', 'Farm Support Services',\n",
       "       'Social Assistance', 'Construction',\n",
       "       'Department, Clothing, & Shoe Stores', 'Publishing',\n",
       "       'Health, Beauty, & Fitness', 'Wholesale', 'Rail'], dtype=object)"
      ]
     },
     "execution_count": 19,
     "metadata": {},
     "output_type": "execute_result"
    }
   ],
   "source": [
    "# Replacing the values \"-1\" by NaN in the column 'Industry'.\n",
    "df['Industry'] = df['Industry'].replace(['-1'], pd.NA)\n",
    "# Get unique values from the 'Industry' column\n",
    "unique_industry = df['Industry'].unique()\n",
    "unique_industry"
   ]
  },
  {
   "cell_type": "markdown",
   "id": "e66f4208",
   "metadata": {
    "execution": {
     "iopub.execute_input": "2023-12-24T17:12:09.341304Z",
     "iopub.status.busy": "2023-12-24T17:12:09.340887Z",
     "iopub.status.idle": "2023-12-24T17:12:09.350388Z",
     "shell.execute_reply": "2023-12-24T17:12:09.348440Z",
     "shell.execute_reply.started": "2023-12-24T17:12:09.341273Z"
    },
    "papermill": {
     "duration": 0.028607,
     "end_time": "2023-12-24T19:42:26.277040",
     "exception": false,
     "start_time": "2023-12-24T19:42:26.248433",
     "status": "completed"
    },
    "tags": []
   },
   "source": [
    "* Column Sector:  In this case we will replace invalid values by Error, there was a possibility to replace them by mode, but without a concrete reason it would not be a good idea."
   ]
  },
  {
   "cell_type": "code",
   "execution_count": 20,
   "id": "05cedebd",
   "metadata": {
    "execution": {
     "iopub.execute_input": "2023-12-24T19:42:26.335762Z",
     "iopub.status.busy": "2023-12-24T19:42:26.335205Z",
     "iopub.status.idle": "2023-12-24T19:42:26.344223Z",
     "shell.execute_reply": "2023-12-24T19:42:26.343295Z"
    },
    "papermill": {
     "duration": 0.04068,
     "end_time": "2023-12-24T19:42:26.347266",
     "exception": false,
     "start_time": "2023-12-24T19:42:26.306586",
     "status": "completed"
    },
    "tags": []
   },
   "outputs": [
    {
     "data": {
      "text/plain": [
       "array(['Insurance', 'Business Services', 'Manufacturing',\n",
       "       'Information Technology', 'Biotech & Pharmaceuticals', 'Retail',\n",
       "       'Oil, Gas, Energy & Utilities', 'Government', 'Health Care',\n",
       "       'Finance', 'Aerospace & Defense', '-1',\n",
       "       'Transportation & Logistics', 'Media', 'Telecommunications',\n",
       "       'Real Estate', 'Travel & Tourism', 'Agriculture & Forestry',\n",
       "       'Education', 'Accounting & Legal', 'Non-Profit',\n",
       "       'Construction, Repair & Maintenance', 'Consumer Services'],\n",
       "      dtype=object)"
      ]
     },
     "execution_count": 20,
     "metadata": {},
     "output_type": "execute_result"
    }
   ],
   "source": [
    "# Obtener valores únicos de la columna 'Job Title'\n",
    "unique_Sector = df['Sector'].unique()\n",
    "unique_Sector"
   ]
  },
  {
   "cell_type": "code",
   "execution_count": 21,
   "id": "e76c1369",
   "metadata": {
    "execution": {
     "iopub.execute_input": "2023-12-24T19:42:26.391046Z",
     "iopub.status.busy": "2023-12-24T19:42:26.390505Z",
     "iopub.status.idle": "2023-12-24T19:42:26.402267Z",
     "shell.execute_reply": "2023-12-24T19:42:26.400951Z"
    },
    "papermill": {
     "duration": 0.036238,
     "end_time": "2023-12-24T19:42:26.404902",
     "exception": false,
     "start_time": "2023-12-24T19:42:26.368664",
     "status": "completed"
    },
    "tags": []
   },
   "outputs": [
    {
     "data": {
      "text/plain": [
       "array(['Insurance', 'Business Services', 'Manufacturing',\n",
       "       'Information Technology', 'Biotech & Pharmaceuticals', 'Retail',\n",
       "       'Oil, Gas, Energy & Utilities', 'Government', 'Health Care',\n",
       "       'Finance', 'Aerospace & Defense', <NA>,\n",
       "       'Transportation & Logistics', 'Media', 'Telecommunications',\n",
       "       'Real Estate', 'Travel & Tourism', 'Agriculture & Forestry',\n",
       "       'Education', 'Accounting & Legal', 'Non-Profit',\n",
       "       'Construction, Repair & Maintenance', 'Consumer Services'],\n",
       "      dtype=object)"
      ]
     },
     "execution_count": 21,
     "metadata": {},
     "output_type": "execute_result"
    }
   ],
   "source": [
    "# Replacing the values \"-1\" by NaN in the column 'Industry'.\n",
    "df['Sector'] = df['Sector'].replace(['-1'], pd.NA)\n",
    "# Get unique values from the 'Industry' column\n",
    "unique_Sector = df['Sector'].unique()\n",
    "unique_Sector"
   ]
  },
  {
   "cell_type": "markdown",
   "id": "ca1eb7f5",
   "metadata": {
    "papermill": {
     "duration": 0.019998,
     "end_time": "2023-12-24T19:42:26.447172",
     "exception": false,
     "start_time": "2023-12-24T19:42:26.427174",
     "status": "completed"
    },
    "tags": []
   },
   "source": [
    "* Column Revenue:  In this case we will replace invalid values by Error, there was a possibility to replace them by mode, but without a concrete reason it would not be a good idea."
   ]
  },
  {
   "cell_type": "code",
   "execution_count": 22,
   "id": "f08011ca",
   "metadata": {
    "execution": {
     "iopub.execute_input": "2023-12-24T19:42:26.489954Z",
     "iopub.status.busy": "2023-12-24T19:42:26.489120Z",
     "iopub.status.idle": "2023-12-24T19:42:26.496827Z",
     "shell.execute_reply": "2023-12-24T19:42:26.495715Z"
    },
    "papermill": {
     "duration": 0.031824,
     "end_time": "2023-12-24T19:42:26.499243",
     "exception": false,
     "start_time": "2023-12-24T19:42:26.467419",
     "status": "completed"
    },
    "tags": []
   },
   "outputs": [
    {
     "data": {
      "text/plain": [
       "array(['Unknown / Non-Applicable', '$1 to $2 billion (USD)',\n",
       "       '$100 to $500 million (USD)', '$10+ billion (USD)',\n",
       "       '$2 to $5 billion (USD)', '$500 million to $1 billion (USD)',\n",
       "       '$5 to $10 billion (USD)', '$10 to $25 million (USD)',\n",
       "       '$25 to $50 million (USD)', '$50 to $100 million (USD)',\n",
       "       '$1 to $5 million (USD)', '$5 to $10 million (USD)',\n",
       "       'Less than $1 million (USD)', '-1'], dtype=object)"
      ]
     },
     "execution_count": 22,
     "metadata": {},
     "output_type": "execute_result"
    }
   ],
   "source": [
    "# Obtener valores únicos de la columna 'Job Title'\n",
    "unique_Revenue = df['Revenue'].unique()\n",
    "unique_Revenue"
   ]
  },
  {
   "cell_type": "code",
   "execution_count": 23,
   "id": "48d77790",
   "metadata": {
    "execution": {
     "iopub.execute_input": "2023-12-24T19:42:26.542001Z",
     "iopub.status.busy": "2023-12-24T19:42:26.541565Z",
     "iopub.status.idle": "2023-12-24T19:42:26.551322Z",
     "shell.execute_reply": "2023-12-24T19:42:26.550265Z"
    },
    "papermill": {
     "duration": 0.034114,
     "end_time": "2023-12-24T19:42:26.553778",
     "exception": false,
     "start_time": "2023-12-24T19:42:26.519664",
     "status": "completed"
    },
    "tags": []
   },
   "outputs": [
    {
     "data": {
      "text/plain": [
       "array(['Unknown / Non-Applicable', '$1 to $2 billion (USD)',\n",
       "       '$100 to $500 million (USD)', '$10+ billion (USD)',\n",
       "       '$2 to $5 billion (USD)', '$500 million to $1 billion (USD)',\n",
       "       '$5 to $10 billion (USD)', '$10 to $25 million (USD)',\n",
       "       '$25 to $50 million (USD)', '$50 to $100 million (USD)',\n",
       "       '$1 to $5 million (USD)', '$5 to $10 million (USD)',\n",
       "       'Less than $1 million (USD)', <NA>], dtype=object)"
      ]
     },
     "execution_count": 23,
     "metadata": {},
     "output_type": "execute_result"
    }
   ],
   "source": [
    "# Replacing the values \"-1\" by NaN in the column 'Industry'.\n",
    "df['Revenue'] = df['Revenue'].replace(['-1'], pd.NA)\n",
    "# Get unique values from the 'Industry' column\n",
    "unique_Revenue = df['Revenue'].unique()\n",
    "unique_Revenue"
   ]
  },
  {
   "cell_type": "markdown",
   "id": "0bdb5397",
   "metadata": {
    "execution": {
     "iopub.execute_input": "2023-12-24T18:22:07.972320Z",
     "iopub.status.busy": "2023-12-24T18:22:07.971894Z",
     "iopub.status.idle": "2023-12-24T18:22:07.979311Z",
     "shell.execute_reply": "2023-12-24T18:22:07.978024Z",
     "shell.execute_reply.started": "2023-12-24T18:22:07.972287Z"
    },
    "papermill": {
     "duration": 0.024789,
     "end_time": "2023-12-24T19:42:26.599438",
     "exception": false,
     "start_time": "2023-12-24T19:42:26.574649",
     "status": "completed"
    },
    "tags": []
   },
   "source": [
    "* Column Competitors:  In this case we will replace invalid values by Error, there was a possibility to replace them by mode, but without a concrete reason it would not be a good idea."
   ]
  },
  {
   "cell_type": "code",
   "execution_count": 24,
   "id": "e37dd08c",
   "metadata": {
    "execution": {
     "iopub.execute_input": "2023-12-24T19:42:26.646493Z",
     "iopub.status.busy": "2023-12-24T19:42:26.646022Z",
     "iopub.status.idle": "2023-12-24T19:42:26.655951Z",
     "shell.execute_reply": "2023-12-24T19:42:26.654839Z"
    },
    "papermill": {
     "duration": 0.034585,
     "end_time": "2023-12-24T19:42:26.658436",
     "exception": false,
     "start_time": "2023-12-24T19:42:26.623851",
     "status": "completed"
    },
    "tags": []
   },
   "outputs": [
    {
     "data": {
      "text/plain": [
       "array(['EmblemHealth, UnitedHealth Group, Aetna', '-1',\n",
       "       'MKS Instruments, Pfeiffer Vacuum, Agilent Technologies',\n",
       "       'Commerce Signals, Cardlytics, Yodlee',\n",
       "       'Square, PayPal, H&R Block',\n",
       "       'Leidos, CACI International, Booz Allen Hamilton',\n",
       "       'Slalom, Daugherty Business Solutions',\n",
       "       'Oak Ridge National Laboratory, National Renewable Energy Lab, Los Alamos National Laboratory',\n",
       "       'CDW, PCM, SHI International',\n",
       "       'Crossix Solutions Inc., AppNexus, The Trade Desk'], dtype=object)"
      ]
     },
     "execution_count": 24,
     "metadata": {},
     "output_type": "execute_result"
    }
   ],
   "source": [
    "# Vamos a mostrar los valores únicos en la columna 'Competitors' del DataFrame df1\n",
    "unique_Competitors = df['Competitors'].unique()\n",
    "unique_Competitors[:10]\n"
   ]
  },
  {
   "cell_type": "code",
   "execution_count": 25,
   "id": "dc9d7e4d",
   "metadata": {
    "execution": {
     "iopub.execute_input": "2023-12-24T19:42:26.702400Z",
     "iopub.status.busy": "2023-12-24T19:42:26.701954Z",
     "iopub.status.idle": "2023-12-24T19:42:26.711369Z",
     "shell.execute_reply": "2023-12-24T19:42:26.710541Z"
    },
    "papermill": {
     "duration": 0.033979,
     "end_time": "2023-12-24T19:42:26.713533",
     "exception": false,
     "start_time": "2023-12-24T19:42:26.679554",
     "status": "completed"
    },
    "tags": []
   },
   "outputs": [
    {
     "data": {
      "text/plain": [
       "array(['EmblemHealth, UnitedHealth Group, Aetna', <NA>,\n",
       "       'MKS Instruments, Pfeiffer Vacuum, Agilent Technologies',\n",
       "       'Commerce Signals, Cardlytics, Yodlee',\n",
       "       'Square, PayPal, H&R Block',\n",
       "       'Leidos, CACI International, Booz Allen Hamilton',\n",
       "       'Slalom, Daugherty Business Solutions',\n",
       "       'Oak Ridge National Laboratory, National Renewable Energy Lab, Los Alamos National Laboratory',\n",
       "       'CDW, PCM, SHI International',\n",
       "       'Crossix Solutions Inc., AppNexus, The Trade Desk'], dtype=object)"
      ]
     },
     "execution_count": 25,
     "metadata": {},
     "output_type": "execute_result"
    }
   ],
   "source": [
    "# Replacing the values \"-1\" by NaN in the column 'Competitors'.\n",
    "df['Competitors'] = df['Competitors'].replace(['-1'], pd.NA)\n",
    "# Get unique values from the 'Industry' column\n",
    "unique_Competitors = df['Competitors'].unique()\n",
    "unique_Competitors[:10]"
   ]
  },
  {
   "cell_type": "markdown",
   "id": "95174031",
   "metadata": {
    "papermill": {
     "duration": 0.020988,
     "end_time": "2023-12-24T19:42:26.756114",
     "exception": false,
     "start_time": "2023-12-24T19:42:26.735126",
     "status": "completed"
    },
    "tags": []
   },
   "source": [
    "**3. Data Transformation: We will check column by column that there are no errors and we will also work on some data as needed.**\n"
   ]
  },
  {
   "cell_type": "code",
   "execution_count": 26,
   "id": "2164ae6d",
   "metadata": {
    "execution": {
     "iopub.execute_input": "2023-12-24T19:42:26.800998Z",
     "iopub.status.busy": "2023-12-24T19:42:26.799952Z",
     "iopub.status.idle": "2023-12-24T19:42:26.825463Z",
     "shell.execute_reply": "2023-12-24T19:42:26.824651Z"
    },
    "papermill": {
     "duration": 0.050464,
     "end_time": "2023-12-24T19:42:26.827550",
     "exception": false,
     "start_time": "2023-12-24T19:42:26.777086",
     "status": "completed"
    },
    "tags": []
   },
   "outputs": [
    {
     "data": {
      "text/html": [
       "<div>\n",
       "<style scoped>\n",
       "    .dataframe tbody tr th:only-of-type {\n",
       "        vertical-align: middle;\n",
       "    }\n",
       "\n",
       "    .dataframe tbody tr th {\n",
       "        vertical-align: top;\n",
       "    }\n",
       "\n",
       "    .dataframe thead th {\n",
       "        text-align: right;\n",
       "    }\n",
       "</style>\n",
       "<table border=\"1\" class=\"dataframe\">\n",
       "  <thead>\n",
       "    <tr style=\"text-align: right;\">\n",
       "      <th></th>\n",
       "      <th>Salary Min</th>\n",
       "      <th>Salary Max</th>\n",
       "      <th>Salary Avg</th>\n",
       "    </tr>\n",
       "  </thead>\n",
       "  <tbody>\n",
       "    <tr>\n",
       "      <th>0</th>\n",
       "      <td>137</td>\n",
       "      <td>171</td>\n",
       "      <td>154</td>\n",
       "    </tr>\n",
       "    <tr>\n",
       "      <th>1</th>\n",
       "      <td>137</td>\n",
       "      <td>171</td>\n",
       "      <td>154</td>\n",
       "    </tr>\n",
       "    <tr>\n",
       "      <th>2</th>\n",
       "      <td>137</td>\n",
       "      <td>171</td>\n",
       "      <td>154</td>\n",
       "    </tr>\n",
       "    <tr>\n",
       "      <th>3</th>\n",
       "      <td>137</td>\n",
       "      <td>171</td>\n",
       "      <td>154</td>\n",
       "    </tr>\n",
       "    <tr>\n",
       "      <th>4</th>\n",
       "      <td>137</td>\n",
       "      <td>171</td>\n",
       "      <td>154</td>\n",
       "    </tr>\n",
       "  </tbody>\n",
       "</table>\n",
       "</div>"
      ],
      "text/plain": [
       "   Salary Min  Salary Max  Salary Avg\n",
       "0         137         171         154\n",
       "1         137         171         154\n",
       "2         137         171         154\n",
       "3         137         171         154\n",
       "4         137         171         154"
      ]
     },
     "execution_count": 26,
     "metadata": {},
     "output_type": "execute_result"
    }
   ],
   "source": [
    "# Additional cleanup is needed to handle cases such as \"225()\".\n",
    "df['Salary Estimate'] = df['Salary Estimate'].str.extract('(\\d+-\\d+)')\n",
    "\n",
    "# Now we try again the conversion to numeric\n",
    "df[['Salary Min', 'Salary Max']] = df['Salary Estimate'].str.split('-', expand=True).apply(pd.to_numeric, errors='coerce')\n",
    "\n",
    "# Calculate the average salary\n",
    "df['Salary Avg'] = (df['Salary Min'] + df['Salary Max']) / 2\n",
    "\n",
    "df['Salary Avg'] = df['Salary Avg'].astype(int)\n",
    "\n",
    "# Showing the first records to check the calculations\n",
    "df[['Salary Min', 'Salary Max', 'Salary Avg']].head()\n"
   ]
  },
  {
   "cell_type": "code",
   "execution_count": 27,
   "id": "df29a94d",
   "metadata": {
    "execution": {
     "iopub.execute_input": "2023-12-24T19:42:26.872159Z",
     "iopub.status.busy": "2023-12-24T19:42:26.871467Z",
     "iopub.status.idle": "2023-12-24T19:42:26.884270Z",
     "shell.execute_reply": "2023-12-24T19:42:26.883529Z"
    },
    "papermill": {
     "duration": 0.037759,
     "end_time": "2023-12-24T19:42:26.886622",
     "exception": false,
     "start_time": "2023-12-24T19:42:26.848863",
     "status": "completed"
    },
    "tags": []
   },
   "outputs": [
    {
     "data": {
      "text/html": [
       "<div>\n",
       "<style scoped>\n",
       "    .dataframe tbody tr th:only-of-type {\n",
       "        vertical-align: middle;\n",
       "    }\n",
       "\n",
       "    .dataframe tbody tr th {\n",
       "        vertical-align: top;\n",
       "    }\n",
       "\n",
       "    .dataframe thead th {\n",
       "        text-align: right;\n",
       "    }\n",
       "</style>\n",
       "<table border=\"1\" class=\"dataframe\">\n",
       "  <thead>\n",
       "    <tr style=\"text-align: right;\">\n",
       "      <th></th>\n",
       "      <th>index</th>\n",
       "      <th>Job Title</th>\n",
       "      <th>Salary Estimate</th>\n",
       "      <th>Job Description</th>\n",
       "      <th>Rating</th>\n",
       "      <th>Company Name</th>\n",
       "      <th>Location</th>\n",
       "      <th>Headquarters</th>\n",
       "      <th>Size</th>\n",
       "      <th>Founded</th>\n",
       "      <th>Type of ownership</th>\n",
       "      <th>Industry</th>\n",
       "      <th>Sector</th>\n",
       "      <th>Revenue</th>\n",
       "      <th>Competitors</th>\n",
       "      <th>Salary Min</th>\n",
       "      <th>Salary Max</th>\n",
       "      <th>Salary Avg</th>\n",
       "    </tr>\n",
       "  </thead>\n",
       "  <tbody>\n",
       "  </tbody>\n",
       "</table>\n",
       "</div>"
      ],
      "text/plain": [
       "Empty DataFrame\n",
       "Columns: [index, Job Title, Salary Estimate, Job Description, Rating, Company Name, Location, Headquarters, Size, Founded, Type of ownership, Industry, Sector, Revenue, Competitors, Salary Min, Salary Max, Salary Avg]\n",
       "Index: []"
      ]
     },
     "execution_count": 27,
     "metadata": {},
     "output_type": "execute_result"
    }
   ],
   "source": [
    "# In addition, I will show a sample of the rows where 'Salary Avg' is null to validate that there are no errors.\n",
    "sample_of_null_job_salary = df[df['Salary Avg'].isnull()]\n",
    "sample_of_null_job_salary"
   ]
  },
  {
   "cell_type": "code",
   "execution_count": 28,
   "id": "7784dc51",
   "metadata": {
    "execution": {
     "iopub.execute_input": "2023-12-24T19:42:26.932483Z",
     "iopub.status.busy": "2023-12-24T19:42:26.931747Z",
     "iopub.status.idle": "2023-12-24T19:42:27.258549Z",
     "shell.execute_reply": "2023-12-24T19:42:27.257438Z"
    },
    "papermill": {
     "duration": 0.352436,
     "end_time": "2023-12-24T19:42:27.261174",
     "exception": false,
     "start_time": "2023-12-24T19:42:26.908738",
     "status": "completed"
    },
    "tags": []
   },
   "outputs": [
    {
     "data": {
      "text/html": [
       "<div>\n",
       "<style scoped>\n",
       "    .dataframe tbody tr th:only-of-type {\n",
       "        vertical-align: middle;\n",
       "    }\n",
       "\n",
       "    .dataframe tbody tr th {\n",
       "        vertical-align: top;\n",
       "    }\n",
       "\n",
       "    .dataframe thead th {\n",
       "        text-align: right;\n",
       "    }\n",
       "</style>\n",
       "<table border=\"1\" class=\"dataframe\">\n",
       "  <thead>\n",
       "    <tr style=\"text-align: right;\">\n",
       "      <th></th>\n",
       "      <th>Location</th>\n",
       "      <th>job_state</th>\n",
       "    </tr>\n",
       "  </thead>\n",
       "  <tbody>\n",
       "    <tr>\n",
       "      <th>0</th>\n",
       "      <td>New York, NY</td>\n",
       "      <td>NY</td>\n",
       "    </tr>\n",
       "    <tr>\n",
       "      <th>1</th>\n",
       "      <td>Chantilly, VA</td>\n",
       "      <td>VA</td>\n",
       "    </tr>\n",
       "    <tr>\n",
       "      <th>2</th>\n",
       "      <td>Boston, MA</td>\n",
       "      <td>MA</td>\n",
       "    </tr>\n",
       "    <tr>\n",
       "      <th>3</th>\n",
       "      <td>Newton, MA</td>\n",
       "      <td>MA</td>\n",
       "    </tr>\n",
       "    <tr>\n",
       "      <th>4</th>\n",
       "      <td>New York, NY</td>\n",
       "      <td>NY</td>\n",
       "    </tr>\n",
       "  </tbody>\n",
       "</table>\n",
       "</div>"
      ],
      "text/plain": [
       "        Location job_state\n",
       "0   New York, NY        NY\n",
       "1  Chantilly, VA        VA\n",
       "2     Boston, MA        MA\n",
       "3     Newton, MA        MA\n",
       "4   New York, NY        NY"
      ]
     },
     "execution_count": 28,
     "metadata": {},
     "output_type": "execute_result"
    }
   ],
   "source": [
    "# Creating a function to handle special constraints and assign status values\n",
    "def assign_job_state(location):\n",
    "    if location == \"United States\":\n",
    "        return \"Across US\"\n",
    "    elif location == \"Utah\":\n",
    "        return \"UT\"\n",
    "    elif location == \"New Jersey\":\n",
    "        return \"NJ\"\n",
    "    elif location == \"Texas\":\n",
    "        return \"TX\"\n",
    "    elif location == \"Remote\":\n",
    "        return \"Remote\"\n",
    "    elif location == \"California\":\n",
    "        return \"CA\"\n",
    "    else:\n",
    "        # Use regular expression to extract the state of locations in the format \"City, State\".\n",
    "        state = pd.Series(location).str.extract(',\\s*(\\w\\w)$').iloc[0, 0]\n",
    "        return state if pd.notna(state) else \"Unknown\"\n",
    "\n",
    "# Applying the function to the 'Location' column to create 'job_state'.\n",
    "df['job_state'] = df['Location'].apply(assign_job_state)\n",
    "\n",
    "# Showing the first records to verify the changes\n",
    "df[['Location', 'job_state']].head()\n"
   ]
  },
  {
   "cell_type": "code",
   "execution_count": 29,
   "id": "3cc8dec0",
   "metadata": {
    "execution": {
     "iopub.execute_input": "2023-12-24T19:42:27.307625Z",
     "iopub.status.busy": "2023-12-24T19:42:27.306504Z",
     "iopub.status.idle": "2023-12-24T19:42:27.314053Z",
     "shell.execute_reply": "2023-12-24T19:42:27.313262Z"
    },
    "papermill": {
     "duration": 0.032633,
     "end_time": "2023-12-24T19:42:27.316078",
     "exception": false,
     "start_time": "2023-12-24T19:42:27.283445",
     "status": "completed"
    },
    "tags": []
   },
   "outputs": [
    {
     "data": {
      "text/plain": [
       "0"
      ]
     },
     "execution_count": 29,
     "metadata": {},
     "output_type": "execute_result"
    }
   ],
   "source": [
    "# Checking for null values in column 'same_state'.\n",
    "null_values_in_job_state = df['job_state'].isnull().sum()\n",
    "null_values_in_job_state\n"
   ]
  },
  {
   "cell_type": "code",
   "execution_count": 30,
   "id": "ec7910c1",
   "metadata": {
    "execution": {
     "iopub.execute_input": "2023-12-24T19:42:27.361665Z",
     "iopub.status.busy": "2023-12-24T19:42:27.361249Z",
     "iopub.status.idle": "2023-12-24T19:42:27.697388Z",
     "shell.execute_reply": "2023-12-24T19:42:27.696341Z"
    },
    "papermill": {
     "duration": 0.362813,
     "end_time": "2023-12-24T19:42:27.700536",
     "exception": false,
     "start_time": "2023-12-24T19:42:27.337723",
     "status": "completed"
    },
    "tags": []
   },
   "outputs": [
    {
     "data": {
      "text/html": [
       "<div>\n",
       "<style scoped>\n",
       "    .dataframe tbody tr th:only-of-type {\n",
       "        vertical-align: middle;\n",
       "    }\n",
       "\n",
       "    .dataframe tbody tr th {\n",
       "        vertical-align: top;\n",
       "    }\n",
       "\n",
       "    .dataframe thead th {\n",
       "        text-align: right;\n",
       "    }\n",
       "</style>\n",
       "<table border=\"1\" class=\"dataframe\">\n",
       "  <thead>\n",
       "    <tr style=\"text-align: right;\">\n",
       "      <th></th>\n",
       "      <th>Location</th>\n",
       "      <th>job_state</th>\n",
       "      <th>Headquarters</th>\n",
       "      <th>hq_state</th>\n",
       "      <th>same_state</th>\n",
       "    </tr>\n",
       "  </thead>\n",
       "  <tbody>\n",
       "    <tr>\n",
       "      <th>0</th>\n",
       "      <td>New York, NY</td>\n",
       "      <td>NY</td>\n",
       "      <td>New York, NY</td>\n",
       "      <td>NY</td>\n",
       "      <td>1</td>\n",
       "    </tr>\n",
       "    <tr>\n",
       "      <th>1</th>\n",
       "      <td>Chantilly, VA</td>\n",
       "      <td>VA</td>\n",
       "      <td>Herndon, VA</td>\n",
       "      <td>VA</td>\n",
       "      <td>1</td>\n",
       "    </tr>\n",
       "    <tr>\n",
       "      <th>2</th>\n",
       "      <td>Boston, MA</td>\n",
       "      <td>MA</td>\n",
       "      <td>Boston, MA</td>\n",
       "      <td>MA</td>\n",
       "      <td>1</td>\n",
       "    </tr>\n",
       "    <tr>\n",
       "      <th>3</th>\n",
       "      <td>Newton, MA</td>\n",
       "      <td>MA</td>\n",
       "      <td>Bad Ragaz, Switzerland</td>\n",
       "      <td>Unknown</td>\n",
       "      <td>0</td>\n",
       "    </tr>\n",
       "    <tr>\n",
       "      <th>4</th>\n",
       "      <td>New York, NY</td>\n",
       "      <td>NY</td>\n",
       "      <td>New York, NY</td>\n",
       "      <td>NY</td>\n",
       "      <td>1</td>\n",
       "    </tr>\n",
       "  </tbody>\n",
       "</table>\n",
       "</div>"
      ],
      "text/plain": [
       "        Location job_state            Headquarters hq_state  same_state\n",
       "0   New York, NY        NY            New York, NY       NY           1\n",
       "1  Chantilly, VA        VA             Herndon, VA       VA           1\n",
       "2     Boston, MA        MA              Boston, MA       MA           1\n",
       "3     Newton, MA        MA  Bad Ragaz, Switzerland  Unknown           0\n",
       "4   New York, NY        NY            New York, NY       NY           1"
      ]
     },
     "execution_count": 30,
     "metadata": {},
     "output_type": "execute_result"
    }
   ],
   "source": [
    "# Creating a new column 'hq_state' to extract the status of 'Headquarters'.\n",
    "df['hq_state'] = df['Headquarters'].apply(assign_job_state)\n",
    "\n",
    "# Creating the column 'same_state' comparing 'job_state' and 'hq_state'.\n",
    "df['same_state'] = (df['job_state'] == df['hq_state']).astype(int)\n",
    "\n",
    "# Showing the first records to verify the changes\n",
    "df[['Location', 'job_state', 'Headquarters', 'hq_state', 'same_state']].head()\n"
   ]
  },
  {
   "cell_type": "code",
   "execution_count": 31,
   "id": "9fe13b2b",
   "metadata": {
    "execution": {
     "iopub.execute_input": "2023-12-24T19:42:27.747687Z",
     "iopub.status.busy": "2023-12-24T19:42:27.746948Z",
     "iopub.status.idle": "2023-12-24T19:42:27.754430Z",
     "shell.execute_reply": "2023-12-24T19:42:27.753387Z"
    },
    "papermill": {
     "duration": 0.033565,
     "end_time": "2023-12-24T19:42:27.756680",
     "exception": false,
     "start_time": "2023-12-24T19:42:27.723115",
     "status": "completed"
    },
    "tags": []
   },
   "outputs": [
    {
     "data": {
      "text/plain": [
       "0"
      ]
     },
     "execution_count": 31,
     "metadata": {},
     "output_type": "execute_result"
    }
   ],
   "source": [
    "# Checking for null values in column 'same_state'.\n",
    "null_values_in_same_state = df['same_state'].isnull().sum()\n",
    "null_values_in_same_state\n"
   ]
  },
  {
   "cell_type": "code",
   "execution_count": 32,
   "id": "c5017462",
   "metadata": {
    "execution": {
     "iopub.execute_input": "2023-12-24T19:42:27.804257Z",
     "iopub.status.busy": "2023-12-24T19:42:27.803546Z",
     "iopub.status.idle": "2023-12-24T19:42:28.226058Z",
     "shell.execute_reply": "2023-12-24T19:42:28.224876Z"
    },
    "papermill": {
     "duration": 0.449456,
     "end_time": "2023-12-24T19:42:28.228760",
     "exception": false,
     "start_time": "2023-12-24T19:42:27.779304",
     "status": "completed"
    },
    "tags": []
   },
   "outputs": [
    {
     "data": {
      "text/plain": [
       "[('data', 7370),\n",
       " ('experience', 3395),\n",
       " ('work', 1564),\n",
       " ('science', 1519),\n",
       " ('learning', 1480),\n",
       " ('business', 1424),\n",
       " ('team', 1369),\n",
       " ('machine', 1231),\n",
       " ('skills', 1209),\n",
       " ('analysis', 992),\n",
       " ('analytics', 925),\n",
       " ('development', 917),\n",
       " ('models', 888),\n",
       " ('ability', 887),\n",
       " ('years', 815),\n",
       " ('solutions', 812),\n",
       " ('engineering', 779),\n",
       " ('tools', 760),\n",
       " ('knowledge', 756),\n",
       " ('technical', 745),\n",
       " ('scientist', 739),\n",
       " ('company', 735),\n",
       " ('working', 716),\n",
       " ('systems', 694),\n",
       " ('information', 673),\n",
       " ('support', 667),\n",
       " ('job', 653),\n",
       " ('python', 646),\n",
       " ('strong', 642),\n",
       " ('software', 639),\n",
       " ('develop', 618),\n",
       " ('statistical', 617),\n",
       " ('computer', 614),\n",
       " ('design', 596),\n",
       " ('including', 594),\n",
       " ('research', 589),\n",
       " ('required', 585),\n",
       " ('related', 576),\n",
       " ('opportunity', 564),\n",
       " ('techniques', 540),\n",
       " ('degree', 540),\n",
       " ('product', 526),\n",
       " ('management', 515),\n",
       " ('requirements', 505),\n",
       " ('technology', 505),\n",
       " ('environment', 504),\n",
       " ('insights', 494),\n",
       " ('advanced', 476),\n",
       " ('position', 473),\n",
       " ('time', 473),\n",
       " ('algorithms', 472),\n",
       " ('modeling', 470),\n",
       " ('statistics', 468),\n",
       " ('use', 467),\n",
       " ('problems', 462),\n",
       " ('projects', 459),\n",
       " ('sql', 453),\n",
       " ('based', 447),\n",
       " ('provide', 447),\n",
       " ('build', 445),\n",
       " ('world', 443),\n",
       " ('help', 443),\n",
       " ('e', 442),\n",
       " ('building', 440),\n",
       " ('large', 440),\n",
       " ('role', 435),\n",
       " ('r', 433),\n",
       " ('services', 423),\n",
       " ('qualifications', 419),\n",
       " ('must', 419),\n",
       " ('teams', 415),\n",
       " ('analytical', 411),\n",
       " ('field', 409),\n",
       " ('understanding', 408),\n",
       " ('etc', 408),\n",
       " ('complex', 406),\n",
       " ('methods', 405),\n",
       " ('status', 402),\n",
       " ('technologies', 388),\n",
       " ('customer', 386),\n",
       " ('employment', 384),\n",
       " ('products', 383),\n",
       " ('preferred', 376),\n",
       " ('customers', 371),\n",
       " ('well', 369),\n",
       " ('responsibilities', 368),\n",
       " ('communication', 361),\n",
       " ('across', 359),\n",
       " ('intelligence', 359),\n",
       " ('high', 356),\n",
       " ('health', 347),\n",
       " ('developing', 343),\n",
       " ('make', 342),\n",
       " ('results', 340),\n",
       " ('g', 338),\n",
       " ('equal', 336),\n",
       " ('best', 336),\n",
       " ('apply', 335),\n",
       " ('expertise', 332),\n",
       " ('project', 332)]"
      ]
     },
     "execution_count": 32,
     "metadata": {},
     "output_type": "execute_result"
    }
   ],
   "source": [
    "from collections import Counter\n",
    "import re\n",
    "\n",
    "# List of common English words for exclude\n",
    "common_words_to_exclude = set(['and', 'to', 'the', 'of', 'in', 'a', 'with', 'for', 'or', 'our', 'is', 'we', 'you', 'as', 'on', \n",
    "                               'will', 'are', 'that', 'an', 'be', 's', 'at', 'have', 'this', 'from', 'by', 'other', 'all', 'your', \n",
    "                               'using', 'such', 'more', 'about', 'it', 'their', 'us', 'not', 'but', 'can', 'who', 'them', 'its', \n",
    "                               'also', 'has', 'any', 'into', 'do', 'up', 'out', 'so', 'like', 'if', 'how', 'just', 'which', 'what', \n",
    "                               'some', 'only', 'one', 'no', 'new', 'when', 'here', 'where', 'why', 'would', 'should', 'over', \n",
    "                               'these', 'than', 'then', 'now'])\n",
    "\n",
    "# Joining all job descriptions into a single text string\n",
    "all_descriptions = ' '.join(df['Job Description'])\n",
    "\n",
    "# Clearing the text string: removing non-alphabetic characters and converting to lower case\n",
    "cleaned_descriptions = re.sub(r'\\W+', ' ', all_descriptions).lower()\n",
    "\n",
    "# Dividing the string into individual words and excluding common words.\n",
    "words = [word for word in cleaned_descriptions.split() if word not in common_words_to_exclude]\n",
    "\n",
    "# Counting the frequency of each word.\n",
    "word_counts = Counter(words)\n",
    "\n",
    "# Obtaining the 100 most common words\n",
    "most_common_words = word_counts.most_common(100)\n",
    "\n",
    "most_common_words"
   ]
  },
  {
   "cell_type": "code",
   "execution_count": 33,
   "id": "862882d2",
   "metadata": {
    "execution": {
     "iopub.execute_input": "2023-12-24T19:42:28.276204Z",
     "iopub.status.busy": "2023-12-24T19:42:28.275381Z",
     "iopub.status.idle": "2023-12-24T19:42:28.746491Z",
     "shell.execute_reply": "2023-12-24T19:42:28.745314Z"
    },
    "papermill": {
     "duration": 0.497809,
     "end_time": "2023-12-24T19:42:28.749054",
     "exception": false,
     "start_time": "2023-12-24T19:42:28.251245",
     "status": "completed"
    },
    "tags": []
   },
   "outputs": [
    {
     "data": {
      "text/html": [
       "<div>\n",
       "<style scoped>\n",
       "    .dataframe tbody tr th:only-of-type {\n",
       "        vertical-align: middle;\n",
       "    }\n",
       "\n",
       "    .dataframe tbody tr th {\n",
       "        vertical-align: top;\n",
       "    }\n",
       "\n",
       "    .dataframe thead th {\n",
       "        text-align: right;\n",
       "    }\n",
       "</style>\n",
       "<table border=\"1\" class=\"dataframe\">\n",
       "  <thead>\n",
       "    <tr style=\"text-align: right;\">\n",
       "      <th></th>\n",
       "      <th>index</th>\n",
       "      <th>Job Title</th>\n",
       "      <th>Salary Estimate</th>\n",
       "      <th>Job Description</th>\n",
       "      <th>Rating</th>\n",
       "      <th>Company Name</th>\n",
       "      <th>Location</th>\n",
       "      <th>Headquarters</th>\n",
       "      <th>Size</th>\n",
       "      <th>Founded</th>\n",
       "      <th>...</th>\n",
       "      <th>machine_learning</th>\n",
       "      <th>python</th>\n",
       "      <th>sql</th>\n",
       "      <th>excel</th>\n",
       "      <th>hadoop</th>\n",
       "      <th>spark</th>\n",
       "      <th>aws</th>\n",
       "      <th>tableau</th>\n",
       "      <th>power_bi</th>\n",
       "      <th>big_data</th>\n",
       "    </tr>\n",
       "  </thead>\n",
       "  <tbody>\n",
       "    <tr>\n",
       "      <th>0</th>\n",
       "      <td>0</td>\n",
       "      <td>Sr Data Scientist</td>\n",
       "      <td>137-171</td>\n",
       "      <td>Description\\n\\nThe Senior Data Scientist is re...</td>\n",
       "      <td>3.1</td>\n",
       "      <td>Healthfirst</td>\n",
       "      <td>New York, NY</td>\n",
       "      <td>New York, NY</td>\n",
       "      <td>1001 to 5000 employees</td>\n",
       "      <td>1993</td>\n",
       "      <td>...</td>\n",
       "      <td>1</td>\n",
       "      <td>0</td>\n",
       "      <td>0</td>\n",
       "      <td>0</td>\n",
       "      <td>0</td>\n",
       "      <td>0</td>\n",
       "      <td>1</td>\n",
       "      <td>0</td>\n",
       "      <td>0</td>\n",
       "      <td>0</td>\n",
       "    </tr>\n",
       "    <tr>\n",
       "      <th>1</th>\n",
       "      <td>1</td>\n",
       "      <td>Data Scientist</td>\n",
       "      <td>137-171</td>\n",
       "      <td>Secure our Nation, Ignite your Future\\n\\nJoin ...</td>\n",
       "      <td>4.2</td>\n",
       "      <td>ManTech</td>\n",
       "      <td>Chantilly, VA</td>\n",
       "      <td>Herndon, VA</td>\n",
       "      <td>5001 to 10000 employees</td>\n",
       "      <td>1968</td>\n",
       "      <td>...</td>\n",
       "      <td>1</td>\n",
       "      <td>0</td>\n",
       "      <td>1</td>\n",
       "      <td>0</td>\n",
       "      <td>1</td>\n",
       "      <td>0</td>\n",
       "      <td>0</td>\n",
       "      <td>0</td>\n",
       "      <td>0</td>\n",
       "      <td>1</td>\n",
       "    </tr>\n",
       "    <tr>\n",
       "      <th>2</th>\n",
       "      <td>2</td>\n",
       "      <td>Data Scientist</td>\n",
       "      <td>137-171</td>\n",
       "      <td>Overview\\n\\n\\nAnalysis Group is one of the lar...</td>\n",
       "      <td>3.8</td>\n",
       "      <td>Analysis Group</td>\n",
       "      <td>Boston, MA</td>\n",
       "      <td>Boston, MA</td>\n",
       "      <td>1001 to 5000 employees</td>\n",
       "      <td>1981</td>\n",
       "      <td>...</td>\n",
       "      <td>1</td>\n",
       "      <td>1</td>\n",
       "      <td>0</td>\n",
       "      <td>1</td>\n",
       "      <td>0</td>\n",
       "      <td>0</td>\n",
       "      <td>1</td>\n",
       "      <td>0</td>\n",
       "      <td>0</td>\n",
       "      <td>0</td>\n",
       "    </tr>\n",
       "    <tr>\n",
       "      <th>3</th>\n",
       "      <td>3</td>\n",
       "      <td>Data Scientist</td>\n",
       "      <td>137-171</td>\n",
       "      <td>JOB DESCRIPTION:\\n\\nDo you have a passion for ...</td>\n",
       "      <td>3.5</td>\n",
       "      <td>INFICON</td>\n",
       "      <td>Newton, MA</td>\n",
       "      <td>Bad Ragaz, Switzerland</td>\n",
       "      <td>501 to 1000 employees</td>\n",
       "      <td>2000</td>\n",
       "      <td>...</td>\n",
       "      <td>1</td>\n",
       "      <td>1</td>\n",
       "      <td>1</td>\n",
       "      <td>1</td>\n",
       "      <td>0</td>\n",
       "      <td>0</td>\n",
       "      <td>1</td>\n",
       "      <td>0</td>\n",
       "      <td>0</td>\n",
       "      <td>0</td>\n",
       "    </tr>\n",
       "    <tr>\n",
       "      <th>4</th>\n",
       "      <td>4</td>\n",
       "      <td>Data Scientist</td>\n",
       "      <td>137-171</td>\n",
       "      <td>Data Scientist\\nAffinity Solutions / Marketing...</td>\n",
       "      <td>2.9</td>\n",
       "      <td>Affinity Solutions</td>\n",
       "      <td>New York, NY</td>\n",
       "      <td>New York, NY</td>\n",
       "      <td>51 to 200 employees</td>\n",
       "      <td>1998</td>\n",
       "      <td>...</td>\n",
       "      <td>1</td>\n",
       "      <td>1</td>\n",
       "      <td>1</td>\n",
       "      <td>1</td>\n",
       "      <td>0</td>\n",
       "      <td>0</td>\n",
       "      <td>0</td>\n",
       "      <td>0</td>\n",
       "      <td>0</td>\n",
       "      <td>0</td>\n",
       "    </tr>\n",
       "  </tbody>\n",
       "</table>\n",
       "<p>5 rows × 31 columns</p>\n",
       "</div>"
      ],
      "text/plain": [
       "   index          Job Title Salary Estimate  \\\n",
       "0      0  Sr Data Scientist         137-171   \n",
       "1      1     Data Scientist         137-171   \n",
       "2      2     Data Scientist         137-171   \n",
       "3      3     Data Scientist         137-171   \n",
       "4      4     Data Scientist         137-171   \n",
       "\n",
       "                                     Job Description  Rating  \\\n",
       "0  Description\\n\\nThe Senior Data Scientist is re...     3.1   \n",
       "1  Secure our Nation, Ignite your Future\\n\\nJoin ...     4.2   \n",
       "2  Overview\\n\\n\\nAnalysis Group is one of the lar...     3.8   \n",
       "3  JOB DESCRIPTION:\\n\\nDo you have a passion for ...     3.5   \n",
       "4  Data Scientist\\nAffinity Solutions / Marketing...     2.9   \n",
       "\n",
       "         Company Name       Location            Headquarters  \\\n",
       "0         Healthfirst   New York, NY            New York, NY   \n",
       "1             ManTech  Chantilly, VA             Herndon, VA   \n",
       "2      Analysis Group     Boston, MA              Boston, MA   \n",
       "3             INFICON     Newton, MA  Bad Ragaz, Switzerland   \n",
       "4  Affinity Solutions   New York, NY            New York, NY   \n",
       "\n",
       "                      Size Founded  ... machine_learning python sql excel  \\\n",
       "0   1001 to 5000 employees    1993  ...                1      0   0     0   \n",
       "1  5001 to 10000 employees    1968  ...                1      0   1     0   \n",
       "2   1001 to 5000 employees    1981  ...                1      1   0     1   \n",
       "3    501 to 1000 employees    2000  ...                1      1   1     1   \n",
       "4      51 to 200 employees    1998  ...                1      1   1     1   \n",
       "\n",
       "  hadoop  spark  aws  tableau power_bi big_data  \n",
       "0      0      0    1        0        0        0  \n",
       "1      1      0    0        0        0        1  \n",
       "2      0      0    1        0        0        0  \n",
       "3      0      0    1        0        0        0  \n",
       "4      0      0    0        0        0        0  \n",
       "\n",
       "[5 rows x 31 columns]"
      ]
     },
     "execution_count": 33,
     "metadata": {},
     "output_type": "execute_result"
    }
   ],
   "source": [
    "# List of keywords to search for\n",
    "keywords = [\"machine learning\", \"python\", \"sql\", \"excel\", \"hadoop\", \"spark\", \"aws\", \"tableau\", \"power bi\", \"big data\"]\n",
    "\n",
    "# Creating the columns for each keyword\n",
    "for keyword in keywords:\n",
    "    column_name = keyword.replace(\" \", \"_\")\n",
    "    df[column_name] = df['Job Description'].str.contains(keyword, case=False, na=False).astype(int)\n",
    "\n",
    "# Showing the first records to verify the changes\n",
    "df.head()"
   ]
  },
  {
   "cell_type": "code",
   "execution_count": 34,
   "id": "808af2f5",
   "metadata": {
    "execution": {
     "iopub.execute_input": "2023-12-24T19:42:28.797513Z",
     "iopub.status.busy": "2023-12-24T19:42:28.796710Z",
     "iopub.status.idle": "2023-12-24T19:42:28.813210Z",
     "shell.execute_reply": "2023-12-24T19:42:28.812023Z"
    },
    "papermill": {
     "duration": 0.043828,
     "end_time": "2023-12-24T19:42:28.815773",
     "exception": false,
     "start_time": "2023-12-24T19:42:28.771945",
     "status": "completed"
    },
    "tags": []
   },
   "outputs": [
    {
     "data": {
      "text/html": [
       "<div>\n",
       "<style scoped>\n",
       "    .dataframe tbody tr th:only-of-type {\n",
       "        vertical-align: middle;\n",
       "    }\n",
       "\n",
       "    .dataframe tbody tr th {\n",
       "        vertical-align: top;\n",
       "    }\n",
       "\n",
       "    .dataframe thead th {\n",
       "        text-align: right;\n",
       "    }\n",
       "</style>\n",
       "<table border=\"1\" class=\"dataframe\">\n",
       "  <thead>\n",
       "    <tr style=\"text-align: right;\">\n",
       "      <th></th>\n",
       "      <th>Job Title</th>\n",
       "      <th>job_simp</th>\n",
       "    </tr>\n",
       "  </thead>\n",
       "  <tbody>\n",
       "    <tr>\n",
       "      <th>0</th>\n",
       "      <td>Sr Data Scientist</td>\n",
       "      <td>Data Scientist</td>\n",
       "    </tr>\n",
       "    <tr>\n",
       "      <th>1</th>\n",
       "      <td>Data Scientist</td>\n",
       "      <td>Data Scientist</td>\n",
       "    </tr>\n",
       "    <tr>\n",
       "      <th>2</th>\n",
       "      <td>Data Scientist</td>\n",
       "      <td>Data Scientist</td>\n",
       "    </tr>\n",
       "    <tr>\n",
       "      <th>3</th>\n",
       "      <td>Data Scientist</td>\n",
       "      <td>Data Scientist</td>\n",
       "    </tr>\n",
       "    <tr>\n",
       "      <th>4</th>\n",
       "      <td>Data Scientist</td>\n",
       "      <td>Data Scientist</td>\n",
       "    </tr>\n",
       "  </tbody>\n",
       "</table>\n",
       "</div>"
      ],
      "text/plain": [
       "           Job Title        job_simp\n",
       "0  Sr Data Scientist  Data Scientist\n",
       "1     Data Scientist  Data Scientist\n",
       "2     Data Scientist  Data Scientist\n",
       "3     Data Scientist  Data Scientist\n",
       "4     Data Scientist  Data Scientist"
      ]
     },
     "execution_count": 34,
     "metadata": {},
     "output_type": "execute_result"
    }
   ],
   "source": [
    "# Creating the column 'job_simp' based on the presence of certain words in 'Job Title'.\n",
    "\n",
    "def simplify_job_title(title):\n",
    "    if \"engineer\" in title.lower():\n",
    "        return \"Data Engineer\"\n",
    "    elif \"scientist\" in title.lower():\n",
    "        return \"Data Scientist\"\n",
    "    elif \"analyst\" in title.lower():\n",
    "        return \"Data Analyst\"\n",
    "    elif \"manager\" in title.lower():\n",
    "        return \"Manager\"\n",
    "    elif \"director\" in title.lower():\n",
    "        return \"Director\"\n",
    "    else:\n",
    "        return pd.NA\n",
    "\n",
    "# Applying the function to the column 'Job Title'.\n",
    "df['job_simp'] = df['Job Title'].apply(simplify_job_title)\n",
    "\n",
    "# Showing the first records to verify the changes\n",
    "df[['Job Title', 'job_simp']].head()"
   ]
  },
  {
   "cell_type": "code",
   "execution_count": 35,
   "id": "8581d89c",
   "metadata": {
    "execution": {
     "iopub.execute_input": "2023-12-24T19:42:28.864963Z",
     "iopub.status.busy": "2023-12-24T19:42:28.864115Z",
     "iopub.status.idle": "2023-12-24T19:42:28.879149Z",
     "shell.execute_reply": "2023-12-24T19:42:28.877992Z"
    },
    "papermill": {
     "duration": 0.042708,
     "end_time": "2023-12-24T19:42:28.881619",
     "exception": false,
     "start_time": "2023-12-24T19:42:28.838911",
     "status": "completed"
    },
    "tags": []
   },
   "outputs": [
    {
     "data": {
      "text/html": [
       "<div>\n",
       "<style scoped>\n",
       "    .dataframe tbody tr th:only-of-type {\n",
       "        vertical-align: middle;\n",
       "    }\n",
       "\n",
       "    .dataframe tbody tr th {\n",
       "        vertical-align: top;\n",
       "    }\n",
       "\n",
       "    .dataframe thead th {\n",
       "        text-align: right;\n",
       "    }\n",
       "</style>\n",
       "<table border=\"1\" class=\"dataframe\">\n",
       "  <thead>\n",
       "    <tr style=\"text-align: right;\">\n",
       "      <th></th>\n",
       "      <th>Job Title</th>\n",
       "      <th>seniority</th>\n",
       "    </tr>\n",
       "  </thead>\n",
       "  <tbody>\n",
       "    <tr>\n",
       "      <th>0</th>\n",
       "      <td>Sr Data Scientist</td>\n",
       "      <td>1</td>\n",
       "    </tr>\n",
       "    <tr>\n",
       "      <th>1</th>\n",
       "      <td>Data Scientist</td>\n",
       "      <td>0</td>\n",
       "    </tr>\n",
       "    <tr>\n",
       "      <th>2</th>\n",
       "      <td>Data Scientist</td>\n",
       "      <td>0</td>\n",
       "    </tr>\n",
       "    <tr>\n",
       "      <th>3</th>\n",
       "      <td>Data Scientist</td>\n",
       "      <td>0</td>\n",
       "    </tr>\n",
       "    <tr>\n",
       "      <th>4</th>\n",
       "      <td>Data Scientist</td>\n",
       "      <td>0</td>\n",
       "    </tr>\n",
       "  </tbody>\n",
       "</table>\n",
       "</div>"
      ],
      "text/plain": [
       "           Job Title  seniority\n",
       "0  Sr Data Scientist          1\n",
       "1     Data Scientist          0\n",
       "2     Data Scientist          0\n",
       "3     Data Scientist          0\n",
       "4     Data Scientist          0"
      ]
     },
     "execution_count": 35,
     "metadata": {},
     "output_type": "execute_result"
    }
   ],
   "source": [
    "# Intentando nuevamente crear la columna 'seniority'\n",
    "def determine_seniority(title):\n",
    "    if \"senior\" in title.lower() or \"sr\" in title.lower():\n",
    "        return 1\n",
    "    else:\n",
    "        return 0\n",
    "\n",
    "df['seniority'] = df['Job Title'].apply(determine_seniority)\n",
    "\n",
    "# Mostrando los primeros registros para verificar los cambios\n",
    "df[['Job Title', 'seniority']].head()\n"
   ]
  },
  {
   "cell_type": "code",
   "execution_count": 36,
   "id": "ff85dd58",
   "metadata": {
    "execution": {
     "iopub.execute_input": "2023-12-24T19:42:28.931649Z",
     "iopub.status.busy": "2023-12-24T19:42:28.930703Z",
     "iopub.status.idle": "2023-12-24T19:42:28.946396Z",
     "shell.execute_reply": "2023-12-24T19:42:28.945117Z"
    },
    "papermill": {
     "duration": 0.04407,
     "end_time": "2023-12-24T19:42:28.949077",
     "exception": false,
     "start_time": "2023-12-24T19:42:28.905007",
     "status": "completed"
    },
    "tags": []
   },
   "outputs": [
    {
     "data": {
      "text/html": [
       "<div>\n",
       "<style scoped>\n",
       "    .dataframe tbody tr th:only-of-type {\n",
       "        vertical-align: middle;\n",
       "    }\n",
       "\n",
       "    .dataframe tbody tr th {\n",
       "        vertical-align: top;\n",
       "    }\n",
       "\n",
       "    .dataframe thead th {\n",
       "        text-align: right;\n",
       "    }\n",
       "</style>\n",
       "<table border=\"1\" class=\"dataframe\">\n",
       "  <thead>\n",
       "    <tr style=\"text-align: right;\">\n",
       "      <th></th>\n",
       "      <th>Job Title</th>\n",
       "      <th>seniority</th>\n",
       "    </tr>\n",
       "  </thead>\n",
       "  <tbody>\n",
       "    <tr>\n",
       "      <th>0</th>\n",
       "      <td>Sr Data Scientist</td>\n",
       "      <td>1</td>\n",
       "    </tr>\n",
       "    <tr>\n",
       "      <th>1</th>\n",
       "      <td>Data Scientist</td>\n",
       "      <td>0</td>\n",
       "    </tr>\n",
       "    <tr>\n",
       "      <th>2</th>\n",
       "      <td>Data Scientist</td>\n",
       "      <td>0</td>\n",
       "    </tr>\n",
       "    <tr>\n",
       "      <th>3</th>\n",
       "      <td>Data Scientist</td>\n",
       "      <td>0</td>\n",
       "    </tr>\n",
       "    <tr>\n",
       "      <th>4</th>\n",
       "      <td>Data Scientist</td>\n",
       "      <td>0</td>\n",
       "    </tr>\n",
       "  </tbody>\n",
       "</table>\n",
       "</div>"
      ],
      "text/plain": [
       "           Job Title  seniority\n",
       "0  Sr Data Scientist          1\n",
       "1     Data Scientist          0\n",
       "2     Data Scientist          0\n",
       "3     Data Scientist          0\n",
       "4     Data Scientist          0"
      ]
     },
     "execution_count": 36,
     "metadata": {},
     "output_type": "execute_result"
    }
   ],
   "source": [
    "# Creating the column 'seniority'.\n",
    "def determine_seniority(title):\n",
    "    if \"senior\" in title.lower() or \"sr\" in title.lower():\n",
    "        return 1\n",
    "    else:\n",
    "        return 0\n",
    "\n",
    "df['seniority'] = df['Job Title'].apply(determine_seniority)\n",
    "\n",
    "# Showing the first records to verify the changes\n",
    "df[['Job Title', 'seniority']].head()"
   ]
  },
  {
   "cell_type": "code",
   "execution_count": 37,
   "id": "b54767f8",
   "metadata": {
    "execution": {
     "iopub.execute_input": "2023-12-24T19:42:28.999685Z",
     "iopub.status.busy": "2023-12-24T19:42:28.998865Z",
     "iopub.status.idle": "2023-12-24T19:42:29.030692Z",
     "shell.execute_reply": "2023-12-24T19:42:29.029585Z"
    },
    "papermill": {
     "duration": 0.059681,
     "end_time": "2023-12-24T19:42:29.033225",
     "exception": false,
     "start_time": "2023-12-24T19:42:28.973544",
     "status": "completed"
    },
    "tags": []
   },
   "outputs": [
    {
     "data": {
      "text/html": [
       "<div>\n",
       "<style scoped>\n",
       "    .dataframe tbody tr th:only-of-type {\n",
       "        vertical-align: middle;\n",
       "    }\n",
       "\n",
       "    .dataframe tbody tr th {\n",
       "        vertical-align: top;\n",
       "    }\n",
       "\n",
       "    .dataframe thead th {\n",
       "        text-align: right;\n",
       "    }\n",
       "</style>\n",
       "<table border=\"1\" class=\"dataframe\">\n",
       "  <thead>\n",
       "    <tr style=\"text-align: right;\">\n",
       "      <th></th>\n",
       "      <th>index</th>\n",
       "      <th>Job Title</th>\n",
       "      <th>Salary Estimate</th>\n",
       "      <th>Job Description</th>\n",
       "      <th>Rating</th>\n",
       "      <th>Company Name</th>\n",
       "      <th>Location</th>\n",
       "      <th>Headquarters</th>\n",
       "      <th>Size</th>\n",
       "      <th>Founded</th>\n",
       "      <th>...</th>\n",
       "      <th>sql</th>\n",
       "      <th>excel</th>\n",
       "      <th>hadoop</th>\n",
       "      <th>spark</th>\n",
       "      <th>aws</th>\n",
       "      <th>tableau</th>\n",
       "      <th>power_bi</th>\n",
       "      <th>big_data</th>\n",
       "      <th>job_simp</th>\n",
       "      <th>seniority</th>\n",
       "    </tr>\n",
       "  </thead>\n",
       "  <tbody>\n",
       "    <tr>\n",
       "      <th>0</th>\n",
       "      <td>0</td>\n",
       "      <td>Sr Data Scientist</td>\n",
       "      <td>137-171</td>\n",
       "      <td>Description\\n\\nThe Senior Data Scientist is re...</td>\n",
       "      <td>3.1</td>\n",
       "      <td>Healthfirst</td>\n",
       "      <td>New York, NY</td>\n",
       "      <td>New York, NY</td>\n",
       "      <td>1001 to 5000 employees</td>\n",
       "      <td>1993</td>\n",
       "      <td>...</td>\n",
       "      <td>0</td>\n",
       "      <td>0</td>\n",
       "      <td>0</td>\n",
       "      <td>0</td>\n",
       "      <td>1</td>\n",
       "      <td>0</td>\n",
       "      <td>0</td>\n",
       "      <td>0</td>\n",
       "      <td>Data Scientist</td>\n",
       "      <td>1</td>\n",
       "    </tr>\n",
       "    <tr>\n",
       "      <th>1</th>\n",
       "      <td>1</td>\n",
       "      <td>Data Scientist</td>\n",
       "      <td>137-171</td>\n",
       "      <td>Secure our Nation, Ignite your Future\\n\\nJoin ...</td>\n",
       "      <td>4.2</td>\n",
       "      <td>ManTech</td>\n",
       "      <td>Chantilly, VA</td>\n",
       "      <td>Herndon, VA</td>\n",
       "      <td>5001 to 10000 employees</td>\n",
       "      <td>1968</td>\n",
       "      <td>...</td>\n",
       "      <td>1</td>\n",
       "      <td>0</td>\n",
       "      <td>1</td>\n",
       "      <td>0</td>\n",
       "      <td>0</td>\n",
       "      <td>0</td>\n",
       "      <td>0</td>\n",
       "      <td>1</td>\n",
       "      <td>Data Scientist</td>\n",
       "      <td>0</td>\n",
       "    </tr>\n",
       "    <tr>\n",
       "      <th>2</th>\n",
       "      <td>2</td>\n",
       "      <td>Data Scientist</td>\n",
       "      <td>137-171</td>\n",
       "      <td>Overview\\n\\n\\nAnalysis Group is one of the lar...</td>\n",
       "      <td>3.8</td>\n",
       "      <td>Analysis Group</td>\n",
       "      <td>Boston, MA</td>\n",
       "      <td>Boston, MA</td>\n",
       "      <td>1001 to 5000 employees</td>\n",
       "      <td>1981</td>\n",
       "      <td>...</td>\n",
       "      <td>0</td>\n",
       "      <td>1</td>\n",
       "      <td>0</td>\n",
       "      <td>0</td>\n",
       "      <td>1</td>\n",
       "      <td>0</td>\n",
       "      <td>0</td>\n",
       "      <td>0</td>\n",
       "      <td>Data Scientist</td>\n",
       "      <td>0</td>\n",
       "    </tr>\n",
       "    <tr>\n",
       "      <th>3</th>\n",
       "      <td>3</td>\n",
       "      <td>Data Scientist</td>\n",
       "      <td>137-171</td>\n",
       "      <td>JOB DESCRIPTION:\\n\\nDo you have a passion for ...</td>\n",
       "      <td>3.5</td>\n",
       "      <td>INFICON</td>\n",
       "      <td>Newton, MA</td>\n",
       "      <td>Bad Ragaz, Switzerland</td>\n",
       "      <td>501 to 1000 employees</td>\n",
       "      <td>2000</td>\n",
       "      <td>...</td>\n",
       "      <td>1</td>\n",
       "      <td>1</td>\n",
       "      <td>0</td>\n",
       "      <td>0</td>\n",
       "      <td>1</td>\n",
       "      <td>0</td>\n",
       "      <td>0</td>\n",
       "      <td>0</td>\n",
       "      <td>Data Scientist</td>\n",
       "      <td>0</td>\n",
       "    </tr>\n",
       "    <tr>\n",
       "      <th>4</th>\n",
       "      <td>4</td>\n",
       "      <td>Data Scientist</td>\n",
       "      <td>137-171</td>\n",
       "      <td>Data Scientist\\nAffinity Solutions / Marketing...</td>\n",
       "      <td>2.9</td>\n",
       "      <td>Affinity Solutions</td>\n",
       "      <td>New York, NY</td>\n",
       "      <td>New York, NY</td>\n",
       "      <td>51 to 200 employees</td>\n",
       "      <td>1998</td>\n",
       "      <td>...</td>\n",
       "      <td>1</td>\n",
       "      <td>1</td>\n",
       "      <td>0</td>\n",
       "      <td>0</td>\n",
       "      <td>0</td>\n",
       "      <td>0</td>\n",
       "      <td>0</td>\n",
       "      <td>0</td>\n",
       "      <td>Data Scientist</td>\n",
       "      <td>0</td>\n",
       "    </tr>\n",
       "    <tr>\n",
       "      <th>...</th>\n",
       "      <td>...</td>\n",
       "      <td>...</td>\n",
       "      <td>...</td>\n",
       "      <td>...</td>\n",
       "      <td>...</td>\n",
       "      <td>...</td>\n",
       "      <td>...</td>\n",
       "      <td>...</td>\n",
       "      <td>...</td>\n",
       "      <td>...</td>\n",
       "      <td>...</td>\n",
       "      <td>...</td>\n",
       "      <td>...</td>\n",
       "      <td>...</td>\n",
       "      <td>...</td>\n",
       "      <td>...</td>\n",
       "      <td>...</td>\n",
       "      <td>...</td>\n",
       "      <td>...</td>\n",
       "      <td>...</td>\n",
       "      <td>...</td>\n",
       "    </tr>\n",
       "    <tr>\n",
       "      <th>667</th>\n",
       "      <td>667</td>\n",
       "      <td>Data Scientist</td>\n",
       "      <td>105-167</td>\n",
       "      <td>Summary\\n\\nWe’re looking for a data scientist ...</td>\n",
       "      <td>3.6</td>\n",
       "      <td>TRANZACT</td>\n",
       "      <td>Fort Lee, NJ</td>\n",
       "      <td>Fort Lee, NJ</td>\n",
       "      <td>1001 to 5000 employees</td>\n",
       "      <td>1989</td>\n",
       "      <td>...</td>\n",
       "      <td>1</td>\n",
       "      <td>1</td>\n",
       "      <td>1</td>\n",
       "      <td>0</td>\n",
       "      <td>0</td>\n",
       "      <td>1</td>\n",
       "      <td>1</td>\n",
       "      <td>1</td>\n",
       "      <td>Data Scientist</td>\n",
       "      <td>0</td>\n",
       "    </tr>\n",
       "    <tr>\n",
       "      <th>668</th>\n",
       "      <td>668</td>\n",
       "      <td>Data Scientist</td>\n",
       "      <td>105-167</td>\n",
       "      <td>Job Description\\nBecome a thought leader withi...</td>\n",
       "      <td>0.0</td>\n",
       "      <td>JKGT</td>\n",
       "      <td>San Francisco, CA</td>\n",
       "      <td>-1</td>\n",
       "      <td>&lt;NA&gt;</td>\n",
       "      <td>&lt;NA&gt;</td>\n",
       "      <td>...</td>\n",
       "      <td>0</td>\n",
       "      <td>0</td>\n",
       "      <td>0</td>\n",
       "      <td>0</td>\n",
       "      <td>0</td>\n",
       "      <td>0</td>\n",
       "      <td>0</td>\n",
       "      <td>0</td>\n",
       "      <td>Data Scientist</td>\n",
       "      <td>0</td>\n",
       "    </tr>\n",
       "    <tr>\n",
       "      <th>669</th>\n",
       "      <td>669</td>\n",
       "      <td>Data Scientist</td>\n",
       "      <td>105-167</td>\n",
       "      <td>Join a thriving company that is changing the w...</td>\n",
       "      <td>0.0</td>\n",
       "      <td>AccessHope</td>\n",
       "      <td>Irwindale, CA</td>\n",
       "      <td>-1</td>\n",
       "      <td>&lt;NA&gt;</td>\n",
       "      <td>&lt;NA&gt;</td>\n",
       "      <td>...</td>\n",
       "      <td>1</td>\n",
       "      <td>1</td>\n",
       "      <td>1</td>\n",
       "      <td>0</td>\n",
       "      <td>0</td>\n",
       "      <td>1</td>\n",
       "      <td>1</td>\n",
       "      <td>0</td>\n",
       "      <td>Data Scientist</td>\n",
       "      <td>0</td>\n",
       "    </tr>\n",
       "    <tr>\n",
       "      <th>670</th>\n",
       "      <td>670</td>\n",
       "      <td>Data Scientist</td>\n",
       "      <td>105-167</td>\n",
       "      <td>100 Remote Opportunity As an AINLP Data Scient...</td>\n",
       "      <td>5.0</td>\n",
       "      <td>ChaTeck Incorporated</td>\n",
       "      <td>San Francisco, CA</td>\n",
       "      <td>Santa Clara, CA</td>\n",
       "      <td>1 to 50 employees</td>\n",
       "      <td>&lt;NA&gt;</td>\n",
       "      <td>...</td>\n",
       "      <td>1</td>\n",
       "      <td>0</td>\n",
       "      <td>1</td>\n",
       "      <td>1</td>\n",
       "      <td>0</td>\n",
       "      <td>0</td>\n",
       "      <td>0</td>\n",
       "      <td>1</td>\n",
       "      <td>Data Scientist</td>\n",
       "      <td>0</td>\n",
       "    </tr>\n",
       "    <tr>\n",
       "      <th>671</th>\n",
       "      <td>671</td>\n",
       "      <td>Data Scientist</td>\n",
       "      <td>105-167</td>\n",
       "      <td>Description\\n\\nThe Data Scientist will be part...</td>\n",
       "      <td>2.7</td>\n",
       "      <td>1-800-Flowers</td>\n",
       "      <td>New York, NY</td>\n",
       "      <td>Carle Place, NY</td>\n",
       "      <td>1001 to 5000 employees</td>\n",
       "      <td>1976</td>\n",
       "      <td>...</td>\n",
       "      <td>1</td>\n",
       "      <td>1</td>\n",
       "      <td>0</td>\n",
       "      <td>0</td>\n",
       "      <td>0</td>\n",
       "      <td>1</td>\n",
       "      <td>0</td>\n",
       "      <td>0</td>\n",
       "      <td>Data Scientist</td>\n",
       "      <td>0</td>\n",
       "    </tr>\n",
       "  </tbody>\n",
       "</table>\n",
       "<p>672 rows × 33 columns</p>\n",
       "</div>"
      ],
      "text/plain": [
       "     index          Job Title Salary Estimate  \\\n",
       "0        0  Sr Data Scientist         137-171   \n",
       "1        1     Data Scientist         137-171   \n",
       "2        2     Data Scientist         137-171   \n",
       "3        3     Data Scientist         137-171   \n",
       "4        4     Data Scientist         137-171   \n",
       "..     ...                ...             ...   \n",
       "667    667     Data Scientist         105-167   \n",
       "668    668     Data Scientist         105-167   \n",
       "669    669     Data Scientist         105-167   \n",
       "670    670     Data Scientist         105-167   \n",
       "671    671     Data Scientist         105-167   \n",
       "\n",
       "                                       Job Description  Rating  \\\n",
       "0    Description\\n\\nThe Senior Data Scientist is re...     3.1   \n",
       "1    Secure our Nation, Ignite your Future\\n\\nJoin ...     4.2   \n",
       "2    Overview\\n\\n\\nAnalysis Group is one of the lar...     3.8   \n",
       "3    JOB DESCRIPTION:\\n\\nDo you have a passion for ...     3.5   \n",
       "4    Data Scientist\\nAffinity Solutions / Marketing...     2.9   \n",
       "..                                                 ...     ...   \n",
       "667  Summary\\n\\nWe’re looking for a data scientist ...     3.6   \n",
       "668  Job Description\\nBecome a thought leader withi...     0.0   \n",
       "669  Join a thriving company that is changing the w...     0.0   \n",
       "670  100 Remote Opportunity As an AINLP Data Scient...     5.0   \n",
       "671  Description\\n\\nThe Data Scientist will be part...     2.7   \n",
       "\n",
       "             Company Name           Location            Headquarters  \\\n",
       "0             Healthfirst       New York, NY            New York, NY   \n",
       "1                 ManTech      Chantilly, VA             Herndon, VA   \n",
       "2          Analysis Group         Boston, MA              Boston, MA   \n",
       "3                 INFICON         Newton, MA  Bad Ragaz, Switzerland   \n",
       "4      Affinity Solutions       New York, NY            New York, NY   \n",
       "..                    ...                ...                     ...   \n",
       "667              TRANZACT       Fort Lee, NJ            Fort Lee, NJ   \n",
       "668                  JKGT  San Francisco, CA                      -1   \n",
       "669            AccessHope      Irwindale, CA                      -1   \n",
       "670  ChaTeck Incorporated  San Francisco, CA         Santa Clara, CA   \n",
       "671         1-800-Flowers       New York, NY         Carle Place, NY   \n",
       "\n",
       "                        Size Founded  ... sql excel hadoop spark aws  tableau  \\\n",
       "0     1001 to 5000 employees    1993  ...   0     0      0     0   1        0   \n",
       "1    5001 to 10000 employees    1968  ...   1     0      1     0   0        0   \n",
       "2     1001 to 5000 employees    1981  ...   0     1      0     0   1        0   \n",
       "3      501 to 1000 employees    2000  ...   1     1      0     0   1        0   \n",
       "4        51 to 200 employees    1998  ...   1     1      0     0   0        0   \n",
       "..                       ...     ...  ...  ..   ...    ...   ...  ..      ...   \n",
       "667   1001 to 5000 employees    1989  ...   1     1      1     0   0        1   \n",
       "668                     <NA>    <NA>  ...   0     0      0     0   0        0   \n",
       "669                     <NA>    <NA>  ...   1     1      1     0   0        1   \n",
       "670        1 to 50 employees    <NA>  ...   1     0      1     1   0        0   \n",
       "671   1001 to 5000 employees    1976  ...   1     1      0     0   0        1   \n",
       "\n",
       "     power_bi  big_data        job_simp seniority  \n",
       "0           0         0  Data Scientist         1  \n",
       "1           0         1  Data Scientist         0  \n",
       "2           0         0  Data Scientist         0  \n",
       "3           0         0  Data Scientist         0  \n",
       "4           0         0  Data Scientist         0  \n",
       "..        ...       ...             ...       ...  \n",
       "667         1         1  Data Scientist         0  \n",
       "668         0         0  Data Scientist         0  \n",
       "669         1         0  Data Scientist         0  \n",
       "670         0         1  Data Scientist         0  \n",
       "671         0         0  Data Scientist         0  \n",
       "\n",
       "[672 rows x 33 columns]"
      ]
     },
     "execution_count": 37,
     "metadata": {},
     "output_type": "execute_result"
    }
   ],
   "source": [
    "df"
   ]
  },
  {
   "cell_type": "code",
   "execution_count": 38,
   "id": "4da10ce9",
   "metadata": {
    "execution": {
     "iopub.execute_input": "2023-12-24T19:42:29.084166Z",
     "iopub.status.busy": "2023-12-24T19:42:29.083385Z",
     "iopub.status.idle": "2023-12-24T19:42:29.224590Z",
     "shell.execute_reply": "2023-12-24T19:42:29.223413Z"
    },
    "papermill": {
     "duration": 0.169951,
     "end_time": "2023-12-24T19:42:29.227573",
     "exception": false,
     "start_time": "2023-12-24T19:42:29.057622",
     "status": "completed"
    },
    "tags": []
   },
   "outputs": [],
   "source": [
    "df.to_csv(\"Cleaned_DS_Jobs2.csv\")"
   ]
  },
  {
   "cell_type": "code",
   "execution_count": null,
   "id": "981ac2c5",
   "metadata": {
    "papermill": {
     "duration": 0.024022,
     "end_time": "2023-12-24T19:42:29.276766",
     "exception": false,
     "start_time": "2023-12-24T19:42:29.252744",
     "status": "completed"
    },
    "tags": []
   },
   "outputs": [],
   "source": []
  }
 ],
 "metadata": {
  "kaggle": {
   "accelerator": "none",
   "dataSources": [
    {
     "datasetId": 1201000,
     "sourceId": 2007201,
     "sourceType": "datasetVersion"
    }
   ],
   "dockerImageVersionId": 30626,
   "isGpuEnabled": false,
   "isInternetEnabled": false,
   "language": "python",
   "sourceType": "notebook"
  },
  "kernelspec": {
   "display_name": "Python 3",
   "language": "python",
   "name": "python3"
  },
  "language_info": {
   "codemirror_mode": {
    "name": "ipython",
    "version": 3
   },
   "file_extension": ".py",
   "mimetype": "text/x-python",
   "name": "python",
   "nbconvert_exporter": "python",
   "pygments_lexer": "ipython3",
   "version": "3.10.12"
  },
  "papermill": {
   "default_parameters": {},
   "duration": 10.771365,
   "end_time": "2023-12-24T19:42:29.821597",
   "environment_variables": {},
   "exception": null,
   "input_path": "__notebook__.ipynb",
   "output_path": "__notebook__.ipynb",
   "parameters": {},
   "start_time": "2023-12-24T19:42:19.050232",
   "version": "2.4.0"
  }
 },
 "nbformat": 4,
 "nbformat_minor": 5
}
